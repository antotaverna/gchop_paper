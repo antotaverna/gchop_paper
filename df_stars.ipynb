{
 "cells": [
  {
   "cell_type": "code",
   "execution_count": 1,
   "metadata": {},
   "outputs": [],
   "source": [
    "import h5py\n",
    "import galaxychop as gchop\n",
    "import uttr\n",
    "import attr\n",
    "import seaborn as sns\n",
    "import pandas as pd\n",
    "import matplotlib.pylab as plt\n",
    "import numpy as np"
   ]
  },
  {
   "cell_type": "markdown",
   "metadata": {},
   "source": [
    "# Leo la galaxia"
   ]
  },
  {
   "cell_type": "code",
   "execution_count": 2,
   "metadata": {},
   "outputs": [],
   "source": [
    "gal = gchop.read_hdf5(\"../galaxy-chop/tests/datasets/gal394242.h5\")"
   ]
  },
  {
   "cell_type": "code",
   "execution_count": 3,
   "metadata": {},
   "outputs": [],
   "source": [
    "gal = gchop.center(gal)"
   ]
  },
  {
   "cell_type": "code",
   "execution_count": 4,
   "metadata": {},
   "outputs": [],
   "source": [
    "rvir=297.470\n",
    "gal = gchop.star_align(gal, r_cut=0.1*rvir)"
   ]
  },
  {
   "cell_type": "code",
   "execution_count": 5,
   "metadata": {},
   "outputs": [
    {
     "data": {
      "text/html": [
       "<div>\n",
       "<style scoped>\n",
       "    .dataframe tbody tr th:only-of-type {\n",
       "        vertical-align: middle;\n",
       "    }\n",
       "\n",
       "    .dataframe tbody tr th {\n",
       "        vertical-align: top;\n",
       "    }\n",
       "\n",
       "    .dataframe thead th {\n",
       "        text-align: right;\n",
       "    }\n",
       "</style>\n",
       "<table border=\"1\" class=\"dataframe\">\n",
       "  <thead>\n",
       "    <tr style=\"text-align: right;\">\n",
       "      <th></th>\n",
       "      <th>ptype</th>\n",
       "      <th>ptypev</th>\n",
       "      <th>m</th>\n",
       "      <th>x</th>\n",
       "      <th>y</th>\n",
       "      <th>z</th>\n",
       "      <th>vx</th>\n",
       "      <th>vy</th>\n",
       "      <th>vz</th>\n",
       "      <th>softening</th>\n",
       "      <th>potential</th>\n",
       "      <th>kinetic_energy</th>\n",
       "      <th>total_energy</th>\n",
       "      <th>Jx</th>\n",
       "      <th>Jy</th>\n",
       "      <th>Jz</th>\n",
       "    </tr>\n",
       "  </thead>\n",
       "  <tbody>\n",
       "    <tr>\n",
       "      <th>0</th>\n",
       "      <td>stars</td>\n",
       "      <td>0</td>\n",
       "      <td>5.224283e+05</td>\n",
       "      <td>-0.053393</td>\n",
       "      <td>-0.063512</td>\n",
       "      <td>-0.261071</td>\n",
       "      <td>6.017590</td>\n",
       "      <td>22.533272</td>\n",
       "      <td>-6.051982</td>\n",
       "      <td>0.0</td>\n",
       "      <td>-195699.620206</td>\n",
       "      <td>290.293111</td>\n",
       "      <td>-195409.327095</td>\n",
       "      <td>6.267166</td>\n",
       "      <td>-1.894153</td>\n",
       "      <td>-0.820925</td>\n",
       "    </tr>\n",
       "    <tr>\n",
       "      <th>1</th>\n",
       "      <td>stars</td>\n",
       "      <td>0</td>\n",
       "      <td>9.745897e+05</td>\n",
       "      <td>-0.160266</td>\n",
       "      <td>-0.127742</td>\n",
       "      <td>-0.178286</td>\n",
       "      <td>21.924235</td>\n",
       "      <td>8.289647</td>\n",
       "      <td>-0.418943</td>\n",
       "      <td>0.0</td>\n",
       "      <td>-196176.962277</td>\n",
       "      <td>274.782915</td>\n",
       "      <td>-195902.179362</td>\n",
       "      <td>1.531441</td>\n",
       "      <td>-3.975916</td>\n",
       "      <td>1.472102</td>\n",
       "    </tr>\n",
       "    <tr>\n",
       "      <th>2</th>\n",
       "      <td>stars</td>\n",
       "      <td>0</td>\n",
       "      <td>6.935776e+05</td>\n",
       "      <td>-0.255175</td>\n",
       "      <td>-0.165614</td>\n",
       "      <td>-0.198094</td>\n",
       "      <td>-9.574002</td>\n",
       "      <td>7.298885</td>\n",
       "      <td>15.571255</td>\n",
       "      <td>0.0</td>\n",
       "      <td>-195152.120168</td>\n",
       "      <td>193.699612</td>\n",
       "      <td>-194958.420557</td>\n",
       "      <td>-1.132945</td>\n",
       "      <td>5.869943</td>\n",
       "      <td>-3.448075</td>\n",
       "    </tr>\n",
       "    <tr>\n",
       "      <th>3</th>\n",
       "      <td>stars</td>\n",
       "      <td>0</td>\n",
       "      <td>1.070959e+06</td>\n",
       "      <td>-0.233303</td>\n",
       "      <td>-0.256464</td>\n",
       "      <td>-0.370506</td>\n",
       "      <td>-9.678900</td>\n",
       "      <td>-5.458488</td>\n",
       "      <td>-0.866013</td>\n",
       "      <td>0.0</td>\n",
       "      <td>-194695.767625</td>\n",
       "      <td>62.113089</td>\n",
       "      <td>-194633.654536</td>\n",
       "      <td>-1.800299</td>\n",
       "      <td>3.384044</td>\n",
       "      <td>-1.208809</td>\n",
       "    </tr>\n",
       "    <tr>\n",
       "      <th>4</th>\n",
       "      <td>stars</td>\n",
       "      <td>0</td>\n",
       "      <td>6.013803e+05</td>\n",
       "      <td>-0.075262</td>\n",
       "      <td>-0.200221</td>\n",
       "      <td>-0.282568</td>\n",
       "      <td>16.644463</td>\n",
       "      <td>8.046805</td>\n",
       "      <td>-16.925347</td>\n",
       "      <td>0.0</td>\n",
       "      <td>-195703.942688</td>\n",
       "      <td>314.128285</td>\n",
       "      <td>-195389.814402</td>\n",
       "      <td>5.662575</td>\n",
       "      <td>-5.977037</td>\n",
       "      <td>2.726944</td>\n",
       "    </tr>\n",
       "    <tr>\n",
       "      <th>...</th>\n",
       "      <td>...</td>\n",
       "      <td>...</td>\n",
       "      <td>...</td>\n",
       "      <td>...</td>\n",
       "      <td>...</td>\n",
       "      <td>...</td>\n",
       "      <td>...</td>\n",
       "      <td>...</td>\n",
       "      <td>...</td>\n",
       "      <td>...</td>\n",
       "      <td>...</td>\n",
       "      <td>...</td>\n",
       "      <td>...</td>\n",
       "      <td>...</td>\n",
       "      <td>...</td>\n",
       "      <td>...</td>\n",
       "    </tr>\n",
       "    <tr>\n",
       "      <th>272642</th>\n",
       "      <td>gas</td>\n",
       "      <td>2</td>\n",
       "      <td>1.429845e+06</td>\n",
       "      <td>-85.899749</td>\n",
       "      <td>291.965507</td>\n",
       "      <td>-178.219934</td>\n",
       "      <td>-113.321459</td>\n",
       "      <td>-40.698785</td>\n",
       "      <td>-124.733209</td>\n",
       "      <td>0.0</td>\n",
       "      <td>-17314.963254</td>\n",
       "      <td>15028.258726</td>\n",
       "      <td>-2286.704528</td>\n",
       "      <td>-43671.129141</td>\n",
       "      <td>9481.591579</td>\n",
       "      <td>36581.972506</td>\n",
       "    </tr>\n",
       "    <tr>\n",
       "      <th>272643</th>\n",
       "      <td>gas</td>\n",
       "      <td>2</td>\n",
       "      <td>1.436841e+06</td>\n",
       "      <td>-155.732884</td>\n",
       "      <td>170.206676</td>\n",
       "      <td>-164.665238</td>\n",
       "      <td>-93.017512</td>\n",
       "      <td>-28.445627</td>\n",
       "      <td>-32.347611</td>\n",
       "      <td>0.0</td>\n",
       "      <td>-20910.620132</td>\n",
       "      <td>5253.889589</td>\n",
       "      <td>-15656.730543</td>\n",
       "      <td>-10189.785225</td>\n",
       "      <td>10279.164005</td>\n",
       "      <td>20262.120986</td>\n",
       "    </tr>\n",
       "    <tr>\n",
       "      <th>272644</th>\n",
       "      <td>gas</td>\n",
       "      <td>2</td>\n",
       "      <td>1.690580e+06</td>\n",
       "      <td>-116.936374</td>\n",
       "      <td>277.722266</td>\n",
       "      <td>-180.365217</td>\n",
       "      <td>-113.908933</td>\n",
       "      <td>-77.286989</td>\n",
       "      <td>-97.464865</td>\n",
       "      <td>0.0</td>\n",
       "      <td>-17358.735183</td>\n",
       "      <td>14223.961789</td>\n",
       "      <td>-3134.773394</td>\n",
       "      <td>-41008.047790</td>\n",
       "      <td>9148.021413</td>\n",
       "      <td>40672.707219</td>\n",
       "    </tr>\n",
       "    <tr>\n",
       "      <th>272645</th>\n",
       "      <td>gas</td>\n",
       "      <td>2</td>\n",
       "      <td>1.210975e+06</td>\n",
       "      <td>-153.286862</td>\n",
       "      <td>-87.825986</td>\n",
       "      <td>160.681922</td>\n",
       "      <td>-74.877268</td>\n",
       "      <td>28.624862</td>\n",
       "      <td>72.765247</td>\n",
       "      <td>0.0</td>\n",
       "      <td>-23427.833806</td>\n",
       "      <td>5860.384564</td>\n",
       "      <td>-17567.449242</td>\n",
       "      <td>-10990.177333</td>\n",
       "      <td>-877.466960</td>\n",
       "      <td>-10963.985096</td>\n",
       "    </tr>\n",
       "    <tr>\n",
       "      <th>272646</th>\n",
       "      <td>gas</td>\n",
       "      <td>2</td>\n",
       "      <td>1.023048e+06</td>\n",
       "      <td>47.316569</td>\n",
       "      <td>79.834712</td>\n",
       "      <td>-94.057312</td>\n",
       "      <td>-25.740855</td>\n",
       "      <td>126.347547</td>\n",
       "      <td>-170.385448</td>\n",
       "      <td>0.0</td>\n",
       "      <td>-37321.182177</td>\n",
       "      <td>22828.747471</td>\n",
       "      <td>-14492.434706</td>\n",
       "      <td>-1718.762518</td>\n",
       "      <td>10483.170331</td>\n",
       "      <td>8033.346086</td>\n",
       "    </tr>\n",
       "  </tbody>\n",
       "</table>\n",
       "<p>272647 rows × 16 columns</p>\n",
       "</div>"
      ],
      "text/plain": [
       "        ptype  ptypev             m           x           y           z  \\\n",
       "0       stars       0  5.224283e+05   -0.053393   -0.063512   -0.261071   \n",
       "1       stars       0  9.745897e+05   -0.160266   -0.127742   -0.178286   \n",
       "2       stars       0  6.935776e+05   -0.255175   -0.165614   -0.198094   \n",
       "3       stars       0  1.070959e+06   -0.233303   -0.256464   -0.370506   \n",
       "4       stars       0  6.013803e+05   -0.075262   -0.200221   -0.282568   \n",
       "...       ...     ...           ...         ...         ...         ...   \n",
       "272642    gas       2  1.429845e+06  -85.899749  291.965507 -178.219934   \n",
       "272643    gas       2  1.436841e+06 -155.732884  170.206676 -164.665238   \n",
       "272644    gas       2  1.690580e+06 -116.936374  277.722266 -180.365217   \n",
       "272645    gas       2  1.210975e+06 -153.286862  -87.825986  160.681922   \n",
       "272646    gas       2  1.023048e+06   47.316569   79.834712  -94.057312   \n",
       "\n",
       "                vx          vy          vz  softening      potential  \\\n",
       "0         6.017590   22.533272   -6.051982        0.0 -195699.620206   \n",
       "1        21.924235    8.289647   -0.418943        0.0 -196176.962277   \n",
       "2        -9.574002    7.298885   15.571255        0.0 -195152.120168   \n",
       "3        -9.678900   -5.458488   -0.866013        0.0 -194695.767625   \n",
       "4        16.644463    8.046805  -16.925347        0.0 -195703.942688   \n",
       "...            ...         ...         ...        ...            ...   \n",
       "272642 -113.321459  -40.698785 -124.733209        0.0  -17314.963254   \n",
       "272643  -93.017512  -28.445627  -32.347611        0.0  -20910.620132   \n",
       "272644 -113.908933  -77.286989  -97.464865        0.0  -17358.735183   \n",
       "272645  -74.877268   28.624862   72.765247        0.0  -23427.833806   \n",
       "272646  -25.740855  126.347547 -170.385448        0.0  -37321.182177   \n",
       "\n",
       "        kinetic_energy   total_energy            Jx            Jy  \\\n",
       "0           290.293111 -195409.327095      6.267166     -1.894153   \n",
       "1           274.782915 -195902.179362      1.531441     -3.975916   \n",
       "2           193.699612 -194958.420557     -1.132945      5.869943   \n",
       "3            62.113089 -194633.654536     -1.800299      3.384044   \n",
       "4           314.128285 -195389.814402      5.662575     -5.977037   \n",
       "...                ...            ...           ...           ...   \n",
       "272642    15028.258726   -2286.704528 -43671.129141   9481.591579   \n",
       "272643     5253.889589  -15656.730543 -10189.785225  10279.164005   \n",
       "272644    14223.961789   -3134.773394 -41008.047790   9148.021413   \n",
       "272645     5860.384564  -17567.449242 -10990.177333   -877.466960   \n",
       "272646    22828.747471  -14492.434706  -1718.762518  10483.170331   \n",
       "\n",
       "                  Jz  \n",
       "0          -0.820925  \n",
       "1           1.472102  \n",
       "2          -3.448075  \n",
       "3          -1.208809  \n",
       "4           2.726944  \n",
       "...              ...  \n",
       "272642  36581.972506  \n",
       "272643  20262.120986  \n",
       "272644  40672.707219  \n",
       "272645 -10963.985096  \n",
       "272646   8033.346086  \n",
       "\n",
       "[272647 rows x 16 columns]"
      ]
     },
     "execution_count": 5,
     "metadata": {},
     "output_type": "execute_result"
    }
   ],
   "source": [
    "gal.to_dataframe()"
   ]
  },
  {
   "cell_type": "markdown",
   "metadata": {},
   "source": [
    "# Descomposicion"
   ]
  },
  {
   "cell_type": "code",
   "execution_count": 6,
   "metadata": {},
   "outputs": [
    {
     "data": {
      "text/plain": [
       "[<matplotlib.lines.Line2D at 0x14dd9660f750>]"
      ]
     },
     "execution_count": 6,
     "metadata": {},
     "output_type": "execute_result"
    },
    {
     "data": {
      "image/png": "[encoded data removed]",
      "text/plain": [
       "<Figure size 432x288 with 1 Axes>"
      ]
     },
     "metadata": {
      "needs_background": "light"
     },
     "output_type": "display_data"
    }
   ],
   "source": [
    "circ = gchop.utils.jcirc(gal)\n",
    "plt.plot(circ.x,circ.y, 'bo')"
   ]
  },
  {
   "cell_type": "markdown",
   "metadata": {},
   "source": [
    "## Threshold"
   ]
  },
  {
   "cell_type": "code",
   "execution_count": 7,
   "metadata": {},
   "outputs": [
    {
     "data": {
      "text/plain": [
       "Particles           Size        3.728300e+04\n",
       "                    Fraction    1.000000e+00\n",
       "Deterministic mass  Size        3.731381e+10\n",
       "                    Fraction    1.000000e+00\n",
       "dtype: float64"
      ]
     },
     "execution_count": 7,
     "metadata": {},
     "output_type": "execute_result"
    }
   ],
   "source": [
    "decomposer = gchop.models.JThreshold()\n",
    "cmp_labels = decomposer.decompose(gal)\n",
    "labels_th = cmp_labels.labels[cmp_labels.ptypes == 'stars']\n",
    "cmp_labels.describe().sum()"
   ]
  },
  {
   "cell_type": "code",
   "execution_count": 8,
   "metadata": {},
   "outputs": [
    {
     "data": {
      "text/plain": [
       "<AxesSubplot:xlabel='eps', ylabel='Density'>"
      ]
     },
     "execution_count": 8,
     "metadata": {},
     "output_type": "execute_result"
    },
    {
     "data": {
      "image/png": "[encoded data removed]",
      "text/plain": [
       "<Figure size 432x288 with 1 Axes>"
      ]
     },
     "metadata": {
      "needs_background": "light"
     },
     "output_type": "display_data"
    }
   ],
   "source": [
    "gal.plot.circ_kde(\"eps\",labels=labels_th)"
   ]
  },
  {
   "cell_type": "code",
   "execution_count": 9,
   "metadata": {},
   "outputs": [],
   "source": [
    "#gchop.models.JThreshold?"
   ]
  },
  {
   "cell_type": "markdown",
   "metadata": {},
   "source": [
    "## Abadi+03"
   ]
  },
  {
   "cell_type": "code",
   "execution_count": 10,
   "metadata": {},
   "outputs": [
    {
     "data": {
      "text/plain": [
       "Components(272647, labels={'Disk', nan, 'Spheroid'}, probabilities=False, lmap=True)"
      ]
     },
     "execution_count": 10,
     "metadata": {},
     "output_type": "execute_result"
    }
   ],
   "source": [
    "decomposer = gchop.models.JHistogram()\n",
    "cmp_labels = decomposer.decompose(gal)\n",
    "labels_ab = cmp_labels.labels[cmp_labels.ptypes == 'stars']\n",
    "cmp_labels"
   ]
  },
  {
   "cell_type": "code",
   "execution_count": 11,
   "metadata": {},
   "outputs": [
    {
     "data": {
      "text/plain": [
       "<AxesSubplot:xlabel='eps', ylabel='Density'>"
      ]
     },
     "execution_count": 11,
     "metadata": {},
     "output_type": "execute_result"
    },
    {
     "data": {
      "image/png": "[encoded data removed]",
      "text/plain": [
       "<Figure size 432x288 with 1 Axes>"
      ]
     },
     "metadata": {
      "needs_background": "light"
     },
     "output_type": "display_data"
    }
   ],
   "source": [
    "gal.plot.circ_kde(\"eps\",labels=labels_ab)"
   ]
  },
  {
   "cell_type": "markdown",
   "metadata": {},
   "source": [
    "## K-means"
   ]
  },
  {
   "cell_type": "code",
   "execution_count": 12,
   "metadata": {},
   "outputs": [],
   "source": [
    "decomposer = gchop.models.KMeans(random_state=1111111)\n",
    "cmp_labels = decomposer.decompose(gal)\n",
    "labels_km = cmp_labels.labels[cmp_labels.ptypes == 'stars']"
   ]
  },
  {
   "cell_type": "code",
   "execution_count": 13,
   "metadata": {},
   "outputs": [
    {
     "data": {
      "text/plain": [
       "<AxesSubplot:xlabel='eps', ylabel='Density'>"
      ]
     },
     "execution_count": 13,
     "metadata": {},
     "output_type": "execute_result"
    },
    {
     "data": {
      "image/png": "[encoded data removed]",
      "text/plain": [
       "<Figure size 432x288 with 1 Axes>"
      ]
     },
     "metadata": {
      "needs_background": "light"
     },
     "output_type": "display_data"
    }
   ],
   "source": [
    "gal.plot.circ_kde(\"eps\",labels=labels_km)"
   ]
  },
  {
   "cell_type": "code",
   "execution_count": 14,
   "metadata": {},
   "outputs": [],
   "source": [
    "decomposer = gchop.models.KMeans(n_components=3, random_state=185414)\n",
    "cmp_labels = decomposer.decompose(gal)\n",
    "labels_km3 = cmp_labels.labels[cmp_labels.ptypes == 'stars']\n",
    "\n",
    "for index, value in enumerate(labels_km3):\n",
    "    if value == 0:\n",
    "      labels_km3[index] = 2\n",
    "    if value == 2:\n",
    "      labels_km3[index] = 0\n",
    "\n",
    "\n",
    "\n",
    "#lab0: Bulge\n",
    "#lab1: Thin Disk\n",
    "#lab2: Thick Disk"
   ]
  },
  {
   "cell_type": "code",
   "execution_count": 15,
   "metadata": {},
   "outputs": [
    {
     "data": {
      "text/plain": [
       "<AxesSubplot:xlabel='eps', ylabel='Density'>"
      ]
     },
     "execution_count": 15,
     "metadata": {},
     "output_type": "execute_result"
    },
    {
     "data": {
      "image/png": "[encoded data removed]",
      "text/plain": [
       "<Figure size 432x288 with 1 Axes>"
      ]
     },
     "metadata": {
      "needs_background": "light"
     },
     "output_type": "display_data"
    }
   ],
   "source": [
    "gal.plot.circ_kde(\"eps\",labels=labels_km3)"
   ]
  },
  {
   "cell_type": "code",
   "execution_count": 16,
   "metadata": {},
   "outputs": [
    {
     "data": {
      "text/plain": [
       "Components(272647, labels={0.0, 1.0, 2.0, 3.0, nan}, probabilities=False, lmap=False)"
      ]
     },
     "execution_count": 16,
     "metadata": {},
     "output_type": "execute_result"
    }
   ],
   "source": [
    "decomposer = gchop.models.KMeans(n_components=4,random_state=206626)\n",
    "cmp_labels = decomposer.decompose(gal)\n",
    "labels_km4 = cmp_labels.labels[cmp_labels.ptypes == 'stars']\n",
    "#lab0: Stellar halo\n",
    "#lab1: Bulge\n",
    "#lab2: Thin Disk\n",
    "#lab3: Thick disk\n",
    "\n",
    "cmp_labels"
   ]
  },
  {
   "cell_type": "code",
   "execution_count": 17,
   "metadata": {},
   "outputs": [
    {
     "data": {
      "text/plain": [
       "<AxesSubplot:xlabel='eps', ylabel='Density'>"
      ]
     },
     "execution_count": 17,
     "metadata": {},
     "output_type": "execute_result"
    },
    {
     "data": {
      "image/png": "[encoded data removed]",
      "text/plain": [
       "<Figure size 432x288 with 1 Axes>"
      ]
     },
     "metadata": {
      "needs_background": "light"
     },
     "output_type": "display_data"
    }
   ],
   "source": [
    "gal.plot.circ_kde(\"eps\",labels=labels_km4)"
   ]
  },
  {
   "cell_type": "markdown",
   "metadata": {},
   "source": [
    "## Cristiani"
   ]
  },
  {
   "cell_type": "code",
   "execution_count": 18,
   "metadata": {},
   "outputs": [
    {
     "data": {
      "text/plain": [
       "Components(272647, labels={'Disk', nan, 'Spheroid'}, probabilities=False, lmap=True)"
      ]
     },
     "execution_count": 18,
     "metadata": {},
     "output_type": "execute_result"
    }
   ],
   "source": [
    "decomposer = gchop.models.JEHistogram()\n",
    "cmp_labels = decomposer.decompose(gal)\n",
    "labels_cr = cmp_labels.labels[cmp_labels.ptypes == 'stars']\n",
    "cmp_labels"
   ]
  },
  {
   "cell_type": "code",
   "execution_count": 19,
   "metadata": {},
   "outputs": [
    {
     "data": {
      "text/plain": [
       "<AxesSubplot:xlabel='eps', ylabel='Density'>"
      ]
     },
     "execution_count": 19,
     "metadata": {},
     "output_type": "execute_result"
    },
    {
     "data": {
      "image/png": "[encoded data removed]",
      "text/plain": [
       "<Figure size 432x288 with 1 Axes>"
      ]
     },
     "metadata": {
      "needs_background": "light"
     },
     "output_type": "display_data"
    }
   ],
   "source": [
    "gal.plot.circ_kde(\"eps\",labels=labels_cr)"
   ]
  },
  {
   "cell_type": "markdown",
   "metadata": {},
   "source": [
    "## GMM"
   ]
  },
  {
   "cell_type": "code",
   "execution_count": 20,
   "metadata": {},
   "outputs": [],
   "source": [
    "decomposer = gchop.models.GaussianMixture(random_state=26)\n",
    "cmp_labels = decomposer.decompose(gal)\n",
    "\n",
    "#Labels\n",
    "labels_gmm = cmp_labels.labels[cmp_labels.ptypes == 'stars']\n",
    "\n",
    "#Probabilities\n",
    "describe_gmm=cmp_labels.describe()"
   ]
  },
  {
   "cell_type": "code",
   "execution_count": 21,
   "metadata": {},
   "outputs": [
    {
     "data": {
      "text/plain": [
       "<AxesSubplot:xlabel='eps', ylabel='Density'>"
      ]
     },
     "execution_count": 21,
     "metadata": {},
     "output_type": "execute_result"
    },
    {
     "data": {
      "image/png": "[encoded data removed]",
      "text/plain": [
       "<Figure size 432x288 with 1 Axes>"
      ]
     },
     "metadata": {
      "needs_background": "light"
     },
     "output_type": "display_data"
    }
   ],
   "source": [
    "gal.plot.circ_kde(\"eps\",labels=labels_gmm)"
   ]
  },
  {
   "cell_type": "code",
   "execution_count": 22,
   "metadata": {},
   "outputs": [
    {
     "data": {
      "text/html": [
       "<div>\n",
       "<style scoped>\n",
       "    .dataframe tbody tr th:only-of-type {\n",
       "        vertical-align: middle;\n",
       "    }\n",
       "\n",
       "    .dataframe tbody tr th {\n",
       "        vertical-align: top;\n",
       "    }\n",
       "\n",
       "    .dataframe thead tr th {\n",
       "        text-align: left;\n",
       "    }\n",
       "</style>\n",
       "<table border=\"1\" class=\"dataframe\">\n",
       "  <thead>\n",
       "    <tr>\n",
       "      <th></th>\n",
       "      <th colspan=\"2\" halign=\"left\">Particles</th>\n",
       "      <th colspan=\"2\" halign=\"left\">Deterministic mass</th>\n",
       "      <th colspan=\"2\" halign=\"left\">Probabilistic mass</th>\n",
       "    </tr>\n",
       "    <tr>\n",
       "      <th></th>\n",
       "      <th>Size</th>\n",
       "      <th>Fraction</th>\n",
       "      <th>Size</th>\n",
       "      <th>Fraction</th>\n",
       "      <th>Size</th>\n",
       "      <th>Fraction</th>\n",
       "    </tr>\n",
       "  </thead>\n",
       "  <tbody>\n",
       "    <tr>\n",
       "      <th>0</th>\n",
       "      <td>16774</td>\n",
       "      <td>0.44991</td>\n",
       "      <td>1.614934e+10</td>\n",
       "      <td>0.432798</td>\n",
       "      <td>1.702359e+10</td>\n",
       "      <td>0.456227</td>\n",
       "    </tr>\n",
       "    <tr>\n",
       "      <th>1</th>\n",
       "      <td>20509</td>\n",
       "      <td>0.55009</td>\n",
       "      <td>2.116447e+10</td>\n",
       "      <td>0.567202</td>\n",
       "      <td>2.029022e+10</td>\n",
       "      <td>0.543773</td>\n",
       "    </tr>\n",
       "  </tbody>\n",
       "</table>\n",
       "</div>"
      ],
      "text/plain": [
       "  Particles          Deterministic mass           Probabilistic mass          \n",
       "       Size Fraction               Size  Fraction               Size  Fraction\n",
       "0     16774  0.44991       1.614934e+10  0.432798       1.702359e+10  0.456227\n",
       "1     20509  0.55009       2.116447e+10  0.567202       2.029022e+10  0.543773"
      ]
     },
     "execution_count": 22,
     "metadata": {},
     "output_type": "execute_result"
    }
   ],
   "source": [
    "describe_gmm"
   ]
  },
  {
   "cell_type": "code",
   "execution_count": 23,
   "metadata": {},
   "outputs": [],
   "source": [
    "decomposer = gchop.models.GaussianMixture(n_components=3,random_state=68448)\n",
    "cmp_labels = decomposer.decompose(gal)\n",
    "labels_gmm3 = cmp_labels.labels[cmp_labels.ptypes == 'stars']\n",
    "\n",
    "#lab0: Bulge\n",
    "#lab1: Thin Disk\n",
    "#lab2: Thick Disk\n",
    "#Probabilities\n",
    "describe_gmm3=cmp_labels.describe()"
   ]
  },
  {
   "cell_type": "code",
   "execution_count": 24,
   "metadata": {},
   "outputs": [
    {
     "data": {
      "text/plain": [
       "<AxesSubplot:xlabel='eps', ylabel='Density'>"
      ]
     },
     "execution_count": 24,
     "metadata": {},
     "output_type": "execute_result"
    },
    {
     "data": {
      "image/png": "[encoded data removed]",
      "text/plain": [
       "<Figure size 432x288 with 1 Axes>"
      ]
     },
     "metadata": {
      "needs_background": "light"
     },
     "output_type": "display_data"
    }
   ],
   "source": [
    "gal.plot.circ_kde(\"eps\",labels=labels_gmm3)"
   ]
  },
  {
   "cell_type": "code",
   "execution_count": 25,
   "metadata": {},
   "outputs": [],
   "source": [
    "decomposer = gchop.models.GaussianMixture(n_components=4, random_state=111806)\n",
    "cmp_labels = decomposer.decompose(gal)\n",
    "labels_gmm4 = cmp_labels.labels[cmp_labels.ptypes == 'stars']\n",
    "#lab0: Thin Disk\n",
    "#lab1: Bulge\n",
    "#lab2: Stellar halo\n",
    "#lab3: Thick disk\n",
    "cmp_labels\n",
    "\n",
    "for index, value in enumerate(labels_gmm4):\n",
    "    if value == 0:\n",
    "      labels_gmm4[index] = 2\n",
    "    if value == 2:\n",
    "      labels_gmm4[index] = 0\n",
    "\n",
    "#Probabilities\n",
    "describe_gmm4=cmp_labels.describe()"
   ]
  },
  {
   "cell_type": "code",
   "execution_count": 26,
   "metadata": {},
   "outputs": [
    {
     "data": {
      "text/plain": [
       "<AxesSubplot:xlabel='eps', ylabel='Density'>"
      ]
     },
     "execution_count": 26,
     "metadata": {},
     "output_type": "execute_result"
    },
    {
     "data": {
      "image/png": "[encoded data removed]",
      "text/plain": [
       "<Figure size 432x288 with 1 Axes>"
      ]
     },
     "metadata": {
      "needs_background": "light"
     },
     "output_type": "display_data"
    }
   ],
   "source": [
    "gal.plot.circ_kde(\"eps\",labels=labels_gmm4)"
   ]
  },
  {
   "cell_type": "markdown",
   "metadata": {},
   "source": [
    "## Auto-GMM"
   ]
  },
  {
   "cell_type": "code",
   "execution_count": 27,
   "metadata": {},
   "outputs": [],
   "source": [
    "decomposer = gchop.models.AutoGaussianMixture() #njobs paralell\n",
    "cmp_labels = decomposer.decompose(gal)\n",
    "labels_agmm = cmp_labels.labels[cmp_labels.ptypes == 'stars']\n",
    "\n",
    "#Probabilities\n",
    "describe_agmm=cmp_labels.describe()"
   ]
  },
  {
   "cell_type": "code",
   "execution_count": 28,
   "metadata": {},
   "outputs": [
    {
     "data": {
      "text/plain": [
       "<AxesSubplot:xlabel='eps', ylabel='Density'>"
      ]
     },
     "execution_count": 28,
     "metadata": {},
     "output_type": "execute_result"
    },
    {
     "data": {
      "image/png": "[encoded data removed]",
      "text/plain": [
       "<Figure size 432x288 with 1 Axes>"
      ]
     },
     "metadata": {
      "needs_background": "light"
     },
     "output_type": "display_data"
    }
   ],
   "source": [
    "gal.plot.circ_kde(\"eps\",labels=labels_agmm)"
   ]
  },
  {
   "cell_type": "markdown",
   "metadata": {},
   "source": [
    "# DataFrame stars particles"
   ]
  },
  {
   "cell_type": "code",
   "execution_count": 29,
   "metadata": {},
   "outputs": [],
   "source": [
    "dfs = gal.stars.to_dataframe()"
   ]
  },
  {
   "cell_type": "code",
   "execution_count": 30,
   "metadata": {},
   "outputs": [
    {
     "name": "stdout",
     "output_type": "stream",
     "text": [
      "37393\n",
      "37393\n"
     ]
    }
   ],
   "source": [
    "print(len(gal.stars.x))\n",
    "print(len(labels_th))"
   ]
  },
  {
   "cell_type": "code",
   "execution_count": 31,
   "metadata": {},
   "outputs": [
    {
     "data": {
      "text/plain": [
       "ptype             0\n",
       "ptypev            0\n",
       "m                 0\n",
       "x                 0\n",
       "y                 0\n",
       "z                 0\n",
       "vx                0\n",
       "vy                0\n",
       "vz                0\n",
       "softening         0\n",
       "potential         0\n",
       "kinetic_energy    0\n",
       "total_energy      0\n",
       "Jx                0\n",
       "Jy                0\n",
       "Jz                0\n",
       "dtype: int64"
      ]
     },
     "execution_count": 31,
     "metadata": {},
     "output_type": "execute_result"
    }
   ],
   "source": [
    "dfs.isnull().sum()"
   ]
  },
  {
   "cell_type": "code",
   "execution_count": 32,
   "metadata": {},
   "outputs": [],
   "source": [
    "#Agrego labels al data frame\n",
    "dfs[\"lab_th\"]=labels_th\n",
    "dfs[\"lab_ab\"]=labels_ab\n",
    "dfs[\"lab_cr\"]=labels_cr\n",
    "dfs[\"lab_km\"]=labels_km\n",
    "dfs[\"lab_km3\"]=labels_km3\n",
    "dfs[\"lab_km4\"]=labels_km4\n",
    "#Para los GMM se usa la probabilididad, no los labels\n",
    "dfs[\"lab_gmm\"]=labels_gmm\n",
    "dfs[\"lab_gmm3\"]=labels_gmm3\n",
    "dfs[\"lab_gmm4\"]=labels_gmm4\n",
    "dfs[\"lab_agmm\"]=labels_agmm"
   ]
  },
  {
   "cell_type": "code",
   "execution_count": 33,
   "metadata": {},
   "outputs": [
    {
     "data": {
      "text/html": [
       "<div>\n",
       "<style scoped>\n",
       "    .dataframe tbody tr th:only-of-type {\n",
       "        vertical-align: middle;\n",
       "    }\n",
       "\n",
       "    .dataframe tbody tr th {\n",
       "        vertical-align: top;\n",
       "    }\n",
       "\n",
       "    .dataframe thead th {\n",
       "        text-align: right;\n",
       "    }\n",
       "</style>\n",
       "<table border=\"1\" class=\"dataframe\">\n",
       "  <thead>\n",
       "    <tr style=\"text-align: right;\">\n",
       "      <th></th>\n",
       "      <th>ptype</th>\n",
       "      <th>ptypev</th>\n",
       "      <th>m</th>\n",
       "      <th>x</th>\n",
       "      <th>y</th>\n",
       "      <th>z</th>\n",
       "      <th>vx</th>\n",
       "      <th>vy</th>\n",
       "      <th>vz</th>\n",
       "      <th>softening</th>\n",
       "      <th>...</th>\n",
       "      <th>lab_th</th>\n",
       "      <th>lab_ab</th>\n",
       "      <th>lab_cr</th>\n",
       "      <th>lab_km</th>\n",
       "      <th>lab_km3</th>\n",
       "      <th>lab_km4</th>\n",
       "      <th>lab_gmm</th>\n",
       "      <th>lab_gmm3</th>\n",
       "      <th>lab_gmm4</th>\n",
       "      <th>lab_agmm</th>\n",
       "    </tr>\n",
       "  </thead>\n",
       "  <tbody>\n",
       "    <tr>\n",
       "      <th>0</th>\n",
       "      <td>stars</td>\n",
       "      <td>0</td>\n",
       "      <td>5.224283e+05</td>\n",
       "      <td>-0.053393</td>\n",
       "      <td>-0.063512</td>\n",
       "      <td>-0.261071</td>\n",
       "      <td>6.017590</td>\n",
       "      <td>22.533272</td>\n",
       "      <td>-6.051982</td>\n",
       "      <td>0.0</td>\n",
       "      <td>...</td>\n",
       "      <td>0.0</td>\n",
       "      <td>0.0</td>\n",
       "      <td>0.0</td>\n",
       "      <td>0.0</td>\n",
       "      <td>0.0</td>\n",
       "      <td>1.0</td>\n",
       "      <td>0.0</td>\n",
       "      <td>0.0</td>\n",
       "      <td>1.0</td>\n",
       "      <td>1.0</td>\n",
       "    </tr>\n",
       "    <tr>\n",
       "      <th>1</th>\n",
       "      <td>stars</td>\n",
       "      <td>0</td>\n",
       "      <td>9.745897e+05</td>\n",
       "      <td>-0.160266</td>\n",
       "      <td>-0.127742</td>\n",
       "      <td>-0.178286</td>\n",
       "      <td>21.924235</td>\n",
       "      <td>8.289647</td>\n",
       "      <td>-0.418943</td>\n",
       "      <td>0.0</td>\n",
       "      <td>...</td>\n",
       "      <td>0.0</td>\n",
       "      <td>1.0</td>\n",
       "      <td>1.0</td>\n",
       "      <td>0.0</td>\n",
       "      <td>2.0</td>\n",
       "      <td>0.0</td>\n",
       "      <td>0.0</td>\n",
       "      <td>0.0</td>\n",
       "      <td>1.0</td>\n",
       "      <td>1.0</td>\n",
       "    </tr>\n",
       "    <tr>\n",
       "      <th>2</th>\n",
       "      <td>stars</td>\n",
       "      <td>0</td>\n",
       "      <td>6.935776e+05</td>\n",
       "      <td>-0.255175</td>\n",
       "      <td>-0.165614</td>\n",
       "      <td>-0.198094</td>\n",
       "      <td>-9.574002</td>\n",
       "      <td>7.298885</td>\n",
       "      <td>15.571255</td>\n",
       "      <td>0.0</td>\n",
       "      <td>...</td>\n",
       "      <td>0.0</td>\n",
       "      <td>0.0</td>\n",
       "      <td>0.0</td>\n",
       "      <td>0.0</td>\n",
       "      <td>0.0</td>\n",
       "      <td>1.0</td>\n",
       "      <td>0.0</td>\n",
       "      <td>0.0</td>\n",
       "      <td>1.0</td>\n",
       "      <td>0.0</td>\n",
       "    </tr>\n",
       "    <tr>\n",
       "      <th>3</th>\n",
       "      <td>stars</td>\n",
       "      <td>0</td>\n",
       "      <td>1.070959e+06</td>\n",
       "      <td>-0.233303</td>\n",
       "      <td>-0.256464</td>\n",
       "      <td>-0.370506</td>\n",
       "      <td>-9.678900</td>\n",
       "      <td>-5.458488</td>\n",
       "      <td>-0.866013</td>\n",
       "      <td>0.0</td>\n",
       "      <td>...</td>\n",
       "      <td>0.0</td>\n",
       "      <td>0.0</td>\n",
       "      <td>0.0</td>\n",
       "      <td>0.0</td>\n",
       "      <td>0.0</td>\n",
       "      <td>1.0</td>\n",
       "      <td>0.0</td>\n",
       "      <td>0.0</td>\n",
       "      <td>1.0</td>\n",
       "      <td>1.0</td>\n",
       "    </tr>\n",
       "    <tr>\n",
       "      <th>4</th>\n",
       "      <td>stars</td>\n",
       "      <td>0</td>\n",
       "      <td>6.013803e+05</td>\n",
       "      <td>-0.075262</td>\n",
       "      <td>-0.200221</td>\n",
       "      <td>-0.282568</td>\n",
       "      <td>16.644463</td>\n",
       "      <td>8.046805</td>\n",
       "      <td>-16.925347</td>\n",
       "      <td>0.0</td>\n",
       "      <td>...</td>\n",
       "      <td>0.0</td>\n",
       "      <td>0.0</td>\n",
       "      <td>0.0</td>\n",
       "      <td>0.0</td>\n",
       "      <td>2.0</td>\n",
       "      <td>0.0</td>\n",
       "      <td>0.0</td>\n",
       "      <td>0.0</td>\n",
       "      <td>1.0</td>\n",
       "      <td>1.0</td>\n",
       "    </tr>\n",
       "    <tr>\n",
       "      <th>...</th>\n",
       "      <td>...</td>\n",
       "      <td>...</td>\n",
       "      <td>...</td>\n",
       "      <td>...</td>\n",
       "      <td>...</td>\n",
       "      <td>...</td>\n",
       "      <td>...</td>\n",
       "      <td>...</td>\n",
       "      <td>...</td>\n",
       "      <td>...</td>\n",
       "      <td>...</td>\n",
       "      <td>...</td>\n",
       "      <td>...</td>\n",
       "      <td>...</td>\n",
       "      <td>...</td>\n",
       "      <td>...</td>\n",
       "      <td>...</td>\n",
       "      <td>...</td>\n",
       "      <td>...</td>\n",
       "      <td>...</td>\n",
       "      <td>...</td>\n",
       "    </tr>\n",
       "    <tr>\n",
       "      <th>37388</th>\n",
       "      <td>stars</td>\n",
       "      <td>0</td>\n",
       "      <td>9.867470e+05</td>\n",
       "      <td>135.738559</td>\n",
       "      <td>-160.160626</td>\n",
       "      <td>-15.369098</td>\n",
       "      <td>-56.741920</td>\n",
       "      <td>57.947940</td>\n",
       "      <td>121.877589</td>\n",
       "      <td>0.0</td>\n",
       "      <td>...</td>\n",
       "      <td>0.0</td>\n",
       "      <td>0.0</td>\n",
       "      <td>0.0</td>\n",
       "      <td>0.0</td>\n",
       "      <td>0.0</td>\n",
       "      <td>0.0</td>\n",
       "      <td>0.0</td>\n",
       "      <td>2.0</td>\n",
       "      <td>0.0</td>\n",
       "      <td>0.0</td>\n",
       "    </tr>\n",
       "    <tr>\n",
       "      <th>37389</th>\n",
       "      <td>stars</td>\n",
       "      <td>0</td>\n",
       "      <td>8.290853e+05</td>\n",
       "      <td>14.748290</td>\n",
       "      <td>15.584324</td>\n",
       "      <td>-5.206648</td>\n",
       "      <td>-6.194351</td>\n",
       "      <td>263.651947</td>\n",
       "      <td>313.783409</td>\n",
       "      <td>0.0</td>\n",
       "      <td>...</td>\n",
       "      <td>0.0</td>\n",
       "      <td>0.0</td>\n",
       "      <td>1.0</td>\n",
       "      <td>0.0</td>\n",
       "      <td>2.0</td>\n",
       "      <td>0.0</td>\n",
       "      <td>0.0</td>\n",
       "      <td>2.0</td>\n",
       "      <td>0.0</td>\n",
       "      <td>0.0</td>\n",
       "    </tr>\n",
       "    <tr>\n",
       "      <th>37390</th>\n",
       "      <td>stars</td>\n",
       "      <td>0</td>\n",
       "      <td>1.004103e+06</td>\n",
       "      <td>16.885028</td>\n",
       "      <td>56.265101</td>\n",
       "      <td>-2.875864</td>\n",
       "      <td>-43.605196</td>\n",
       "      <td>304.321445</td>\n",
       "      <td>11.364916</td>\n",
       "      <td>0.0</td>\n",
       "      <td>...</td>\n",
       "      <td>0.0</td>\n",
       "      <td>1.0</td>\n",
       "      <td>1.0</td>\n",
       "      <td>1.0</td>\n",
       "      <td>2.0</td>\n",
       "      <td>0.0</td>\n",
       "      <td>0.0</td>\n",
       "      <td>2.0</td>\n",
       "      <td>0.0</td>\n",
       "      <td>0.0</td>\n",
       "    </tr>\n",
       "    <tr>\n",
       "      <th>37391</th>\n",
       "      <td>stars</td>\n",
       "      <td>0</td>\n",
       "      <td>1.526682e+06</td>\n",
       "      <td>270.481924</td>\n",
       "      <td>-80.307674</td>\n",
       "      <td>15.246717</td>\n",
       "      <td>-89.287180</td>\n",
       "      <td>-51.203767</td>\n",
       "      <td>-23.223115</td>\n",
       "      <td>0.0</td>\n",
       "      <td>...</td>\n",
       "      <td>0.0</td>\n",
       "      <td>0.0</td>\n",
       "      <td>0.0</td>\n",
       "      <td>0.0</td>\n",
       "      <td>0.0</td>\n",
       "      <td>1.0</td>\n",
       "      <td>0.0</td>\n",
       "      <td>2.0</td>\n",
       "      <td>0.0</td>\n",
       "      <td>0.0</td>\n",
       "    </tr>\n",
       "    <tr>\n",
       "      <th>37392</th>\n",
       "      <td>stars</td>\n",
       "      <td>0</td>\n",
       "      <td>1.356703e+06</td>\n",
       "      <td>13.604771</td>\n",
       "      <td>-8.791025</td>\n",
       "      <td>3.338073</td>\n",
       "      <td>165.167959</td>\n",
       "      <td>380.822517</td>\n",
       "      <td>-156.625529</td>\n",
       "      <td>0.0</td>\n",
       "      <td>...</td>\n",
       "      <td>0.0</td>\n",
       "      <td>0.0</td>\n",
       "      <td>1.0</td>\n",
       "      <td>0.0</td>\n",
       "      <td>2.0</td>\n",
       "      <td>0.0</td>\n",
       "      <td>0.0</td>\n",
       "      <td>2.0</td>\n",
       "      <td>0.0</td>\n",
       "      <td>0.0</td>\n",
       "    </tr>\n",
       "  </tbody>\n",
       "</table>\n",
       "<p>37393 rows × 26 columns</p>\n",
       "</div>"
      ],
      "text/plain": [
       "       ptype  ptypev             m           x           y          z  \\\n",
       "0      stars       0  5.224283e+05   -0.053393   -0.063512  -0.261071   \n",
       "1      stars       0  9.745897e+05   -0.160266   -0.127742  -0.178286   \n",
       "2      stars       0  6.935776e+05   -0.255175   -0.165614  -0.198094   \n",
       "3      stars       0  1.070959e+06   -0.233303   -0.256464  -0.370506   \n",
       "4      stars       0  6.013803e+05   -0.075262   -0.200221  -0.282568   \n",
       "...      ...     ...           ...         ...         ...        ...   \n",
       "37388  stars       0  9.867470e+05  135.738559 -160.160626 -15.369098   \n",
       "37389  stars       0  8.290853e+05   14.748290   15.584324  -5.206648   \n",
       "37390  stars       0  1.004103e+06   16.885028   56.265101  -2.875864   \n",
       "37391  stars       0  1.526682e+06  270.481924  -80.307674  15.246717   \n",
       "37392  stars       0  1.356703e+06   13.604771   -8.791025   3.338073   \n",
       "\n",
       "               vx          vy          vz  softening  ...  lab_th  lab_ab  \\\n",
       "0        6.017590   22.533272   -6.051982        0.0  ...     0.0     0.0   \n",
       "1       21.924235    8.289647   -0.418943        0.0  ...     0.0     1.0   \n",
       "2       -9.574002    7.298885   15.571255        0.0  ...     0.0     0.0   \n",
       "3       -9.678900   -5.458488   -0.866013        0.0  ...     0.0     0.0   \n",
       "4       16.644463    8.046805  -16.925347        0.0  ...     0.0     0.0   \n",
       "...           ...         ...         ...        ...  ...     ...     ...   \n",
       "37388  -56.741920   57.947940  121.877589        0.0  ...     0.0     0.0   \n",
       "37389   -6.194351  263.651947  313.783409        0.0  ...     0.0     0.0   \n",
       "37390  -43.605196  304.321445   11.364916        0.0  ...     0.0     1.0   \n",
       "37391  -89.287180  -51.203767  -23.223115        0.0  ...     0.0     0.0   \n",
       "37392  165.167959  380.822517 -156.625529        0.0  ...     0.0     0.0   \n",
       "\n",
       "       lab_cr  lab_km  lab_km3  lab_km4  lab_gmm  lab_gmm3  lab_gmm4  lab_agmm  \n",
       "0         0.0     0.0      0.0      1.0      0.0       0.0       1.0       1.0  \n",
       "1         1.0     0.0      2.0      0.0      0.0       0.0       1.0       1.0  \n",
       "2         0.0     0.0      0.0      1.0      0.0       0.0       1.0       0.0  \n",
       "3         0.0     0.0      0.0      1.0      0.0       0.0       1.0       1.0  \n",
       "4         0.0     0.0      2.0      0.0      0.0       0.0       1.0       1.0  \n",
       "...       ...     ...      ...      ...      ...       ...       ...       ...  \n",
       "37388     0.0     0.0      0.0      0.0      0.0       2.0       0.0       0.0  \n",
       "37389     1.0     0.0      2.0      0.0      0.0       2.0       0.0       0.0  \n",
       "37390     1.0     1.0      2.0      0.0      0.0       2.0       0.0       0.0  \n",
       "37391     0.0     0.0      0.0      1.0      0.0       2.0       0.0       0.0  \n",
       "37392     1.0     0.0      2.0      0.0      0.0       2.0       0.0       0.0  \n",
       "\n",
       "[37393 rows x 26 columns]"
      ]
     },
     "execution_count": 33,
     "metadata": {},
     "output_type": "execute_result"
    }
   ],
   "source": [
    "dfs"
   ]
  },
  {
   "cell_type": "code",
   "execution_count": null,
   "metadata": {},
   "outputs": [],
   "source": []
  },
  {
   "cell_type": "code",
   "execution_count": null,
   "metadata": {},
   "outputs": [],
   "source": []
  },
  {
   "cell_type": "code",
   "execution_count": null,
   "metadata": {},
   "outputs": [],
   "source": []
  },
  {
   "cell_type": "markdown",
   "metadata": {},
   "source": [
    "# Save DataFrame Stars "
   ]
  },
  {
   "cell_type": "code",
   "execution_count": 34,
   "metadata": {},
   "outputs": [],
   "source": [
    "#dfs.to_pickle('df_stars.pkl')"
   ]
  },
  {
   "cell_type": "code",
   "execution_count": 35,
   "metadata": {},
   "outputs": [],
   "source": [
    "#df1 = pd.read_pickle('df_stars.pkl')"
   ]
  },
  {
   "cell_type": "code",
   "execution_count": null,
   "metadata": {},
   "outputs": [],
   "source": []
  },
  {
   "cell_type": "code",
   "execution_count": 36,
   "metadata": {},
   "outputs": [],
   "source": [
    "dfs.to_pickle('df_stars_gal394242_rvir.pkl')"
   ]
  },
  {
   "cell_type": "markdown",
   "metadata": {},
   "source": [
    "# df Probabilities"
   ]
  },
  {
   "cell_type": "code",
   "execution_count": 37,
   "metadata": {},
   "outputs": [],
   "source": [
    "describe_gmm.to_pickle('describe_gmm_gal394242_rvir.pkl')"
   ]
  },
  {
   "cell_type": "code",
   "execution_count": 38,
   "metadata": {},
   "outputs": [],
   "source": [
    "describe_gmm3.to_pickle('describe_gmm3_gal394242_rvir.pkl')"
   ]
  },
  {
   "cell_type": "code",
   "execution_count": 39,
   "metadata": {},
   "outputs": [],
   "source": [
    "describe_gmm4.to_pickle('describe_gmm4_gal394242_rvir.pkl')"
   ]
  },
  {
   "cell_type": "code",
   "execution_count": 40,
   "metadata": {},
   "outputs": [],
   "source": [
    "describe_agmm.to_pickle('describe_agmm_gal394242_rvir.pkl')"
   ]
  },
  {
   "cell_type": "code",
   "execution_count": null,
   "metadata": {},
   "outputs": [],
   "source": []
  },
  {
   "cell_type": "code",
   "execution_count": null,
   "metadata": {},
   "outputs": [],
   "source": []
  }
 ],
 "metadata": {
  "kernelspec": {
   "display_name": "Python 3",
   "language": "python",
   "name": "python3"
  },
  "language_info": {
   "codemirror_mode": {
    "name": "ipython",
    "version": 3
   },
   "file_extension": ".py",
   "mimetype": "text/x-python",
   "name": "python",
   "nbconvert_exporter": "python",
   "pygments_lexer": "ipython3",
   "version": "3.7.9"
  },
  "toc": {
   "base_numbering": 1,
   "nav_menu": {},
   "number_sections": true,
   "sideBar": true,
   "skip_h1_title": false,
   "title_cell": "Table of Contents",
   "title_sidebar": "Contents",
   "toc_cell": false,
   "toc_position": {
    "height": "calc(100% - 180px)",
    "left": "10px",
    "top": "150px",
    "width": "215px"
   },
   "toc_section_display": true,
   "toc_window_display": true
  },
  "varInspector": {
   "cols": {
    "lenName": 16,
    "lenType": 16,
    "lenVar": 40
   },
   "kernels_config": {
    "python": {
     "delete_cmd_postfix": "",
     "delete_cmd_prefix": "del ",
     "library": "var_list.py",
     "varRefreshCmd": "print(var_dic_list())"
    },
    "r": {
     "delete_cmd_postfix": ") ",
     "delete_cmd_prefix": "rm(",
     "library": "var_list.r",
     "varRefreshCmd": "cat(var_dic_list()) "
    }
   },
   "oldHeight": 122,
   "position": {
    "height": "144px",
    "left": "1333px",
    "right": "20px",
    "top": "120px",
    "width": "247px"
   },
   "types_to_exclude": [
    "module",
    "function",
    "builtin_function_or_method",
    "instance",
    "_Feature"
   ],
   "varInspector_section_display": "block",
   "window_display": false
  }
 },
 "nbformat": 4,
 "nbformat_minor": 4
}
