{
 "cells": [
  {
   "cell_type": "code",
   "execution_count": 1,
   "metadata": {},
   "outputs": [],
   "source": [
    "import h5py\n",
    "import galaxychop as gchop\n",
    "import uttr\n",
    "import attr\n",
    "import seaborn as sns\n",
    "import pandas as pd\n",
    "import matplotlib.pylab as plt\n",
    "import numpy as np"
   ]
  },
  {
   "cell_type": "markdown",
   "metadata": {},
   "source": [
    "# Leo la galaxia"
   ]
  },
  {
   "cell_type": "code",
   "execution_count": 2,
   "metadata": {},
   "outputs": [],
   "source": [
    "gal = gchop.read_hdf5(\"../galaxy-chop/tests/datasets/gal394242.h5\")"
   ]
  },
  {
   "cell_type": "code",
   "execution_count": 3,
   "metadata": {},
   "outputs": [],
   "source": [
    "gal = gchop.center(gal)\n",
    "gal = gchop.star_align(gal)"
   ]
  },
  {
   "cell_type": "code",
   "execution_count": 4,
   "metadata": {},
   "outputs": [
    {
     "data": {
      "text/html": [
       "<div>\n",
       "<style scoped>\n",
       "    .dataframe tbody tr th:only-of-type {\n",
       "        vertical-align: middle;\n",
       "    }\n",
       "\n",
       "    .dataframe tbody tr th {\n",
       "        vertical-align: top;\n",
       "    }\n",
       "\n",
       "    .dataframe thead th {\n",
       "        text-align: right;\n",
       "    }\n",
       "</style>\n",
       "<table border=\"1\" class=\"dataframe\">\n",
       "  <thead>\n",
       "    <tr style=\"text-align: right;\">\n",
       "      <th></th>\n",
       "      <th>ptype</th>\n",
       "      <th>ptypev</th>\n",
       "      <th>m</th>\n",
       "      <th>x</th>\n",
       "      <th>y</th>\n",
       "      <th>z</th>\n",
       "      <th>vx</th>\n",
       "      <th>vy</th>\n",
       "      <th>vz</th>\n",
       "      <th>softening</th>\n",
       "      <th>potential</th>\n",
       "      <th>kinetic_energy</th>\n",
       "      <th>total_energy</th>\n",
       "      <th>Jx</th>\n",
       "      <th>Jy</th>\n",
       "      <th>Jz</th>\n",
       "    </tr>\n",
       "  </thead>\n",
       "  <tbody>\n",
       "    <tr>\n",
       "      <th>0</th>\n",
       "      <td>stars</td>\n",
       "      <td>0</td>\n",
       "      <td>5.224283e+05</td>\n",
       "      <td>-0.054824</td>\n",
       "      <td>-0.063223</td>\n",
       "      <td>-0.260845</td>\n",
       "      <td>5.949678</td>\n",
       "      <td>22.550460</td>\n",
       "      <td>-6.055106</td>\n",
       "      <td>0.0</td>\n",
       "      <td>-195699.620206</td>\n",
       "      <td>290.293111</td>\n",
       "      <td>-195409.327095</td>\n",
       "      <td>6.264991</td>\n",
       "      <td>-1.883910</td>\n",
       "      <td>-0.860159</td>\n",
       "    </tr>\n",
       "    <tr>\n",
       "      <th>1</th>\n",
       "      <td>stars</td>\n",
       "      <td>0</td>\n",
       "      <td>9.745897e+05</td>\n",
       "      <td>-0.161120</td>\n",
       "      <td>-0.127723</td>\n",
       "      <td>-0.177528</td>\n",
       "      <td>21.909445</td>\n",
       "      <td>8.321999</td>\n",
       "      <td>-0.535136</td>\n",
       "      <td>0.0</td>\n",
       "      <td>-196176.962277</td>\n",
       "      <td>274.782915</td>\n",
       "      <td>-195902.179362</td>\n",
       "      <td>1.545736</td>\n",
       "      <td>-3.975758</td>\n",
       "      <td>1.457514</td>\n",
       "    </tr>\n",
       "    <tr>\n",
       "      <th>2</th>\n",
       "      <td>stars</td>\n",
       "      <td>0</td>\n",
       "      <td>6.935776e+05</td>\n",
       "      <td>-0.256088</td>\n",
       "      <td>-0.165705</td>\n",
       "      <td>-0.196836</td>\n",
       "      <td>-9.493458</td>\n",
       "      <td>7.263093</td>\n",
       "      <td>15.637166</td>\n",
       "      <td>0.0</td>\n",
       "      <td>-195152.120168</td>\n",
       "      <td>193.699612</td>\n",
       "      <td>-194958.420557</td>\n",
       "      <td>-1.161512</td>\n",
       "      <td>5.873138</td>\n",
       "      <td>-3.433097</td>\n",
       "    </tr>\n",
       "    <tr>\n",
       "      <th>3</th>\n",
       "      <td>stars</td>\n",
       "      <td>0</td>\n",
       "      <td>1.070959e+06</td>\n",
       "      <td>-0.235092</td>\n",
       "      <td>-0.256281</td>\n",
       "      <td>-0.369501</td>\n",
       "      <td>-9.675913</td>\n",
       "      <td>-5.471289</td>\n",
       "      <td>-0.817244</td>\n",
       "      <td>0.0</td>\n",
       "      <td>-194695.767625</td>\n",
       "      <td>62.113089</td>\n",
       "      <td>-194633.654536</td>\n",
       "      <td>-1.812200</td>\n",
       "      <td>3.383127</td>\n",
       "      <td>-1.193495</td>\n",
       "    </tr>\n",
       "    <tr>\n",
       "      <th>4</th>\n",
       "      <td>stars</td>\n",
       "      <td>0</td>\n",
       "      <td>6.013803e+05</td>\n",
       "      <td>-0.076621</td>\n",
       "      <td>-0.199932</td>\n",
       "      <td>-0.282408</td>\n",
       "      <td>16.533770</td>\n",
       "      <td>8.094719</td>\n",
       "      <td>-17.010778</td>\n",
       "      <td>0.0</td>\n",
       "      <td>-195703.942688</td>\n",
       "      <td>314.128285</td>\n",
       "      <td>-195389.814402</td>\n",
       "      <td>5.687005</td>\n",
       "      <td>-5.972652</td>\n",
       "      <td>2.685397</td>\n",
       "    </tr>\n",
       "    <tr>\n",
       "      <th>...</th>\n",
       "      <td>...</td>\n",
       "      <td>...</td>\n",
       "      <td>...</td>\n",
       "      <td>...</td>\n",
       "      <td>...</td>\n",
       "      <td>...</td>\n",
       "      <td>...</td>\n",
       "      <td>...</td>\n",
       "      <td>...</td>\n",
       "      <td>...</td>\n",
       "      <td>...</td>\n",
       "      <td>...</td>\n",
       "      <td>...</td>\n",
       "      <td>...</td>\n",
       "      <td>...</td>\n",
       "      <td>...</td>\n",
       "    </tr>\n",
       "    <tr>\n",
       "      <th>57279</th>\n",
       "      <td>gas</td>\n",
       "      <td>2</td>\n",
       "      <td>1.400046e+06</td>\n",
       "      <td>-2.245883</td>\n",
       "      <td>2.358065</td>\n",
       "      <td>-8.389589</td>\n",
       "      <td>-18.031673</td>\n",
       "      <td>34.561220</td>\n",
       "      <td>-269.322856</td>\n",
       "      <td>0.0</td>\n",
       "      <td>-129252.826165</td>\n",
       "      <td>37027.209909</td>\n",
       "      <td>-92225.616256</td>\n",
       "      <td>-345.126246</td>\n",
       "      <td>-453.589180</td>\n",
       "      <td>-35.100593</td>\n",
       "    </tr>\n",
       "    <tr>\n",
       "      <th>57280</th>\n",
       "      <td>gas</td>\n",
       "      <td>2</td>\n",
       "      <td>1.375867e+06</td>\n",
       "      <td>-1.333431</td>\n",
       "      <td>2.056292</td>\n",
       "      <td>8.098147</td>\n",
       "      <td>-3.554033</td>\n",
       "      <td>-10.650944</td>\n",
       "      <td>275.247567</td>\n",
       "      <td>0.0</td>\n",
       "      <td>-129835.893336</td>\n",
       "      <td>37943.648417</td>\n",
       "      <td>-91892.244919</td>\n",
       "      <td>652.242363</td>\n",
       "      <td>338.242612</td>\n",
       "      <td>21.510432</td>\n",
       "    </tr>\n",
       "    <tr>\n",
       "      <th>57281</th>\n",
       "      <td>gas</td>\n",
       "      <td>2</td>\n",
       "      <td>9.908498e+05</td>\n",
       "      <td>-9.278659</td>\n",
       "      <td>-0.275191</td>\n",
       "      <td>2.774880</td>\n",
       "      <td>-147.978426</td>\n",
       "      <td>-203.402319</td>\n",
       "      <td>73.776431</td>\n",
       "      <td>0.0</td>\n",
       "      <td>-132966.102621</td>\n",
       "      <td>34356.539847</td>\n",
       "      <td>-98609.562774</td>\n",
       "      <td>544.114355</td>\n",
       "      <td>273.923985</td>\n",
       "      <td>1846.578340</td>\n",
       "    </tr>\n",
       "    <tr>\n",
       "      <th>57282</th>\n",
       "      <td>gas</td>\n",
       "      <td>2</td>\n",
       "      <td>1.456959e+06</td>\n",
       "      <td>-5.980264</td>\n",
       "      <td>5.097995</td>\n",
       "      <td>4.875443</td>\n",
       "      <td>-192.738278</td>\n",
       "      <td>87.675395</td>\n",
       "      <td>217.206835</td>\n",
       "      <td>0.0</td>\n",
       "      <td>-132205.106762</td>\n",
       "      <td>46006.913910</td>\n",
       "      <td>-86198.192853</td>\n",
       "      <td>679.862938</td>\n",
       "      <td>359.269707</td>\n",
       "      <td>458.256750</td>\n",
       "    </tr>\n",
       "    <tr>\n",
       "      <th>57283</th>\n",
       "      <td>gas</td>\n",
       "      <td>2</td>\n",
       "      <td>1.760536e+06</td>\n",
       "      <td>-5.240137</td>\n",
       "      <td>4.431657</td>\n",
       "      <td>7.069547</td>\n",
       "      <td>-177.148123</td>\n",
       "      <td>67.554509</td>\n",
       "      <td>285.098894</td>\n",
       "      <td>0.0</td>\n",
       "      <td>-127609.955549</td>\n",
       "      <td>58613.224160</td>\n",
       "      <td>-68996.731389</td>\n",
       "      <td>785.880822</td>\n",
       "      <td>241.600238</td>\n",
       "      <td>431.064902</td>\n",
       "    </tr>\n",
       "  </tbody>\n",
       "</table>\n",
       "<p>57284 rows × 16 columns</p>\n",
       "</div>"
      ],
      "text/plain": [
       "       ptype  ptypev             m         x         y         z          vx  \\\n",
       "0      stars       0  5.224283e+05 -0.054824 -0.063223 -0.260845    5.949678   \n",
       "1      stars       0  9.745897e+05 -0.161120 -0.127723 -0.177528   21.909445   \n",
       "2      stars       0  6.935776e+05 -0.256088 -0.165705 -0.196836   -9.493458   \n",
       "3      stars       0  1.070959e+06 -0.235092 -0.256281 -0.369501   -9.675913   \n",
       "4      stars       0  6.013803e+05 -0.076621 -0.199932 -0.282408   16.533770   \n",
       "...      ...     ...           ...       ...       ...       ...         ...   \n",
       "57279    gas       2  1.400046e+06 -2.245883  2.358065 -8.389589  -18.031673   \n",
       "57280    gas       2  1.375867e+06 -1.333431  2.056292  8.098147   -3.554033   \n",
       "57281    gas       2  9.908498e+05 -9.278659 -0.275191  2.774880 -147.978426   \n",
       "57282    gas       2  1.456959e+06 -5.980264  5.097995  4.875443 -192.738278   \n",
       "57283    gas       2  1.760536e+06 -5.240137  4.431657  7.069547 -177.148123   \n",
       "\n",
       "               vy          vz  softening      potential  kinetic_energy  \\\n",
       "0       22.550460   -6.055106        0.0 -195699.620206      290.293111   \n",
       "1        8.321999   -0.535136        0.0 -196176.962277      274.782915   \n",
       "2        7.263093   15.637166        0.0 -195152.120168      193.699612   \n",
       "3       -5.471289   -0.817244        0.0 -194695.767625       62.113089   \n",
       "4        8.094719  -17.010778        0.0 -195703.942688      314.128285   \n",
       "...           ...         ...        ...            ...             ...   \n",
       "57279   34.561220 -269.322856        0.0 -129252.826165    37027.209909   \n",
       "57280  -10.650944  275.247567        0.0 -129835.893336    37943.648417   \n",
       "57281 -203.402319   73.776431        0.0 -132966.102621    34356.539847   \n",
       "57282   87.675395  217.206835        0.0 -132205.106762    46006.913910   \n",
       "57283   67.554509  285.098894        0.0 -127609.955549    58613.224160   \n",
       "\n",
       "        total_energy          Jx          Jy           Jz  \n",
       "0     -195409.327095    6.264991   -1.883910    -0.860159  \n",
       "1     -195902.179362    1.545736   -3.975758     1.457514  \n",
       "2     -194958.420557   -1.161512    5.873138    -3.433097  \n",
       "3     -194633.654536   -1.812200    3.383127    -1.193495  \n",
       "4     -195389.814402    5.687005   -5.972652     2.685397  \n",
       "...              ...         ...         ...          ...  \n",
       "57279  -92225.616256 -345.126246 -453.589180   -35.100593  \n",
       "57280  -91892.244919  652.242363  338.242612    21.510432  \n",
       "57281  -98609.562774  544.114355  273.923985  1846.578340  \n",
       "57282  -86198.192853  679.862938  359.269707   458.256750  \n",
       "57283  -68996.731389  785.880822  241.600238   431.064902  \n",
       "\n",
       "[57284 rows x 16 columns]"
      ]
     },
     "execution_count": 4,
     "metadata": {},
     "output_type": "execute_result"
    }
   ],
   "source": [
    "gal.to_dataframe()"
   ]
  },
  {
   "cell_type": "code",
   "execution_count": 5,
   "metadata": {},
   "outputs": [],
   "source": [
    "dfs = pd.read_pickle('df_stars.pkl')"
   ]
  },
  {
   "cell_type": "code",
   "execution_count": 6,
   "metadata": {},
   "outputs": [
    {
     "name": "stdout",
     "output_type": "stream",
     "text": [
      "32067\n",
      "32067\n"
     ]
    }
   ],
   "source": [
    "print(len(gal.stars.x))\n",
    "print(len(dfs.lab_th))"
   ]
  },
  {
   "cell_type": "code",
   "execution_count": 7,
   "metadata": {},
   "outputs": [
    {
     "data": {
      "text/html": [
       "<div>\n",
       "<style scoped>\n",
       "    .dataframe tbody tr th:only-of-type {\n",
       "        vertical-align: middle;\n",
       "    }\n",
       "\n",
       "    .dataframe tbody tr th {\n",
       "        vertical-align: top;\n",
       "    }\n",
       "\n",
       "    .dataframe thead th {\n",
       "        text-align: right;\n",
       "    }\n",
       "</style>\n",
       "<table border=\"1\" class=\"dataframe\">\n",
       "  <thead>\n",
       "    <tr style=\"text-align: right;\">\n",
       "      <th></th>\n",
       "      <th>ptype</th>\n",
       "      <th>ptypev</th>\n",
       "      <th>m</th>\n",
       "      <th>x</th>\n",
       "      <th>y</th>\n",
       "      <th>z</th>\n",
       "      <th>vx</th>\n",
       "      <th>vy</th>\n",
       "      <th>vz</th>\n",
       "      <th>softening</th>\n",
       "      <th>...</th>\n",
       "      <th>lab_th</th>\n",
       "      <th>lab_ab</th>\n",
       "      <th>lab_cr</th>\n",
       "      <th>lab_km</th>\n",
       "      <th>lab_km3</th>\n",
       "      <th>lab_km4</th>\n",
       "      <th>lab_gmm</th>\n",
       "      <th>lab_gmm3</th>\n",
       "      <th>lab_gmm4</th>\n",
       "      <th>lab_agmm</th>\n",
       "    </tr>\n",
       "  </thead>\n",
       "  <tbody>\n",
       "    <tr>\n",
       "      <th>0</th>\n",
       "      <td>stars</td>\n",
       "      <td>0</td>\n",
       "      <td>5.224283e+05</td>\n",
       "      <td>-0.054824</td>\n",
       "      <td>-0.063223</td>\n",
       "      <td>-0.260845</td>\n",
       "      <td>5.949678</td>\n",
       "      <td>22.550460</td>\n",
       "      <td>-6.055106</td>\n",
       "      <td>0.0</td>\n",
       "      <td>...</td>\n",
       "      <td>0.0</td>\n",
       "      <td>0.0</td>\n",
       "      <td>0.0</td>\n",
       "      <td>0.0</td>\n",
       "      <td>1.0</td>\n",
       "      <td>2.0</td>\n",
       "      <td>0.0</td>\n",
       "      <td>2.0</td>\n",
       "      <td>1.0</td>\n",
       "      <td>1.0</td>\n",
       "    </tr>\n",
       "    <tr>\n",
       "      <th>1</th>\n",
       "      <td>stars</td>\n",
       "      <td>0</td>\n",
       "      <td>9.745897e+05</td>\n",
       "      <td>-0.161120</td>\n",
       "      <td>-0.127723</td>\n",
       "      <td>-0.177528</td>\n",
       "      <td>21.909445</td>\n",
       "      <td>8.321999</td>\n",
       "      <td>-0.535136</td>\n",
       "      <td>0.0</td>\n",
       "      <td>...</td>\n",
       "      <td>0.0</td>\n",
       "      <td>1.0</td>\n",
       "      <td>1.0</td>\n",
       "      <td>0.0</td>\n",
       "      <td>2.0</td>\n",
       "      <td>3.0</td>\n",
       "      <td>0.0</td>\n",
       "      <td>2.0</td>\n",
       "      <td>1.0</td>\n",
       "      <td>1.0</td>\n",
       "    </tr>\n",
       "    <tr>\n",
       "      <th>2</th>\n",
       "      <td>stars</td>\n",
       "      <td>0</td>\n",
       "      <td>6.935776e+05</td>\n",
       "      <td>-0.256088</td>\n",
       "      <td>-0.165705</td>\n",
       "      <td>-0.196836</td>\n",
       "      <td>-9.493458</td>\n",
       "      <td>7.263093</td>\n",
       "      <td>15.637166</td>\n",
       "      <td>0.0</td>\n",
       "      <td>...</td>\n",
       "      <td>0.0</td>\n",
       "      <td>0.0</td>\n",
       "      <td>0.0</td>\n",
       "      <td>0.0</td>\n",
       "      <td>1.0</td>\n",
       "      <td>2.0</td>\n",
       "      <td>0.0</td>\n",
       "      <td>2.0</td>\n",
       "      <td>1.0</td>\n",
       "      <td>1.0</td>\n",
       "    </tr>\n",
       "    <tr>\n",
       "      <th>3</th>\n",
       "      <td>stars</td>\n",
       "      <td>0</td>\n",
       "      <td>1.070959e+06</td>\n",
       "      <td>-0.235092</td>\n",
       "      <td>-0.256281</td>\n",
       "      <td>-0.369501</td>\n",
       "      <td>-9.675913</td>\n",
       "      <td>-5.471289</td>\n",
       "      <td>-0.817244</td>\n",
       "      <td>0.0</td>\n",
       "      <td>...</td>\n",
       "      <td>0.0</td>\n",
       "      <td>0.0</td>\n",
       "      <td>0.0</td>\n",
       "      <td>0.0</td>\n",
       "      <td>1.0</td>\n",
       "      <td>2.0</td>\n",
       "      <td>0.0</td>\n",
       "      <td>2.0</td>\n",
       "      <td>1.0</td>\n",
       "      <td>1.0</td>\n",
       "    </tr>\n",
       "    <tr>\n",
       "      <th>4</th>\n",
       "      <td>stars</td>\n",
       "      <td>0</td>\n",
       "      <td>6.013803e+05</td>\n",
       "      <td>-0.076621</td>\n",
       "      <td>-0.199932</td>\n",
       "      <td>-0.282408</td>\n",
       "      <td>16.533770</td>\n",
       "      <td>8.094719</td>\n",
       "      <td>-17.010778</td>\n",
       "      <td>0.0</td>\n",
       "      <td>...</td>\n",
       "      <td>0.0</td>\n",
       "      <td>0.0</td>\n",
       "      <td>1.0</td>\n",
       "      <td>0.0</td>\n",
       "      <td>2.0</td>\n",
       "      <td>3.0</td>\n",
       "      <td>0.0</td>\n",
       "      <td>2.0</td>\n",
       "      <td>1.0</td>\n",
       "      <td>1.0</td>\n",
       "    </tr>\n",
       "    <tr>\n",
       "      <th>...</th>\n",
       "      <td>...</td>\n",
       "      <td>...</td>\n",
       "      <td>...</td>\n",
       "      <td>...</td>\n",
       "      <td>...</td>\n",
       "      <td>...</td>\n",
       "      <td>...</td>\n",
       "      <td>...</td>\n",
       "      <td>...</td>\n",
       "      <td>...</td>\n",
       "      <td>...</td>\n",
       "      <td>...</td>\n",
       "      <td>...</td>\n",
       "      <td>...</td>\n",
       "      <td>...</td>\n",
       "      <td>...</td>\n",
       "      <td>...</td>\n",
       "      <td>...</td>\n",
       "      <td>...</td>\n",
       "      <td>...</td>\n",
       "      <td>...</td>\n",
       "    </tr>\n",
       "    <tr>\n",
       "      <th>32062</th>\n",
       "      <td>stars</td>\n",
       "      <td>0</td>\n",
       "      <td>1.343808e+06</td>\n",
       "      <td>15.394374</td>\n",
       "      <td>-13.615094</td>\n",
       "      <td>0.149480</td>\n",
       "      <td>249.650695</td>\n",
       "      <td>244.472680</td>\n",
       "      <td>-41.765153</td>\n",
       "      <td>0.0</td>\n",
       "      <td>...</td>\n",
       "      <td>1.0</td>\n",
       "      <td>1.0</td>\n",
       "      <td>1.0</td>\n",
       "      <td>1.0</td>\n",
       "      <td>0.0</td>\n",
       "      <td>0.0</td>\n",
       "      <td>1.0</td>\n",
       "      <td>0.0</td>\n",
       "      <td>0.0</td>\n",
       "      <td>2.0</td>\n",
       "    </tr>\n",
       "    <tr>\n",
       "      <th>32063</th>\n",
       "      <td>stars</td>\n",
       "      <td>0</td>\n",
       "      <td>7.382408e+05</td>\n",
       "      <td>-7.436244</td>\n",
       "      <td>16.466565</td>\n",
       "      <td>-0.735001</td>\n",
       "      <td>-267.224099</td>\n",
       "      <td>281.248845</td>\n",
       "      <td>-52.902787</td>\n",
       "      <td>0.0</td>\n",
       "      <td>...</td>\n",
       "      <td>0.0</td>\n",
       "      <td>1.0</td>\n",
       "      <td>1.0</td>\n",
       "      <td>1.0</td>\n",
       "      <td>2.0</td>\n",
       "      <td>1.0</td>\n",
       "      <td>0.0</td>\n",
       "      <td>1.0</td>\n",
       "      <td>2.0</td>\n",
       "      <td>0.0</td>\n",
       "    </tr>\n",
       "    <tr>\n",
       "      <th>32064</th>\n",
       "      <td>stars</td>\n",
       "      <td>0</td>\n",
       "      <td>6.786477e+05</td>\n",
       "      <td>15.171295</td>\n",
       "      <td>-10.470204</td>\n",
       "      <td>-6.430860</td>\n",
       "      <td>-353.009725</td>\n",
       "      <td>159.227328</td>\n",
       "      <td>-72.137340</td>\n",
       "      <td>0.0</td>\n",
       "      <td>...</td>\n",
       "      <td>0.0</td>\n",
       "      <td>0.0</td>\n",
       "      <td>0.0</td>\n",
       "      <td>0.0</td>\n",
       "      <td>1.0</td>\n",
       "      <td>2.0</td>\n",
       "      <td>0.0</td>\n",
       "      <td>1.0</td>\n",
       "      <td>2.0</td>\n",
       "      <td>1.0</td>\n",
       "    </tr>\n",
       "    <tr>\n",
       "      <th>32065</th>\n",
       "      <td>stars</td>\n",
       "      <td>0</td>\n",
       "      <td>8.290853e+05</td>\n",
       "      <td>14.695170</td>\n",
       "      <td>15.612993</td>\n",
       "      <td>-5.270562</td>\n",
       "      <td>-4.742671</td>\n",
       "      <td>263.201137</td>\n",
       "      <td>314.186911</td>\n",
       "      <td>0.0</td>\n",
       "      <td>...</td>\n",
       "      <td>0.0</td>\n",
       "      <td>1.0</td>\n",
       "      <td>1.0</td>\n",
       "      <td>1.0</td>\n",
       "      <td>2.0</td>\n",
       "      <td>3.0</td>\n",
       "      <td>0.0</td>\n",
       "      <td>1.0</td>\n",
       "      <td>2.0</td>\n",
       "      <td>1.0</td>\n",
       "    </tr>\n",
       "    <tr>\n",
       "      <th>32066</th>\n",
       "      <td>stars</td>\n",
       "      <td>0</td>\n",
       "      <td>1.356703e+06</td>\n",
       "      <td>13.636680</td>\n",
       "      <td>-8.775981</td>\n",
       "      <td>3.246192</td>\n",
       "      <td>163.701851</td>\n",
       "      <td>381.281432</td>\n",
       "      <td>-157.047679</td>\n",
       "      <td>0.0</td>\n",
       "      <td>...</td>\n",
       "      <td>1.0</td>\n",
       "      <td>1.0</td>\n",
       "      <td>1.0</td>\n",
       "      <td>1.0</td>\n",
       "      <td>0.0</td>\n",
       "      <td>0.0</td>\n",
       "      <td>0.0</td>\n",
       "      <td>1.0</td>\n",
       "      <td>3.0</td>\n",
       "      <td>0.0</td>\n",
       "    </tr>\n",
       "  </tbody>\n",
       "</table>\n",
       "<p>32067 rows × 26 columns</p>\n",
       "</div>"
      ],
      "text/plain": [
       "       ptype  ptypev             m          x          y         z  \\\n",
       "0      stars       0  5.224283e+05  -0.054824  -0.063223 -0.260845   \n",
       "1      stars       0  9.745897e+05  -0.161120  -0.127723 -0.177528   \n",
       "2      stars       0  6.935776e+05  -0.256088  -0.165705 -0.196836   \n",
       "3      stars       0  1.070959e+06  -0.235092  -0.256281 -0.369501   \n",
       "4      stars       0  6.013803e+05  -0.076621  -0.199932 -0.282408   \n",
       "...      ...     ...           ...        ...        ...       ...   \n",
       "32062  stars       0  1.343808e+06  15.394374 -13.615094  0.149480   \n",
       "32063  stars       0  7.382408e+05  -7.436244  16.466565 -0.735001   \n",
       "32064  stars       0  6.786477e+05  15.171295 -10.470204 -6.430860   \n",
       "32065  stars       0  8.290853e+05  14.695170  15.612993 -5.270562   \n",
       "32066  stars       0  1.356703e+06  13.636680  -8.775981  3.246192   \n",
       "\n",
       "               vx          vy          vz  softening  ...  lab_th  lab_ab  \\\n",
       "0        5.949678   22.550460   -6.055106        0.0  ...     0.0     0.0   \n",
       "1       21.909445    8.321999   -0.535136        0.0  ...     0.0     1.0   \n",
       "2       -9.493458    7.263093   15.637166        0.0  ...     0.0     0.0   \n",
       "3       -9.675913   -5.471289   -0.817244        0.0  ...     0.0     0.0   \n",
       "4       16.533770    8.094719  -17.010778        0.0  ...     0.0     0.0   \n",
       "...           ...         ...         ...        ...  ...     ...     ...   \n",
       "32062  249.650695  244.472680  -41.765153        0.0  ...     1.0     1.0   \n",
       "32063 -267.224099  281.248845  -52.902787        0.0  ...     0.0     1.0   \n",
       "32064 -353.009725  159.227328  -72.137340        0.0  ...     0.0     0.0   \n",
       "32065   -4.742671  263.201137  314.186911        0.0  ...     0.0     1.0   \n",
       "32066  163.701851  381.281432 -157.047679        0.0  ...     1.0     1.0   \n",
       "\n",
       "       lab_cr  lab_km  lab_km3  lab_km4  lab_gmm  lab_gmm3  lab_gmm4  lab_agmm  \n",
       "0         0.0     0.0      1.0      2.0      0.0       2.0       1.0       1.0  \n",
       "1         1.0     0.0      2.0      3.0      0.0       2.0       1.0       1.0  \n",
       "2         0.0     0.0      1.0      2.0      0.0       2.0       1.0       1.0  \n",
       "3         0.0     0.0      1.0      2.0      0.0       2.0       1.0       1.0  \n",
       "4         1.0     0.0      2.0      3.0      0.0       2.0       1.0       1.0  \n",
       "...       ...     ...      ...      ...      ...       ...       ...       ...  \n",
       "32062     1.0     1.0      0.0      0.0      1.0       0.0       0.0       2.0  \n",
       "32063     1.0     1.0      2.0      1.0      0.0       1.0       2.0       0.0  \n",
       "32064     0.0     0.0      1.0      2.0      0.0       1.0       2.0       1.0  \n",
       "32065     1.0     1.0      2.0      3.0      0.0       1.0       2.0       1.0  \n",
       "32066     1.0     1.0      0.0      0.0      0.0       1.0       3.0       0.0  \n",
       "\n",
       "[32067 rows x 26 columns]"
      ]
     },
     "execution_count": 7,
     "metadata": {},
     "output_type": "execute_result"
    }
   ],
   "source": [
    "dfs"
   ]
  },
  {
   "cell_type": "code",
   "execution_count": 8,
   "metadata": {},
   "outputs": [
    {
     "data": {
      "text/plain": [
       "ptype               0\n",
       "ptypev              0\n",
       "m                   0\n",
       "x                   0\n",
       "y                   0\n",
       "z                   0\n",
       "vx                  0\n",
       "vy                  0\n",
       "vz                  0\n",
       "softening           0\n",
       "potential           0\n",
       "kinetic_energy      0\n",
       "total_energy        0\n",
       "Jx                  0\n",
       "Jy                  0\n",
       "Jz                  0\n",
       "lab_th            164\n",
       "lab_ab            164\n",
       "lab_cr            164\n",
       "lab_km            164\n",
       "lab_km3           164\n",
       "lab_km4           164\n",
       "lab_gmm           164\n",
       "lab_gmm3          164\n",
       "lab_gmm4          164\n",
       "lab_agmm          164\n",
       "dtype: int64"
      ]
     },
     "execution_count": 8,
     "metadata": {},
     "output_type": "execute_result"
    }
   ],
   "source": [
    "dfs.isnull().sum()"
   ]
  },
  {
   "cell_type": "code",
   "execution_count": 9,
   "metadata": {},
   "outputs": [
    {
     "name": "stdout",
     "output_type": "stream",
     "text": [
      "31903\n"
     ]
    }
   ],
   "source": [
    "dfs2 = dfs[dfs['lab_th'].notna()]\n",
    "print(len(dfs2.lab_th))"
   ]
  },
  {
   "cell_type": "markdown",
   "metadata": {},
   "source": [
    "# Analisis Confusion Matrix (% Particulas)"
   ]
  },
  {
   "cell_type": "code",
   "execution_count": 10,
   "metadata": {},
   "outputs": [],
   "source": [
    "from sklearn.metrics import confusion_matrix\n",
    "from sklearn.metrics import plot_confusion_matrix"
   ]
  },
  {
   "cell_type": "markdown",
   "metadata": {},
   "source": [
    "## Abadi vs Threshold"
   ]
  },
  {
   "cell_type": "code",
   "execution_count": 11,
   "metadata": {},
   "outputs": [],
   "source": [
    "#sklearn.metrics.confusion_matrix(y_true, y_pred, *, labels=None, sample_weight=None, normalize=None)\n",
    "y_true=dfs2.lab_ab\n",
    "y_pred=dfs2.lab_th\n",
    "cm = confusion_matrix(y_true, y_pred)\n",
    "cm_per = cm*100/len(y_true)"
   ]
  },
  {
   "cell_type": "code",
   "execution_count": 12,
   "metadata": {},
   "outputs": [
    {
     "data": {
      "image/png": "[encoded data removed]",
      "text/plain": [
       "<Figure size 432x288 with 2 Axes>"
      ]
     },
     "metadata": {
      "needs_background": "light"
     },
     "output_type": "display_data"
    }
   ],
   "source": [
    "ax= plt.subplot()\n",
    "#sns.heatmap(cm,annot=True, cmap='binary', fmt='g', ax=ax)\n",
    "sns.heatmap(cm_per,annot=True, cmap='binary', fmt='.1f', vmin=0, vmax=100, center=50, ax=ax)\n",
    "for t in ax.texts: t.set_text(t.get_text() + \" %\")\n",
    "    \n",
    "ax.set_xlabel('Predicted labels: Threshold Model');ax.set_ylabel('True labels: Abadi Model'); \n",
    "ax.set_title('Confusion Matrix'); \n",
    "ax.xaxis.set_ticklabels(['Bulge', 'Disk']); ax.yaxis.set_ticklabels(['Bulge', 'Disk']);"
   ]
  },
  {
   "cell_type": "code",
   "execution_count": 13,
   "metadata": {},
   "outputs": [
    {
     "data": {
      "image/png": "[encoded data removed]",
      "text/plain": [
       "<Figure size 432x288 with 2 Axes>"
      ]
     },
     "metadata": {
      "needs_background": "light"
     },
     "output_type": "display_data"
    }
   ],
   "source": [
    "y_tue=dfs2.lab_th\n",
    "y_pred=dfs2.lab_ab\n",
    "cm = confusion_matrix(y_true, y_pred)\n",
    "cm_per = cm*100/len(y_true)\n",
    "\n",
    "ax= plt.subplot()\n",
    "#sns.heatmap(cm,annot=True, cmap='binary', fmt='g', ax=ax)\n",
    "sns.heatmap(cm_per,annot=True, cmap='binary', fmt='.1f', ax=ax)\n",
    "for t in ax.texts: t.set_text(t.get_text() + \" %\")\n",
    "    \n",
    "ax.set_xlabel('Predicted labels: Abadi Model');ax.set_ylabel('True labels: Threshold Model'); \n",
    "ax.set_title('Confusion Matrix'); \n",
    "ax.xaxis.set_ticklabels(['Bulge', 'Disk']); ax.yaxis.set_ticklabels(['Bulge', 'Disk']);"
   ]
  },
  {
   "cell_type": "code",
   "execution_count": 14,
   "metadata": {},
   "outputs": [
    {
     "data": {
      "text/plain": [
       "<AxesSubplot:xlabel='eps', ylabel='Density'>"
      ]
     },
     "execution_count": 14,
     "metadata": {},
     "output_type": "execute_result"
    },
    {
     "data": {
      "image/png": "[encoded data removed]",
      "text/plain": [
       "<Figure size 432x288 with 1 Axes>"
      ]
     },
     "metadata": {
      "needs_background": "light"
     },
     "output_type": "display_data"
    }
   ],
   "source": [
    "gal.plot.circ_kde(\"eps\",labels=dfs2.lab_gmm)"
   ]
  },
  {
   "cell_type": "markdown",
   "metadata": {},
   "source": [
    "## Abadi vs KMeans"
   ]
  },
  {
   "cell_type": "code",
   "execution_count": 15,
   "metadata": {},
   "outputs": [
    {
     "data": {
      "image/png": "[encoded data removed]",
      "text/plain": [
       "<Figure size 432x288 with 2 Axes>"
      ]
     },
     "metadata": {
      "needs_background": "light"
     },
     "output_type": "display_data"
    }
   ],
   "source": [
    "#sklearn.metrics.confusion_matrix(y_true, y_pred, *, labels=None, sample_weight=None, normalize=None)\n",
    "y_true=dfs2.lab_ab\n",
    "y_pred=dfs2.lab_km\n",
    "cm = confusion_matrix(y_true, y_pred)\n",
    "cm_per = cm*100/len(y_true)\n",
    "ax= plt.subplot()\n",
    "#sns.heatmap(cm,annot=True, cmap='binary', fmt='g', ax=ax)\n",
    "sns.heatmap(cm_per,annot=True, cmap='binary', fmt='.1f', ax=ax)\n",
    "for t in ax.texts: t.set_text(t.get_text() + \" %\")\n",
    "    \n",
    "ax.set_xlabel('Predicted labels: KMeans Model');ax.set_ylabel('True labels: Abadi Model'); \n",
    "ax.set_title('Confusion Matrix'); \n",
    "ax.xaxis.set_ticklabels(['Bulge', 'Disk'])\n",
    "ax.yaxis.set_ticklabels(['Bulge', 'Disk']);"
   ]
  },
  {
   "cell_type": "code",
   "execution_count": null,
   "metadata": {},
   "outputs": [],
   "source": []
  },
  {
   "cell_type": "markdown",
   "metadata": {},
   "source": [
    "## Abadi vs JE-Histogram (Critiani)"
   ]
  },
  {
   "cell_type": "code",
   "execution_count": 16,
   "metadata": {},
   "outputs": [
    {
     "data": {
      "image/png": "[encoded data removed]",
      "text/plain": [
       "<Figure size 432x288 with 2 Axes>"
      ]
     },
     "metadata": {
      "needs_background": "light"
     },
     "output_type": "display_data"
    }
   ],
   "source": [
    "#sklearn.metrics.confusion_matrix(y_true, y_pred, *, labels=None, sample_weight=None, normalize=None)\n",
    "y_true=dfs2.lab_ab\n",
    "y_pred=dfs2.lab_cr\n",
    "cm = confusion_matrix(y_true, y_pred)\n",
    "cm_per = cm*100/len(y_true)\n",
    "\n",
    "ax= plt.subplot()\n",
    "#sns.heatmap(cm,annot=True, cmap='binary', fmt='g', ax=ax)\n",
    "sns.heatmap(cm_per,annot=True, cmap='binary', fmt='.1f', ax=ax)\n",
    "for t in ax.texts: t.set_text(t.get_text() + \" %\")\n",
    "    \n",
    "ax.set_xlabel('Predicted labels: JEHistogram Model');ax.set_ylabel('True labels: Abadi Model'); \n",
    "ax.set_title('Confusion Matrix'); \n",
    "ax.xaxis.set_ticklabels(['Bulge', 'Disk']); ax.yaxis.set_ticklabels(['Bulge', 'Disk']);"
   ]
  },
  {
   "cell_type": "markdown",
   "metadata": {},
   "source": [
    "## Confusion Materix All models (2 components)"
   ]
  },
  {
   "cell_type": "code",
   "execution_count": 17,
   "metadata": {},
   "outputs": [
    {
     "data": {
      "text/plain": [
       "<matplotlib.colorbar.Colorbar at 0x7f697a24b5b0>"
      ]
     },
     "execution_count": 17,
     "metadata": {},
     "output_type": "execute_result"
    },
    {
     "data": {
      "image/png": "[encoded data removed]",
      "text/plain": [
       "<Figure size 432x288 with 17 Axes>"
      ]
     },
     "metadata": {
      "needs_background": "light"
     },
     "output_type": "display_data"
    }
   ],
   "source": [
    "def plotter(y_true,y_pred,ax):\n",
    "    #y_true=dfs2.lab_ab; y_pred=dfs2.lab_ab\n",
    "    cm = confusion_matrix(y_true, y_pred); cm_per = cm*100/len(y_true)\n",
    "    sns.heatmap(cm_per,annot=True, cmap='binary', fmt='.1f', annot_kws={\"size\": 7},\n",
    "                vmin=0, vmax=100, center=50, cbar=False, ax=ax)\n",
    "    for t in ax.texts: t.set_text(t.get_text() + \" %\")\n",
    "    return ax\n",
    "\n",
    "\n",
    "\n",
    "fig,axes = plt.subplots(4, 4, sharex=True, sharey=True)\n",
    "fig.subplots_adjust(hspace=0.4,wspace=0.4)\n",
    "#axes\n",
    "ax1=axes[0,0]; ax2=axes[0,1]; ax3=axes[0,2]; ax4=axes[0,3]#; ax5=axes[0,4]\n",
    "ax6=axes[1,0]; ax7=axes[1,1]; ax8=axes[1,2]; ax9=axes[1,3]#; ax10=axes[1,4]\n",
    "ax11=axes[2,0]; ax12=axes[2,1]; ax13=axes[2,2]; ax14=axes[2,3]#; ax15=axes[2,4]\n",
    "ax16=axes[3,0]; ax17=axes[3,1]; ax18=axes[3,2]; ax19=axes[3,3]#; ax20=axes[3,4]\n",
    "#ax21=axes[4,0]; ax22=axes[4,1]; ax23=axes[4,2]; ax24=axes[4,3]; ax25=axes[4,4]\n",
    "\n",
    "############ Fila 1 ##############################    \n",
    "y_true=dfs2.lab_ab; y_pred=dfs2.lab_ab\n",
    "plotter(y_true, y_pred, ax1)\n",
    "\n",
    "y_true=dfs2.lab_ab; y_pred=dfs2.lab_th\n",
    "plotter(y_true, y_pred, ax2)\n",
    "\n",
    "y_true=dfs2.lab_ab; y_pred=dfs2.lab_cr\n",
    "plotter(y_true, y_pred, ax3)\n",
    "    \n",
    "y_true=dfs2.lab_ab; y_pred=dfs2.lab_km\n",
    "plotter(y_true, y_pred, ax4)\n",
    "\n",
    "\n",
    "############ Fila 2 ############################## \n",
    "y_true=dfs2.lab_th; y_pred=dfs2.lab_ab\n",
    "plotter(y_true, y_pred, ax6)\n",
    "\n",
    "y_true=dfs2.lab_th; y_pred=dfs2.lab_th\n",
    "plotter(y_true, y_pred, ax7)\n",
    "\n",
    "y_true=dfs2.lab_th; y_pred=dfs2.lab_cr\n",
    "plotter(y_true, y_pred, ax8)\n",
    "\n",
    "y_true=dfs2.lab_th; y_pred=dfs2.lab_km\n",
    "plotter(y_true, y_pred, ax9)\n",
    "\n",
    "\n",
    "############ Fila 3 ##############################   \n",
    "y_true=dfs2.lab_cr; y_pred=dfs2.lab_ab\n",
    "plotter(y_true, y_pred, ax11)\n",
    "\n",
    "y_true=dfs2.lab_cr; y_pred=dfs2.lab_th\n",
    "plotter(y_true, y_pred, ax12)\n",
    "\n",
    "y_true=dfs2.lab_cr; y_pred=dfs2.lab_cr\n",
    "plotter(y_true, y_pred, ax13)\n",
    "\n",
    "y_true=dfs2.lab_cr; y_pred=dfs2.lab_km\n",
    "plotter(y_true, y_pred, ax14)\n",
    "\n",
    "\n",
    "############ Fila 4 ##############################  \n",
    "y_true=dfs2.lab_km; y_pred=dfs2.lab_ab\n",
    "plotter(y_true, y_pred, ax16)\n",
    "\n",
    "y_true=dfs2.lab_km; y_pred=dfs2.lab_th\n",
    "plotter(y_true, y_pred, ax17)\n",
    "\n",
    "y_true=dfs2.lab_km; y_pred=dfs2.lab_cr\n",
    "plotter(y_true, y_pred, ax18)\n",
    "\n",
    "y_true=dfs2.lab_km; y_pred=dfs2.lab_km\n",
    "plotter(y_true, y_pred, ax19)\n",
    "\n",
    "\n",
    "########################################## \n",
    "#Tick-label\n",
    "ax16.xaxis.set_ticklabels(['B', 'D'])\n",
    "ax16.yaxis.set_ticklabels(['B', 'D']);\n",
    "\n",
    "#Title\n",
    "ax1.set_title('Abadi', fontsize=10)\n",
    "ax2.set_title('Threshold', fontsize=10)\n",
    "ax3.set_title('Cristiani', fontsize=10)\n",
    "ax4.set_title('KMeans', fontsize=10)\n",
    "#ax5.set_title('GMM', fontsize=10)\n",
    "ax1.set_ylabel('Abadi', fontsize=10)\n",
    "ax6.set_ylabel('Threshold', fontsize=10) \n",
    "ax11.set_ylabel('Cristiani', fontsize=10) \n",
    "ax16.set_ylabel('KMeans', fontsize=10) \n",
    "#ax21.set_ylabel('GMM', fontsize=10) \n",
    "\n",
    "#cbar_ax = fig.add_axes([1.1, .3, .03, .4])\n",
    "\n",
    "\n",
    "#fig.colorbar(ax1.pcolormesh(cm_per, cmap='binary'), ax=cbar_ax )\n",
    "fig.colorbar(ax1.pcolormesh(cm_per, cmap='binary'), ax=axes[:,3])\n",
    "\n",
    "\n",
    "\n",
    "#plt.savefig('gchop_plots/matrix.png', dpi=200)"
   ]
  },
  {
   "cell_type": "markdown",
   "metadata": {},
   "source": [
    "##  Confusion Matrix: 3comp"
   ]
  },
  {
   "cell_type": "code",
   "execution_count": 18,
   "metadata": {},
   "outputs": [
    {
     "data": {
      "image/png": "[encoded data removed]",
      "text/plain": [
       "<Figure size 432x288 with 2 Axes>"
      ]
     },
     "metadata": {
      "needs_background": "light"
     },
     "output_type": "display_data"
    }
   ],
   "source": [
    "#######km vs km\n",
    "ax= plt.subplot()\n",
    "y_true=dfs2.lab_km\n",
    "y_pred=dfs2.lab_km\n",
    "cm = confusion_matrix(y_true, y_pred)\n",
    "cm_per = cm*100/len(y_true)\n",
    "sns.heatmap(cm_per,annot=True, cmap='binary', fmt='.1f', ax=ax,  vmin=0, vmax=100, center=50)\n",
    "for t in ax.texts: t.set_text(t.get_text() + \" %\")\n",
    "    \n",
    "ax.set_xlabel('Predicted labels: KMeans ');ax.set_ylabel('True labels: KMeans'); \n",
    "#ax.set_title('Confusion Matrix');\n",
    "ax.xaxis.set_ticklabels(['Bulge','Disk'])\n",
    "ax.yaxis.set_ticklabels(['Bulge', 'Disk']);"
   ]
  },
  {
   "cell_type": "code",
   "execution_count": 19,
   "metadata": {},
   "outputs": [
    {
     "data": {
      "image/png": "[encoded data removed]",
      "text/plain": [
       "<Figure size 432x288 with 2 Axes>"
      ]
     },
     "metadata": {
      "needs_background": "light"
     },
     "output_type": "display_data"
    }
   ],
   "source": [
    "#######km vs km+3\n",
    "#sklearn.metrics.confusion_matrix(y_true, y_pred, *, labels=None, sample_weight=None, normalize=None)\n",
    "y_true=dfs2.lab_km\n",
    "y_pred=dfs2.lab_km3\n",
    "cm = confusion_matrix(y_true, y_pred)\n",
    "cm_per = cm*100/len(y_true)\n",
    "\n",
    "ax= plt.subplot()\n",
    "#sns.heatmap(cm,annot=True, cmap='binary', fmt='g', ax=ax)\n",
    "sns.heatmap(cm_per,annot=True, cmap='binary', fmt='.1f', ax=ax,  vmin=0, vmax=100, center=50)\n",
    "for t in ax.texts: t.set_text(t.get_text() + \" %\")\n",
    "    \n",
    "ax.set_xlabel('Predicted labels: KMeans+3 ');ax.set_ylabel('True labels: KMeans'); \n",
    "#ax.set_title('Confusion Matrix');\n",
    "ax.xaxis.set_ticklabels(['Bulge', ' Thin Disk', 'Thick Disk'])\n",
    "ax.yaxis.set_ticklabels(['Bulge', 'Disk', 'NaN']);\n",
    "\n",
    "\n",
    "# El 74% de las particulas estelares del disco-km, estan divididas en disco fino y gruso de km+3.\n",
    "# El 26% de las particulas estelares del bulge-km, estan divididas en disco grueso y bulge de km+3\n"
   ]
  },
  {
   "cell_type": "code",
   "execution_count": 20,
   "metadata": {},
   "outputs": [
    {
     "data": {
      "image/png": "[encoded data removed]",
      "text/plain": [
       "<Figure size 432x288 with 2 Axes>"
      ]
     },
     "metadata": {
      "needs_background": "light"
     },
     "output_type": "display_data"
    }
   ],
   "source": [
    "#######km+3 vs gmm+3\n",
    "#sklearn.metrics.confusion_matrix(y_true, y_pred, *, labels=None, sample_weight=None, normalize=None)\n",
    "y_true=dfs2.lab_km3\n",
    "y_pred=dfs2.lab_gmm3\n",
    "cm = confusion_matrix(y_true, y_pred)\n",
    "cm_per = cm*100/len(y_true)\n",
    "\n",
    "ax= plt.subplot()\n",
    "#sns.heatmap(cm,annot=True, cmap='binary', fmt='g', ax=ax)\n",
    "sns.heatmap(cm_per,annot=True, cmap='binary', fmt='.1f', ax=ax,  vmin=0, vmax=100, center=50)\n",
    "for t in ax.texts: t.set_text(t.get_text() + \" %\")\n",
    "    \n",
    "ax.set_xlabel('Predicted labels: GMM+3 ');ax.set_ylabel('True labels: KMeans+3'); \n",
    "#ax.set_title('Confusion Matrix');\n",
    "ax.xaxis.set_ticklabels(['Bulge', ' Thin Disk', 'Thick Disk'])\n",
    "ax.yaxis.set_ticklabels(['Bulge', ' Thin Disk', 'Thick Disk']);\n"
   ]
  },
  {
   "cell_type": "code",
   "execution_count": null,
   "metadata": {},
   "outputs": [],
   "source": []
  },
  {
   "cell_type": "code",
   "execution_count": null,
   "metadata": {},
   "outputs": [],
   "source": []
  },
  {
   "cell_type": "markdown",
   "metadata": {},
   "source": [
    "## Confusion Matrix 4 comp"
   ]
  },
  {
   "cell_type": "code",
   "execution_count": 21,
   "metadata": {},
   "outputs": [
    {
     "data": {
      "text/plain": [
       "Text(33.0, 0.5, 'AGMM')"
      ]
     },
     "execution_count": 21,
     "metadata": {},
     "output_type": "execute_result"
    },
    {
     "data": {
      "image/png": "[encoded data removed]",
      "text/plain": [
       "<Figure size 432x288 with 9 Axes>"
      ]
     },
     "metadata": {
      "needs_background": "light"
     },
     "output_type": "display_data"
    }
   ],
   "source": [
    "#######km+4 vs gmm+4 vs agmm\n",
    "\n",
    "def plotter(y_true,y_pred,ax):\n",
    "    #y_true=dfs2.lab_ab; y_pred=dfs2.lab_ab\n",
    "    cm = confusion_matrix(y_true, y_pred); cm_per = cm*100/len(y_true)\n",
    "    sns.heatmap(cm_per,annot=True, cmap='binary', fmt='.1f', annot_kws={\"size\": 5},\n",
    "                vmin=0, vmax=100, center=50, cbar=False, ax=ax)\n",
    "    for t in ax.texts: t.set_text(t.get_text() + \" %\")\n",
    "    return ax\n",
    "\n",
    "\n",
    "\n",
    "fig,axes = plt.subplots(3, 3, sharex=True, sharey=True)\n",
    "fig.subplots_adjust(hspace=0.4,wspace=0.4)\n",
    "#axes\n",
    "ax1=axes[0,0]; ax2=axes[0,1]; ax3=axes[0,2];\n",
    "ax6=axes[1,0]; ax7=axes[1,1]; ax8=axes[1,2]; \n",
    "ax11=axes[2,0]; ax12=axes[2,1]; ax13=axes[2,2]; \n",
    "\n",
    "\n",
    "############ Fila 1 ##############################    \n",
    "y_true=dfs2.lab_km4; y_pred=dfs2.lab_km4\n",
    "plotter(y_true, y_pred, ax1)\n",
    "\n",
    "y_true=dfs2.lab_km4; y_pred=dfs2.lab_gmm4\n",
    "plotter(y_true, y_pred, ax2)\n",
    "\n",
    "y_true=dfs2.lab_km4; y_pred=dfs2.lab_agmm\n",
    "plotter(y_true, y_pred, ax3)\n",
    "    \n",
    "############ Fila 2 ############################## \n",
    "y_true=dfs2.lab_gmm4; y_pred=dfs2.lab_km4\n",
    "plotter(y_true, y_pred, ax6)\n",
    "\n",
    "y_true=dfs2.lab_gmm4; y_pred=dfs2.lab_gmm4\n",
    "plotter(y_true, y_pred, ax7)\n",
    "\n",
    "y_true=dfs2.lab_gmm4; y_pred=dfs2.lab_agmm\n",
    "plotter(y_true, y_pred, ax8)\n",
    "\n",
    "############ Fila 3 ##############################   \n",
    "y_true=dfs2.lab_agmm; y_pred=dfs2.lab_km4\n",
    "plotter(y_true, y_pred, ax11)\n",
    "\n",
    "y_true=dfs2.lab_agmm; y_pred=dfs2.lab_gmm4\n",
    "plotter(y_true, y_pred, ax12)\n",
    "\n",
    "y_true=dfs2.lab_agmm; y_pred=dfs2.lab_agmm\n",
    "plotter(y_true, y_pred, ax13)\n",
    "\n",
    "\n",
    "########################################## \n",
    "#Tick-label\n",
    "ax11.xaxis.set_ticklabels(['SH', 'B', 'CD', 'WD'], fontsize=8)\n",
    "ax12.xaxis.set_ticklabels(['SH', 'B', 'CD', 'WD'], fontsize=8)\n",
    "ax13.xaxis.set_ticklabels(['SH', 'B', 'CD', 'WD'], fontsize=8)\n",
    "ax1.yaxis.set_ticklabels(['SH', 'B', 'CD', 'WD'], fontsize=8);\n",
    "ax6.yaxis.set_ticklabels(['SH', 'B', 'CD', 'WD'], fontsize=8)\n",
    "ax11.yaxis.set_ticklabels(['SH', 'B', 'CD', 'WD'], fontsize=8)\n",
    "\n",
    "#Title\n",
    "ax1.set_title('KM+4', fontsize=10)\n",
    "ax2.set_title('GMM+4', fontsize=10)\n",
    "ax3.set_title('AGMM', fontsize=10)\n",
    "ax1.set_ylabel('KM+4', fontsize=10)\n",
    "ax6.set_ylabel('GMM+4', fontsize=10) \n",
    "ax11.set_ylabel('AGMM', fontsize=10)  \n",
    "\n",
    "#cbar_ax = fig.add_axes([1.1, .3, .03, .4])\n",
    "\n",
    "\n",
    "#fig.colorbar(ax1.pcolormesh(cm_per, cmap='binary'), ax=cbar_ax )\n",
    "#fig.colorbar(ax1.pcolormesh(cm_per, cmap='binary'), ax=axes[:,2])\n",
    "\n",
    "\n",
    "#plt.savefig('gchop_plots/matrix+4.png', dpi=200)"
   ]
  },
  {
   "cell_type": "code",
   "execution_count": null,
   "metadata": {},
   "outputs": [],
   "source": []
  },
  {
   "cell_type": "code",
   "execution_count": null,
   "metadata": {},
   "outputs": [],
   "source": []
  },
  {
   "cell_type": "code",
   "execution_count": 22,
   "metadata": {},
   "outputs": [
    {
     "data": {
      "text/plain": [
       "<AxesSubplot:xlabel='eps', ylabel='Density'>"
      ]
     },
     "execution_count": 22,
     "metadata": {},
     "output_type": "execute_result"
    },
    {
     "data": {
      "image/png": "[encoded data removed]",
      "text/plain": [
       "<Figure size 432x288 with 1 Axes>"
      ]
     },
     "metadata": {
      "needs_background": "light"
     },
     "output_type": "display_data"
    }
   ],
   "source": [
    "gal.plot.circ_kde(\"eps\",labels=dfs2.lab_agmm)"
   ]
  },
  {
   "cell_type": "code",
   "execution_count": null,
   "metadata": {},
   "outputs": [],
   "source": []
  },
  {
   "cell_type": "code",
   "execution_count": null,
   "metadata": {},
   "outputs": [],
   "source": []
  }
 ],
 "metadata": {
  "kernelspec": {
   "display_name": "Python 3",
   "language": "python",
   "name": "python3"
  },
  "language_info": {
   "codemirror_mode": {
    "name": "ipython",
    "version": 3
   },
   "file_extension": ".py",
   "mimetype": "text/x-python",
   "name": "python",
   "nbconvert_exporter": "python",
   "pygments_lexer": "ipython3",
   "version": "3.8.0"
  },
  "toc": {
   "base_numbering": 1,
   "nav_menu": {},
   "number_sections": true,
   "sideBar": true,
   "skip_h1_title": false,
   "title_cell": "Table of Contents",
   "title_sidebar": "Contents",
   "toc_cell": false,
   "toc_position": {
    "height": "calc(100% - 180px)",
    "left": "10px",
    "top": "150px",
    "width": "227.969px"
   },
   "toc_section_display": true,
   "toc_window_display": true
  },
  "varInspector": {
   "cols": {
    "lenName": 16,
    "lenType": 16,
    "lenVar": 40
   },
   "kernels_config": {
    "python": {
     "delete_cmd_postfix": "",
     "delete_cmd_prefix": "del ",
     "library": "var_list.py",
     "varRefreshCmd": "print(var_dic_list())"
    },
    "r": {
     "delete_cmd_postfix": ") ",
     "delete_cmd_prefix": "rm(",
     "library": "var_list.r",
     "varRefreshCmd": "cat(var_dic_list()) "
    }
   },
   "oldHeight": 122,
   "position": {
    "height": "144px",
    "left": "1333px",
    "right": "20px",
    "top": "120px",
    "width": "247px"
   },
   "types_to_exclude": [
    "module",
    "function",
    "builtin_function_or_method",
    "instance",
    "_Feature"
   ],
   "varInspector_section_display": "block",
   "window_display": false
  }
 },
 "nbformat": 4,
 "nbformat_minor": 4
}
