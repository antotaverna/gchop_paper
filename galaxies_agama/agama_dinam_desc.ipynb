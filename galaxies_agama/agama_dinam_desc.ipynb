{
 "cells": [
  {
   "cell_type": "code",
   "execution_count": 1,
   "id": "33033c59-d367-4a13-8d86-273d9142b1c1",
   "metadata": {},
   "outputs": [],
   "source": [
    "import galaxychop as gchop\n",
    "import numpy as np\n",
    "import matplotlib.pyplot as plt"
   ]
  },
  {
   "cell_type": "code",
   "execution_count": 2,
   "id": "689af3cc-f7a1-407e-91c1-d4e930d3177b",
   "metadata": {},
   "outputs": [],
   "source": [
    "gal01 = gchop.io.read_hdf5('./galaxies_agama/gal_01')\n",
    "gal02 = gchop.io.read_hdf5('./galaxies_agama/gal_02')\n",
    "gal03 = gchop.io.read_hdf5('./galaxies_agama/gal_03')\n",
    "gal04 = gchop.io.read_hdf5('./galaxies_agama/gal_04')\n",
    "gal05 = gchop.io.read_hdf5('./galaxies_agama/gal_05')\n",
    "gal06 = gchop.io.read_hdf5('./galaxies_agama/gal_06')\n",
    "gal07 = gchop.io.read_hdf5('./galaxies_agama/gal_07')\n",
    "gal08 = gchop.io.read_hdf5('./galaxies_agama/gal_08')\n",
    "gal09 = gchop.io.read_hdf5('./galaxies_agama/gal_09')"
   ]
  },
  {
   "cell_type": "code",
   "execution_count": 6,
   "id": "d4453671-4191-4025-ab91-6f9a11d55493",
   "metadata": {},
   "outputs": [],
   "source": [
    "desc = gchop.models.JThreshold(eps_cut=0.7)\n",
    "\n",
    "JThreshold_01 = desc.decompose(gal01)\n",
    "JThreshold_02 = desc.decompose(gal02)\n",
    "JThreshold_03 = desc.decompose(gal03)\n",
    "JThreshold_04 = desc.decompose(gal04)\n",
    "JThreshold_05 = desc.decompose(gal05)\n",
    "JThreshold_06 = desc.decompose(gal06)\n",
    "JThreshold_07 = desc.decompose(gal07)\n",
    "JThreshold_08 = desc.decompose(gal08)\n",
    "JThreshold_09 = desc.decompose(gal09)"
   ]
  },
  {
   "cell_type": "code",
   "execution_count": 7,
   "id": "bbd6c773-2adb-47fe-a7ce-0291167635b8",
   "metadata": {},
   "outputs": [],
   "source": [
    "desc = gchop.models.JHistogram()\n",
    "\n",
    "JHistogram_01 = desc.decompose(gal01)\n",
    "JHistogram_02 = desc.decompose(gal02)\n",
    "JHistogram_03 = desc.decompose(gal03)\n",
    "JHistogram_04 = desc.decompose(gal04)\n",
    "JHistogram_05 = desc.decompose(gal05)\n",
    "JHistogram_06 = desc.decompose(gal06)\n",
    "JHistogram_07 = desc.decompose(gal07)\n",
    "JHistogram_08 = desc.decompose(gal08)\n",
    "JHistogram_09 = desc.decompose(gal09)"
   ]
  },
  {
   "cell_type": "code",
   "execution_count": 8,
   "id": "e570b0c4-79c5-4185-83cd-f0cde5daf462",
   "metadata": {},
   "outputs": [],
   "source": [
    "desc = gchop.models.JEHistogram()\n",
    "\n",
    "JEHistogram_01 = desc.decompose(gal01)\n",
    "JEHistogram_02 = desc.decompose(gal02)\n",
    "JEHistogram_03 = desc.decompose(gal03)\n",
    "JEHistogram_04 = desc.decompose(gal04)\n",
    "JEHistogram_05 = desc.decompose(gal05)\n",
    "JEHistogram_06 = desc.decompose(gal06)\n",
    "JEHistogram_07 = desc.decompose(gal07)\n",
    "JEHistogram_08 = desc.decompose(gal08)\n",
    "JEHistogram_09 = desc.decompose(gal09)"
   ]
  },
  {
   "cell_type": "code",
   "execution_count": 9,
   "id": "1861c5bb-2ca0-42b2-b8a1-2965a63a2502",
   "metadata": {},
   "outputs": [],
   "source": [
    "desc = gchop.models.KMeans(n_components=2)\n",
    "\n",
    "KMeans_01 = desc.decompose(gal01)\n",
    "KMeans_02 = desc.decompose(gal02)\n",
    "KMeans_03 = desc.decompose(gal03)\n",
    "KMeans_04 = desc.decompose(gal04)\n",
    "KMeans_05 = desc.decompose(gal05)\n",
    "KMeans_06 = desc.decompose(gal06)\n",
    "KMeans_07 = desc.decompose(gal07)\n",
    "KMeans_08 = desc.decompose(gal08)\n",
    "KMeans_09 = desc.decompose(gal09)"
   ]
  },
  {
   "cell_type": "code",
   "execution_count": 10,
   "id": "16aff6fe-b00e-4d9b-8224-749b91cb1f62",
   "metadata": {},
   "outputs": [],
   "source": [
    "desc = gchop.models.GaussianMixture(n_components=2)\n",
    "\n",
    "GaussianMixture_01 = desc.decompose(gal01)\n",
    "GaussianMixture_02 = desc.decompose(gal02)\n",
    "GaussianMixture_03 = desc.decompose(gal03)\n",
    "GaussianMixture_04 = desc.decompose(gal04)\n",
    "GaussianMixture_05 = desc.decompose(gal05)\n",
    "GaussianMixture_06 = desc.decompose(gal06)\n",
    "GaussianMixture_07 = desc.decompose(gal07)\n",
    "GaussianMixture_08 = desc.decompose(gal08)\n",
    "GaussianMixture_09 = desc.decompose(gal09)"
   ]
  },
  {
   "cell_type": "code",
   "execution_count": 11,
   "id": "ffe4018a-71d7-41e3-8d8b-6b42dc1cbf5e",
   "metadata": {},
   "outputs": [],
   "source": [
    "desc = gchop.models.AutoGaussianMixture(n_jobs=4)\n",
    "\n",
    "AutoGaussianMixture_01 = desc.decompose(gal01)\n",
    "AutoGaussianMixture_02 = desc.decompose(gal02)\n",
    "AutoGaussianMixture_03 = desc.decompose(gal03)\n",
    "AutoGaussianMixture_04 = desc.decompose(gal04)\n",
    "AutoGaussianMixture_05 = desc.decompose(gal05)\n",
    "AutoGaussianMixture_06 = desc.decompose(gal06)\n",
    "AutoGaussianMixture_07 = desc.decompose(gal07)\n",
    "AutoGaussianMixture_08 = desc.decompose(gal08)\n",
    "AutoGaussianMixture_09 = desc.decompose(gal09)"
   ]
  },
  {
   "cell_type": "code",
   "execution_count": 83,
   "id": "85b4fefb-13fe-4d2b-a943-6da4156eb87c",
   "metadata": {},
   "outputs": [],
   "source": [
    "df09 = gal09.to_dataframe()\n",
    "df09['label_JThreshold'] = JThreshold_09.labels\n",
    "df09['label_JHistogram'] = JHistogram_09.labels\n",
    "df09['label_JEHistogram'] = JEHistogram_09.labels\n",
    "df09['label_KMeans'] = KMeans_09.labels\n",
    "df09['label_GaussianMixture'] = GaussianMixture_09.labels\n",
    "df09['probs0_GaussianMixture'] = GaussianMixture_09.probabilities[:, 0]\n",
    "df09['probs1_GaussianMixture'] = GaussianMixture_09.probabilities[:, 1]\n",
    "df09['label_AutoGaussianMixture'] = AutoGaussianMixture_09.labels\n",
    "df09['probs0_AutoGaussianMixture'] = AutoGaussianMixture_09.probabilities[:, 0]\n",
    "df09['probs1_AutoGaussianMixture'] = AutoGaussianMixture_09.probabilities[:, 1]\n",
    "df09['probs2_AutoGaussianMixture'] = AutoGaussianMixture_09.probabilities[:, 2]\n",
    "df09['probs3_AutoGaussianMixture'] = AutoGaussianMixture_09.probabilities[:, 3]\n",
    "# df09.to_pickle('./pickle_agama/df_gal09.pkl')"
   ]
  },
  {
   "cell_type": "code",
   "execution_count": 142,
   "id": "a6098ead-8022-44cb-bc39-e97b5efbff90",
   "metadata": {},
   "outputs": [],
   "source": [
    "# JThreshold_09.describe().to_pickle('./pickle_describe/describe_JThreshold_09')\n",
    "# JHistogram_09.describe().to_pickle('./pickle_describe/describe_JHistogram_09')\n",
    "# JEHistogram_09.describe().to_pickle('./pickle_describe/describe_JEHistogram_09')\n",
    "# KMeans_09.describe().to_pickle('./pickle_describe/describe_KMeans_09')\n",
    "# GaussianMixture_09.describe().to_pickle('./pickle_describe/describe_GaussianMixture_09')\n",
    "# AutoGaussianMixture_09.describe().to_pickle('./pickle_describe/describe_AutoGaussianMixture_09')"
   ]
  },
  {
   "cell_type": "code",
   "execution_count": null,
   "id": "6ee51530-541e-4d4e-b87d-0a7b6218d611",
   "metadata": {},
   "outputs": [],
   "source": []
  }
 ],
 "metadata": {
  "kernelspec": {
   "display_name": "Python 3 (ipykernel)",
   "language": "python",
   "name": "python3"
  },
  "language_info": {
   "codemirror_mode": {
    "name": "ipython",
    "version": 3
   },
   "file_extension": ".py",
   "mimetype": "text/x-python",
   "name": "python",
   "nbconvert_exporter": "python",
   "pygments_lexer": "ipython3",
   "version": "3.10.6"
  }
 },
 "nbformat": 4,
 "nbformat_minor": 5
}
