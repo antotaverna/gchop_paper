{
 "cells": [
  {
   "cell_type": "code",
   "execution_count": 1,
   "metadata": {},
   "outputs": [],
   "source": [
    "#import h5py\n",
    "#import galaxychop as gchop\n",
    "#import uttr\n",
    "#import attr\n",
    "import seaborn as sns\n",
    "import pandas as pd\n",
    "import matplotlib.pylab as plt\n",
    "import numpy as np\n",
    "import pickle"
   ]
  },
  {
   "cell_type": "markdown",
   "metadata": {},
   "source": [
    "# Leo las galaxias"
   ]
  },
  {
   "cell_type": "code",
   "execution_count": 2,
   "metadata": {},
   "outputs": [],
   "source": [
    "df_gal01 = pd.read_pickle('../../datos_gchop_paper/pickle_agama/df_gal01.pkl')\n",
    "df_gal02 = pd.read_pickle('../../datos_gchop_paper/pickle_agama/df_gal02.pkl')\n",
    "df_gal03 = pd.read_pickle('../../datos_gchop_paper/pickle_agama/df_gal03.pkl')\n",
    "df_gal04 = pd.read_pickle('../../datos_gchop_paper/pickle_agama/df_gal04.pkl')\n",
    "df_gal05 = pd.read_pickle('../../datos_gchop_paper/pickle_agama/df_gal05.pkl')\n",
    "df_gal06 = pd.read_pickle('../../datos_gchop_paper/pickle_agama/df_gal06.pkl')\n",
    "df_gal07 = pd.read_pickle('../../datos_gchop_paper/pickle_agama/df_gal07.pkl')\n",
    "df_gal08 = pd.read_pickle('../../datos_gchop_paper/pickle_agama/df_gal08.pkl')\n",
    "df_gal09 = pd.read_pickle('../../datos_gchop_paper/pickle_agama/df_gal09.pkl')"
   ]
  },
  {
   "cell_type": "code",
   "execution_count": 3,
   "metadata": {},
   "outputs": [
    {
     "name": "stdout",
     "output_type": "stream",
     "text": [
      "6250\n"
     ]
    }
   ],
   "source": [
    "print(len(df_gal01))"
   ]
  },
  {
   "cell_type": "code",
   "execution_count": 4,
   "metadata": {},
   "outputs": [
    {
     "data": {
      "text/plain": [
       "Index(['m', 'x', 'y', 'z', 'vx', 'vy', 'vz', 'label_JThreshold',\n",
       "       'label_JHistogram', 'label_JEHistogram', 'label_KMeans',\n",
       "       'label_GaussianMixture', 'probs0_GaussianMixture',\n",
       "       'probs1_GaussianMixture', 'label_AutoGaussianMixture',\n",
       "       'probs0_AutoGaussianMixture', 'probs1_AutoGaussianMixture',\n",
       "       'probs2_AutoGaussianMixture', 'probs3_AutoGaussianMixture',\n",
       "       'label_Agama'],\n",
       "      dtype='object')"
      ]
     },
     "execution_count": 4,
     "metadata": {},
     "output_type": "execute_result"
    }
   ],
   "source": [
    "df_gal01.head(3)\n",
    "df_gal01.keys()"
   ]
  },
  {
   "cell_type": "code",
   "execution_count": 5,
   "metadata": {},
   "outputs": [
    {
     "data": {
      "text/plain": [
       "87"
      ]
     },
     "execution_count": 5,
     "metadata": {},
     "output_type": "execute_result"
    }
   ],
   "source": [
    "df_gal01.label_JHistogram.isna().sum()"
   ]
  },
  {
   "cell_type": "code",
   "execution_count": 6,
   "metadata": {},
   "outputs": [
    {
     "name": "stdout",
     "output_type": "stream",
     "text": [
      "6163\n",
      "0       1.0\n",
      "1       0.0\n",
      "2       1.0\n",
      "3       1.0\n",
      "4       1.0\n",
      "       ... \n",
      "6245    0.0\n",
      "6246    0.0\n",
      "6247    0.0\n",
      "6248    0.0\n",
      "6249    0.0\n",
      "Name: label_JHistogram, Length: 6163, dtype: float64\n"
     ]
    }
   ],
   "source": [
    "dfs01 = df_gal01[df_gal01['label_JThreshold'].notna()]\n",
    "print(len(dfs01.label_JThreshold))\n",
    "print(dfs01.label_JHistogram)"
   ]
  },
  {
   "cell_type": "markdown",
   "metadata": {},
   "source": [
    "## uso solo los labels no NaN"
   ]
  },
  {
   "cell_type": "code",
   "execution_count": 7,
   "metadata": {},
   "outputs": [],
   "source": [
    "dfs01 = df_gal01[df_gal01['label_JThreshold'].notna()]\n",
    "dfs02 = df_gal02[df_gal02['label_JThreshold'].notna()]\n",
    "dfs03 = df_gal03[df_gal03['label_JThreshold'].notna()]\n",
    "dfs04 = df_gal04[df_gal04['label_JThreshold'].notna()]\n",
    "dfs05 = df_gal05[df_gal05['label_JThreshold'].notna()]\n",
    "dfs06 = df_gal06[df_gal06['label_JThreshold'].notna()]\n",
    "dfs07 = df_gal07[df_gal07['label_JThreshold'].notna()]\n",
    "dfs08 = df_gal08[df_gal08['label_JThreshold'].notna()]\n",
    "dfs09 = df_gal09[df_gal09['label_JThreshold'].notna()]"
   ]
  },
  {
   "cell_type": "markdown",
   "metadata": {},
   "source": [
    "# Analisis Confusion Matrix (% Particulas)"
   ]
  },
  {
   "cell_type": "code",
   "execution_count": 8,
   "metadata": {},
   "outputs": [],
   "source": [
    "from sklearn.metrics import confusion_matrix\n",
    "from sklearn.metrics import plot_confusion_matrix\n",
    "from sklearn.metrics import precision_recall_fscore_support\n",
    "from sklearn.metrics import precision_score\n",
    "from sklearn.metrics import recall_score"
   ]
  },
  {
   "cell_type": "markdown",
   "metadata": {},
   "source": [
    "## AGAMA vs Threshold"
   ]
  },
  {
   "cell_type": "code",
   "execution_count": 9,
   "metadata": {},
   "outputs": [
    {
     "data": {
      "image/png": "[encoded data removed]",
      "text/plain": [
       "<Figure size 432x288 with 1 Axes>"
      ]
     },
     "metadata": {
      "needs_background": "light"
     },
     "output_type": "display_data"
    }
   ],
   "source": [
    "#sklearn.metrics.confusion_matrix(y_true, y_pred, *, labels=None, sample_weight=None, normalize=None)\n",
    "y_true=dfs01.label_Agama\n",
    "y_pred=dfs01.label_JThreshold   \n",
    "cm = confusion_matrix(y_true, y_pred)\n",
    "cm_per = cm*100/len(y_true)\n",
    "\n",
    "ax= plt.subplot()\n",
    "sns.heatmap(cm,annot=True, cmap='binary', fmt='g', cbar=False, ax=ax)\n",
    "\n",
    "#sns.heatmap(cm_per,annot=True, cmap='binary', fmt='.1f', ax=ax)\n",
    "#for t in ax.texts: t.set_text(t.get_text() + \" %\")\n",
    "\n",
    "ax.set_ylabel('True labels: AGAMA Model');ax.set_xlabel('Predicted labels: Threshold Model'); \n",
    "ax.set_title('Confusion Matrix'); \n",
    "ax.xaxis.set_ticklabels(['Bulge', 'Disk']); ax.yaxis.set_ticklabels(['Bulge', 'Disk']);"
   ]
  },
  {
   "cell_type": "code",
   "execution_count": 10,
   "metadata": {},
   "outputs": [],
   "source": [
    "y_true=dfs01.label_Agama"
   ]
  },
  {
   "cell_type": "code",
   "execution_count": 11,
   "metadata": {},
   "outputs": [
    {
     "name": "stdout",
     "output_type": "stream",
     "text": [
      "Negative 3124\n",
      "Positive 3039\n"
     ]
    }
   ],
   "source": [
    "print('Negative', len(dfs01.label_Agama[dfs01.label_Agama==0]))\n",
    "print('Positive', len(dfs01.label_Agama[dfs01.label_Agama==1]))"
   ]
  },
  {
   "cell_type": "code",
   "execution_count": null,
   "metadata": {},
   "outputs": [],
   "source": []
  },
  {
   "cell_type": "markdown",
   "metadata": {},
   "source": [
    "\n",
    " \n",
    "|              |Predicted  |                       |\n",
    "|--------------|-----------|-----------------------|\n",
    "|Tot = P+N     | Predicted Positive      | Predicted Negative  |\n",
    "|--------------|-----------|-----------------------|\n",
    "| Positive (Ptot)    | True Positive (TP)      | False Negative (FN)  |\n",
    "| Negative  (Ntot)   | False Positive (FP)     | True Negative (TN)   |\n",
    "|--------------|-----------|-----------------------|\n"
   ]
  },
  {
   "cell_type": "markdown",
   "metadata": {},
   "source": [
    "### Precision (Positive Predictive Value PPV)\n",
    "PPV = TP / (TP + FP) \n",
    "\n",
    "The precision is intuitively the ability of the classifier not to label a negative sample as positive."
   ]
  },
  {
   "cell_type": "code",
   "execution_count": null,
   "metadata": {},
   "outputs": [],
   "source": [
    "precision_score(y_true, y_pred)"
   ]
  },
  {
   "cell_type": "markdown",
   "metadata": {},
   "source": [
    "### Recall (True Positive Rate TPR)\n",
    "TPR = TP / Ptot = TP / (TP + FN)\n",
    "\n",
    "The recall is intuitively the ability of the classifier to find all the positive samples."
   ]
  },
  {
   "cell_type": "code",
   "execution_count": null,
   "metadata": {},
   "outputs": [],
   "source": [
    "recall_score(y_true, y_pred)"
   ]
  },
  {
   "cell_type": "code",
   "execution_count": null,
   "metadata": {},
   "outputs": [],
   "source": []
  },
  {
   "cell_type": "markdown",
   "metadata": {},
   "source": [
    "# Tabla Precision"
   ]
  },
  {
   "cell_type": "code",
   "execution_count": null,
   "metadata": {},
   "outputs": [],
   "source": [
    "df = pd.DataFrame(columns=['JHistogram', 'JThreshold', 'JEHistogram', 'KMeans'],\n",
    "             index=['Agama', 'Agama', 'Agama', 'Agama','Agama', 'Agama', 'Agama', 'Agama', 'Agama'])\n",
    "\n",
    "df0 = pd.DataFrame(columns=['JHistogram', 'JThreshold', 'JEHistogram', 'KMeans'],\n",
    "             index=['Agama01', 'Agama02', 'Agama03', 'Agama04','Agama05', 'Agama06',\n",
    "                    'Agama07', 'Agama08', 'Agama09'])\n",
    "#------------------------------------------\n",
    "def precision(y_true,y_pred):\n",
    "    cm = confusion_matrix(y_true, y_pred)        \n",
    "    prec = precision_score(y_true, y_pred)\n",
    "    return prec\n",
    "\n",
    "def prec0(y_true,y_pred):\n",
    "    tn, fp, fn, tp = confusion_matrix(y_true, y_pred).ravel() \n",
    "    \n",
    "    prec_lab0=tn/(fn+tn)\n",
    "    return prec_lab0\n",
    "#------------------------------------------\n",
    "\n",
    "gal = [dfs01,dfs02,dfs03,dfs04,dfs05,dfs06,dfs07,dfs08,dfs09]\n",
    "model = ['label_JHistogram','label_JThreshold','label_JEHistogram','label_KMeans']\n",
    "\n",
    "\n",
    "for idg,g in enumerate(gal):\n",
    "    for idm, m in enumerate(model):\n",
    "        \n",
    "        y_true=g['label_Agama']\n",
    "        #y_pred=dfs01[m]\n",
    "        y_pred=g[m]\n",
    "        df.iloc[idg,idm] = precision(y_true, y_pred)\n",
    "        df0.iloc[idg,idm] = prec0(y_true, y_pred)\n",
    "        print(idg,idm, m)\n",
    "        #print(precision(y_true, y_pred),prec0(y_true, y_pred))\n",
    "        \n"
   ]
  },
  {
   "cell_type": "code",
   "execution_count": null,
   "metadata": {},
   "outputs": [],
   "source": [
    "pd.options.display.float_format = '{:,.3f}'.format\n",
    "\n",
    "\n",
    "df_prec_bulge = df\n",
    "df_prec_disk = df0\n",
    "df_prec_bulge"
   ]
  },
  {
   "cell_type": "markdown",
   "metadata": {},
   "source": [
    "# Tabla ReCall"
   ]
  },
  {
   "cell_type": "code",
   "execution_count": null,
   "metadata": {},
   "outputs": [],
   "source": [
    "df = pd.DataFrame(columns=['JHistogram', 'JThreshold', 'JEHistogram', 'KMeans'],\n",
    "             index=['Agama01', 'Agama02', 'Agama03', 'Agama04','Agama05', 'Agama06',\n",
    "                    'Agama07', 'Agama08', 'Agama09'])\n",
    "df0 = pd.DataFrame(columns=['JHistogram', 'JThreshold', 'JEHistogram', 'KMeans'],\n",
    "             index=['Agama01', 'Agama02', 'Agama03', 'Agama04','Agama05', 'Agama06',\n",
    "                    'Agama07', 'Agama08', 'Agama09'])\n",
    "#------------------------------------------\n",
    "def recall(y_true,y_pred):\n",
    "    cm = confusion_matrix(y_true, y_pred)        \n",
    "    rec = recall_score(y_true, y_pred)\n",
    "    return rec\n",
    "\n",
    "def rec0(y_true,y_pred):\n",
    "    tn, fp, fn, tp = confusion_matrix(y_true, y_pred).ravel() \n",
    "    \n",
    "    rec_lab0=tn/(fp+tn)\n",
    "    return rec_lab0\n",
    "\n",
    "#------------------------------------------\n",
    "\n",
    "gal = [dfs01,dfs02,dfs03,dfs04,dfs05,dfs06,dfs07,dfs08,dfs09]\n",
    "model = ['label_JHistogram','label_JThreshold','label_JEHistogram','label_KMeans']\n",
    "\n",
    "\n",
    "for idg,g in enumerate(gal):\n",
    "    for idm, m in enumerate(model):\n",
    "        \n",
    "        y_true=g['label_Agama']\n",
    "        #y_pred=dfs01[m]\n",
    "        y_pred=g[m]\n",
    "        df.iloc[idg,idm] = recall(y_true, y_pred) #bulge\n",
    "        df0.iloc[idg,idm] = rec0(y_true, y_pred) #disk\n",
    "        print(idg,idm, m)\n",
    "        print(recall(y_true, y_pred),rec0(y_true, y_pred))\n",
    "        \n",
    "\n",
    "pd.options.display.float_format = '{:,.3f}'.format\n",
    "\n",
    "df_rec_bulge = df\n",
    "df_rec_disk = df0"
   ]
  },
  {
   "cell_type": "code",
   "execution_count": null,
   "metadata": {},
   "outputs": [],
   "source": [
    "print(df_prec_bulge)\n",
    "df_prec_bulge= df_prec_bulge[df_rec_bulge.columns].astype(float)\n",
    "plt.figure(figsize=(8,5))\n",
    "sns.heatmap(df_prec_bulge, annot=True, vmin=0, vmax=1, center=0.5, cmap='gray')\n",
    "plt.title('Precision', fontsize=16)\n",
    "#plt.savefig('gchop_plots/heatmap_precision.png', dpi=200)"
   ]
  },
  {
   "cell_type": "code",
   "execution_count": null,
   "metadata": {},
   "outputs": [],
   "source": [
    "print(df_rec_bulge)\n",
    "df_rec_bulge= df_rec_bulge[df_rec_bulge.columns].astype(float)\n",
    "\n",
    "plt.figure(figsize=(8,5))\n",
    "sns.heatmap(df_rec_bulge, annot=True, vmin=0, vmax=1, center=0.5, cmap='gray')\n",
    "plt.title('Recall', fontsize=16)\n",
    "\n",
    "#plt.savefig('gchop_plots/heatmap_recall.png', dpi=200)"
   ]
  },
  {
   "cell_type": "code",
   "execution_count": null,
   "metadata": {},
   "outputs": [],
   "source": [
    "df_rec_bulge"
   ]
  },
  {
   "cell_type": "markdown",
   "metadata": {},
   "source": [
    "# Plots"
   ]
  },
  {
   "cell_type": "code",
   "execution_count": null,
   "metadata": {},
   "outputs": [],
   "source": [
    "fig, (ax1, ax2) = plt.subplots(2, sharex=True,figsize=(6,5))\n",
    "\n",
    "gal = np.array([1,2,3,4,5,6,7,8,9])\n",
    "JH = df_rec_bulge.iloc[:,0]*100.\n",
    "JT = df_rec_bulge.iloc[:,1]*100.\n",
    "JE = df_rec_bulge.iloc[:,2]*100.\n",
    "KM = df_rec_bulge.iloc[:,3]*100.\n",
    "\n",
    "ax1.plot(gal,JH,'.-',label='JHistogram')\n",
    "ax1.plot(gal,JT,'.-',label='JThreshold')\n",
    "ax1.plot(gal,JE,'.-',label='JEHistogram')\n",
    "ax1.plot(gal,KM,'.-',label='KMeans')\n",
    "ax1.set_ylim(0.0,100)\n",
    "ax1.set_ylabel('Recall-Bulge')\n",
    "ax1.legend()\n",
    "\n",
    "#--------------------------------\n",
    "JH = df_rec_disk.iloc[:,0]*100.\n",
    "JT = df_rec_disk.iloc[:,1]*100.\n",
    "JE = df_rec_disk.iloc[:,2]*100.\n",
    "KM = df_rec_disk.iloc[:,3]*100.\n",
    "\n",
    "ax2.plot(gal,JH,'.-',label='JHistogram')\n",
    "ax2.plot(gal,JT,'.-',label='JThreshold')\n",
    "ax2.plot(gal,JE,'.-',label='JEHistogram')\n",
    "ax2.plot(gal,KM,'.-',label='KMeans')\n",
    "ax2.set_ylim(0.0,100)\n",
    "ax2.set_ylabel('Recall-Disk')\n",
    "ax2.legend()"
   ]
  },
  {
   "cell_type": "code",
   "execution_count": null,
   "metadata": {},
   "outputs": [],
   "source": [
    "fig, (ax1, ax2) = plt.subplots(2, sharex=True,figsize=(6,5))\n",
    "\n",
    "gal = np.array([1,2,3,4,5,6,7,8,9])\n",
    "JH = df_prec_bulge.iloc[:,0]*100.\n",
    "JT = df_prec_bulge.iloc[:,1]*100.\n",
    "JE = df_prec_bulge.iloc[:,2]*100.\n",
    "KM = df_prec_bulge.iloc[:,3]*100.\n",
    "\n",
    "ax1.plot(gal,JH,'.-',label='JHistogram')\n",
    "ax1.plot(gal,JT,'.-',label='JThreshold')\n",
    "ax1.plot(gal,JE,'.-',label='JEHistogram')\n",
    "ax1.plot(gal,KM,'.-',label='KMeans')\n",
    "ax1.set_ylim(0.0,100)\n",
    "ax1.set_ylabel('Purity-Bulge')\n",
    "ax1.legend()\n",
    "\n",
    "#--------------------------------\n",
    "JH = df_prec_disk.iloc[:,0]*100.\n",
    "JT = df_prec_disk.iloc[:,1]*100.\n",
    "JE = df_prec_disk.iloc[:,2]*100.\n",
    "KM = df_prec_disk.iloc[:,3]*100.\n",
    "\n",
    "ax2.plot(gal,JH,'.-',label='JHistogram')\n",
    "ax2.plot(gal,JT,'.-',label='JThreshold')\n",
    "ax2.plot(gal,JE,'.-',label='JEHistogram')\n",
    "ax2.plot(gal,KM,'.-',label='KMeans')\n",
    "ax2.set_ylim(0.0,100)\n",
    "ax2.set_ylabel('Purity-Disk')\n",
    "ax2.legend()"
   ]
  },
  {
   "cell_type": "code",
   "execution_count": null,
   "metadata": {},
   "outputs": [],
   "source": []
  }
 ],
 "metadata": {
  "kernelspec": {
   "display_name": "Python 3",
   "language": "python",
   "name": "python3"
  },
  "language_info": {
   "codemirror_mode": {
    "name": "ipython",
    "version": 3
   },
   "file_extension": ".py",
   "mimetype": "text/x-python",
   "name": "python",
   "nbconvert_exporter": "python",
   "pygments_lexer": "ipython3",
   "version": "3.8.0"
  },
  "toc": {
   "base_numbering": 1,
   "nav_menu": {},
   "number_sections": true,
   "sideBar": true,
   "skip_h1_title": false,
   "title_cell": "Table of Contents",
   "title_sidebar": "Contents",
   "toc_cell": false,
   "toc_position": {
    "height": "calc(100% - 180px)",
    "left": "10px",
    "top": "150px",
    "width": "212.743px"
   },
   "toc_section_display": true,
   "toc_window_display": true
  },
  "varInspector": {
   "cols": {
    "lenName": 16,
    "lenType": 16,
    "lenVar": 40
   },
   "kernels_config": {
    "python": {
     "delete_cmd_postfix": "",
     "delete_cmd_prefix": "del ",
     "library": "var_list.py",
     "varRefreshCmd": "print(var_dic_list())"
    },
    "r": {
     "delete_cmd_postfix": ") ",
     "delete_cmd_prefix": "rm(",
     "library": "var_list.r",
     "varRefreshCmd": "cat(var_dic_list()) "
    }
   },
   "oldHeight": 122,
   "position": {
    "height": "144px",
    "left": "1333px",
    "right": "20px",
    "top": "120px",
    "width": "247px"
   },
   "types_to_exclude": [
    "module",
    "function",
    "builtin_function_or_method",
    "instance",
    "_Feature"
   ],
   "varInspector_section_display": "block",
   "window_display": false
  }
 },
 "nbformat": 4,
 "nbformat_minor": 4
}
