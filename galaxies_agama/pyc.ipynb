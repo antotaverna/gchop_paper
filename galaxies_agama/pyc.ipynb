{
 "cells": [
  {
   "cell_type": "code",
   "execution_count": 1,
   "metadata": {},
   "outputs": [],
   "source": [
    "#import h5py\n",
    "#import galaxychop as gchop\n",
    "#import uttr\n",
    "#import attr\n",
    "import seaborn as sns\n",
    "import pandas as pd\n",
    "import matplotlib.pylab as plt\n",
    "from matplotlib.offsetbox import AnchoredText\n",
    "import numpy as np\n",
    "import pickle"
   ]
  },
  {
   "cell_type": "markdown",
   "metadata": {},
   "source": [
    "# Leo las galaxias"
   ]
  },
  {
   "cell_type": "code",
   "execution_count": 2,
   "metadata": {},
   "outputs": [],
   "source": [
    "df_gal01 = pd.read_pickle('../../datos_gchop_paper/pickle_agama/df_gal01.pkl')\n",
    "df_gal02 = pd.read_pickle('../../datos_gchop_paper/pickle_agama/df_gal02.pkl')\n",
    "df_gal03 = pd.read_pickle('../../datos_gchop_paper/pickle_agama/df_gal03.pkl')\n",
    "df_gal04 = pd.read_pickle('../../datos_gchop_paper/pickle_agama/df_gal04.pkl')\n",
    "df_gal05 = pd.read_pickle('../../datos_gchop_paper/pickle_agama/df_gal05.pkl')\n",
    "df_gal06 = pd.read_pickle('../../datos_gchop_paper/pickle_agama/df_gal06.pkl')\n",
    "df_gal07 = pd.read_pickle('../../datos_gchop_paper/pickle_agama/df_gal07.pkl')\n",
    "df_gal08 = pd.read_pickle('../../datos_gchop_paper/pickle_agama/df_gal08.pkl')\n",
    "df_gal09 = pd.read_pickle('../../datos_gchop_paper/pickle_agama/df_gal09.pkl')\n",
    "\n",
    "m1=df_gal01.m.sum()\n",
    "m2=df_gal02.m.sum()\n",
    "m3=df_gal03.m.sum()\n",
    "m4=df_gal04.m.sum()\n",
    "m5=df_gal05.m.sum()\n",
    "m6=df_gal06.m.sum()\n",
    "m7=df_gal07.m.sum()\n",
    "m8=df_gal08.m.sum()\n",
    "m9=df_gal09.m.sum()"
   ]
  },
  {
   "cell_type": "code",
   "execution_count": 3,
   "metadata": {},
   "outputs": [
    {
     "name": "stdout",
     "output_type": "stream",
     "text": [
      "6250\n"
     ]
    }
   ],
   "source": [
    "print(len(df_gal01))"
   ]
  },
  {
   "cell_type": "code",
   "execution_count": 4,
   "metadata": {},
   "outputs": [
    {
     "data": {
      "text/plain": [
       "Index(['m', 'x', 'y', 'z', 'vx', 'vy', 'vz', 'label_JThreshold',\n",
       "       'label_JHistogram', 'label_JEHistogram', 'label_KMeans',\n",
       "       'label_GaussianMixture', 'probs0_GaussianMixture',\n",
       "       'probs1_GaussianMixture', 'label_AutoGaussianMixture',\n",
       "       'probs0_AutoGaussianMixture', 'probs1_AutoGaussianMixture',\n",
       "       'probs2_AutoGaussianMixture', 'probs3_AutoGaussianMixture',\n",
       "       'label_Agama'],\n",
       "      dtype='object')"
      ]
     },
     "execution_count": 4,
     "metadata": {},
     "output_type": "execute_result"
    }
   ],
   "source": [
    "df_gal01.head(3)\n",
    "df_gal01.keys()"
   ]
  },
  {
   "cell_type": "code",
   "execution_count": 5,
   "metadata": {},
   "outputs": [
    {
     "data": {
      "text/plain": [
       "87"
      ]
     },
     "execution_count": 5,
     "metadata": {},
     "output_type": "execute_result"
    }
   ],
   "source": [
    "df_gal01.label_JHistogram.isna().sum()"
   ]
  },
  {
   "cell_type": "code",
   "execution_count": 6,
   "metadata": {},
   "outputs": [
    {
     "name": "stdout",
     "output_type": "stream",
     "text": [
      "6163\n",
      "0       1.0\n",
      "1       0.0\n",
      "2       1.0\n",
      "3       1.0\n",
      "4       1.0\n",
      "       ... \n",
      "6245    0.0\n",
      "6246    0.0\n",
      "6247    0.0\n",
      "6248    0.0\n",
      "6249    0.0\n",
      "Name: label_JHistogram, Length: 6163, dtype: float64\n"
     ]
    }
   ],
   "source": [
    "dfs01 = df_gal01[df_gal01['label_JThreshold'].notna()]\n",
    "print(len(dfs01.label_JThreshold))\n",
    "print(dfs01.label_JHistogram)"
   ]
  },
  {
   "cell_type": "markdown",
   "metadata": {},
   "source": [
    "## uso solo los labels no NaN"
   ]
  },
  {
   "cell_type": "code",
   "execution_count": 7,
   "metadata": {},
   "outputs": [],
   "source": [
    "dfs01 = df_gal01[df_gal01['label_JThreshold'].notna()]\n",
    "dfs02 = df_gal02[df_gal02['label_JThreshold'].notna()]\n",
    "dfs03 = df_gal03[df_gal03['label_JThreshold'].notna()]\n",
    "dfs04 = df_gal04[df_gal04['label_JThreshold'].notna()]\n",
    "dfs05 = df_gal05[df_gal05['label_JThreshold'].notna()]\n",
    "dfs06 = df_gal06[df_gal06['label_JThreshold'].notna()]\n",
    "dfs07 = df_gal07[df_gal07['label_JThreshold'].notna()]\n",
    "dfs08 = df_gal08[df_gal08['label_JThreshold'].notna()]\n",
    "dfs09 = df_gal09[df_gal09['label_JThreshold'].notna()]"
   ]
  },
  {
   "cell_type": "markdown",
   "metadata": {},
   "source": [
    "# Analisis Confusion Matrix (% Particulas)"
   ]
  },
  {
   "cell_type": "code",
   "execution_count": 8,
   "metadata": {},
   "outputs": [],
   "source": [
    "from sklearn.metrics import confusion_matrix\n",
    "from sklearn.metrics import plot_confusion_matrix\n",
    "from sklearn.metrics import precision_recall_fscore_support\n",
    "from sklearn.metrics import precision_score\n",
    "from sklearn.metrics import recall_score"
   ]
  },
  {
   "cell_type": "markdown",
   "metadata": {},
   "source": [
    "## AGAMA vs Threshold"
   ]
  },
  {
   "cell_type": "code",
   "execution_count": 9,
   "metadata": {},
   "outputs": [
    {
     "data": {
      "image/png": "[encoded data removed]",
      "text/plain": [
       "<Figure size 432x288 with 1 Axes>"
      ]
     },
     "metadata": {
      "needs_background": "light"
     },
     "output_type": "display_data"
    }
   ],
   "source": [
    "#sklearn.metrics.confusion_matrix(y_true, y_pred, *, labels=None, sample_weight=None, normalize=None)\n",
    "y_true=dfs01.label_Agama\n",
    "y_pred=dfs01.label_JThreshold   \n",
    "cm = confusion_matrix(y_true, y_pred)\n",
    "cm_per = cm*100/len(y_true)\n",
    "\n",
    "ax= plt.subplot()\n",
    "sns.heatmap(cm,annot=True, cmap='binary', fmt='g', cbar=False, ax=ax)\n",
    "\n",
    "#sns.heatmap(cm_per,annot=True, cmap='binary', fmt='.1f', ax=ax)\n",
    "#for t in ax.texts: t.set_text(t.get_text() + \" %\")\n",
    "\n",
    "ax.set_ylabel('True labels: AGAMA Model');ax.set_xlabel('Predicted labels: Threshold Model'); \n",
    "ax.set_title('Confusion Matrix'); \n",
    "ax.xaxis.set_ticklabels(['Bulge', 'Disk']); ax.yaxis.set_ticklabels(['Bulge', 'Disk']);"
   ]
  },
  {
   "cell_type": "code",
   "execution_count": 10,
   "metadata": {},
   "outputs": [],
   "source": [
    "y_true=dfs01.label_Agama"
   ]
  },
  {
   "cell_type": "code",
   "execution_count": 11,
   "metadata": {},
   "outputs": [
    {
     "name": "stdout",
     "output_type": "stream",
     "text": [
      "Negative 3124\n",
      "Positive 3039\n"
     ]
    }
   ],
   "source": [
    "print('Negative', len(dfs01.label_Agama[dfs01.label_Agama==0]))\n",
    "print('Positive', len(dfs01.label_Agama[dfs01.label_Agama==1]))"
   ]
  },
  {
   "cell_type": "code",
   "execution_count": null,
   "metadata": {},
   "outputs": [],
   "source": []
  },
  {
   "cell_type": "markdown",
   "metadata": {},
   "source": [
    "\n",
    " \n",
    "|              |Predicted  |                       |\n",
    "|--------------|-----------|-----------------------|\n",
    "|Tot = P+N     | Predicted Positive      | Predicted Negative  |\n",
    "|--------------|-----------|-----------------------|\n",
    "| Positive (Ptot)    | True Positive (TP)      | False Negative (FN)  |\n",
    "| Negative  (Ntot)   | False Positive (FP)     | True Negative (TN)   |\n",
    "|--------------|-----------|-----------------------|\n"
   ]
  },
  {
   "cell_type": "markdown",
   "metadata": {},
   "source": [
    "### Precision (Positive Predictive Value PPV)\n",
    "PPV = TP / (TP + FP) \n",
    "\n",
    "The precision is intuitively the ability of the classifier not to label a negative sample as positive."
   ]
  },
  {
   "cell_type": "code",
   "execution_count": 12,
   "metadata": {},
   "outputs": [
    {
     "data": {
      "text/plain": [
       "0.9422591122338506"
      ]
     },
     "execution_count": 12,
     "metadata": {},
     "output_type": "execute_result"
    }
   ],
   "source": [
    "precision_score(y_true, y_pred)"
   ]
  },
  {
   "cell_type": "markdown",
   "metadata": {},
   "source": [
    "### Recall (True Positive Rate TPR)\n",
    "TPR = TP / Ptot = TP / (TP + FN)\n",
    "\n",
    "The recall is intuitively the ability of the classifier to find all the positive samples."
   ]
  },
  {
   "cell_type": "code",
   "execution_count": 13,
   "metadata": {},
   "outputs": [
    {
     "data": {
      "text/plain": [
       "0.8591641987495887"
      ]
     },
     "execution_count": 13,
     "metadata": {},
     "output_type": "execute_result"
    }
   ],
   "source": [
    "recall_score(y_true, y_pred)"
   ]
  },
  {
   "cell_type": "code",
   "execution_count": 14,
   "metadata": {},
   "outputs": [
    {
     "name": "stdout",
     "output_type": "stream",
     "text": [
      "0.0\n",
      "1.0\n",
      "1.0\n",
      "0.0\n"
     ]
    }
   ],
   "source": [
    "print(dfs04.label_KMeans[0])\n",
    "print(dfs04.label_KMeans[35145])\n",
    "ss=np.abs(dfs04.label_KMeans-1)\n",
    "print(ss[0])\n",
    "print(ss[35145])"
   ]
  },
  {
   "cell_type": "markdown",
   "metadata": {},
   "source": [
    "# Tabla Precision"
   ]
  },
  {
   "cell_type": "code",
   "execution_count": 33,
   "metadata": {},
   "outputs": [
    {
     "name": "stdout",
     "output_type": "stream",
     "text": [
      "label cambiado 3 3 label_KMeans\n",
      "label cambiado 4 3 label_KMeans\n",
      "label cambiado 5 3 label_KMeans\n"
     ]
    }
   ],
   "source": [
    "df = pd.DataFrame(columns=['JHistogram', 'JThreshold', 'JEHistogram', 'KMeans'],\n",
    "             index=['Agama01', 'Agama02', 'Agama03', 'Agama04','Agama05', 'Agama06',\n",
    "                    'Agama07', 'Agama08', 'Agama09'])\n",
    "\n",
    "df0 = pd.DataFrame(columns=['JHistogram', 'JThreshold', 'JEHistogram', 'KMeans'],\n",
    "             index=['Agama01', 'Agama02', 'Agama03', 'Agama04','Agama05', 'Agama06',\n",
    "                    'Agama07', 'Agama08', 'Agama09'])\n",
    "#------------------------------------------\n",
    "def precision(y_true,y_pred):\n",
    "    cm = confusion_matrix(y_true, y_pred)        \n",
    "    prec = precision_score(y_true, y_pred)\n",
    "    return prec\n",
    "\n",
    "def prec0(y_true,y_pred):\n",
    "    tn, fp, fn, tp = confusion_matrix(y_true, y_pred).ravel() \n",
    "    \n",
    "    prec_lab0=tn/(fn+tn)\n",
    "    return prec_lab0\n",
    "#------------------------------------------\n",
    "\n",
    "gal = [dfs01,dfs02,dfs03,dfs04,dfs05,dfs06,dfs07,dfs08,dfs09]\n",
    "model = ['label_JHistogram','label_JThreshold','label_JEHistogram','label_KMeans']\n",
    "\n",
    "\n",
    "for idg,g in enumerate(gal):\n",
    "    for idm, m in enumerate(model):\n",
    "        \n",
    "        y_true=g['label_Agama']\n",
    "        #y_pred=dfs01[m]\n",
    "        y_pred=g[m]\n",
    "        if(idg==3 or idg==4 or idg==5):\n",
    "            if(idm==3):\n",
    "                #df--> prec0-----------------------\n",
    "                print('label cambiado',idg,idm, m)\n",
    "                y_pred=np.abs(g[m]-1)\n",
    " \n",
    "        df.iloc[idg,idm] = precision(y_true, y_pred)\n",
    "        df0.iloc[idg,idm] = prec0(y_true, y_pred)\n",
    "        #print('label bien',idg,idm, m)\n",
    "        #print(precision(y_true, y_pred),prec0(y_true, y_pred))\n",
    "        \n",
    "pd.options.display.float_format = '{:,.3f}'.format\n",
    "\n",
    "df_prec_bulge = df\n",
    "df_prec_disk = df0"
   ]
  },
  {
   "cell_type": "code",
   "execution_count": 34,
   "metadata": {},
   "outputs": [
    {
     "data": {
      "text/html": [
       "<div>\n",
       "<style scoped>\n",
       "    .dataframe tbody tr th:only-of-type {\n",
       "        vertical-align: middle;\n",
       "    }\n",
       "\n",
       "    .dataframe tbody tr th {\n",
       "        vertical-align: top;\n",
       "    }\n",
       "\n",
       "    .dataframe thead th {\n",
       "        text-align: right;\n",
       "    }\n",
       "</style>\n",
       "<table border=\"1\" class=\"dataframe\">\n",
       "  <thead>\n",
       "    <tr style=\"text-align: right;\">\n",
       "      <th></th>\n",
       "      <th>JHistogram</th>\n",
       "      <th>JThreshold</th>\n",
       "      <th>JEHistogram</th>\n",
       "      <th>KMeans</th>\n",
       "    </tr>\n",
       "  </thead>\n",
       "  <tbody>\n",
       "    <tr>\n",
       "      <th>Agama01</th>\n",
       "      <td>0.865</td>\n",
       "      <td>0.942</td>\n",
       "      <td>0.862</td>\n",
       "      <td>0.864</td>\n",
       "    </tr>\n",
       "    <tr>\n",
       "      <th>Agama02</th>\n",
       "      <td>0.843</td>\n",
       "      <td>0.933</td>\n",
       "      <td>0.838</td>\n",
       "      <td>0.789</td>\n",
       "    </tr>\n",
       "    <tr>\n",
       "      <th>Agama03</th>\n",
       "      <td>0.910</td>\n",
       "      <td>0.925</td>\n",
       "      <td>0.925</td>\n",
       "      <td>0.855</td>\n",
       "    </tr>\n",
       "    <tr>\n",
       "      <th>Agama04</th>\n",
       "      <td>0.890</td>\n",
       "      <td>0.908</td>\n",
       "      <td>0.914</td>\n",
       "      <td>0.770</td>\n",
       "    </tr>\n",
       "    <tr>\n",
       "      <th>Agama05</th>\n",
       "      <td>0.905</td>\n",
       "      <td>0.895</td>\n",
       "      <td>0.918</td>\n",
       "      <td>0.731</td>\n",
       "    </tr>\n",
       "    <tr>\n",
       "      <th>Agama06</th>\n",
       "      <td>0.906</td>\n",
       "      <td>0.885</td>\n",
       "      <td>0.883</td>\n",
       "      <td>0.648</td>\n",
       "    </tr>\n",
       "    <tr>\n",
       "      <th>Agama07</th>\n",
       "      <td>0.723</td>\n",
       "      <td>0.825</td>\n",
       "      <td>0.841</td>\n",
       "      <td>0.461</td>\n",
       "    </tr>\n",
       "    <tr>\n",
       "      <th>Agama08</th>\n",
       "      <td>0.773</td>\n",
       "      <td>0.788</td>\n",
       "      <td>0.825</td>\n",
       "      <td>0.369</td>\n",
       "    </tr>\n",
       "    <tr>\n",
       "      <th>Agama09</th>\n",
       "      <td>0.752</td>\n",
       "      <td>0.703</td>\n",
       "      <td>0.836</td>\n",
       "      <td>0.002</td>\n",
       "    </tr>\n",
       "  </tbody>\n",
       "</table>\n",
       "</div>"
      ],
      "text/plain": [
       "        JHistogram JThreshold JEHistogram KMeans\n",
       "Agama01      0.865      0.942       0.862  0.864\n",
       "Agama02      0.843      0.933       0.838  0.789\n",
       "Agama03      0.910      0.925       0.925  0.855\n",
       "Agama04      0.890      0.908       0.914  0.770\n",
       "Agama05      0.905      0.895       0.918  0.731\n",
       "Agama06      0.906      0.885       0.883  0.648\n",
       "Agama07      0.723      0.825       0.841  0.461\n",
       "Agama08      0.773      0.788       0.825  0.369\n",
       "Agama09      0.752      0.703       0.836  0.002"
      ]
     },
     "execution_count": 34,
     "metadata": {},
     "output_type": "execute_result"
    }
   ],
   "source": [
    "df_prec_bulge"
   ]
  },
  {
   "cell_type": "markdown",
   "metadata": {},
   "source": [
    "# Tabla ReCall"
   ]
  },
  {
   "cell_type": "code",
   "execution_count": 17,
   "metadata": {},
   "outputs": [
    {
     "name": "stdout",
     "output_type": "stream",
     "text": [
      "label cambiado 3 3 label_KMeans\n",
      "label cambiado 4 3 label_KMeans\n",
      "label cambiado 5 3 label_KMeans\n"
     ]
    }
   ],
   "source": [
    "df = pd.DataFrame(columns=['JHistogram', 'JThreshold', 'JEHistogram', 'KMeans'],\n",
    "             index=['Agama01', 'Agama02', 'Agama03', 'Agama04','Agama05', 'Agama06',\n",
    "                    'Agama07', 'Agama08', 'Agama09'])\n",
    "df0 = pd.DataFrame(columns=['JHistogram', 'JThreshold', 'JEHistogram', 'KMeans'],\n",
    "             index=['Agama01', 'Agama02', 'Agama03', 'Agama04','Agama05', 'Agama06',\n",
    "                    'Agama07', 'Agama08', 'Agama09'])\n",
    "#------------------------------------------\n",
    "#def recall(y_true,y_pred):\n",
    "#    cm = confusion_matrix(y_true, y_pred)        \n",
    "#    rec = recall_score(y_true, y_pred)\n",
    "#    return rec\n",
    "\n",
    "#def rec0(y_true,y_pred):\n",
    "#    tn, fp, fn, tp = confusion_matrix(y_true, y_pred).ravel() \n",
    "#    \n",
    "#    rec_lab0=tn/(fp+tn)\n",
    "#    return rec_lab0\n",
    "\n",
    "# Completitud Modificada\n",
    "def rec1(y_true,y_pred):\n",
    "    tn, fp, fn, tp = confusion_matrix(y_true, y_pred).ravel()        \n",
    "    rec = (tp + fp)/(tp + fn)\n",
    "    return rec\n",
    "\n",
    "def rec0(y_true,y_pred):\n",
    "    tn, fp, fn, tp = confusion_matrix(y_true, y_pred).ravel() \n",
    "    \n",
    "    rec_lab0 = (tn + fn)/(fp+tn)\n",
    "    return rec_lab0\n",
    "\n",
    "#------------------------------------------\n",
    "\n",
    "gal = [dfs01,dfs02,dfs03,dfs04,dfs05,dfs06,dfs07,dfs08,dfs09]\n",
    "model = ['label_JHistogram','label_JThreshold','label_JEHistogram','label_KMeans']\n",
    "\n",
    "\n",
    "for idg,g in enumerate(gal):\n",
    "    for idm, m in enumerate(model):\n",
    "        \n",
    "        y_true=g['label_Agama']\n",
    "        #y_pred=dfs01[m]\n",
    "        y_pred=g[m]\n",
    "        if(idg==3 or idg==4 or idg==5):\n",
    "            if(idm==3):\n",
    "                #df--> prec0-----------------------\n",
    "                print('label cambiado',idg,idm, m)\n",
    "                y_pred=np.abs(g[m]-1)\n",
    "        \n",
    "        #df.iloc[idg,idm] = recall(y_true, y_pred) #bulge\n",
    "        df.iloc[idg,idm] = rec1(y_true, y_pred) #bulge\n",
    "        df0.iloc[idg,idm] = rec0(y_true, y_pred) #disk\n",
    "        #print(idg,idm, m)\n",
    "\n",
    "        \n",
    "\n",
    "pd.options.display.float_format = '{:,.3f}'.format\n",
    "\n",
    "df_rec_bulge = df\n",
    "df_rec_disk = df0"
   ]
  },
  {
   "cell_type": "code",
   "execution_count": 18,
   "metadata": {},
   "outputs": [
    {
     "name": "stdout",
     "output_type": "stream",
     "text": [
      "      JHistogram JThreshold JEHistogram KMeans\n",
      "Agama      0.865      0.942       0.862  0.864\n",
      "Agama      0.843      0.933       0.838  0.789\n",
      "Agama      0.910      0.925       0.925  0.855\n",
      "Agama      0.890      0.908       0.914  0.770\n",
      "Agama      0.905      0.895       0.918  0.731\n",
      "Agama      0.906      0.885       0.883  0.648\n",
      "Agama      0.723      0.825       0.841  0.461\n",
      "Agama      0.773      0.788       0.825  0.369\n",
      "Agama      0.752      0.703       0.836  0.002\n"
     ]
    },
    {
     "data": {
      "text/plain": [
       "Text(0.5, 1.0, 'Precision')"
      ]
     },
     "execution_count": 18,
     "metadata": {},
     "output_type": "execute_result"
    },
    {
     "data": {
      "image/png": "[encoded data removed]",
      "text/plain": [
       "<Figure size 576x360 with 2 Axes>"
      ]
     },
     "metadata": {
      "needs_background": "light"
     },
     "output_type": "display_data"
    }
   ],
   "source": [
    "print(df_prec_bulge)\n",
    "df_prec_bulge= df_prec_bulge[df_rec_bulge.columns].astype(float)\n",
    "plt.figure(figsize=(8,5))\n",
    "sns.heatmap(df_prec_bulge, annot=True, vmin=0, vmax=1, center=0.5, cmap='gray')\n",
    "plt.title('Precision', fontsize=16)\n",
    "#plt.savefig('gchop_plots/heatmap_precision.png', dpi=200)"
   ]
  },
  {
   "cell_type": "code",
   "execution_count": 19,
   "metadata": {},
   "outputs": [
    {
     "name": "stdout",
     "output_type": "stream",
     "text": [
      "        JHistogram JThreshold JEHistogram KMeans\n",
      "Agama01      1.004      0.912       1.026  1.090\n",
      "Agama02      0.981      0.876       1.006  1.181\n",
      "Agama03      1.022      1.053       1.056  1.159\n",
      "Agama04      1.017      1.054       1.045  1.279\n",
      "Agama05      1.020      1.094       1.055  1.359\n",
      "Agama06      1.008      1.095       1.043  1.525\n",
      "Agama07      0.983      0.941       1.040  2.078\n",
      "Agama08      0.985      1.101       1.043  2.654\n",
      "Agama09      0.995      1.262       1.066  5.924\n"
     ]
    },
    {
     "data": {
      "text/plain": [
       "Text(0.5, 1.0, 'Recall')"
      ]
     },
     "execution_count": 19,
     "metadata": {},
     "output_type": "execute_result"
    },
    {
     "data": {
      "image/png": "[encoded data removed]",
      "text/plain": [
       "<Figure size 576x360 with 2 Axes>"
      ]
     },
     "metadata": {
      "needs_background": "light"
     },
     "output_type": "display_data"
    }
   ],
   "source": [
    "print(df_rec_bulge)\n",
    "df_rec_bulge= df_rec_bulge[df_rec_bulge.columns].astype(float)\n",
    "\n",
    "plt.figure(figsize=(8,5))\n",
    "sns.heatmap(df_rec_bulge, annot=True, vmin=0, vmax=1, center=0.5, cmap='gray')\n",
    "plt.title('Recall', fontsize=16)\n",
    "\n",
    "#plt.savefig('gchop_plots/heatmap_recall.png', dpi=200)"
   ]
  },
  {
   "cell_type": "code",
   "execution_count": 35,
   "metadata": {},
   "outputs": [
    {
     "data": {
      "text/html": [
       "<div>\n",
       "<style scoped>\n",
       "    .dataframe tbody tr th:only-of-type {\n",
       "        vertical-align: middle;\n",
       "    }\n",
       "\n",
       "    .dataframe tbody tr th {\n",
       "        vertical-align: top;\n",
       "    }\n",
       "\n",
       "    .dataframe thead th {\n",
       "        text-align: right;\n",
       "    }\n",
       "</style>\n",
       "<table border=\"1\" class=\"dataframe\">\n",
       "  <thead>\n",
       "    <tr style=\"text-align: right;\">\n",
       "      <th></th>\n",
       "      <th>JHistogram</th>\n",
       "      <th>JThreshold</th>\n",
       "      <th>JEHistogram</th>\n",
       "      <th>KMeans</th>\n",
       "    </tr>\n",
       "  </thead>\n",
       "  <tbody>\n",
       "    <tr>\n",
       "      <th>Agama01</th>\n",
       "      <td>1.004</td>\n",
       "      <td>0.912</td>\n",
       "      <td>1.026</td>\n",
       "      <td>1.090</td>\n",
       "    </tr>\n",
       "    <tr>\n",
       "      <th>Agama02</th>\n",
       "      <td>0.981</td>\n",
       "      <td>0.876</td>\n",
       "      <td>1.006</td>\n",
       "      <td>1.181</td>\n",
       "    </tr>\n",
       "    <tr>\n",
       "      <th>Agama03</th>\n",
       "      <td>1.022</td>\n",
       "      <td>1.053</td>\n",
       "      <td>1.056</td>\n",
       "      <td>1.159</td>\n",
       "    </tr>\n",
       "    <tr>\n",
       "      <th>Agama04</th>\n",
       "      <td>1.017</td>\n",
       "      <td>1.054</td>\n",
       "      <td>1.045</td>\n",
       "      <td>1.279</td>\n",
       "    </tr>\n",
       "    <tr>\n",
       "      <th>Agama05</th>\n",
       "      <td>1.020</td>\n",
       "      <td>1.094</td>\n",
       "      <td>1.055</td>\n",
       "      <td>1.359</td>\n",
       "    </tr>\n",
       "    <tr>\n",
       "      <th>Agama06</th>\n",
       "      <td>1.008</td>\n",
       "      <td>1.095</td>\n",
       "      <td>1.043</td>\n",
       "      <td>1.525</td>\n",
       "    </tr>\n",
       "    <tr>\n",
       "      <th>Agama07</th>\n",
       "      <td>0.983</td>\n",
       "      <td>0.941</td>\n",
       "      <td>1.040</td>\n",
       "      <td>2.078</td>\n",
       "    </tr>\n",
       "    <tr>\n",
       "      <th>Agama08</th>\n",
       "      <td>0.985</td>\n",
       "      <td>1.101</td>\n",
       "      <td>1.043</td>\n",
       "      <td>2.654</td>\n",
       "    </tr>\n",
       "    <tr>\n",
       "      <th>Agama09</th>\n",
       "      <td>0.995</td>\n",
       "      <td>1.262</td>\n",
       "      <td>1.066</td>\n",
       "      <td>5.924</td>\n",
       "    </tr>\n",
       "  </tbody>\n",
       "</table>\n",
       "</div>"
      ],
      "text/plain": [
       "         JHistogram  JThreshold  JEHistogram  KMeans\n",
       "Agama01       1.004       0.912        1.026   1.090\n",
       "Agama02       0.981       0.876        1.006   1.181\n",
       "Agama03       1.022       1.053        1.056   1.159\n",
       "Agama04       1.017       1.054        1.045   1.279\n",
       "Agama05       1.020       1.094        1.055   1.359\n",
       "Agama06       1.008       1.095        1.043   1.525\n",
       "Agama07       0.983       0.941        1.040   2.078\n",
       "Agama08       0.985       1.101        1.043   2.654\n",
       "Agama09       0.995       1.262        1.066   5.924"
      ]
     },
     "execution_count": 35,
     "metadata": {},
     "output_type": "execute_result"
    }
   ],
   "source": [
    "df_rec_bulge"
   ]
  },
  {
   "cell_type": "markdown",
   "metadata": {},
   "source": [
    "# Plots"
   ]
  },
  {
   "cell_type": "code",
   "execution_count": 49,
   "metadata": {},
   "outputs": [
    {
     "data": {
      "text/plain": [
       "<matplotlib.offsetbox.AnchoredText at 0x7f0ef11dd760>"
      ]
     },
     "execution_count": 49,
     "metadata": {},
     "output_type": "execute_result"
    },
    {
     "data": {
      "image/png": "[encoded data removed]",
      "text/plain": [
       "<Figure size 432x576 with 2 Axes>"
      ]
     },
     "metadata": {
      "needs_background": "light"
     },
     "output_type": "display_data"
    }
   ],
   "source": [
    "fig, (ax1, ax2) = plt.subplots(2, sharex=True,figsize=(6,8))\n",
    "\n",
    "gal = np.array([1,2,3,4,5,6,7,8,9])\n",
    "gal = np.log10(np.array([m1,m2,m3,m4,m5,m6,m7,m8,m9]))\n",
    "\n",
    "JH = df_prec_bulge.iloc[:,0]*100.\n",
    "JT = df_prec_bulge.iloc[:,1]*100.\n",
    "JE = df_prec_bulge.iloc[:,2]*100.\n",
    "KM = df_prec_bulge.iloc[:,3]*100.\n",
    "\n",
    "ax1.plot(gal,JH,'.-',label='JHistogram', color='C0')\n",
    "ax1.plot(gal,JT,'.-',label='JThreshold, $\\epsilon=0.7$', color='C5')\n",
    "ax1.plot(gal,JE,'.-',label='JEHistogram', color='C3')\n",
    "ax1.plot(gal,KM,'.-',label='KMeans, n=2', color='C2')\n",
    "ax1.set_ylim(0.0,105)\n",
    "ax1.set_ylabel('Purity', fontsize=14)\n",
    "ax2.set_xlabel(r'$log_{10}\\,(\\,M^*_{tot}\\,)$', fontsize=14)\n",
    "ax1.legend()\n",
    "\n",
    "at = AnchoredText(\"Bulge\", prop=dict(size=15), frameon=True, loc='upper right')\n",
    "at.patch.set_boxstyle(\"round,pad=0.,rounding_size=0.2\")\n",
    "ax1.add_artist(at)\n",
    "\n",
    "#--------------------------------\n",
    "JH = df_prec_disk.iloc[:,0]*100.\n",
    "JT = df_prec_disk.iloc[:,1]*100.\n",
    "JE = df_prec_disk.iloc[:,2]*100.\n",
    "KM = df_prec_disk.iloc[:,3]*100.\n",
    "#C1:AGMM; C4:GMM\n",
    "ax2.plot(gal,JH,'.-',label='JHistogram', color='C0')\n",
    "ax2.plot(gal,JT,'.-',label='JThreshold, $\\epsilon=0.7$', color='C5')\n",
    "ax2.plot(gal,JE,'.-',label='JEHistogram', color='C3')\n",
    "ax2.plot(gal,KM,'.-',label='KMeans, n=2', color='C2')\n",
    "ax2.set_ylim(0.0,105)\n",
    "ax2.set_ylabel('Purity', fontsize=14)\n",
    "ax2.set_xlabel(r'$log_{10}\\,(\\,M^*_{tot}\\,)$', fontsize=14)\n",
    "ax2.legend()\n",
    "\n",
    "at = AnchoredText(\"Disk\", prop=dict(size=15), frameon=True, loc='upper right')\n",
    "at.patch.set_boxstyle(\"round,pad=0.,rounding_size=0.2\")\n",
    "ax2.add_artist(at)"
   ]
  },
  {
   "cell_type": "code",
   "execution_count": 53,
   "metadata": {},
   "outputs": [
    {
     "data": {
      "text/plain": [
       "<matplotlib.offsetbox.AnchoredText at 0x7f0ef1314d90>"
      ]
     },
     "execution_count": 53,
     "metadata": {},
     "output_type": "execute_result"
    },
    {
     "data": {
      "image/png": "[encoded data removed]",
      "text/plain": [
       "<Figure size 432x576 with 2 Axes>"
      ]
     },
     "metadata": {
      "needs_background": "light"
     },
     "output_type": "display_data"
    }
   ],
   "source": [
    "fig, (ax1, ax2) = plt.subplots(2, sharex=True,figsize=(6,8))\n",
    "\n",
    "gal = np.array([1,2,3,4,5,6,7,8,9])\n",
    "gal = np.log10(np.array([m1,m2,m3,m4,m5,m6,m7,m8,m9]))\n",
    "\n",
    "\n",
    "JH = df_rec_bulge.iloc[:,0]*100.\n",
    "JT = df_rec_bulge.iloc[:,1]*100.\n",
    "JE = df_rec_bulge.iloc[:,2]*100.\n",
    "KM = df_rec_bulge.iloc[:,3]*100.\n",
    "\n",
    "ax1.plot(gal,JH,'.-',label='JHistogram', color='C0')\n",
    "ax1.plot(gal,JT,'.-',label='JThreshold, $\\epsilon=0.7$', color='C5')\n",
    "ax1.plot(gal,JE,'.-',label='JEHistogram', color='C3')\n",
    "ax1.plot(gal,KM,'.-',label='KMeans, n=2', color='C2')\n",
    "ax1.set_ylim(0.0,150)\n",
    "ax1.set_ylabel('Completeness', fontsize=14)\n",
    "ax1.legend()\n",
    "\n",
    "at = AnchoredText(\"Bulge\", prop=dict(size=15), frameon=True, loc='upper right')\n",
    "at.patch.set_boxstyle(\"round,pad=0.,rounding_size=0.2\")\n",
    "ax1.add_artist(at)\n",
    "\n",
    "\n",
    "#--------------------------------\n",
    "JH = df_rec_disk.iloc[:,0]*100.\n",
    "JT = df_rec_disk.iloc[:,1]*100.\n",
    "JE = df_rec_disk.iloc[:,2]*100.\n",
    "KM = df_rec_disk.iloc[:,3]*100.\n",
    "\n",
    "ax2.plot(gal,JH,'.-',label='JHistogram', color='C0')\n",
    "ax2.plot(gal,JT,'.-',label='JThreshold, $\\epsilon=0.7$', color='C5')\n",
    "ax2.plot(gal,JE,'.-',label='JEHistogram', color='C3')\n",
    "ax2.plot(gal,KM,'.-',label='KMeans, n=2', color='C2')\n",
    "ax2.set_ylim(0.0,150)\n",
    "ax2.set_xlabel(r'$log_{10}\\,(\\,M^*_{tot}\\,)$', fontsize=14)\n",
    "ax2.set_ylabel('Completeness', fontsize=14)\n",
    "ax2.legend()\n",
    "\n",
    "at = AnchoredText(\"Disk\", prop=dict(size=15), frameon=True, loc='upper right')\n",
    "at.patch.set_boxstyle(\"round,pad=0.,rounding_size=0.2\")\n",
    "ax2.add_artist(at)"
   ]
  },
  {
   "cell_type": "code",
   "execution_count": null,
   "metadata": {},
   "outputs": [],
   "source": []
  },
  {
   "cell_type": "code",
   "execution_count": null,
   "metadata": {},
   "outputs": [],
   "source": []
  }
 ],
 "metadata": {
  "kernelspec": {
   "display_name": "Python 3",
   "language": "python",
   "name": "python3"
  },
  "language_info": {
   "codemirror_mode": {
    "name": "ipython",
    "version": 3
   },
   "file_extension": ".py",
   "mimetype": "text/x-python",
   "name": "python",
   "nbconvert_exporter": "python",
   "pygments_lexer": "ipython3",
   "version": "3.8.0"
  },
  "toc": {
   "base_numbering": 1,
   "nav_menu": {},
   "number_sections": true,
   "sideBar": true,
   "skip_h1_title": false,
   "title_cell": "Table of Contents",
   "title_sidebar": "Contents",
   "toc_cell": false,
   "toc_position": {
    "height": "calc(100% - 180px)",
    "left": "10px",
    "top": "150px",
    "width": "212.743px"
   },
   "toc_section_display": true,
   "toc_window_display": true
  },
  "varInspector": {
   "cols": {
    "lenName": 16,
    "lenType": 16,
    "lenVar": 40
   },
   "kernels_config": {
    "python": {
     "delete_cmd_postfix": "",
     "delete_cmd_prefix": "del ",
     "library": "var_list.py",
     "varRefreshCmd": "print(var_dic_list())"
    },
    "r": {
     "delete_cmd_postfix": ") ",
     "delete_cmd_prefix": "rm(",
     "library": "var_list.r",
     "varRefreshCmd": "cat(var_dic_list()) "
    }
   },
   "oldHeight": 122,
   "position": {
    "height": "144px",
    "left": "1333px",
    "right": "20px",
    "top": "120px",
    "width": "247px"
   },
   "types_to_exclude": [
    "module",
    "function",
    "builtin_function_or_method",
    "instance",
    "_Feature"
   ],
   "varInspector_section_display": "block",
   "window_display": false
  }
 },
 "nbformat": 4,
 "nbformat_minor": 4
}
