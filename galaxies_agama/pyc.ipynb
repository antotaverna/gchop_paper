{
 "cells": [
  {
   "cell_type": "code",
   "execution_count": 2,
   "metadata": {},
   "outputs": [],
   "source": [
    "#import h5py\n",
    "#import galaxychop as gchop\n",
    "#import uttr\n",
    "#import attr\n",
    "import seaborn as sns\n",
    "import pandas as pd\n",
    "import matplotlib.pylab as plt\n",
    "import numpy as np\n",
    "\n",
    "\n",
    "import pickle"
   ]
  },
  {
   "cell_type": "markdown",
   "metadata": {},
   "source": [
    "# Leo la galaxia"
   ]
  },
  {
   "cell_type": "code",
   "execution_count": 3,
   "metadata": {},
   "outputs": [],
   "source": [
    "df_gal01 = pd.read_pickle('../../datos_gchop_paper/pickle_agama/df_gal01.pkl')"
   ]
  },
  {
   "cell_type": "code",
   "execution_count": 4,
   "metadata": {},
   "outputs": [
    {
     "name": "stdout",
     "output_type": "stream",
     "text": [
      "6250\n"
     ]
    }
   ],
   "source": [
    "print(len(df_gal01))"
   ]
  },
  {
   "cell_type": "code",
   "execution_count": 5,
   "metadata": {},
   "outputs": [
    {
     "data": {
      "text/plain": [
       "Index(['m', 'x', 'y', 'z', 'vx', 'vy', 'vz', 'label_JThreshold',\n",
       "       'label_JHistogram', 'label_JEHistogram', 'label_KMeans',\n",
       "       'label_GaussianMixture', 'probs0_GaussianMixture',\n",
       "       'probs1_GaussianMixture', 'label_AutoGaussianMixture',\n",
       "       'probs0_AutoGaussianMixture', 'probs1_AutoGaussianMixture',\n",
       "       'probs2_AutoGaussianMixture', 'probs3_AutoGaussianMixture',\n",
       "       'label_Agama'],\n",
       "      dtype='object')"
      ]
     },
     "execution_count": 5,
     "metadata": {},
     "output_type": "execute_result"
    }
   ],
   "source": [
    "df_gal01.head(3)\n",
    "df_gal01.keys()"
   ]
  },
  {
   "cell_type": "code",
   "execution_count": 8,
   "metadata": {},
   "outputs": [
    {
     "data": {
      "text/plain": [
       "87"
      ]
     },
     "execution_count": 8,
     "metadata": {},
     "output_type": "execute_result"
    }
   ],
   "source": [
    "df_gal01.label_JHistogram.isna().sum()"
   ]
  },
  {
   "cell_type": "code",
   "execution_count": 9,
   "metadata": {},
   "outputs": [
    {
     "name": "stdout",
     "output_type": "stream",
     "text": [
      "6163\n"
     ]
    }
   ],
   "source": [
    "dfs2 = df_gal01[df_gal01['label_JThreshold'].notna()]\n",
    "print(len(dfs2.label_JThreshold))"
   ]
  },
  {
   "cell_type": "markdown",
   "metadata": {},
   "source": [
    "# Analisis Confusion Matrix (% Particulas)"
   ]
  },
  {
   "cell_type": "code",
   "execution_count": 10,
   "metadata": {},
   "outputs": [],
   "source": [
    "from sklearn.metrics import confusion_matrix\n",
    "from sklearn.metrics import plot_confusion_matrix\n",
    "from sklearn.metrics import precision_recall_fscore_support\n",
    "from sklearn.metrics import precision_score\n",
    "from sklearn.metrics import recall_score"
   ]
  },
  {
   "cell_type": "markdown",
   "metadata": {},
   "source": [
    "## AGAMA vs Threshold"
   ]
  },
  {
   "cell_type": "code",
   "execution_count": 14,
   "metadata": {},
   "outputs": [
    {
     "data": {
      "image/png": "[encoded data removed]",
      "text/plain": [
       "<Figure size 432x288 with 1 Axes>"
      ]
     },
     "metadata": {
      "needs_background": "light"
     },
     "output_type": "display_data"
    }
   ],
   "source": [
    "#sklearn.metrics.confusion_matrix(y_true, y_pred, *, labels=None, sample_weight=None, normalize=None)\n",
    "y_true=dfs2.label_Agama\n",
    "y_pred=dfs2.label_JThreshold   \n",
    "cm = confusion_matrix(y_true, y_pred)\n",
    "cm_per = cm*100/len(y_true)\n",
    "\n",
    "ax= plt.subplot()\n",
    "sns.heatmap(cm,annot=True, cmap='binary', fmt='g', cbar=False, ax=ax)\n",
    "\n",
    "#sns.heatmap(cm_per,annot=True, cmap='binary', fmt='.1f', ax=ax)\n",
    "#for t in ax.texts: t.set_text(t.get_text() + \" %\")\n",
    "\n",
    "ax.set_ylabel('True labels: AGAMA Model');ax.set_xlabel('Predicted labels: Threshold Model'); \n",
    "ax.set_title('Confusion Matrix'); \n",
    "ax.xaxis.set_ticklabels(['Bulge', 'Disk']); ax.yaxis.set_ticklabels(['Bulge', 'Disk']);"
   ]
  },
  {
   "cell_type": "code",
   "execution_count": 13,
   "metadata": {},
   "outputs": [],
   "source": [
    "y_true=dfs2.label_Agama"
   ]
  },
  {
   "cell_type": "code",
   "execution_count": 15,
   "metadata": {},
   "outputs": [
    {
     "name": "stdout",
     "output_type": "stream",
     "text": [
      "Negative 3124\n",
      "Positive 3039\n"
     ]
    }
   ],
   "source": [
    "print('Negative', len(dfs2.label_Agama[dfs2.label_Agama==0]))\n",
    "print('Positive', len(dfs2.label_Agama[dfs2.label_Agama==1]))"
   ]
  },
  {
   "cell_type": "code",
   "execution_count": null,
   "metadata": {},
   "outputs": [],
   "source": []
  },
  {
   "cell_type": "markdown",
   "metadata": {},
   "source": [
    "\n",
    " \n",
    "|              |Predicted  |                       |\n",
    "|--------------|-----------|-----------------------|\n",
    "|Tot = P+N     | Predicted Positive      | Predicted Negative  |\n",
    "|--------------|-----------|-----------------------|\n",
    "| Positive (Ptot)    | True Positive (TP)      | False Negative (FN)  |\n",
    "| Negative  (Ntot)   | False Positive (FP)     | True Negative (TN)   |\n",
    "|--------------|-----------|-----------------------|\n"
   ]
  },
  {
   "cell_type": "markdown",
   "metadata": {},
   "source": [
    "### Precision (Positive Predictive Value PPV)\n",
    "PPV = TP / (TP + FP) \n",
    "\n",
    "The precision is intuitively the ability of the classifier not to label a negative sample as positive."
   ]
  },
  {
   "cell_type": "code",
   "execution_count": 16,
   "metadata": {},
   "outputs": [
    {
     "data": {
      "text/plain": [
       "0.9422591122338506"
      ]
     },
     "execution_count": 16,
     "metadata": {},
     "output_type": "execute_result"
    }
   ],
   "source": [
    "precision_score(y_true, y_pred)"
   ]
  },
  {
   "cell_type": "markdown",
   "metadata": {},
   "source": [
    "### Recall (True Positive Rate TPR)\n",
    "TPR = TP / Ptot = TP / (TP + FN)\n",
    "\n",
    "The recall is intuitively the ability of the classifier to find all the positive samples."
   ]
  },
  {
   "cell_type": "code",
   "execution_count": 17,
   "metadata": {},
   "outputs": [
    {
     "data": {
      "text/plain": [
       "0.8591641987495887"
      ]
     },
     "execution_count": 17,
     "metadata": {},
     "output_type": "execute_result"
    }
   ],
   "source": [
    "recall_score(y_true, y_pred)"
   ]
  },
  {
   "cell_type": "code",
   "execution_count": null,
   "metadata": {},
   "outputs": [],
   "source": []
  },
  {
   "cell_type": "markdown",
   "metadata": {},
   "source": [
    "# Tabla Precision"
   ]
  },
  {
   "cell_type": "code",
   "execution_count": null,
   "metadata": {},
   "outputs": [],
   "source": []
  },
  {
   "cell_type": "code",
   "execution_count": 19,
   "metadata": {},
   "outputs": [
    {
     "data": {
      "text/html": [
       "<div>\n",
       "<style scoped>\n",
       "    .dataframe tbody tr th:only-of-type {\n",
       "        vertical-align: middle;\n",
       "    }\n",
       "\n",
       "    .dataframe tbody tr th {\n",
       "        vertical-align: top;\n",
       "    }\n",
       "\n",
       "    .dataframe thead th {\n",
       "        text-align: right;\n",
       "    }\n",
       "</style>\n",
       "<table border=\"1\" class=\"dataframe\">\n",
       "  <thead>\n",
       "    <tr style=\"text-align: right;\">\n",
       "      <th></th>\n",
       "      <th>JHistogram</th>\n",
       "      <th>JThreshold</th>\n",
       "      <th>JEHistogram</th>\n",
       "      <th>KMeans</th>\n",
       "    </tr>\n",
       "  </thead>\n",
       "  <tbody>\n",
       "    <tr>\n",
       "      <th>JHistogram</th>\n",
       "      <td>NaN</td>\n",
       "      <td>NaN</td>\n",
       "      <td>NaN</td>\n",
       "      <td>NaN</td>\n",
       "    </tr>\n",
       "    <tr>\n",
       "      <th>JThreshold</th>\n",
       "      <td>NaN</td>\n",
       "      <td>NaN</td>\n",
       "      <td>NaN</td>\n",
       "      <td>NaN</td>\n",
       "    </tr>\n",
       "    <tr>\n",
       "      <th>JEHistogram</th>\n",
       "      <td>NaN</td>\n",
       "      <td>NaN</td>\n",
       "      <td>NaN</td>\n",
       "      <td>NaN</td>\n",
       "    </tr>\n",
       "    <tr>\n",
       "      <th>KMeans</th>\n",
       "      <td>NaN</td>\n",
       "      <td>NaN</td>\n",
       "      <td>NaN</td>\n",
       "      <td>NaN</td>\n",
       "    </tr>\n",
       "  </tbody>\n",
       "</table>\n",
       "</div>"
      ],
      "text/plain": [
       "            JHistogram JThreshold JEHistogram KMeans\n",
       "JHistogram         NaN        NaN         NaN    NaN\n",
       "JThreshold         NaN        NaN         NaN    NaN\n",
       "JEHistogram        NaN        NaN         NaN    NaN\n",
       "KMeans             NaN        NaN         NaN    NaN"
      ]
     },
     "execution_count": 19,
     "metadata": {},
     "output_type": "execute_result"
    }
   ],
   "source": [
    "df = pd.DataFrame(columns=['JHistogram', 'JThreshold', 'JEHistogram', 'KMeans'],\n",
    "             index=['JHistogram', 'JThreshold', 'JEHistogram', 'KMeans'])\n",
    "df"
   ]
  },
  {
   "cell_type": "code",
   "execution_count": 18,
   "metadata": {},
   "outputs": [
    {
     "data": {
      "text/html": [
       "<div>\n",
       "<style scoped>\n",
       "    .dataframe tbody tr th:only-of-type {\n",
       "        vertical-align: middle;\n",
       "    }\n",
       "\n",
       "    .dataframe tbody tr th {\n",
       "        vertical-align: top;\n",
       "    }\n",
       "\n",
       "    .dataframe thead th {\n",
       "        text-align: right;\n",
       "    }\n",
       "</style>\n",
       "<table border=\"1\" class=\"dataframe\">\n",
       "  <thead>\n",
       "    <tr style=\"text-align: right;\">\n",
       "      <th></th>\n",
       "      <th>JHistogram</th>\n",
       "      <th>JThreshold</th>\n",
       "      <th>JEHistogram</th>\n",
       "      <th>KMeans</th>\n",
       "    </tr>\n",
       "  </thead>\n",
       "  <tbody>\n",
       "    <tr>\n",
       "      <th>JHistogram</th>\n",
       "      <td>1.000</td>\n",
       "      <td>0.770</td>\n",
       "      <td>0.950</td>\n",
       "      <td>0.869</td>\n",
       "    </tr>\n",
       "    <tr>\n",
       "      <th>JThreshold</th>\n",
       "      <td>0.988</td>\n",
       "      <td>1.000</td>\n",
       "      <td>0.989</td>\n",
       "      <td>1.000</td>\n",
       "    </tr>\n",
       "    <tr>\n",
       "      <th>JEHistogram</th>\n",
       "      <td>0.948</td>\n",
       "      <td>0.769</td>\n",
       "      <td>1.000</td>\n",
       "      <td>0.871</td>\n",
       "    </tr>\n",
       "    <tr>\n",
       "      <th>KMeans</th>\n",
       "      <td>0.979</td>\n",
       "      <td>0.878</td>\n",
       "      <td>0.983</td>\n",
       "      <td>1.000</td>\n",
       "    </tr>\n",
       "  </tbody>\n",
       "</table>\n",
       "</div>"
      ],
      "text/plain": [
       "            JHistogram JThreshold JEHistogram KMeans\n",
       "JHistogram       1.000      0.770       0.950  0.869\n",
       "JThreshold       0.988      1.000       0.989  1.000\n",
       "JEHistogram      0.948      0.769       1.000  0.871\n",
       "KMeans           0.979      0.878       0.983  1.000"
      ]
     },
     "execution_count": 18,
     "metadata": {},
     "output_type": "execute_result"
    }
   ],
   "source": [
    "def recall(y_true,y_pred):\n",
    "    cm = confusion_matrix(y_true, y_pred)        \n",
    "    rec = recall_score(y_true, y_pred)\n",
    "    return rec\n",
    "\n",
    "df = pd.DataFrame(columns=['JHistogram', 'JThreshold', 'JEHistogram', 'KMeans'],\n",
    "             index=['JHistogram', 'JThreshold', 'JEHistogram', 'KMeans'])\n",
    "\n",
    "############ Fila 1 ##############################    \n",
    "y_true=dfs2.lab_ab; y_pred=dfs2.lab_ab\n",
    "df.iloc[0,0] = recall(y_true, y_pred)\n",
    "\n",
    "y_true=dfs2.lab_ab; y_pred=dfs2.lab_th\n",
    "df.iloc[0,1] = recall(y_true, y_pred)\n",
    "\n",
    "y_true=dfs2.lab_ab; y_pred=dfs2.lab_cr\n",
    "df.iloc[0,2] = recall(y_true, y_pred)\n",
    "    \n",
    "y_true=dfs2.lab_ab; y_pred=dfs2.lab_km\n",
    "df.iloc[0,3] = recall(y_true, y_pred)\n",
    "\n",
    "\n",
    "\n",
    "pd.options.display.float_format = '{:,.3f}'.format\n",
    "\n",
    "df_rec = df\n",
    "df_rec"
   ]
  },
  {
   "cell_type": "code",
   "execution_count": 19,
   "metadata": {},
   "outputs": [
    {
     "name": "stdout",
     "output_type": "stream",
     "text": [
      "            JHistogram JThreshold JEHistogram KMeans\n",
      "JHistogram       1.000      0.988       0.948  0.979\n",
      "JThreshold       0.770      1.000       0.769  0.878\n",
      "JEHistogram      0.950      0.989       1.000  0.983\n",
      "KMeans           0.869      1.000       0.871  1.000\n"
     ]
    },
    {
     "data": {
      "text/plain": [
       "Text(0.5, 1.0, 'Precision')"
      ]
     },
     "execution_count": 19,
     "metadata": {},
     "output_type": "execute_result"
    },
    {
     "data": {
      "image/png": "[encoded data removed]",
      "text/plain": [
       "<Figure size 576x360 with 2 Axes>"
      ]
     },
     "metadata": {
      "needs_background": "light"
     },
     "output_type": "display_data"
    }
   ],
   "source": [
    "print(df_prec)\n",
    "df_prec= df_prec[df_rec.columns].astype(float)\n",
    "plt.figure(figsize=(8,5))\n",
    "sns.heatmap(df_prec, annot=True, vmin=0, vmax=1, center=0.5, cmap='gray')\n",
    "plt.title('Precision', fontsize=16)\n",
    "#plt.savefig('gchop_plots/heatmap_precision.png', dpi=200)"
   ]
  },
  {
   "cell_type": "code",
   "execution_count": 20,
   "metadata": {},
   "outputs": [
    {
     "name": "stdout",
     "output_type": "stream",
     "text": [
      "            JHistogram JThreshold JEHistogram KMeans\n",
      "JHistogram       1.000      0.770       0.950  0.869\n",
      "JThreshold       0.988      1.000       0.989  1.000\n",
      "JEHistogram      0.948      0.769       1.000  0.871\n",
      "KMeans           0.979      0.878       0.983  1.000\n"
     ]
    },
    {
     "data": {
      "text/plain": [
       "Text(0.5, 1.0, 'Recall')"
      ]
     },
     "execution_count": 20,
     "metadata": {},
     "output_type": "execute_result"
    },
    {
     "data": {
      "image/png": "[encoded data removed]",
      "text/plain": [
       "<Figure size 576x360 with 2 Axes>"
      ]
     },
     "metadata": {
      "needs_background": "light"
     },
     "output_type": "display_data"
    }
   ],
   "source": [
    "print(df_rec)\n",
    "df_rec= df_rec[df_rec.columns].astype(float)\n",
    "\n",
    "plt.figure(figsize=(8,5))\n",
    "sns.heatmap(df_rec, annot=True, vmin=0, vmax=1, center=0.5, cmap='gray')\n",
    "plt.title('Recall', fontsize=16)\n",
    "\n",
    "#plt.savefig('gchop_plots/heatmap_recall.png', dpi=200)"
   ]
  },
  {
   "cell_type": "code",
   "execution_count": null,
   "metadata": {
    "scrolled": false
   },
   "outputs": [],
   "source": [
    "\n"
   ]
  },
  {
   "cell_type": "code",
   "execution_count": null,
   "metadata": {},
   "outputs": [],
   "source": []
  },
  {
   "cell_type": "code",
   "execution_count": null,
   "metadata": {},
   "outputs": [],
   "source": []
  },
  {
   "cell_type": "code",
   "execution_count": null,
   "metadata": {},
   "outputs": [],
   "source": []
  },
  {
   "cell_type": "code",
   "execution_count": null,
   "metadata": {},
   "outputs": [],
   "source": []
  },
  {
   "cell_type": "code",
   "execution_count": 21,
   "metadata": {},
   "outputs": [
    {
     "data": {
      "text/plain": [
       "Text(33.0, 0.5, 'KMeans')"
      ]
     },
     "execution_count": 21,
     "metadata": {},
     "output_type": "execute_result"
    },
    {
     "data": {
      "image/png": "[encoded data removed]",
      "text/plain": [
       "<Figure size 432x288 with 16 Axes>"
      ]
     },
     "metadata": {
      "needs_background": "light"
     },
     "output_type": "display_data"
    }
   ],
   "source": [
    "def plotter(y_true,y_pred,ax):\n",
    "    cm = confusion_matrix(y_true, y_pred); cm_per = cm*100/len(y_true)\n",
    "    sns.heatmap(cm_per,annot=True, cmap='binary', fmt='.1f', annot_kws={\"size\": 7},\n",
    "                vmin=0, vmax=100, center=50, cbar=False, ax=ax)\n",
    "    for t in ax.texts: t.set_text(t.get_text() + \" %\")\n",
    "\n",
    "    return ax\n",
    "\n",
    "\n",
    "\n",
    "fig,axes = plt.subplots(4, 4, sharex=True, sharey=True)\n",
    "fig.subplots_adjust(hspace=0.4,wspace=0.4)\n",
    "#axes\n",
    "ax1=axes[0,0]; ax2=axes[0,1]; ax3=axes[0,2]; ax4=axes[0,3]#; ax5=axes[0,4]\n",
    "ax6=axes[1,0]; ax7=axes[1,1]; ax8=axes[1,2]; ax9=axes[1,3]#; ax10=axes[1,4]\n",
    "ax11=axes[2,0]; ax12=axes[2,1]; ax13=axes[2,2]; ax14=axes[2,3]#; ax15=axes[2,4]\n",
    "ax16=axes[3,0]; ax17=axes[3,1]; ax18=axes[3,2]; ax19=axes[3,3]#; ax20=axes[3,4]\n",
    "#ax21=axes[4,0]; ax22=axes[4,1]; ax23=axes[4,2]; ax24=axes[4,3]; ax25=axes[4,4]\n",
    "\n",
    "############ Fila 1 ##############################    \n",
    "y_true=dfs2.lab_ab; y_pred=dfs2.lab_ab\n",
    "plotter(y_true, y_pred, ax1)\n",
    "\n",
    "y_true=dfs2.lab_ab; y_pred=dfs2.lab_th\n",
    "plotter(y_true, y_pred, ax2)\n",
    "\n",
    "y_true=dfs2.lab_ab; y_pred=dfs2.lab_cr\n",
    "plotter(y_true, y_pred, ax3)\n",
    "    \n",
    "y_true=dfs2.lab_ab; y_pred=dfs2.lab_km\n",
    "plotter(y_true, y_pred, ax4)\n",
    "\n",
    "\n",
    "############ Fila 2 ############################## \n",
    "y_true=dfs2.lab_th; y_pred=dfs2.lab_ab\n",
    "plotter(y_true, y_pred, ax6)\n",
    "\n",
    "y_true=dfs2.lab_th; y_pred=dfs2.lab_th\n",
    "plotter(y_true, y_pred, ax7)\n",
    "\n",
    "y_true=dfs2.lab_th; y_pred=dfs2.lab_cr\n",
    "plotter(y_true, y_pred, ax8)\n",
    "\n",
    "y_true=dfs2.lab_th; y_pred=dfs2.lab_km\n",
    "plotter(y_true, y_pred, ax9)\n",
    "\n",
    "\n",
    "############ Fila 3 ##############################   \n",
    "y_true=dfs2.lab_cr; y_pred=dfs2.lab_ab\n",
    "plotter(y_true, y_pred, ax11)\n",
    "\n",
    "y_true=dfs2.lab_cr; y_pred=dfs2.lab_th\n",
    "plotter(y_true, y_pred, ax12)\n",
    "\n",
    "y_true=dfs2.lab_cr; y_pred=dfs2.lab_cr\n",
    "plotter(y_true, y_pred, ax13)\n",
    "\n",
    "y_true=dfs2.lab_cr; y_pred=dfs2.lab_km\n",
    "plotter(y_true, y_pred, ax14)\n",
    "\n",
    "\n",
    "############ Fila 4 ##############################  \n",
    "y_true=dfs2.lab_km; y_pred=dfs2.lab_ab\n",
    "plotter(y_true, y_pred, ax16)\n",
    "\n",
    "y_true=dfs2.lab_km; y_pred=dfs2.lab_th\n",
    "plotter(y_true, y_pred, ax17)\n",
    "\n",
    "y_true=dfs2.lab_km; y_pred=dfs2.lab_cr\n",
    "plotter(y_true, y_pred, ax18)\n",
    "\n",
    "y_true=dfs2.lab_km; y_pred=dfs2.lab_km\n",
    "plotter(y_true, y_pred, ax19)\n",
    "\n",
    "\n",
    "########################################## \n",
    "#Tick-label\n",
    "ax16.xaxis.set_ticklabels(['B', 'D'])\n",
    "ax16.yaxis.set_ticklabels(['B', 'D']);\n",
    "\n",
    "#Title\n",
    "ax1.set_title('JHistogram', fontsize=8)\n",
    "ax2.set_title('JThreshold', fontsize=8)\n",
    "ax3.set_title('JEHistogram', fontsize=8)\n",
    "ax4.set_title('KMeans', fontsize=8)\n",
    "#ax5.set_title('GMM', fontsize=10)\n",
    "ax1.set_ylabel('JHistogram', fontsize=8)\n",
    "ax6.set_ylabel('JThreshold', fontsize=8) \n",
    "ax11.set_ylabel('JEHistogram', fontsize=8) \n",
    "ax16.set_ylabel('KMeans', fontsize=8) \n",
    "#ax21.set_ylabel('GMM', fontsize=10) \n",
    "\n",
    "#cbar_ax = fig.add_axes([1.1, .3, .03, .4])\n",
    "\n",
    "#plt.savefig('gchop_plots/matrix_perc_part.png', dpi=200)"
   ]
  },
  {
   "cell_type": "code",
   "execution_count": null,
   "metadata": {},
   "outputs": [],
   "source": []
  }
 ],
 "metadata": {
  "kernelspec": {
   "display_name": "Python 3",
   "language": "python",
   "name": "python3"
  },
  "language_info": {
   "codemirror_mode": {
    "name": "ipython",
    "version": 3
   },
   "file_extension": ".py",
   "mimetype": "text/x-python",
   "name": "python",
   "nbconvert_exporter": "python",
   "pygments_lexer": "ipython3",
   "version": "3.9.0"
  },
  "toc": {
   "base_numbering": 1,
   "nav_menu": {},
   "number_sections": true,
   "sideBar": true,
   "skip_h1_title": false,
   "title_cell": "Table of Contents",
   "title_sidebar": "Contents",
   "toc_cell": false,
   "toc_position": {
    "height": "calc(100% - 180px)",
    "left": "10px",
    "top": "150px",
    "width": "212.743px"
   },
   "toc_section_display": true,
   "toc_window_display": true
  },
  "varInspector": {
   "cols": {
    "lenName": 16,
    "lenType": 16,
    "lenVar": 40
   },
   "kernels_config": {
    "python": {
     "delete_cmd_postfix": "",
     "delete_cmd_prefix": "del ",
     "library": "var_list.py",
     "varRefreshCmd": "print(var_dic_list())"
    },
    "r": {
     "delete_cmd_postfix": ") ",
     "delete_cmd_prefix": "rm(",
     "library": "var_list.r",
     "varRefreshCmd": "cat(var_dic_list()) "
    }
   },
   "oldHeight": 122,
   "position": {
    "height": "144px",
    "left": "1333px",
    "right": "20px",
    "top": "120px",
    "width": "247px"
   },
   "types_to_exclude": [
    "module",
    "function",
    "builtin_function_or_method",
    "instance",
    "_Feature"
   ],
   "varInspector_section_display": "block",
   "window_display": false
  }
 },
 "nbformat": 4,
 "nbformat_minor": 4
}
