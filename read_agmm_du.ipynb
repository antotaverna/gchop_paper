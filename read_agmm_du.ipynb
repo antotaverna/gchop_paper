{
 "cells": [
  {
   "cell_type": "code",
   "execution_count": 1,
   "metadata": {},
   "outputs": [],
   "source": [
    "import h5py\n",
    "import galaxychop as gchop\n",
    "import uttr\n",
    "import attr\n",
    "import seaborn as sns\n",
    "import pandas as pd\n",
    "import matplotlib.pylab as plt\n",
    "import numpy as np"
   ]
  },
  {
   "cell_type": "markdown",
   "metadata": {},
   "source": [
    "# AutoGMM galaxias Du\n",
    "## gal0= ID394242"
   ]
  },
  {
   "cell_type": "code",
   "execution_count": 2,
   "metadata": {},
   "outputs": [
    {
     "data": {
      "text/html": [
       "<div>\n",
       "<style scoped>\n",
       "    .dataframe tbody tr th:only-of-type {\n",
       "        vertical-align: middle;\n",
       "    }\n",
       "\n",
       "    .dataframe tbody tr th {\n",
       "        vertical-align: top;\n",
       "    }\n",
       "\n",
       "    .dataframe thead tr th {\n",
       "        text-align: left;\n",
       "    }\n",
       "</style>\n",
       "<table border=\"1\" class=\"dataframe\">\n",
       "  <thead>\n",
       "    <tr>\n",
       "      <th></th>\n",
       "      <th colspan=\"2\" halign=\"left\">Particles</th>\n",
       "      <th colspan=\"2\" halign=\"left\">Deterministic mass</th>\n",
       "      <th colspan=\"2\" halign=\"left\">Probabilistic mass</th>\n",
       "    </tr>\n",
       "    <tr>\n",
       "      <th></th>\n",
       "      <th>Size</th>\n",
       "      <th>Fraction</th>\n",
       "      <th>Size</th>\n",
       "      <th>Fraction</th>\n",
       "      <th>Size</th>\n",
       "      <th>Fraction</th>\n",
       "    </tr>\n",
       "  </thead>\n",
       "  <tbody>\n",
       "    <tr>\n",
       "      <th>Halo</th>\n",
       "      <td>5250</td>\n",
       "      <td>0.140815</td>\n",
       "      <td>5.201077e+09</td>\n",
       "      <td>0.139387</td>\n",
       "      <td>5.950288e+09</td>\n",
       "      <td>0.159466</td>\n",
       "    </tr>\n",
       "    <tr>\n",
       "      <th>Bulge</th>\n",
       "      <td>5393</td>\n",
       "      <td>0.144650</td>\n",
       "      <td>5.025193e+09</td>\n",
       "      <td>0.134674</td>\n",
       "      <td>5.101539e+09</td>\n",
       "      <td>0.136720</td>\n",
       "    </tr>\n",
       "    <tr>\n",
       "      <th>Cold disk</th>\n",
       "      <td>8034</td>\n",
       "      <td>0.215487</td>\n",
       "      <td>8.638154e+09</td>\n",
       "      <td>0.231500</td>\n",
       "      <td>8.235943e+09</td>\n",
       "      <td>0.220721</td>\n",
       "    </tr>\n",
       "    <tr>\n",
       "      <th>Warm disk</th>\n",
       "      <td>18606</td>\n",
       "      <td>0.499048</td>\n",
       "      <td>1.844939e+10</td>\n",
       "      <td>0.494439</td>\n",
       "      <td>1.802604e+10</td>\n",
       "      <td>0.483093</td>\n",
       "    </tr>\n",
       "  </tbody>\n",
       "</table>\n",
       "</div>"
      ],
      "text/plain": [
       "          Particles           Deterministic mass           Probabilistic mass  \\\n",
       "               Size  Fraction               Size  Fraction               Size   \n",
       "Halo           5250  0.140815       5.201077e+09  0.139387       5.950288e+09   \n",
       "Bulge          5393  0.144650       5.025193e+09  0.134674       5.101539e+09   \n",
       "Cold disk      8034  0.215487       8.638154e+09  0.231500       8.235943e+09   \n",
       "Warm disk     18606  0.499048       1.844939e+10  0.494439       1.802604e+10   \n",
       "\n",
       "                     \n",
       "           Fraction  \n",
       "Halo       0.159466  \n",
       "Bulge      0.136720  \n",
       "Cold disk  0.220721  \n",
       "Warm disk  0.483093  "
      ]
     },
     "execution_count": 2,
     "metadata": {},
     "output_type": "execute_result"
    }
   ],
   "source": [
    "describe_gal0 = pd.read_pickle('describe_agmm_gal394242_rvir.pkl')\n",
    "describe_gal0"
   ]
  },
  {
   "cell_type": "code",
   "execution_count": 3,
   "metadata": {},
   "outputs": [
    {
     "data": {
      "text/plain": [
       "Particles           Size        3.728300e+04\n",
       "                    Fraction    1.000000e+00\n",
       "Deterministic mass  Size        3.731381e+10\n",
       "                    Fraction    1.000000e+00\n",
       "Probabilistic mass  Size        3.731381e+10\n",
       "                    Fraction    1.000000e+00\n",
       "dtype: float64"
      ]
     },
     "execution_count": 3,
     "metadata": {},
     "output_type": "execute_result"
    }
   ],
   "source": [
    "describe_gal0.sum()"
   ]
  },
  {
   "cell_type": "markdown",
   "metadata": {},
   "source": [
    "## gal1 = ID250391"
   ]
  },
  {
   "cell_type": "code",
   "execution_count": 4,
   "metadata": {},
   "outputs": [
    {
     "data": {
      "text/html": [
       "<div>\n",
       "<style scoped>\n",
       "    .dataframe tbody tr th:only-of-type {\n",
       "        vertical-align: middle;\n",
       "    }\n",
       "\n",
       "    .dataframe tbody tr th {\n",
       "        vertical-align: top;\n",
       "    }\n",
       "\n",
       "    .dataframe thead tr th {\n",
       "        text-align: left;\n",
       "    }\n",
       "</style>\n",
       "<table border=\"1\" class=\"dataframe\">\n",
       "  <thead>\n",
       "    <tr>\n",
       "      <th></th>\n",
       "      <th colspan=\"2\" halign=\"left\">Particles</th>\n",
       "      <th colspan=\"2\" halign=\"left\">Deterministic mass</th>\n",
       "      <th colspan=\"2\" halign=\"left\">Probabilistic mass</th>\n",
       "    </tr>\n",
       "    <tr>\n",
       "      <th></th>\n",
       "      <th>Size</th>\n",
       "      <th>Fraction</th>\n",
       "      <th>Size</th>\n",
       "      <th>Fraction</th>\n",
       "      <th>Size</th>\n",
       "      <th>Fraction</th>\n",
       "    </tr>\n",
       "  </thead>\n",
       "  <tbody>\n",
       "    <tr>\n",
       "      <th>Halo</th>\n",
       "      <td>7558</td>\n",
       "      <td>0.225048</td>\n",
       "      <td>7.329173e+09</td>\n",
       "      <td>0.215661</td>\n",
       "      <td>7.719910e+09</td>\n",
       "      <td>0.227158</td>\n",
       "    </tr>\n",
       "    <tr>\n",
       "      <th>Bulge</th>\n",
       "      <td>5832</td>\n",
       "      <td>0.173654</td>\n",
       "      <td>5.609145e+09</td>\n",
       "      <td>0.165049</td>\n",
       "      <td>5.524477e+09</td>\n",
       "      <td>0.162557</td>\n",
       "    </tr>\n",
       "    <tr>\n",
       "      <th>Cold disk</th>\n",
       "      <td>9961</td>\n",
       "      <td>0.296600</td>\n",
       "      <td>1.082229e+10</td>\n",
       "      <td>0.318445</td>\n",
       "      <td>1.047298e+10</td>\n",
       "      <td>0.308167</td>\n",
       "    </tr>\n",
       "    <tr>\n",
       "      <th>Warm disk</th>\n",
       "      <td>10233</td>\n",
       "      <td>0.304699</td>\n",
       "      <td>1.022416e+10</td>\n",
       "      <td>0.300845</td>\n",
       "      <td>1.026740e+10</td>\n",
       "      <td>0.302118</td>\n",
       "    </tr>\n",
       "  </tbody>\n",
       "</table>\n",
       "</div>"
      ],
      "text/plain": [
       "          Particles           Deterministic mass           Probabilistic mass  \\\n",
       "               Size  Fraction               Size  Fraction               Size   \n",
       "Halo           7558  0.225048       7.329173e+09  0.215661       7.719910e+09   \n",
       "Bulge          5832  0.173654       5.609145e+09  0.165049       5.524477e+09   \n",
       "Cold disk      9961  0.296600       1.082229e+10  0.318445       1.047298e+10   \n",
       "Warm disk     10233  0.304699       1.022416e+10  0.300845       1.026740e+10   \n",
       "\n",
       "                     \n",
       "           Fraction  \n",
       "Halo       0.227158  \n",
       "Bulge      0.162557  \n",
       "Cold disk  0.308167  \n",
       "Warm disk  0.302118  "
      ]
     },
     "execution_count": 4,
     "metadata": {},
     "output_type": "execute_result"
    }
   ],
   "source": [
    "describe_gal1 = pd.read_pickle('describe_agmm_gal250391_rvir.pkl')\n",
    "describe_gal1"
   ]
  },
  {
   "cell_type": "markdown",
   "metadata": {},
   "source": [
    "## gal2 = ID526667"
   ]
  },
  {
   "cell_type": "code",
   "execution_count": 5,
   "metadata": {},
   "outputs": [
    {
     "data": {
      "text/html": [
       "<div>\n",
       "<style scoped>\n",
       "    .dataframe tbody tr th:only-of-type {\n",
       "        vertical-align: middle;\n",
       "    }\n",
       "\n",
       "    .dataframe tbody tr th {\n",
       "        vertical-align: top;\n",
       "    }\n",
       "\n",
       "    .dataframe thead tr th {\n",
       "        text-align: left;\n",
       "    }\n",
       "</style>\n",
       "<table border=\"1\" class=\"dataframe\">\n",
       "  <thead>\n",
       "    <tr>\n",
       "      <th></th>\n",
       "      <th colspan=\"2\" halign=\"left\">Particles</th>\n",
       "      <th colspan=\"2\" halign=\"left\">Deterministic mass</th>\n",
       "      <th colspan=\"2\" halign=\"left\">Probabilistic mass</th>\n",
       "    </tr>\n",
       "    <tr>\n",
       "      <th></th>\n",
       "      <th>Size</th>\n",
       "      <th>Fraction</th>\n",
       "      <th>Size</th>\n",
       "      <th>Fraction</th>\n",
       "      <th>Size</th>\n",
       "      <th>Fraction</th>\n",
       "    </tr>\n",
       "  </thead>\n",
       "  <tbody>\n",
       "    <tr>\n",
       "      <th>Halo</th>\n",
       "      <td>12694</td>\n",
       "      <td>0.367133</td>\n",
       "      <td>1.214339e+10</td>\n",
       "      <td>0.364054</td>\n",
       "      <td>1.226672e+10</td>\n",
       "      <td>0.367752</td>\n",
       "    </tr>\n",
       "    <tr>\n",
       "      <th>Bulge</th>\n",
       "      <td>10407</td>\n",
       "      <td>0.300989</td>\n",
       "      <td>9.608276e+09</td>\n",
       "      <td>0.288053</td>\n",
       "      <td>9.378327e+09</td>\n",
       "      <td>0.281159</td>\n",
       "    </tr>\n",
       "    <tr>\n",
       "      <th>Cold disk</th>\n",
       "      <td>8395</td>\n",
       "      <td>0.242798</td>\n",
       "      <td>8.596038e+09</td>\n",
       "      <td>0.257706</td>\n",
       "      <td>8.278663e+09</td>\n",
       "      <td>0.248191</td>\n",
       "    </tr>\n",
       "    <tr>\n",
       "      <th>Warm disk</th>\n",
       "      <td>3080</td>\n",
       "      <td>0.089079</td>\n",
       "      <td>3.008283e+09</td>\n",
       "      <td>0.090187</td>\n",
       "      <td>3.432279e+09</td>\n",
       "      <td>0.102898</td>\n",
       "    </tr>\n",
       "  </tbody>\n",
       "</table>\n",
       "</div>"
      ],
      "text/plain": [
       "          Particles           Deterministic mass           Probabilistic mass  \\\n",
       "               Size  Fraction               Size  Fraction               Size   \n",
       "Halo          12694  0.367133       1.214339e+10  0.364054       1.226672e+10   \n",
       "Bulge         10407  0.300989       9.608276e+09  0.288053       9.378327e+09   \n",
       "Cold disk      8395  0.242798       8.596038e+09  0.257706       8.278663e+09   \n",
       "Warm disk      3080  0.089079       3.008283e+09  0.090187       3.432279e+09   \n",
       "\n",
       "                     \n",
       "           Fraction  \n",
       "Halo       0.367752  \n",
       "Bulge      0.281159  \n",
       "Cold disk  0.248191  \n",
       "Warm disk  0.102898  "
      ]
     },
     "execution_count": 5,
     "metadata": {},
     "output_type": "execute_result"
    }
   ],
   "source": [
    "describe_gal2 = pd.read_pickle('describe_agmm_gal526667_rvir.pkl')\n",
    "describe_gal2"
   ]
  },
  {
   "cell_type": "markdown",
   "metadata": {},
   "source": [
    "## gal3 = ID128397"
   ]
  },
  {
   "cell_type": "code",
   "execution_count": 6,
   "metadata": {},
   "outputs": [
    {
     "data": {
      "text/html": [
       "<div>\n",
       "<style scoped>\n",
       "    .dataframe tbody tr th:only-of-type {\n",
       "        vertical-align: middle;\n",
       "    }\n",
       "\n",
       "    .dataframe tbody tr th {\n",
       "        vertical-align: top;\n",
       "    }\n",
       "\n",
       "    .dataframe thead tr th {\n",
       "        text-align: left;\n",
       "    }\n",
       "</style>\n",
       "<table border=\"1\" class=\"dataframe\">\n",
       "  <thead>\n",
       "    <tr>\n",
       "      <th></th>\n",
       "      <th colspan=\"2\" halign=\"left\">Particles</th>\n",
       "      <th colspan=\"2\" halign=\"left\">Deterministic mass</th>\n",
       "      <th colspan=\"2\" halign=\"left\">Probabilistic mass</th>\n",
       "    </tr>\n",
       "    <tr>\n",
       "      <th></th>\n",
       "      <th>Size</th>\n",
       "      <th>Fraction</th>\n",
       "      <th>Size</th>\n",
       "      <th>Fraction</th>\n",
       "      <th>Size</th>\n",
       "      <th>Fraction</th>\n",
       "    </tr>\n",
       "  </thead>\n",
       "  <tbody>\n",
       "    <tr>\n",
       "      <th>Halo</th>\n",
       "      <td>9641</td>\n",
       "      <td>0.272768</td>\n",
       "      <td>9.323879e+09</td>\n",
       "      <td>0.284400</td>\n",
       "      <td>1.029982e+10</td>\n",
       "      <td>0.314168</td>\n",
       "    </tr>\n",
       "    <tr>\n",
       "      <th>Bulge</th>\n",
       "      <td>17985</td>\n",
       "      <td>0.508841</td>\n",
       "      <td>1.637367e+10</td>\n",
       "      <td>0.499435</td>\n",
       "      <td>1.530196e+10</td>\n",
       "      <td>0.466745</td>\n",
       "    </tr>\n",
       "    <tr>\n",
       "      <th>Warm disk</th>\n",
       "      <td>7719</td>\n",
       "      <td>0.218390</td>\n",
       "      <td>7.086861e+09</td>\n",
       "      <td>0.216166</td>\n",
       "      <td>7.182634e+09</td>\n",
       "      <td>0.219087</td>\n",
       "    </tr>\n",
       "  </tbody>\n",
       "</table>\n",
       "</div>"
      ],
      "text/plain": [
       "          Particles           Deterministic mass           Probabilistic mass  \\\n",
       "               Size  Fraction               Size  Fraction               Size   \n",
       "Halo           9641  0.272768       9.323879e+09  0.284400       1.029982e+10   \n",
       "Bulge         17985  0.508841       1.637367e+10  0.499435       1.530196e+10   \n",
       "Warm disk      7719  0.218390       7.086861e+09  0.216166       7.182634e+09   \n",
       "\n",
       "                     \n",
       "           Fraction  \n",
       "Halo       0.314168  \n",
       "Bulge      0.466745  \n",
       "Warm disk  0.219087  "
      ]
     },
     "execution_count": 6,
     "metadata": {},
     "output_type": "execute_result"
    }
   ],
   "source": [
    "describe_gal3 = pd.read_pickle('describe_agmm_gal128397_rvir.pkl')\n",
    "describe_gal3"
   ]
  },
  {
   "cell_type": "markdown",
   "metadata": {},
   "source": [
    "## gal4 = ID476624"
   ]
  },
  {
   "cell_type": "code",
   "execution_count": 7,
   "metadata": {},
   "outputs": [
    {
     "data": {
      "text/html": [
       "<div>\n",
       "<style scoped>\n",
       "    .dataframe tbody tr th:only-of-type {\n",
       "        vertical-align: middle;\n",
       "    }\n",
       "\n",
       "    .dataframe tbody tr th {\n",
       "        vertical-align: top;\n",
       "    }\n",
       "\n",
       "    .dataframe thead tr th {\n",
       "        text-align: left;\n",
       "    }\n",
       "</style>\n",
       "<table border=\"1\" class=\"dataframe\">\n",
       "  <thead>\n",
       "    <tr>\n",
       "      <th></th>\n",
       "      <th colspan=\"2\" halign=\"left\">Particles</th>\n",
       "      <th colspan=\"2\" halign=\"left\">Deterministic mass</th>\n",
       "      <th colspan=\"2\" halign=\"left\">Probabilistic mass</th>\n",
       "    </tr>\n",
       "    <tr>\n",
       "      <th></th>\n",
       "      <th>Size</th>\n",
       "      <th>Fraction</th>\n",
       "      <th>Size</th>\n",
       "      <th>Fraction</th>\n",
       "      <th>Size</th>\n",
       "      <th>Fraction</th>\n",
       "    </tr>\n",
       "  </thead>\n",
       "  <tbody>\n",
       "    <tr>\n",
       "      <th>Halo</th>\n",
       "      <td>19217</td>\n",
       "      <td>0.523225</td>\n",
       "      <td>1.874958e+10</td>\n",
       "      <td>0.531895</td>\n",
       "      <td>1.896942e+10</td>\n",
       "      <td>0.538131</td>\n",
       "    </tr>\n",
       "    <tr>\n",
       "      <th>Bulge</th>\n",
       "      <td>13807</td>\n",
       "      <td>0.375926</td>\n",
       "      <td>1.285011e+10</td>\n",
       "      <td>0.364537</td>\n",
       "      <td>1.283755e+10</td>\n",
       "      <td>0.364180</td>\n",
       "    </tr>\n",
       "    <tr>\n",
       "      <th>Warm disk</th>\n",
       "      <td>3704</td>\n",
       "      <td>0.100849</td>\n",
       "      <td>3.650845e+09</td>\n",
       "      <td>0.103569</td>\n",
       "      <td>3.443564e+09</td>\n",
       "      <td>0.097688</td>\n",
       "    </tr>\n",
       "  </tbody>\n",
       "</table>\n",
       "</div>"
      ],
      "text/plain": [
       "          Particles           Deterministic mass           Probabilistic mass  \\\n",
       "               Size  Fraction               Size  Fraction               Size   \n",
       "Halo          19217  0.523225       1.874958e+10  0.531895       1.896942e+10   \n",
       "Bulge         13807  0.375926       1.285011e+10  0.364537       1.283755e+10   \n",
       "Warm disk      3704  0.100849       3.650845e+09  0.103569       3.443564e+09   \n",
       "\n",
       "                     \n",
       "           Fraction  \n",
       "Halo       0.538131  \n",
       "Bulge      0.364180  \n",
       "Warm disk  0.097688  "
      ]
     },
     "execution_count": 7,
     "metadata": {},
     "output_type": "execute_result"
    }
   ],
   "source": [
    "describe_gal4 = pd.read_pickle('describe_agmm_gal476624_rvir.pkl')\n",
    "describe_gal4"
   ]
  },
  {
   "cell_type": "markdown",
   "metadata": {},
   "source": [
    "## gal5 = ID472362"
   ]
  },
  {
   "cell_type": "code",
   "execution_count": 8,
   "metadata": {},
   "outputs": [
    {
     "data": {
      "text/html": [
       "<div>\n",
       "<style scoped>\n",
       "    .dataframe tbody tr th:only-of-type {\n",
       "        vertical-align: middle;\n",
       "    }\n",
       "\n",
       "    .dataframe tbody tr th {\n",
       "        vertical-align: top;\n",
       "    }\n",
       "\n",
       "    .dataframe thead tr th {\n",
       "        text-align: left;\n",
       "    }\n",
       "</style>\n",
       "<table border=\"1\" class=\"dataframe\">\n",
       "  <thead>\n",
       "    <tr>\n",
       "      <th></th>\n",
       "      <th colspan=\"2\" halign=\"left\">Particles</th>\n",
       "      <th colspan=\"2\" halign=\"left\">Deterministic mass</th>\n",
       "      <th colspan=\"2\" halign=\"left\">Probabilistic mass</th>\n",
       "    </tr>\n",
       "    <tr>\n",
       "      <th></th>\n",
       "      <th>Size</th>\n",
       "      <th>Fraction</th>\n",
       "      <th>Size</th>\n",
       "      <th>Fraction</th>\n",
       "      <th>Size</th>\n",
       "      <th>Fraction</th>\n",
       "    </tr>\n",
       "  </thead>\n",
       "  <tbody>\n",
       "    <tr>\n",
       "      <th>Halo</th>\n",
       "      <td>7985</td>\n",
       "      <td>0.112310</td>\n",
       "      <td>7.622269e+09</td>\n",
       "      <td>0.115711</td>\n",
       "      <td>8.666680e+09</td>\n",
       "      <td>0.131565</td>\n",
       "    </tr>\n",
       "    <tr>\n",
       "      <th>Bulge</th>\n",
       "      <td>34000</td>\n",
       "      <td>0.478213</td>\n",
       "      <td>3.032642e+10</td>\n",
       "      <td>0.460374</td>\n",
       "      <td>2.949265e+10</td>\n",
       "      <td>0.447716</td>\n",
       "    </tr>\n",
       "    <tr>\n",
       "      <th>Cold disk</th>\n",
       "      <td>15580</td>\n",
       "      <td>0.219134</td>\n",
       "      <td>1.523075e+10</td>\n",
       "      <td>0.231212</td>\n",
       "      <td>1.444140e+10</td>\n",
       "      <td>0.219229</td>\n",
       "    </tr>\n",
       "    <tr>\n",
       "      <th>Warm disk</th>\n",
       "      <td>13533</td>\n",
       "      <td>0.190343</td>\n",
       "      <td>1.269407e+10</td>\n",
       "      <td>0.192704</td>\n",
       "      <td>1.327278e+10</td>\n",
       "      <td>0.201489</td>\n",
       "    </tr>\n",
       "  </tbody>\n",
       "</table>\n",
       "</div>"
      ],
      "text/plain": [
       "          Particles           Deterministic mass           Probabilistic mass  \\\n",
       "               Size  Fraction               Size  Fraction               Size   \n",
       "Halo           7985  0.112310       7.622269e+09  0.115711       8.666680e+09   \n",
       "Bulge         34000  0.478213       3.032642e+10  0.460374       2.949265e+10   \n",
       "Cold disk     15580  0.219134       1.523075e+10  0.231212       1.444140e+10   \n",
       "Warm disk     13533  0.190343       1.269407e+10  0.192704       1.327278e+10   \n",
       "\n",
       "                     \n",
       "           Fraction  \n",
       "Halo       0.131565  \n",
       "Bulge      0.447716  \n",
       "Cold disk  0.219229  \n",
       "Warm disk  0.201489  "
      ]
     },
     "execution_count": 8,
     "metadata": {},
     "output_type": "execute_result"
    }
   ],
   "source": [
    "describe_gal5 = pd.read_pickle('describe_agmm_gal472362_rvir.pkl')\n",
    "describe_gal5"
   ]
  },
  {
   "cell_type": "code",
   "execution_count": null,
   "metadata": {},
   "outputs": [],
   "source": []
  },
  {
   "cell_type": "code",
   "execution_count": null,
   "metadata": {},
   "outputs": [],
   "source": []
  },
  {
   "cell_type": "code",
   "execution_count": null,
   "metadata": {},
   "outputs": [],
   "source": []
  },
  {
   "cell_type": "code",
   "execution_count": null,
   "metadata": {},
   "outputs": [],
   "source": []
  },
  {
   "cell_type": "code",
   "execution_count": null,
   "metadata": {},
   "outputs": [],
   "source": []
  },
  {
   "cell_type": "code",
   "execution_count": null,
   "metadata": {},
   "outputs": [],
   "source": []
  }
 ],
 "metadata": {
  "kernelspec": {
   "display_name": "Python 3",
   "language": "python",
   "name": "python3"
  },
  "language_info": {
   "codemirror_mode": {
    "name": "ipython",
    "version": 3
   },
   "file_extension": ".py",
   "mimetype": "text/x-python",
   "name": "python",
   "nbconvert_exporter": "python",
   "pygments_lexer": "ipython3",
   "version": "3.7.9"
  },
  "toc": {
   "base_numbering": 1,
   "nav_menu": {},
   "number_sections": true,
   "sideBar": true,
   "skip_h1_title": false,
   "title_cell": "Table of Contents",
   "title_sidebar": "Contents",
   "toc_cell": false,
   "toc_position": {
    "height": "calc(100% - 180px)",
    "left": "10px",
    "top": "150px",
    "width": "178px"
   },
   "toc_section_display": true,
   "toc_window_display": true
  },
  "varInspector": {
   "cols": {
    "lenName": 16,
    "lenType": 16,
    "lenVar": 40
   },
   "kernels_config": {
    "python": {
     "delete_cmd_postfix": "",
     "delete_cmd_prefix": "del ",
     "library": "var_list.py",
     "varRefreshCmd": "print(var_dic_list())"
    },
    "r": {
     "delete_cmd_postfix": ") ",
     "delete_cmd_prefix": "rm(",
     "library": "var_list.r",
     "varRefreshCmd": "cat(var_dic_list()) "
    }
   },
   "oldHeight": 122,
   "position": {
    "height": "144px",
    "left": "1333px",
    "right": "20px",
    "top": "120px",
    "width": "247px"
   },
   "types_to_exclude": [
    "module",
    "function",
    "builtin_function_or_method",
    "instance",
    "_Feature"
   ],
   "varInspector_section_display": "block",
   "window_display": false
  }
 },
 "nbformat": 4,
 "nbformat_minor": 4
}
