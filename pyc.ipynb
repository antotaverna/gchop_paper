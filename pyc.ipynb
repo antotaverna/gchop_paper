{
 "cells": [
  {
   "cell_type": "code",
   "execution_count": 1,
   "metadata": {},
   "outputs": [],
   "source": [
    "#import h5py\n",
    "import galaxychop as gchop\n",
    "#import uttr\n",
    "#import attr\n",
    "import seaborn as sns\n",
    "import pandas as pd\n",
    "import matplotlib.pylab as plt\n",
    "import numpy as np"
   ]
  },
  {
   "cell_type": "markdown",
   "metadata": {},
   "source": [
    "# Leo la galaxia"
   ]
  },
  {
   "cell_type": "code",
   "execution_count": 2,
   "metadata": {},
   "outputs": [],
   "source": [
    "gal = gchop.read_hdf5(\"../galaxy-chop/tests/datasets/gal394242.h5\")"
   ]
  },
  {
   "cell_type": "code",
   "execution_count": 3,
   "metadata": {},
   "outputs": [],
   "source": [
    "gal = gchop.center(gal)\n",
    "rvir = 297.470\n",
    "gal = gchop.star_align(gal, r_cut=0.1*rvir)"
   ]
  },
  {
   "cell_type": "code",
   "execution_count": 4,
   "metadata": {},
   "outputs": [],
   "source": [
    "#gal.to_dataframe()"
   ]
  },
  {
   "cell_type": "code",
   "execution_count": 5,
   "metadata": {},
   "outputs": [],
   "source": [
    "dfs = pd.read_pickle('df_stars_gal394242_rvir.pkl')"
   ]
  },
  {
   "cell_type": "code",
   "execution_count": 6,
   "metadata": {},
   "outputs": [
    {
     "name": "stdout",
     "output_type": "stream",
     "text": [
      "37393\n",
      "37393\n"
     ]
    }
   ],
   "source": [
    "print(len(gal.stars.x))\n",
    "print(len(dfs.lab_th))"
   ]
  },
  {
   "cell_type": "code",
   "execution_count": 7,
   "metadata": {},
   "outputs": [
    {
     "data": {
      "text/html": [
       "<div>\n",
       "<style scoped>\n",
       "    .dataframe tbody tr th:only-of-type {\n",
       "        vertical-align: middle;\n",
       "    }\n",
       "\n",
       "    .dataframe tbody tr th {\n",
       "        vertical-align: top;\n",
       "    }\n",
       "\n",
       "    .dataframe thead th {\n",
       "        text-align: right;\n",
       "    }\n",
       "</style>\n",
       "<table border=\"1\" class=\"dataframe\">\n",
       "  <thead>\n",
       "    <tr style=\"text-align: right;\">\n",
       "      <th></th>\n",
       "      <th>ptype</th>\n",
       "      <th>ptypev</th>\n",
       "      <th>m</th>\n",
       "      <th>x</th>\n",
       "      <th>y</th>\n",
       "      <th>z</th>\n",
       "      <th>vx</th>\n",
       "      <th>vy</th>\n",
       "      <th>vz</th>\n",
       "      <th>softening</th>\n",
       "      <th>...</th>\n",
       "      <th>lab_th</th>\n",
       "      <th>lab_ab</th>\n",
       "      <th>lab_cr</th>\n",
       "      <th>lab_km</th>\n",
       "      <th>lab_km3</th>\n",
       "      <th>lab_km4</th>\n",
       "      <th>lab_gmm</th>\n",
       "      <th>lab_gmm3</th>\n",
       "      <th>lab_gmm4</th>\n",
       "      <th>lab_agmm</th>\n",
       "    </tr>\n",
       "  </thead>\n",
       "  <tbody>\n",
       "    <tr>\n",
       "      <th>0</th>\n",
       "      <td>stars</td>\n",
       "      <td>0</td>\n",
       "      <td>522428.272234</td>\n",
       "      <td>-0.053393</td>\n",
       "      <td>-0.063512</td>\n",
       "      <td>-0.261071</td>\n",
       "      <td>6.017590</td>\n",
       "      <td>22.533272</td>\n",
       "      <td>-6.051982</td>\n",
       "      <td>0.0</td>\n",
       "      <td>...</td>\n",
       "      <td>0.0</td>\n",
       "      <td>0.0</td>\n",
       "      <td>0.0</td>\n",
       "      <td>0.0</td>\n",
       "      <td>0.0</td>\n",
       "      <td>1.0</td>\n",
       "      <td>0.0</td>\n",
       "      <td>0.0</td>\n",
       "      <td>1.0</td>\n",
       "      <td>1.0</td>\n",
       "    </tr>\n",
       "    <tr>\n",
       "      <th>1</th>\n",
       "      <td>stars</td>\n",
       "      <td>0</td>\n",
       "      <td>974589.711404</td>\n",
       "      <td>-0.160266</td>\n",
       "      <td>-0.127742</td>\n",
       "      <td>-0.178286</td>\n",
       "      <td>21.924235</td>\n",
       "      <td>8.289647</td>\n",
       "      <td>-0.418943</td>\n",
       "      <td>0.0</td>\n",
       "      <td>...</td>\n",
       "      <td>0.0</td>\n",
       "      <td>1.0</td>\n",
       "      <td>1.0</td>\n",
       "      <td>0.0</td>\n",
       "      <td>2.0</td>\n",
       "      <td>0.0</td>\n",
       "      <td>0.0</td>\n",
       "      <td>0.0</td>\n",
       "      <td>1.0</td>\n",
       "      <td>1.0</td>\n",
       "    </tr>\n",
       "    <tr>\n",
       "      <th>2</th>\n",
       "      <td>stars</td>\n",
       "      <td>0</td>\n",
       "      <td>693577.603670</td>\n",
       "      <td>-0.255175</td>\n",
       "      <td>-0.165614</td>\n",
       "      <td>-0.198094</td>\n",
       "      <td>-9.574002</td>\n",
       "      <td>7.298885</td>\n",
       "      <td>15.571255</td>\n",
       "      <td>0.0</td>\n",
       "      <td>...</td>\n",
       "      <td>0.0</td>\n",
       "      <td>0.0</td>\n",
       "      <td>0.0</td>\n",
       "      <td>0.0</td>\n",
       "      <td>0.0</td>\n",
       "      <td>1.0</td>\n",
       "      <td>0.0</td>\n",
       "      <td>0.0</td>\n",
       "      <td>1.0</td>\n",
       "      <td>0.0</td>\n",
       "    </tr>\n",
       "  </tbody>\n",
       "</table>\n",
       "<p>3 rows × 26 columns</p>\n",
       "</div>"
      ],
      "text/plain": [
       "   ptype  ptypev              m         x         y         z         vx  \\\n",
       "0  stars       0  522428.272234 -0.053393 -0.063512 -0.261071   6.017590   \n",
       "1  stars       0  974589.711404 -0.160266 -0.127742 -0.178286  21.924235   \n",
       "2  stars       0  693577.603670 -0.255175 -0.165614 -0.198094  -9.574002   \n",
       "\n",
       "          vy         vz  softening  ...  lab_th  lab_ab  lab_cr  lab_km  \\\n",
       "0  22.533272  -6.051982        0.0  ...     0.0     0.0     0.0     0.0   \n",
       "1   8.289647  -0.418943        0.0  ...     0.0     1.0     1.0     0.0   \n",
       "2   7.298885  15.571255        0.0  ...     0.0     0.0     0.0     0.0   \n",
       "\n",
       "   lab_km3  lab_km4  lab_gmm  lab_gmm3  lab_gmm4  lab_agmm  \n",
       "0      0.0      1.0      0.0       0.0       1.0       1.0  \n",
       "1      2.0      0.0      0.0       0.0       1.0       1.0  \n",
       "2      0.0      1.0      0.0       0.0       1.0       0.0  \n",
       "\n",
       "[3 rows x 26 columns]"
      ]
     },
     "execution_count": 7,
     "metadata": {},
     "output_type": "execute_result"
    }
   ],
   "source": [
    "dfs.head(3)"
   ]
  },
  {
   "cell_type": "code",
   "execution_count": 8,
   "metadata": {},
   "outputs": [
    {
     "data": {
      "text/plain": [
       "ptype               0\n",
       "ptypev              0\n",
       "m                   0\n",
       "x                   0\n",
       "y                   0\n",
       "z                   0\n",
       "vx                  0\n",
       "vy                  0\n",
       "vz                  0\n",
       "softening           0\n",
       "potential           0\n",
       "kinetic_energy      0\n",
       "total_energy        0\n",
       "Jx                  0\n",
       "Jy                  0\n",
       "Jz                  0\n",
       "lab_th            110\n",
       "lab_ab            110\n",
       "lab_cr            110\n",
       "lab_km            110\n",
       "lab_km3           110\n",
       "lab_km4           110\n",
       "lab_gmm           110\n",
       "lab_gmm3          110\n",
       "lab_gmm4          110\n",
       "lab_agmm          110\n",
       "dtype: int64"
      ]
     },
     "execution_count": 8,
     "metadata": {},
     "output_type": "execute_result"
    }
   ],
   "source": [
    "dfs.isnull().sum()"
   ]
  },
  {
   "cell_type": "code",
   "execution_count": 9,
   "metadata": {},
   "outputs": [
    {
     "name": "stdout",
     "output_type": "stream",
     "text": [
      "37283\n"
     ]
    }
   ],
   "source": [
    "dfs2 = dfs[dfs['lab_th'].notna()]\n",
    "print(len(dfs2.lab_th))"
   ]
  },
  {
   "cell_type": "markdown",
   "metadata": {},
   "source": [
    "# Analisis Confusion Matrix (% Particulas)"
   ]
  },
  {
   "cell_type": "code",
   "execution_count": 10,
   "metadata": {},
   "outputs": [],
   "source": [
    "from sklearn.metrics import confusion_matrix\n",
    "from sklearn.metrics import plot_confusion_matrix\n",
    "from sklearn.metrics import precision_recall_fscore_support\n",
    "from sklearn.metrics import precision_score\n",
    "from sklearn.metrics import recall_score"
   ]
  },
  {
   "cell_type": "markdown",
   "metadata": {},
   "source": [
    "## Abadi vs Threshold"
   ]
  },
  {
   "cell_type": "code",
   "execution_count": 11,
   "metadata": {},
   "outputs": [
    {
     "data": {
      "image/png": "[encoded data removed]",
      "text/plain": [
       "<Figure size 432x288 with 1 Axes>"
      ]
     },
     "metadata": {
      "needs_background": "light"
     },
     "output_type": "display_data"
    }
   ],
   "source": [
    "#sklearn.metrics.confusion_matrix(y_true, y_pred, *, labels=None, sample_weight=None, normalize=None)\n",
    "y_true=dfs2.lab_ab\n",
    "y_pred=dfs2.lab_th\n",
    "cm = confusion_matrix(y_true, y_pred)\n",
    "cm_per = cm*100/len(y_true)\n",
    "\n",
    "ax= plt.subplot()\n",
    "sns.heatmap(cm,annot=True, cmap='binary', fmt='g', cbar=False, ax=ax)\n",
    "\n",
    "#sns.heatmap(cm_per,annot=True, cmap='binary', fmt='.1f', ax=ax)\n",
    "#for t in ax.texts: t.set_text(t.get_text() + \" %\")\n",
    "\n",
    "ax.set_ylabel('True labels: Abadi Model');ax.set_xlabel('Predicted labels: Threshold Model'); \n",
    "ax.set_title('Confusion Matrix'); \n",
    "ax.xaxis.set_ticklabels(['Bulge', 'Disk']); ax.yaxis.set_ticklabels(['Bulge', 'Disk']);"
   ]
  },
  {
   "cell_type": "code",
   "execution_count": 12,
   "metadata": {},
   "outputs": [],
   "source": [
    "y_true=dfs2.lab_ab"
   ]
  },
  {
   "cell_type": "code",
   "execution_count": 13,
   "metadata": {},
   "outputs": [
    {
     "name": "stdout",
     "output_type": "stream",
     "text": [
      "Negative 5856\n",
      "Positive 31427\n"
     ]
    }
   ],
   "source": [
    "print('Negative', len(dfs2.lab_ab[dfs2.lab_ab==0]))\n",
    "print('Positive', len(dfs2.lab_ab[dfs2.lab_ab==1]))"
   ]
  },
  {
   "cell_type": "code",
   "execution_count": null,
   "metadata": {},
   "outputs": [],
   "source": []
  },
  {
   "cell_type": "markdown",
   "metadata": {},
   "source": [
    "\n",
    " \n",
    "|              |Predicted  |                       |\n",
    "|--------------|-----------|-----------------------|\n",
    "|Tot = P+N     | Predicted Positive      | Predicted Negative  |\n",
    "|--------------|-----------|-----------------------|\n",
    "| Positive (Ptot)    | True Positive (TP)      | False Negative (FN)  |\n",
    "| Negative  (Ntot)   | False Positive (FP)     | True Negative (TN)   |\n",
    "|--------------|-----------|-----------------------|\n"
   ]
  },
  {
   "cell_type": "markdown",
   "metadata": {},
   "source": [
    "### Precision (Positive Predictive Value PPV)\n",
    "PPV = TP / (TP + FP) \n",
    "\n",
    "The precision is intuitively the ability of the classifier not to label a negative sample as positive."
   ]
  },
  {
   "cell_type": "code",
   "execution_count": 14,
   "metadata": {},
   "outputs": [
    {
     "data": {
      "text/plain": [
       "0.9884072169156666"
      ]
     },
     "execution_count": 14,
     "metadata": {},
     "output_type": "execute_result"
    }
   ],
   "source": [
    "precision_score(y_true, y_pred)"
   ]
  },
  {
   "cell_type": "markdown",
   "metadata": {},
   "source": [
    "### Recall (True Positive Rate TPR)\n",
    "TPR = TP / Ptot = TP / (TP + FN)\n",
    "\n",
    "The recall is intuitively the ability of the classifier to find all the positive samples."
   ]
  },
  {
   "cell_type": "code",
   "execution_count": 15,
   "metadata": {},
   "outputs": [
    {
     "data": {
      "text/plain": [
       "0.7704839787443918"
      ]
     },
     "execution_count": 15,
     "metadata": {},
     "output_type": "execute_result"
    }
   ],
   "source": [
    "recall_score(y_true, y_pred)"
   ]
  },
  {
   "cell_type": "code",
   "execution_count": null,
   "metadata": {},
   "outputs": [],
   "source": []
  },
  {
   "cell_type": "markdown",
   "metadata": {},
   "source": [
    "# Tabla Precision"
   ]
  },
  {
   "cell_type": "code",
   "execution_count": null,
   "metadata": {},
   "outputs": [],
   "source": []
  },
  {
   "cell_type": "code",
   "execution_count": 16,
   "metadata": {},
   "outputs": [
    {
     "data": {
      "text/html": [
       "<div>\n",
       "<style scoped>\n",
       "    .dataframe tbody tr th:only-of-type {\n",
       "        vertical-align: middle;\n",
       "    }\n",
       "\n",
       "    .dataframe tbody tr th {\n",
       "        vertical-align: top;\n",
       "    }\n",
       "\n",
       "    .dataframe thead th {\n",
       "        text-align: right;\n",
       "    }\n",
       "</style>\n",
       "<table border=\"1\" class=\"dataframe\">\n",
       "  <thead>\n",
       "    <tr style=\"text-align: right;\">\n",
       "      <th></th>\n",
       "      <th>abadi</th>\n",
       "      <th>threshold</th>\n",
       "      <th>cristiani</th>\n",
       "      <th>kmeans</th>\n",
       "    </tr>\n",
       "  </thead>\n",
       "  <tbody>\n",
       "    <tr>\n",
       "      <th>abadi</th>\n",
       "      <td>NaN</td>\n",
       "      <td>NaN</td>\n",
       "      <td>NaN</td>\n",
       "      <td>NaN</td>\n",
       "    </tr>\n",
       "    <tr>\n",
       "      <th>threshold</th>\n",
       "      <td>NaN</td>\n",
       "      <td>NaN</td>\n",
       "      <td>NaN</td>\n",
       "      <td>NaN</td>\n",
       "    </tr>\n",
       "    <tr>\n",
       "      <th>cristiani</th>\n",
       "      <td>NaN</td>\n",
       "      <td>NaN</td>\n",
       "      <td>NaN</td>\n",
       "      <td>NaN</td>\n",
       "    </tr>\n",
       "    <tr>\n",
       "      <th>kmeans</th>\n",
       "      <td>NaN</td>\n",
       "      <td>NaN</td>\n",
       "      <td>NaN</td>\n",
       "      <td>NaN</td>\n",
       "    </tr>\n",
       "  </tbody>\n",
       "</table>\n",
       "</div>"
      ],
      "text/plain": [
       "          abadi threshold cristiani kmeans\n",
       "abadi       NaN       NaN       NaN    NaN\n",
       "threshold   NaN       NaN       NaN    NaN\n",
       "cristiani   NaN       NaN       NaN    NaN\n",
       "kmeans      NaN       NaN       NaN    NaN"
      ]
     },
     "execution_count": 16,
     "metadata": {},
     "output_type": "execute_result"
    }
   ],
   "source": [
    "df = pd.DataFrame(columns=['abadi', 'threshold', 'cristiani', 'kmeans'],\n",
    "             index=['abadi', 'threshold', 'cristiani', 'kmeans'])\n",
    "df"
   ]
  },
  {
   "cell_type": "code",
   "execution_count": 17,
   "metadata": {},
   "outputs": [
    {
     "data": {
      "text/html": [
       "<div>\n",
       "<style scoped>\n",
       "    .dataframe tbody tr th:only-of-type {\n",
       "        vertical-align: middle;\n",
       "    }\n",
       "\n",
       "    .dataframe tbody tr th {\n",
       "        vertical-align: top;\n",
       "    }\n",
       "\n",
       "    .dataframe thead th {\n",
       "        text-align: right;\n",
       "    }\n",
       "</style>\n",
       "<table border=\"1\" class=\"dataframe\">\n",
       "  <thead>\n",
       "    <tr style=\"text-align: right;\">\n",
       "      <th></th>\n",
       "      <th>abadi</th>\n",
       "      <th>threshold</th>\n",
       "      <th>cristiani</th>\n",
       "      <th>kmeans</th>\n",
       "    </tr>\n",
       "  </thead>\n",
       "  <tbody>\n",
       "    <tr>\n",
       "      <th>abadi</th>\n",
       "      <td>1.000</td>\n",
       "      <td>0.988</td>\n",
       "      <td>0.948</td>\n",
       "      <td>0.979</td>\n",
       "    </tr>\n",
       "    <tr>\n",
       "      <th>threshold</th>\n",
       "      <td>0.770</td>\n",
       "      <td>1.000</td>\n",
       "      <td>0.769</td>\n",
       "      <td>0.878</td>\n",
       "    </tr>\n",
       "    <tr>\n",
       "      <th>cristiani</th>\n",
       "      <td>0.950</td>\n",
       "      <td>0.989</td>\n",
       "      <td>1.000</td>\n",
       "      <td>0.983</td>\n",
       "    </tr>\n",
       "    <tr>\n",
       "      <th>kmeans</th>\n",
       "      <td>0.869</td>\n",
       "      <td>1.000</td>\n",
       "      <td>0.871</td>\n",
       "      <td>1.000</td>\n",
       "    </tr>\n",
       "  </tbody>\n",
       "</table>\n",
       "</div>"
      ],
      "text/plain": [
       "          abadi threshold cristiani kmeans\n",
       "abadi     1.000     0.988     0.948  0.979\n",
       "threshold 0.770     1.000     0.769  0.878\n",
       "cristiani 0.950     0.989     1.000  0.983\n",
       "kmeans    0.869     1.000     0.871  1.000"
      ]
     },
     "execution_count": 17,
     "metadata": {},
     "output_type": "execute_result"
    }
   ],
   "source": [
    "def precision(y_true,y_pred):\n",
    "    cm = confusion_matrix(y_true, y_pred)        \n",
    "    prec = precision_score(y_true, y_pred)\n",
    "    return prec\n",
    "\n",
    "############ Fila 1 ##############################    \n",
    "y_true=dfs2.lab_ab; y_pred=dfs2.lab_ab\n",
    "df.iloc[0,0] = precision(y_true, y_pred)\n",
    "\n",
    "y_true=dfs2.lab_ab; y_pred=dfs2.lab_th\n",
    "df.iloc[0,1] = precision(y_true, y_pred)\n",
    "\n",
    "y_true=dfs2.lab_ab; y_pred=dfs2.lab_cr\n",
    "df.iloc[0,2] = precision(y_true, y_pred)\n",
    "    \n",
    "y_true=dfs2.lab_ab; y_pred=dfs2.lab_km\n",
    "df.iloc[0,3] = precision(y_true, y_pred)\n",
    "\n",
    "############ Fila 2 ############################## \n",
    "y_true=dfs2.lab_th; y_pred=dfs2.lab_ab\n",
    "df.iloc[1,0] = precision(y_true, y_pred)\n",
    "\n",
    "y_true=dfs2.lab_th; y_pred=dfs2.lab_th\n",
    "df.iloc[1,1] = precision(y_true, y_pred)\n",
    "\n",
    "y_true=dfs2.lab_th; y_pred=dfs2.lab_cr\n",
    "df.iloc[1,2] = precision(y_true, y_pred)\n",
    "\n",
    "y_true=dfs2.lab_th; y_pred=dfs2.lab_km\n",
    "df.iloc[1,3] = precision(y_true, y_pred)\n",
    "\n",
    "############ Fila 3 ##############################   \n",
    "y_true=dfs2.lab_cr; y_pred=dfs2.lab_ab\n",
    "df.iloc[2,0] = precision(y_true, y_pred)\n",
    "\n",
    "y_true=dfs2.lab_cr; y_pred=dfs2.lab_th\n",
    "df.iloc[2,1] = precision(y_true, y_pred)\n",
    "\n",
    "y_true=dfs2.lab_cr; y_pred=dfs2.lab_cr\n",
    "df.iloc[2,2] = precision(y_true, y_pred)\n",
    "\n",
    "y_true=dfs2.lab_cr; y_pred=dfs2.lab_km\n",
    "df.iloc[2,3] = precision(y_true, y_pred)\n",
    "\n",
    "############ Fila 4 ##############################  \n",
    "y_true=dfs2.lab_km; y_pred=dfs2.lab_ab\n",
    "df.iloc[3,0] = precision(y_true, y_pred)\n",
    "\n",
    "y_true=dfs2.lab_km; y_pred=dfs2.lab_th\n",
    "df.iloc[3,1] = precision(y_true, y_pred)\n",
    "\n",
    "y_true=dfs2.lab_km; y_pred=dfs2.lab_cr\n",
    "df.iloc[3,2] = precision(y_true, y_pred)\n",
    "\n",
    "y_true=dfs2.lab_km; y_pred=dfs2.lab_km\n",
    "df.iloc[3,3] = precision(y_true, y_pred)\n",
    "\n",
    "\n",
    "\n",
    "\n",
    "pd.options.display.float_format = '{:,.3f}'.format\n",
    "\n",
    "df_prec = df\n",
    "df_prec"
   ]
  },
  {
   "cell_type": "code",
   "execution_count": 18,
   "metadata": {},
   "outputs": [
    {
     "data": {
      "text/html": [
       "<div>\n",
       "<style scoped>\n",
       "    .dataframe tbody tr th:only-of-type {\n",
       "        vertical-align: middle;\n",
       "    }\n",
       "\n",
       "    .dataframe tbody tr th {\n",
       "        vertical-align: top;\n",
       "    }\n",
       "\n",
       "    .dataframe thead th {\n",
       "        text-align: right;\n",
       "    }\n",
       "</style>\n",
       "<table border=\"1\" class=\"dataframe\">\n",
       "  <thead>\n",
       "    <tr style=\"text-align: right;\">\n",
       "      <th></th>\n",
       "      <th>abadi</th>\n",
       "      <th>threshold</th>\n",
       "      <th>cristiani</th>\n",
       "      <th>kmeans</th>\n",
       "    </tr>\n",
       "  </thead>\n",
       "  <tbody>\n",
       "    <tr>\n",
       "      <th>abadi</th>\n",
       "      <td>1.000</td>\n",
       "      <td>0.770</td>\n",
       "      <td>0.950</td>\n",
       "      <td>0.869</td>\n",
       "    </tr>\n",
       "    <tr>\n",
       "      <th>threshold</th>\n",
       "      <td>0.988</td>\n",
       "      <td>1.000</td>\n",
       "      <td>0.989</td>\n",
       "      <td>1.000</td>\n",
       "    </tr>\n",
       "    <tr>\n",
       "      <th>cristiani</th>\n",
       "      <td>0.948</td>\n",
       "      <td>0.769</td>\n",
       "      <td>1.000</td>\n",
       "      <td>0.871</td>\n",
       "    </tr>\n",
       "    <tr>\n",
       "      <th>kmeans</th>\n",
       "      <td>0.979</td>\n",
       "      <td>0.878</td>\n",
       "      <td>0.983</td>\n",
       "      <td>1.000</td>\n",
       "    </tr>\n",
       "  </tbody>\n",
       "</table>\n",
       "</div>"
      ],
      "text/plain": [
       "          abadi threshold cristiani kmeans\n",
       "abadi     1.000     0.770     0.950  0.869\n",
       "threshold 0.988     1.000     0.989  1.000\n",
       "cristiani 0.948     0.769     1.000  0.871\n",
       "kmeans    0.979     0.878     0.983  1.000"
      ]
     },
     "execution_count": 18,
     "metadata": {},
     "output_type": "execute_result"
    }
   ],
   "source": [
    "def recall(y_true,y_pred):\n",
    "    cm = confusion_matrix(y_true, y_pred)        \n",
    "    rec = recall_score(y_true, y_pred)\n",
    "    return rec\n",
    "\n",
    "df = pd.DataFrame(columns=['abadi', 'threshold', 'cristiani', 'kmeans'],\n",
    "             index=['abadi', 'threshold', 'cristiani', 'kmeans'])\n",
    "\n",
    "############ Fila 1 ##############################    \n",
    "y_true=dfs2.lab_ab; y_pred=dfs2.lab_ab\n",
    "df.iloc[0,0] = recall(y_true, y_pred)\n",
    "\n",
    "y_true=dfs2.lab_ab; y_pred=dfs2.lab_th\n",
    "df.iloc[0,1] = recall(y_true, y_pred)\n",
    "\n",
    "y_true=dfs2.lab_ab; y_pred=dfs2.lab_cr\n",
    "df.iloc[0,2] = recall(y_true, y_pred)\n",
    "    \n",
    "y_true=dfs2.lab_ab; y_pred=dfs2.lab_km\n",
    "df.iloc[0,3] = recall(y_true, y_pred)\n",
    "\n",
    "############ Fila 2 ############################## \n",
    "y_true=dfs2.lab_th; y_pred=dfs2.lab_ab\n",
    "df.iloc[1,0] = recall(y_true, y_pred)\n",
    "\n",
    "y_true=dfs2.lab_th; y_pred=dfs2.lab_th\n",
    "df.iloc[1,1] = recall(y_true, y_pred)\n",
    "\n",
    "y_true=dfs2.lab_th; y_pred=dfs2.lab_cr\n",
    "df.iloc[1,2] = recall(y_true, y_pred)\n",
    "\n",
    "y_true=dfs2.lab_th; y_pred=dfs2.lab_km\n",
    "df.iloc[1,3] = recall(y_true, y_pred)\n",
    "\n",
    "############ Fila 3 ##############################   \n",
    "y_true=dfs2.lab_cr; y_pred=dfs2.lab_ab\n",
    "df.iloc[2,0] = recall(y_true, y_pred)\n",
    "\n",
    "y_true=dfs2.lab_cr; y_pred=dfs2.lab_th\n",
    "df.iloc[2,1] = recall(y_true, y_pred)\n",
    "\n",
    "y_true=dfs2.lab_cr; y_pred=dfs2.lab_cr\n",
    "df.iloc[2,2] = recall(y_true, y_pred)\n",
    "\n",
    "y_true=dfs2.lab_cr; y_pred=dfs2.lab_km\n",
    "df.iloc[2,3] = recall(y_true, y_pred)\n",
    "\n",
    "############ Fila 4 ##############################  \n",
    "y_true=dfs2.lab_km; y_pred=dfs2.lab_ab\n",
    "df.iloc[3,0] = recall(y_true, y_pred)\n",
    "\n",
    "y_true=dfs2.lab_km; y_pred=dfs2.lab_th\n",
    "df.iloc[3,1] = recall(y_true, y_pred)\n",
    "\n",
    "y_true=dfs2.lab_km; y_pred=dfs2.lab_cr\n",
    "df.iloc[3,2] = recall(y_true, y_pred)\n",
    "\n",
    "y_true=dfs2.lab_km; y_pred=dfs2.lab_km\n",
    "df.iloc[3,3] = recall(y_true, y_pred)\n",
    "\n",
    "\n",
    "pd.options.display.float_format = '{:,.3f}'.format\n",
    "\n",
    "df_rec = df\n",
    "df_rec"
   ]
  },
  {
   "cell_type": "code",
   "execution_count": 19,
   "metadata": {},
   "outputs": [
    {
     "data": {
      "text/html": [
       "<div>\n",
       "<style scoped>\n",
       "    .dataframe tbody tr th:only-of-type {\n",
       "        vertical-align: middle;\n",
       "    }\n",
       "\n",
       "    .dataframe tbody tr th {\n",
       "        vertical-align: top;\n",
       "    }\n",
       "\n",
       "    .dataframe thead th {\n",
       "        text-align: right;\n",
       "    }\n",
       "</style>\n",
       "<table border=\"1\" class=\"dataframe\">\n",
       "  <thead>\n",
       "    <tr style=\"text-align: right;\">\n",
       "      <th></th>\n",
       "      <th>abadi</th>\n",
       "      <th>threshold</th>\n",
       "      <th>cristiani</th>\n",
       "      <th>kmeans</th>\n",
       "    </tr>\n",
       "  </thead>\n",
       "  <tbody>\n",
       "    <tr>\n",
       "      <th>abadi</th>\n",
       "      <td>1.000</td>\n",
       "      <td>0.988</td>\n",
       "      <td>0.948</td>\n",
       "      <td>0.979</td>\n",
       "    </tr>\n",
       "    <tr>\n",
       "      <th>threshold</th>\n",
       "      <td>0.770</td>\n",
       "      <td>1.000</td>\n",
       "      <td>0.769</td>\n",
       "      <td>0.878</td>\n",
       "    </tr>\n",
       "    <tr>\n",
       "      <th>cristiani</th>\n",
       "      <td>0.950</td>\n",
       "      <td>0.989</td>\n",
       "      <td>1.000</td>\n",
       "      <td>0.983</td>\n",
       "    </tr>\n",
       "    <tr>\n",
       "      <th>kmeans</th>\n",
       "      <td>0.869</td>\n",
       "      <td>1.000</td>\n",
       "      <td>0.871</td>\n",
       "      <td>1.000</td>\n",
       "    </tr>\n",
       "  </tbody>\n",
       "</table>\n",
       "</div>"
      ],
      "text/plain": [
       "          abadi threshold cristiani kmeans\n",
       "abadi     1.000     0.988     0.948  0.979\n",
       "threshold 0.770     1.000     0.769  0.878\n",
       "cristiani 0.950     0.989     1.000  0.983\n",
       "kmeans    0.869     1.000     0.871  1.000"
      ]
     },
     "execution_count": 19,
     "metadata": {},
     "output_type": "execute_result"
    }
   ],
   "source": [
    "df_prec"
   ]
  },
  {
   "cell_type": "code",
   "execution_count": 20,
   "metadata": {},
   "outputs": [
    {
     "data": {
      "text/html": [
       "<div>\n",
       "<style scoped>\n",
       "    .dataframe tbody tr th:only-of-type {\n",
       "        vertical-align: middle;\n",
       "    }\n",
       "\n",
       "    .dataframe tbody tr th {\n",
       "        vertical-align: top;\n",
       "    }\n",
       "\n",
       "    .dataframe thead th {\n",
       "        text-align: right;\n",
       "    }\n",
       "</style>\n",
       "<table border=\"1\" class=\"dataframe\">\n",
       "  <thead>\n",
       "    <tr style=\"text-align: right;\">\n",
       "      <th></th>\n",
       "      <th>abadi</th>\n",
       "      <th>threshold</th>\n",
       "      <th>cristiani</th>\n",
       "      <th>kmeans</th>\n",
       "    </tr>\n",
       "  </thead>\n",
       "  <tbody>\n",
       "    <tr>\n",
       "      <th>abadi</th>\n",
       "      <td>1.000</td>\n",
       "      <td>0.770</td>\n",
       "      <td>0.950</td>\n",
       "      <td>0.869</td>\n",
       "    </tr>\n",
       "    <tr>\n",
       "      <th>threshold</th>\n",
       "      <td>0.988</td>\n",
       "      <td>1.000</td>\n",
       "      <td>0.989</td>\n",
       "      <td>1.000</td>\n",
       "    </tr>\n",
       "    <tr>\n",
       "      <th>cristiani</th>\n",
       "      <td>0.948</td>\n",
       "      <td>0.769</td>\n",
       "      <td>1.000</td>\n",
       "      <td>0.871</td>\n",
       "    </tr>\n",
       "    <tr>\n",
       "      <th>kmeans</th>\n",
       "      <td>0.979</td>\n",
       "      <td>0.878</td>\n",
       "      <td>0.983</td>\n",
       "      <td>1.000</td>\n",
       "    </tr>\n",
       "  </tbody>\n",
       "</table>\n",
       "</div>"
      ],
      "text/plain": [
       "          abadi threshold cristiani kmeans\n",
       "abadi     1.000     0.770     0.950  0.869\n",
       "threshold 0.988     1.000     0.989  1.000\n",
       "cristiani 0.948     0.769     1.000  0.871\n",
       "kmeans    0.979     0.878     0.983  1.000"
      ]
     },
     "execution_count": 20,
     "metadata": {},
     "output_type": "execute_result"
    }
   ],
   "source": [
    "df_rec"
   ]
  },
  {
   "cell_type": "code",
   "execution_count": null,
   "metadata": {},
   "outputs": [],
   "source": []
  },
  {
   "cell_type": "code",
   "execution_count": null,
   "metadata": {},
   "outputs": [],
   "source": []
  },
  {
   "cell_type": "code",
   "execution_count": 21,
   "metadata": {},
   "outputs": [
    {
     "data": {
      "text/plain": [
       "Text(33.0, 0.5, 'KMeans')"
      ]
     },
     "execution_count": 21,
     "metadata": {},
     "output_type": "execute_result"
    },
    {
     "data": {
      "image/png": "[encoded data removed]",
      "text/plain": [
       "<Figure size 432x288 with 16 Axes>"
      ]
     },
     "metadata": {
      "needs_background": "light"
     },
     "output_type": "display_data"
    }
   ],
   "source": [
    "def plotter(y_true,y_pred,ax):\n",
    "    cm = confusion_matrix(y_true, y_pred); cm_per = cm*100/len(y_true)\n",
    "    sns.heatmap(cm_per,annot=True, cmap='binary', fmt='.1f', annot_kws={\"size\": 7},\n",
    "                vmin=0, vmax=100, center=50, cbar=False, ax=ax)\n",
    "    for t in ax.texts: t.set_text(t.get_text() + \" %\")\n",
    "\n",
    "    return ax\n",
    "\n",
    "\n",
    "\n",
    "fig,axes = plt.subplots(4, 4, sharex=True, sharey=True)\n",
    "fig.subplots_adjust(hspace=0.4,wspace=0.4)\n",
    "#axes\n",
    "ax1=axes[0,0]; ax2=axes[0,1]; ax3=axes[0,2]; ax4=axes[0,3]#; ax5=axes[0,4]\n",
    "ax6=axes[1,0]; ax7=axes[1,1]; ax8=axes[1,2]; ax9=axes[1,3]#; ax10=axes[1,4]\n",
    "ax11=axes[2,0]; ax12=axes[2,1]; ax13=axes[2,2]; ax14=axes[2,3]#; ax15=axes[2,4]\n",
    "ax16=axes[3,0]; ax17=axes[3,1]; ax18=axes[3,2]; ax19=axes[3,3]#; ax20=axes[3,4]\n",
    "#ax21=axes[4,0]; ax22=axes[4,1]; ax23=axes[4,2]; ax24=axes[4,3]; ax25=axes[4,4]\n",
    "\n",
    "############ Fila 1 ##############################    \n",
    "y_true=dfs2.lab_ab; y_pred=dfs2.lab_ab\n",
    "plotter(y_true, y_pred, ax1)\n",
    "\n",
    "y_true=dfs2.lab_ab; y_pred=dfs2.lab_th\n",
    "plotter(y_true, y_pred, ax2)\n",
    "\n",
    "y_true=dfs2.lab_ab; y_pred=dfs2.lab_cr\n",
    "plotter(y_true, y_pred, ax3)\n",
    "    \n",
    "y_true=dfs2.lab_ab; y_pred=dfs2.lab_km\n",
    "plotter(y_true, y_pred, ax4)\n",
    "\n",
    "\n",
    "############ Fila 2 ############################## \n",
    "y_true=dfs2.lab_th; y_pred=dfs2.lab_ab\n",
    "plotter(y_true, y_pred, ax6)\n",
    "\n",
    "y_true=dfs2.lab_th; y_pred=dfs2.lab_th\n",
    "plotter(y_true, y_pred, ax7)\n",
    "\n",
    "y_true=dfs2.lab_th; y_pred=dfs2.lab_cr\n",
    "plotter(y_true, y_pred, ax8)\n",
    "\n",
    "y_true=dfs2.lab_th; y_pred=dfs2.lab_km\n",
    "plotter(y_true, y_pred, ax9)\n",
    "\n",
    "\n",
    "############ Fila 3 ##############################   \n",
    "y_true=dfs2.lab_cr; y_pred=dfs2.lab_ab\n",
    "plotter(y_true, y_pred, ax11)\n",
    "\n",
    "y_true=dfs2.lab_cr; y_pred=dfs2.lab_th\n",
    "plotter(y_true, y_pred, ax12)\n",
    "\n",
    "y_true=dfs2.lab_cr; y_pred=dfs2.lab_cr\n",
    "plotter(y_true, y_pred, ax13)\n",
    "\n",
    "y_true=dfs2.lab_cr; y_pred=dfs2.lab_km\n",
    "plotter(y_true, y_pred, ax14)\n",
    "\n",
    "\n",
    "############ Fila 4 ##############################  \n",
    "y_true=dfs2.lab_km; y_pred=dfs2.lab_ab\n",
    "plotter(y_true, y_pred, ax16)\n",
    "\n",
    "y_true=dfs2.lab_km; y_pred=dfs2.lab_th\n",
    "plotter(y_true, y_pred, ax17)\n",
    "\n",
    "y_true=dfs2.lab_km; y_pred=dfs2.lab_cr\n",
    "plotter(y_true, y_pred, ax18)\n",
    "\n",
    "y_true=dfs2.lab_km; y_pred=dfs2.lab_km\n",
    "plotter(y_true, y_pred, ax19)\n",
    "\n",
    "\n",
    "########################################## \n",
    "#Tick-label\n",
    "ax16.xaxis.set_ticklabels(['B', 'D'])\n",
    "ax16.yaxis.set_ticklabels(['B', 'D']);\n",
    "\n",
    "#Title\n",
    "ax1.set_title('Abadi', fontsize=10)\n",
    "ax2.set_title('Threshold', fontsize=10)\n",
    "ax3.set_title('Cristiani', fontsize=10)\n",
    "ax4.set_title('KMeans', fontsize=10)\n",
    "#ax5.set_title('GMM', fontsize=10)\n",
    "ax1.set_ylabel('Abadi', fontsize=10)\n",
    "ax6.set_ylabel('Threshold', fontsize=10) \n",
    "ax11.set_ylabel('Cristiani', fontsize=10) \n",
    "ax16.set_ylabel('KMeans', fontsize=10) \n",
    "#ax21.set_ylabel('GMM', fontsize=10) \n",
    "\n",
    "#cbar_ax = fig.add_axes([1.1, .3, .03, .4])\n",
    "\n"
   ]
  },
  {
   "cell_type": "code",
   "execution_count": null,
   "metadata": {},
   "outputs": [],
   "source": []
  }
 ],
 "metadata": {
  "kernelspec": {
   "display_name": "Python 3",
   "language": "python",
   "name": "python3"
  },
  "language_info": {
   "codemirror_mode": {
    "name": "ipython",
    "version": 3
   },
   "file_extension": ".py",
   "mimetype": "text/x-python",
   "name": "python",
   "nbconvert_exporter": "python",
   "pygments_lexer": "ipython3",
   "version": "3.8.0"
  },
  "toc": {
   "base_numbering": 1,
   "nav_menu": {},
   "number_sections": true,
   "sideBar": true,
   "skip_h1_title": false,
   "title_cell": "Table of Contents",
   "title_sidebar": "Contents",
   "toc_cell": false,
   "toc_position": {
    "height": "calc(100% - 180px)",
    "left": "10px",
    "top": "150px",
    "width": "227.969px"
   },
   "toc_section_display": true,
   "toc_window_display": true
  },
  "varInspector": {
   "cols": {
    "lenName": 16,
    "lenType": 16,
    "lenVar": 40
   },
   "kernels_config": {
    "python": {
     "delete_cmd_postfix": "",
     "delete_cmd_prefix": "del ",
     "library": "var_list.py",
     "varRefreshCmd": "print(var_dic_list())"
    },
    "r": {
     "delete_cmd_postfix": ") ",
     "delete_cmd_prefix": "rm(",
     "library": "var_list.r",
     "varRefreshCmd": "cat(var_dic_list()) "
    }
   },
   "oldHeight": 122,
   "position": {
    "height": "144px",
    "left": "1333px",
    "right": "20px",
    "top": "120px",
    "width": "247px"
   },
   "types_to_exclude": [
    "module",
    "function",
    "builtin_function_or_method",
    "instance",
    "_Feature"
   ],
   "varInspector_section_display": "block",
   "window_display": false
  }
 },
 "nbformat": 4,
 "nbformat_minor": 4
}
