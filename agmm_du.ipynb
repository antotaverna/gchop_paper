{
 "cells": [
  {
   "cell_type": "code",
   "execution_count": 1,
   "metadata": {},
   "outputs": [],
   "source": [
    "import h5py\n",
    "import galaxychop as gchop\n",
    "import uttr\n",
    "import attr\n",
    "import seaborn as sns\n",
    "import pandas as pd\n",
    "import matplotlib.pylab as plt\n",
    "import numpy as np"
   ]
  },
  {
   "cell_type": "markdown",
   "metadata": {},
   "source": [
    "# AutoGMM galaxias Du\n",
    "## gal0= ID394242"
   ]
  },
  {
   "cell_type": "code",
   "execution_count": 2,
   "metadata": {},
   "outputs": [
    {
     "data": {
      "text/html": [
       "<div>\n",
       "<style scoped>\n",
       "    .dataframe tbody tr th:only-of-type {\n",
       "        vertical-align: middle;\n",
       "    }\n",
       "\n",
       "    .dataframe tbody tr th {\n",
       "        vertical-align: top;\n",
       "    }\n",
       "\n",
       "    .dataframe thead tr th {\n",
       "        text-align: left;\n",
       "    }\n",
       "</style>\n",
       "<table border=\"1\" class=\"dataframe\">\n",
       "  <thead>\n",
       "    <tr>\n",
       "      <th></th>\n",
       "      <th colspan=\"2\" halign=\"left\">Particles</th>\n",
       "      <th colspan=\"2\" halign=\"left\">Deterministic mass</th>\n",
       "      <th colspan=\"2\" halign=\"left\">Probabilistic mass</th>\n",
       "    </tr>\n",
       "    <tr>\n",
       "      <th></th>\n",
       "      <th>Size</th>\n",
       "      <th>Fraction</th>\n",
       "      <th>Size</th>\n",
       "      <th>Fraction</th>\n",
       "      <th>Size</th>\n",
       "      <th>Fraction</th>\n",
       "    </tr>\n",
       "  </thead>\n",
       "  <tbody>\n",
       "    <tr>\n",
       "      <th>Halo</th>\n",
       "      <td>5267</td>\n",
       "      <td>0.141271</td>\n",
       "      <td>5.214474e+09</td>\n",
       "      <td>0.139746</td>\n",
       "      <td>5.959597e+09</td>\n",
       "      <td>0.159716</td>\n",
       "    </tr>\n",
       "    <tr>\n",
       "      <th>Bulge</th>\n",
       "      <td>5372</td>\n",
       "      <td>0.144087</td>\n",
       "      <td>5.007372e+09</td>\n",
       "      <td>0.134196</td>\n",
       "      <td>5.082928e+09</td>\n",
       "      <td>0.136221</td>\n",
       "    </tr>\n",
       "    <tr>\n",
       "      <th>Cold disk</th>\n",
       "      <td>8097</td>\n",
       "      <td>0.217177</td>\n",
       "      <td>8.705237e+09</td>\n",
       "      <td>0.233298</td>\n",
       "      <td>8.307479e+09</td>\n",
       "      <td>0.222638</td>\n",
       "    </tr>\n",
       "    <tr>\n",
       "      <th>Warm disk</th>\n",
       "      <td>18547</td>\n",
       "      <td>0.497465</td>\n",
       "      <td>1.838673e+10</td>\n",
       "      <td>0.492759</td>\n",
       "      <td>1.796381e+10</td>\n",
       "      <td>0.481425</td>\n",
       "    </tr>\n",
       "  </tbody>\n",
       "</table>\n",
       "</div>"
      ],
      "text/plain": [
       "          Particles           Deterministic mass           Probabilistic mass  \\\n",
       "               Size  Fraction               Size  Fraction               Size   \n",
       "Halo           5267  0.141271       5.214474e+09  0.139746       5.959597e+09   \n",
       "Bulge          5372  0.144087       5.007372e+09  0.134196       5.082928e+09   \n",
       "Cold disk      8097  0.217177       8.705237e+09  0.233298       8.307479e+09   \n",
       "Warm disk     18547  0.497465       1.838673e+10  0.492759       1.796381e+10   \n",
       "\n",
       "                     \n",
       "           Fraction  \n",
       "Halo       0.159716  \n",
       "Bulge      0.136221  \n",
       "Cold disk  0.222638  \n",
       "Warm disk  0.481425  "
      ]
     },
     "execution_count": 2,
     "metadata": {},
     "output_type": "execute_result"
    }
   ],
   "source": [
    "describe_gal0 = pd.read_pickle('describe_agmm_gal394242_rvir.pkl')\n",
    "describe_gal0"
   ]
  },
  {
   "cell_type": "code",
   "execution_count": 3,
   "metadata": {},
   "outputs": [
    {
     "data": {
      "text/plain": [
       "Particles           Size        3.728300e+04\n",
       "                    Fraction    1.000000e+00\n",
       "Deterministic mass  Size        3.731381e+10\n",
       "                    Fraction    1.000000e+00\n",
       "Probabilistic mass  Size        3.731381e+10\n",
       "                    Fraction    1.000000e+00\n",
       "dtype: float64"
      ]
     },
     "execution_count": 3,
     "metadata": {},
     "output_type": "execute_result"
    }
   ],
   "source": [
    "describe_gal0.sum()"
   ]
  },
  {
   "cell_type": "markdown",
   "metadata": {},
   "source": [
    "## gal1 = ID250391"
   ]
  },
  {
   "cell_type": "code",
   "execution_count": 4,
   "metadata": {},
   "outputs": [
    {
     "data": {
      "text/plain": [
       "[<matplotlib.lines.Line2D at 0x14b99b106090>]"
      ]
     },
     "execution_count": 4,
     "metadata": {},
     "output_type": "execute_result"
    },
    {
     "data": {
      "image/png": "[encoded data removed]",
      "text/plain": [
       "<Figure size 432x288 with 1 Axes>"
      ]
     },
     "metadata": {
      "needs_background": "light"
     },
     "output_type": "display_data"
    }
   ],
   "source": [
    "rvir=563.213\n",
    "gal1 = gchop.read_hdf5(\"galaxies_Du/gal250391.h5\")\n",
    "gal1 = gchop.center(gal1)\n",
    "gal1 = gchop.star_align(gal1, r_cut=0.1*rvir)\n",
    "#gal1.to_dataframe()\n",
    "circ = gchop.utils.jcirc(gal1)\n",
    "plt.plot(circ.x,circ.y, 'bo')"
   ]
  },
  {
   "cell_type": "code",
   "execution_count": 5,
   "metadata": {},
   "outputs": [
    {
     "name": "stdout",
     "output_type": "stream",
     "text": [
      "          Particles           Deterministic mass           Probabilistic mass  \\\n",
      "               Size  Fraction               Size  Fraction               Size   \n",
      "Halo           7509  0.223589       7.285079e+09  0.214363       7.668048e+09   \n",
      "Bulge          5747  0.171123       5.520956e+09  0.162454       5.439066e+09   \n",
      "Cold disk     10007  0.297969       1.086766e+10  0.319780       1.051905e+10   \n",
      "Warm disk     10321  0.307319       1.031107e+10  0.303403       1.035860e+10   \n",
      "\n",
      "                     \n",
      "           Fraction  \n",
      "Halo       0.225632  \n",
      "Bulge      0.160044  \n",
      "Cold disk  0.309523  \n",
      "Warm disk  0.304801  \n"
     ]
    }
   ],
   "source": [
    "decomposer = gchop.models.AutoGaussianMixture() #njobs paralell #cbin\n",
    "cmp_labels = decomposer.decompose(gal1)\n",
    "describe_gal1 = cmp_labels.describe()\n",
    "describe_gal1.to_pickle('describe_agmm_gal250391_rvir.pkl')\n",
    "print(describe_gal1)"
   ]
  },
  {
   "cell_type": "markdown",
   "metadata": {},
   "source": [
    "## gal2 = ID526667"
   ]
  },
  {
   "cell_type": "code",
   "execution_count": 6,
   "metadata": {},
   "outputs": [
    {
     "data": {
      "text/html": [
       "<div>\n",
       "<style scoped>\n",
       "    .dataframe tbody tr th:only-of-type {\n",
       "        vertical-align: middle;\n",
       "    }\n",
       "\n",
       "    .dataframe tbody tr th {\n",
       "        vertical-align: top;\n",
       "    }\n",
       "\n",
       "    .dataframe thead th {\n",
       "        text-align: right;\n",
       "    }\n",
       "</style>\n",
       "<table border=\"1\" class=\"dataframe\">\n",
       "  <thead>\n",
       "    <tr style=\"text-align: right;\">\n",
       "      <th></th>\n",
       "      <th>ptype</th>\n",
       "      <th>ptypev</th>\n",
       "      <th>m</th>\n",
       "      <th>x</th>\n",
       "      <th>y</th>\n",
       "      <th>z</th>\n",
       "      <th>vx</th>\n",
       "      <th>vy</th>\n",
       "      <th>vz</th>\n",
       "      <th>softening</th>\n",
       "      <th>potential</th>\n",
       "      <th>kinetic_energy</th>\n",
       "      <th>total_energy</th>\n",
       "      <th>Jx</th>\n",
       "      <th>Jy</th>\n",
       "      <th>Jz</th>\n",
       "    </tr>\n",
       "  </thead>\n",
       "  <tbody>\n",
       "    <tr>\n",
       "      <th>0</th>\n",
       "      <td>stars</td>\n",
       "      <td>0</td>\n",
       "      <td>9.802035e+05</td>\n",
       "      <td>-0.103927</td>\n",
       "      <td>-0.164611</td>\n",
       "      <td>-0.317669</td>\n",
       "      <td>-1.104925</td>\n",
       "      <td>4.694377</td>\n",
       "      <td>-3.497403</td>\n",
       "      <td>0.0</td>\n",
       "      <td>-200495.947870</td>\n",
       "      <td>17.744933</td>\n",
       "      <td>-200478.202937</td>\n",
       "      <td>2.066969</td>\n",
       "      <td>-0.012475</td>\n",
       "      <td>-0.669756</td>\n",
       "    </tr>\n",
       "    <tr>\n",
       "      <th>1</th>\n",
       "      <td>stars</td>\n",
       "      <td>0</td>\n",
       "      <td>9.902100e+05</td>\n",
       "      <td>-0.110190</td>\n",
       "      <td>0.153591</td>\n",
       "      <td>-0.191273</td>\n",
       "      <td>8.728737</td>\n",
       "      <td>-36.704846</td>\n",
       "      <td>28.216494</td>\n",
       "      <td>0.0</td>\n",
       "      <td>-203090.239977</td>\n",
       "      <td>1109.803520</td>\n",
       "      <td>-201980.436457</td>\n",
       "      <td>-2.686853</td>\n",
       "      <td>1.439600</td>\n",
       "      <td>2.703848</td>\n",
       "    </tr>\n",
       "    <tr>\n",
       "      <th>2</th>\n",
       "      <td>stars</td>\n",
       "      <td>0</td>\n",
       "      <td>5.469749e+05</td>\n",
       "      <td>-0.132566</td>\n",
       "      <td>-0.141869</td>\n",
       "      <td>-0.187296</td>\n",
       "      <td>21.329272</td>\n",
       "      <td>19.525675</td>\n",
       "      <td>38.087643</td>\n",
       "      <td>0.0</td>\n",
       "      <td>-202801.416138</td>\n",
       "      <td>1143.429197</td>\n",
       "      <td>-201657.986941</td>\n",
       "      <td>-1.746367</td>\n",
       "      <td>1.054239</td>\n",
       "      <td>0.437517</td>\n",
       "    </tr>\n",
       "    <tr>\n",
       "      <th>3</th>\n",
       "      <td>stars</td>\n",
       "      <td>0</td>\n",
       "      <td>5.762469e+05</td>\n",
       "      <td>0.117683</td>\n",
       "      <td>0.170565</td>\n",
       "      <td>0.123313</td>\n",
       "      <td>-8.274310</td>\n",
       "      <td>24.285799</td>\n",
       "      <td>5.154378</td>\n",
       "      <td>0.0</td>\n",
       "      <td>-201347.417800</td>\n",
       "      <td>342.415929</td>\n",
       "      <td>-201005.001871</td>\n",
       "      <td>-2.115605</td>\n",
       "      <td>-1.626914</td>\n",
       "      <td>4.269329</td>\n",
       "    </tr>\n",
       "    <tr>\n",
       "      <th>4</th>\n",
       "      <td>stars</td>\n",
       "      <td>0</td>\n",
       "      <td>5.748919e+05</td>\n",
       "      <td>-0.108451</td>\n",
       "      <td>-0.060408</td>\n",
       "      <td>-0.061513</td>\n",
       "      <td>42.318355</td>\n",
       "      <td>-44.752126</td>\n",
       "      <td>6.253292</td>\n",
       "      <td>0.0</td>\n",
       "      <td>-203587.576977</td>\n",
       "      <td>1916.349829</td>\n",
       "      <td>-201671.227148</td>\n",
       "      <td>-3.130576</td>\n",
       "      <td>-1.924944</td>\n",
       "      <td>7.409774</td>\n",
       "    </tr>\n",
       "    <tr>\n",
       "      <th>...</th>\n",
       "      <td>...</td>\n",
       "      <td>...</td>\n",
       "      <td>...</td>\n",
       "      <td>...</td>\n",
       "      <td>...</td>\n",
       "      <td>...</td>\n",
       "      <td>...</td>\n",
       "      <td>...</td>\n",
       "      <td>...</td>\n",
       "      <td>...</td>\n",
       "      <td>...</td>\n",
       "      <td>...</td>\n",
       "      <td>...</td>\n",
       "      <td>...</td>\n",
       "      <td>...</td>\n",
       "      <td>...</td>\n",
       "    </tr>\n",
       "    <tr>\n",
       "      <th>168953</th>\n",
       "      <td>gas</td>\n",
       "      <td>2</td>\n",
       "      <td>1.638979e+06</td>\n",
       "      <td>192.634190</td>\n",
       "      <td>53.743818</td>\n",
       "      <td>-188.485761</td>\n",
       "      <td>-7.628131</td>\n",
       "      <td>95.754382</td>\n",
       "      <td>-16.763834</td>\n",
       "      <td>0.0</td>\n",
       "      <td>-14739.547830</td>\n",
       "      <td>4754.058126</td>\n",
       "      <td>-9985.489703</td>\n",
       "      <td>17147.385220</td>\n",
       "      <td>4667.081544</td>\n",
       "      <td>18855.532728</td>\n",
       "    </tr>\n",
       "    <tr>\n",
       "      <th>168954</th>\n",
       "      <td>gas</td>\n",
       "      <td>2</td>\n",
       "      <td>1.196053e+06</td>\n",
       "      <td>-129.137853</td>\n",
       "      <td>-210.918949</td>\n",
       "      <td>76.125571</td>\n",
       "      <td>-87.433372</td>\n",
       "      <td>1.975726</td>\n",
       "      <td>16.838536</td>\n",
       "      <td>0.0</td>\n",
       "      <td>-16295.293962</td>\n",
       "      <td>3966.017159</td>\n",
       "      <td>-12329.276804</td>\n",
       "      <td>-3701.969686</td>\n",
       "      <td>-4481.422902</td>\n",
       "      <td>-18696.495937</td>\n",
       "    </tr>\n",
       "    <tr>\n",
       "      <th>168955</th>\n",
       "      <td>gas</td>\n",
       "      <td>2</td>\n",
       "      <td>1.252471e+06</td>\n",
       "      <td>-182.203484</td>\n",
       "      <td>-74.846111</td>\n",
       "      <td>29.751360</td>\n",
       "      <td>-30.267761</td>\n",
       "      <td>77.456137</td>\n",
       "      <td>-17.459622</td>\n",
       "      <td>0.0</td>\n",
       "      <td>-21050.438664</td>\n",
       "      <td>3610.214469</td>\n",
       "      <td>-17440.224195</td>\n",
       "      <td>-997.640617</td>\n",
       "      <td>-4081.710982</td>\n",
       "      <td>-16378.202222</td>\n",
       "    </tr>\n",
       "    <tr>\n",
       "      <th>168956</th>\n",
       "      <td>gas</td>\n",
       "      <td>2</td>\n",
       "      <td>1.629811e+06</td>\n",
       "      <td>151.031589</td>\n",
       "      <td>153.613995</td>\n",
       "      <td>86.931460</td>\n",
       "      <td>14.910131</td>\n",
       "      <td>-30.174182</td>\n",
       "      <td>15.485399</td>\n",
       "      <td>0.0</td>\n",
       "      <td>-17080.253672</td>\n",
       "      <td>686.295417</td>\n",
       "      <td>-16393.958255</td>\n",
       "      <td>5001.859719</td>\n",
       "      <td>-1042.625063</td>\n",
       "      <td>-6847.659353</td>\n",
       "    </tr>\n",
       "    <tr>\n",
       "      <th>168957</th>\n",
       "      <td>gas</td>\n",
       "      <td>2</td>\n",
       "      <td>1.220183e+06</td>\n",
       "      <td>-124.268571</td>\n",
       "      <td>236.053986</td>\n",
       "      <td>38.603509</td>\n",
       "      <td>-66.285867</td>\n",
       "      <td>-80.595911</td>\n",
       "      <td>25.057304</td>\n",
       "      <td>0.0</td>\n",
       "      <td>-15052.006371</td>\n",
       "      <td>5758.692769</td>\n",
       "      <td>-9293.313602</td>\n",
       "      <td>9026.161484</td>\n",
       "      <td>554.968315</td>\n",
       "      <td>25662.581809</td>\n",
       "    </tr>\n",
       "  </tbody>\n",
       "</table>\n",
       "<p>168958 rows × 16 columns</p>\n",
       "</div>"
      ],
      "text/plain": [
       "        ptype  ptypev             m           x           y           z  \\\n",
       "0       stars       0  9.802035e+05   -0.103927   -0.164611   -0.317669   \n",
       "1       stars       0  9.902100e+05   -0.110190    0.153591   -0.191273   \n",
       "2       stars       0  5.469749e+05   -0.132566   -0.141869   -0.187296   \n",
       "3       stars       0  5.762469e+05    0.117683    0.170565    0.123313   \n",
       "4       stars       0  5.748919e+05   -0.108451   -0.060408   -0.061513   \n",
       "...       ...     ...           ...         ...         ...         ...   \n",
       "168953    gas       2  1.638979e+06  192.634190   53.743818 -188.485761   \n",
       "168954    gas       2  1.196053e+06 -129.137853 -210.918949   76.125571   \n",
       "168955    gas       2  1.252471e+06 -182.203484  -74.846111   29.751360   \n",
       "168956    gas       2  1.629811e+06  151.031589  153.613995   86.931460   \n",
       "168957    gas       2  1.220183e+06 -124.268571  236.053986   38.603509   \n",
       "\n",
       "               vx         vy         vz  softening      potential  \\\n",
       "0       -1.104925   4.694377  -3.497403        0.0 -200495.947870   \n",
       "1        8.728737 -36.704846  28.216494        0.0 -203090.239977   \n",
       "2       21.329272  19.525675  38.087643        0.0 -202801.416138   \n",
       "3       -8.274310  24.285799   5.154378        0.0 -201347.417800   \n",
       "4       42.318355 -44.752126   6.253292        0.0 -203587.576977   \n",
       "...           ...        ...        ...        ...            ...   \n",
       "168953  -7.628131  95.754382 -16.763834        0.0  -14739.547830   \n",
       "168954 -87.433372   1.975726  16.838536        0.0  -16295.293962   \n",
       "168955 -30.267761  77.456137 -17.459622        0.0  -21050.438664   \n",
       "168956  14.910131 -30.174182  15.485399        0.0  -17080.253672   \n",
       "168957 -66.285867 -80.595911  25.057304        0.0  -15052.006371   \n",
       "\n",
       "        kinetic_energy   total_energy            Jx           Jy            Jz  \n",
       "0            17.744933 -200478.202937      2.066969    -0.012475     -0.669756  \n",
       "1          1109.803520 -201980.436457     -2.686853     1.439600      2.703848  \n",
       "2          1143.429197 -201657.986941     -1.746367     1.054239      0.437517  \n",
       "3           342.415929 -201005.001871     -2.115605    -1.626914      4.269329  \n",
       "4          1916.349829 -201671.227148     -3.130576    -1.924944      7.409774  \n",
       "...                ...            ...           ...          ...           ...  \n",
       "168953     4754.058126   -9985.489703  17147.385220  4667.081544  18855.532728  \n",
       "168954     3966.017159  -12329.276804  -3701.969686 -4481.422902 -18696.495937  \n",
       "168955     3610.214469  -17440.224195   -997.640617 -4081.710982 -16378.202222  \n",
       "168956      686.295417  -16393.958255   5001.859719 -1042.625063  -6847.659353  \n",
       "168957     5758.692769   -9293.313602   9026.161484   554.968315  25662.581809  \n",
       "\n",
       "[168958 rows x 16 columns]"
      ]
     },
     "execution_count": 6,
     "metadata": {},
     "output_type": "execute_result"
    },
    {
     "data": {
      "image/png": "[encoded data removed]",
      "text/plain": [
       "<Figure size 432x288 with 1 Axes>"
      ]
     },
     "metadata": {
      "needs_background": "light"
     },
     "output_type": "display_data"
    }
   ],
   "source": [
    "rvir=202.313\n",
    "gal2 = gchop.read_hdf5(\"galaxies_Du/gal526667.h5\")\n",
    "gal2 = gchop.center(gal2)\n",
    "gal2 = gchop.star_align(gal2, r_cut=0.1*rvir)\n",
    "circ = gchop.utils.jcirc(gal2)\n",
    "plt.plot(circ.x,circ.y, 'bo')\n",
    "gal2.to_dataframe()"
   ]
  },
  {
   "cell_type": "code",
   "execution_count": 7,
   "metadata": {},
   "outputs": [
    {
     "name": "stdout",
     "output_type": "stream",
     "text": [
      "          Particles           Deterministic mass           Probabilistic mass  \\\n",
      "               Size  Fraction               Size  Fraction               Size   \n",
      "Halo          15416  0.445858       1.466054e+10  0.439517       1.461881e+10   \n",
      "Bulge          6552  0.189496       6.053907e+09  0.181494       6.169735e+09   \n",
      "Cold disk      8699  0.251591       8.905038e+09  0.266970       8.648271e+09   \n",
      "Warm disk      3909  0.113055       3.736504e+09  0.112019       3.919171e+09   \n",
      "\n",
      "                     \n",
      "           Fraction  \n",
      "Halo       0.438266  \n",
      "Bulge      0.184966  \n",
      "Cold disk  0.259272  \n",
      "Warm disk  0.117495  \n"
     ]
    }
   ],
   "source": [
    "decomposer = gchop.models.AutoGaussianMixture() #njobs paralell #cbin\n",
    "cmp_labels = decomposer.decompose(gal2)\n",
    "describe_gal2 = cmp_labels.describe()\n",
    "describe_gal2.to_pickle('describe_agmm_gal526667_rvir.pkl')\n",
    "print(describe_gal2)"
   ]
  },
  {
   "cell_type": "markdown",
   "metadata": {},
   "source": [
    "## gal3 = ID128397"
   ]
  },
  {
   "cell_type": "code",
   "execution_count": 8,
   "metadata": {},
   "outputs": [
    {
     "data": {
      "text/plain": [
       "[<matplotlib.lines.Line2D at 0x14b966fff050>]"
      ]
     },
     "execution_count": 8,
     "metadata": {},
     "output_type": "execute_result"
    },
    {
     "data": {
      "image/png": "[encoded data removed]",
      "text/plain": [
       "<Figure size 432x288 with 1 Axes>"
      ]
     },
     "metadata": {
      "needs_background": "light"
     },
     "output_type": "display_data"
    }
   ],
   "source": [
    "rvir=996.755\n",
    "gal3 = gchop.read_hdf5(\"galaxies_Du/gal128397.h5\")\n",
    "gal3 = gchop.center(gal3)\n",
    "gal3 = gchop.star_align(gal3, r_cut=0.1*rvir)\n",
    "circ = gchop.utils.jcirc(gal3)\n",
    "plt.plot(circ.x,circ.y, 'bo')\n",
    "#gal3.to_dataframe()"
   ]
  },
  {
   "cell_type": "code",
   "execution_count": 9,
   "metadata": {},
   "outputs": [
    {
     "name": "stdout",
     "output_type": "stream",
     "text": [
      "          Particles           Deterministic mass           Probabilistic mass  \\\n",
      "               Size  Fraction               Size  Fraction               Size   \n",
      "Halo           9122  0.258085       8.853534e+09  0.270053       9.941989e+09   \n",
      "Bulge         18359  0.519423       1.670520e+10  0.509547       1.555617e+10   \n",
      "Warm disk      7864  0.222493       7.225671e+09  0.220400       7.286250e+09   \n",
      "\n",
      "                     \n",
      "           Fraction  \n",
      "Halo       0.303254  \n",
      "Bulge      0.474499  \n",
      "Warm disk  0.222247  \n"
     ]
    }
   ],
   "source": [
    "decomposer = gchop.models.AutoGaussianMixture() #njobs paralell #cbin\n",
    "cmp_labels = decomposer.decompose(gal3)\n",
    "describe_gal3 = cmp_labels.describe()\n",
    "describe_gal3.to_pickle('describe_agmm_gal128397_rvir.pkl')\n",
    "print(describe_gal3)"
   ]
  },
  {
   "cell_type": "markdown",
   "metadata": {},
   "source": [
    "## gal4 = ID476624"
   ]
  },
  {
   "cell_type": "code",
   "execution_count": 10,
   "metadata": {},
   "outputs": [
    {
     "data": {
      "text/plain": [
       "[<matplotlib.lines.Line2D at 0x14b9677f3dd0>]"
      ]
     },
     "execution_count": 10,
     "metadata": {},
     "output_type": "execute_result"
    },
    {
     "data": {
      "image/png": "[encoded data removed]",
      "text/plain": [
       "<Figure size 432x288 with 1 Axes>"
      ]
     },
     "metadata": {
      "needs_background": "light"
     },
     "output_type": "display_data"
    }
   ],
   "source": [
    "rvir=239.534\n",
    "gal4 = gchop.read_hdf5(\"galaxies_Du/gal476624.h5\")\n",
    "gal4 = gchop.center(gal4)\n",
    "gal4 = gchop.star_align(gal4, r_cut=0.1*rvir)\n",
    "#gal4.to_dataframe()\n",
    "circ = gchop.utils.jcirc(gal4)\n",
    "plt.plot(circ.x,circ.y, 'bo')"
   ]
  },
  {
   "cell_type": "code",
   "execution_count": 11,
   "metadata": {},
   "outputs": [
    {
     "name": "stdout",
     "output_type": "stream",
     "text": [
      "          Particles           Deterministic mass           Probabilistic mass  \\\n",
      "               Size  Fraction               Size  Fraction               Size   \n",
      "Halo          18982  0.516826       1.851258e+10  0.525172       1.864407e+10   \n",
      "Bulge         13963  0.380173       1.299867e+10  0.368751       1.303432e+10   \n",
      "Warm disk      3783  0.103000       3.739279e+09  0.106077       3.572141e+09   \n",
      "\n",
      "                     \n",
      "           Fraction  \n",
      "Halo       0.528902  \n",
      "Bulge      0.369762  \n",
      "Warm disk  0.101336  \n"
     ]
    }
   ],
   "source": [
    "decomposer = gchop.models.AutoGaussianMixture() #njobs paralell #cbin\n",
    "cmp_labels = decomposer.decompose(gal4)\n",
    "describe_gal4 = cmp_labels.describe()\n",
    "describe_gal4.to_pickle('describe_agmm_gal476624_rvir.pkl')\n",
    "print(describe_gal4)"
   ]
  },
  {
   "cell_type": "markdown",
   "metadata": {},
   "source": [
    "## gal5 = ID472362"
   ]
  },
  {
   "cell_type": "code",
   "execution_count": 12,
   "metadata": {},
   "outputs": [
    {
     "data": {
      "text/plain": [
       "[<matplotlib.lines.Line2D at 0x14b967704650>]"
      ]
     },
     "execution_count": 12,
     "metadata": {},
     "output_type": "execute_result"
    },
    {
     "data": {
      "image/png": "[encoded data removed]",
      "text/plain": [
       "<Figure size 432x288 with 1 Axes>"
      ]
     },
     "metadata": {
      "needs_background": "light"
     },
     "output_type": "display_data"
    }
   ],
   "source": [
    "rvir=251.095\n",
    "gal5 = gchop.read_hdf5(\"galaxies_Du/gal472362.h5\")\n",
    "gal5 = gchop.center(gal5)\n",
    "gal5 = gchop.star_align(gal5, r_cut=0.1*rvir)\n",
    "#gal5.to_dataframe()\n",
    "circ = gchop.utils.jcirc(gal5)\n",
    "plt.plot(circ.x,circ.y, 'bo')"
   ]
  },
  {
   "cell_type": "code",
   "execution_count": 13,
   "metadata": {},
   "outputs": [
    {
     "name": "stdout",
     "output_type": "stream",
     "text": [
      "          Particles           Deterministic mass           Probabilistic mass  \\\n",
      "               Size  Fraction               Size  Fraction               Size   \n",
      "Halo           7995  0.112450       7.628297e+09  0.115802       8.698801e+09   \n",
      "Bulge         34141  0.480196       3.045881e+10  0.462383       2.961147e+10   \n",
      "Cold disk     15779  0.221933       1.542381e+10  0.234143       1.463486e+10   \n",
      "Warm disk     13183  0.185420       1.236259e+10  0.187672       1.292838e+10   \n",
      "\n",
      "                     \n",
      "           Fraction  \n",
      "Halo       0.132053  \n",
      "Bulge      0.449520  \n",
      "Cold disk  0.222166  \n",
      "Warm disk  0.196261  \n"
     ]
    }
   ],
   "source": [
    "decomposer = gchop.models.AutoGaussianMixture() #njobs paralell #cbin\n",
    "cmp_labels = decomposer.decompose(gal5)\n",
    "describe_gal5 = cmp_labels.describe()\n",
    "describe_gal5.to_pickle('describe_agmm_gal472362_rvir.pkl')\n",
    "print(describe_gal5)"
   ]
  },
  {
   "cell_type": "code",
   "execution_count": null,
   "metadata": {},
   "outputs": [],
   "source": []
  },
  {
   "cell_type": "code",
   "execution_count": null,
   "metadata": {},
   "outputs": [],
   "source": []
  },
  {
   "cell_type": "code",
   "execution_count": null,
   "metadata": {},
   "outputs": [],
   "source": []
  },
  {
   "cell_type": "code",
   "execution_count": null,
   "metadata": {},
   "outputs": [],
   "source": []
  },
  {
   "cell_type": "code",
   "execution_count": null,
   "metadata": {},
   "outputs": [],
   "source": []
  }
 ],
 "metadata": {
  "kernelspec": {
   "display_name": "Python 3",
   "language": "python",
   "name": "python3"
  },
  "language_info": {
   "codemirror_mode": {
    "name": "ipython",
    "version": 3
   },
   "file_extension": ".py",
   "mimetype": "text/x-python",
   "name": "python",
   "nbconvert_exporter": "python",
   "pygments_lexer": "ipython3",
   "version": "3.7.9"
  },
  "toc": {
   "base_numbering": 1,
   "nav_menu": {},
   "number_sections": true,
   "sideBar": true,
   "skip_h1_title": false,
   "title_cell": "Table of Contents",
   "title_sidebar": "Contents",
   "toc_cell": false,
   "toc_position": {
    "height": "calc(100% - 180px)",
    "left": "10px",
    "top": "150px",
    "width": "178px"
   },
   "toc_section_display": true,
   "toc_window_display": true
  },
  "varInspector": {
   "cols": {
    "lenName": 16,
    "lenType": 16,
    "lenVar": 40
   },
   "kernels_config": {
    "python": {
     "delete_cmd_postfix": "",
     "delete_cmd_prefix": "del ",
     "library": "var_list.py",
     "varRefreshCmd": "print(var_dic_list())"
    },
    "r": {
     "delete_cmd_postfix": ") ",
     "delete_cmd_prefix": "rm(",
     "library": "var_list.r",
     "varRefreshCmd": "cat(var_dic_list()) "
    }
   },
   "oldHeight": 122,
   "position": {
    "height": "144px",
    "left": "1333px",
    "right": "20px",
    "top": "120px",
    "width": "247px"
   },
   "types_to_exclude": [
    "module",
    "function",
    "builtin_function_or_method",
    "instance",
    "_Feature"
   ],
   "varInspector_section_display": "block",
   "window_display": false
  }
 },
 "nbformat": 4,
 "nbformat_minor": 4
}
