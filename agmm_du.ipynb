{
 "cells": [
  {
   "cell_type": "code",
   "execution_count": 1,
   "metadata": {},
   "outputs": [],
   "source": [
    "import h5py\n",
    "import galaxychop as gchop\n",
    "import uttr\n",
    "import attr\n",
    "import seaborn as sns\n",
    "import pandas as pd\n",
    "import matplotlib.pylab as plt\n",
    "import numpy as np"
   ]
  },
  {
   "cell_type": "markdown",
   "metadata": {},
   "source": [
    "# AutoGMM galaxias Du\n",
    "## gal0= ID394242"
   ]
  },
  {
   "cell_type": "code",
   "execution_count": 2,
<<<<<<< HEAD
=======
   "metadata": {},
   "outputs": [],
   "source": [
    "gal0 = gchop.read_hdf5(\"../galaxy-chop/tests/datasets/gal394242.h5\")\n",
    "gal0 = gchop.center(gal0)\n",
    "rvir0 = 297.470\n",
    "gal0 = gchop.star_align(gal0, r_cut=0.1*rvir0)\n",
    "#gal0.to_dataframe()"
   ]
  },
  {
   "cell_type": "markdown",
>>>>>>> acf51fbaa126fdddc7c458ba3142b5cdf3179a0a
   "metadata": {},
   "outputs": [
    {
     "data": {
      "text/html": [
       "<div>\n",
       "<style scoped>\n",
       "    .dataframe tbody tr th:only-of-type {\n",
       "        vertical-align: middle;\n",
       "    }\n",
       "\n",
       "    .dataframe tbody tr th {\n",
       "        vertical-align: top;\n",
       "    }\n",
       "\n",
       "    .dataframe thead tr th {\n",
       "        text-align: left;\n",
       "    }\n",
       "</style>\n",
       "<table border=\"1\" class=\"dataframe\">\n",
       "  <thead>\n",
       "    <tr>\n",
       "      <th></th>\n",
       "      <th colspan=\"2\" halign=\"left\">Particles</th>\n",
       "      <th colspan=\"2\" halign=\"left\">Deterministic mass</th>\n",
       "      <th colspan=\"2\" halign=\"left\">Probabilistic mass</th>\n",
       "    </tr>\n",
       "    <tr>\n",
       "      <th></th>\n",
       "      <th>Size</th>\n",
       "      <th>Fraction</th>\n",
       "      <th>Size</th>\n",
       "      <th>Fraction</th>\n",
       "      <th>Size</th>\n",
       "      <th>Fraction</th>\n",
       "    </tr>\n",
       "  </thead>\n",
       "  <tbody>\n",
       "    <tr>\n",
       "      <th>Halo</th>\n",
       "      <td>5267</td>\n",
       "      <td>0.141271</td>\n",
       "      <td>5.214474e+09</td>\n",
       "      <td>0.139746</td>\n",
       "      <td>5.959597e+09</td>\n",
       "      <td>0.159716</td>\n",
       "    </tr>\n",
       "    <tr>\n",
       "      <th>Bulge</th>\n",
       "      <td>5372</td>\n",
       "      <td>0.144087</td>\n",
       "      <td>5.007372e+09</td>\n",
       "      <td>0.134196</td>\n",
       "      <td>5.082928e+09</td>\n",
       "      <td>0.136221</td>\n",
       "    </tr>\n",
       "    <tr>\n",
       "      <th>Cold disk</th>\n",
       "      <td>8097</td>\n",
       "      <td>0.217177</td>\n",
       "      <td>8.705237e+09</td>\n",
       "      <td>0.233298</td>\n",
       "      <td>8.307479e+09</td>\n",
       "      <td>0.222638</td>\n",
       "    </tr>\n",
       "    <tr>\n",
       "      <th>Warm disk</th>\n",
       "      <td>18547</td>\n",
       "      <td>0.497465</td>\n",
       "      <td>1.838673e+10</td>\n",
       "      <td>0.492759</td>\n",
       "      <td>1.796381e+10</td>\n",
       "      <td>0.481425</td>\n",
       "    </tr>\n",
       "  </tbody>\n",
       "</table>\n",
       "</div>"
      ],
      "text/plain": [
       "          Particles           Deterministic mass           Probabilistic mass  \\\n",
       "               Size  Fraction               Size  Fraction               Size   \n",
       "Halo           5267  0.141271       5.214474e+09  0.139746       5.959597e+09   \n",
       "Bulge          5372  0.144087       5.007372e+09  0.134196       5.082928e+09   \n",
       "Cold disk      8097  0.217177       8.705237e+09  0.233298       8.307479e+09   \n",
       "Warm disk     18547  0.497465       1.838673e+10  0.492759       1.796381e+10   \n",
       "\n",
       "                     \n",
       "           Fraction  \n",
       "Halo       0.159716  \n",
       "Bulge      0.136221  \n",
       "Cold disk  0.222638  \n",
       "Warm disk  0.481425  "
      ]
     },
     "execution_count": 2,
     "metadata": {},
     "output_type": "execute_result"
    }
   ],
   "source": [
    "describe_gal0 = pd.read_pickle('describe_agmm_gal394242_rvir.pkl')\n",
    "describe_gal0"
   ]
  },
  {
   "cell_type": "code",
   "execution_count": 6,
   "metadata": {},
   "outputs": [
    {
     "data": {
      "text/plain": [
       "Particles           Size        3.728300e+04\n",
       "                    Fraction    1.000000e+00\n",
       "Deterministic mass  Size        3.731381e+10\n",
       "                    Fraction    1.000000e+00\n",
       "Probabilistic mass  Size        3.731381e+10\n",
       "                    Fraction    1.000000e+00\n",
       "dtype: float64"
      ]
     },
     "execution_count": 3,
     "metadata": {},
     "output_type": "execute_result"
    }
   ],
   "source": [
<<<<<<< HEAD
    "describe_gal0.sum()"
=======
    "gal1 = gchop.read_hdf5(\"galaxies_Du/gal128397.h5\")\n",
    "gal1 = gchop.center(gal1)\n",
    "gal1 = gchop.star_align(gal1)\n",
    "#gal1.to_dataframe()\n",
    "gal = gal1"
>>>>>>> acf51fbaa126fdddc7c458ba3142b5cdf3179a0a
   ]
  },
  {
   "cell_type": "markdown",
   "metadata": {},
   "source": [
    "## gal1 = ID250391"
   ]
  },
  {
   "cell_type": "code",
   "execution_count": 4,
   "metadata": {},
   "outputs": [
    {
     "data": {
      "text/plain": [
       "[<matplotlib.lines.Line2D at 0x14b99b106090>]"
      ]
     },
     "execution_count": 4,
     "metadata": {},
     "output_type": "execute_result"
    },
    {
     "data": {
      "image/png": "iVBORw0KGgoAAAANSUhEUgAAAXQAAAD4CAYAAAD8Zh1EAAAAOXRFWHRTb2Z0d2FyZQBNYXRwbG90bGliIHZlcnNpb24zLjQuMywgaHR0cHM6Ly9tYXRwbG90bGliLm9yZy/MnkTPAAAACXBIWXMAAAsTAAALEwEAmpwYAAAUWElEQVR4nO3dbYxcV33H8e/fdkzYJpAm3lIax7tBGAmDEJBtCkUIBFRy8iLpA7SxlhIqhF9AKqTSSkGuaBXkF4BKAZEWthQRyJQkoJZawsg8NBVVRWg2AlLiKGBc23FIyZLQQGQgD/73xZ3B4/Hsznjmzsydu9+PtJqZM3fuPccPPx+fe+acyEwkSdNvw6QrIEkqh4EuSTVhoEtSTRjoklQTBrok1cSmSV14y5YtOT8/P6nLS9JUuuuuu36UmbPd3ptYoM/Pz7O8vDypy0vSVIqIo6u955CLJNWEgS5JNWGgS1JNGOiSVBMGuiTVRM9Aj4hPRMRDEfGdVd6PiPhwRByKiLsj4qXlV1OSplujAfPzsGFD8dholH+NfnronwR2rvH+FcD25s9u4O+Hr5Yk1UejAbt3w9GjkFk87t5dfqj3DPTM/BrwyBqHXA18Kgt3ABdExLPLqqAkTbs9e+DEidPLTpwoystUxhj6xcD9ba+PN8vOEBG7I2I5IpZXVlZKuLQkVd+xY2dXPqix3hTNzKXMXMjMhdnZrt9claTa2bbt7MoHVUagPwBc0vZ6a7NMkgTs3QszM6eXzcwU5WUqI9D3AW9qznZ5GfBoZj5YwnklqRYWF2FpCebmIKJ4XFoqysvUc3GuiPgM8GpgS0QcB/4KOAcgMz8K7AeuBA4BJ4A/KbeKkjT9FhfLD/BOPQM9M3f1eD+Bt5dWI0nSQPymqCTVhIEuSTVhoEtSTRjoklQTBrok1YSBLkljMuoVFye2SbQkrSetFRdbi3S1VlyE8uan20OXpDEYx4qLBrokjcE4Vlw00CVpDMax4qKBLkljMI4VFw10SRqDcay46CwXSRqTUa+4aA9dkmrCQJekmjDQJakmDHRJqgkDXZJqwkCXpJow0CWpJgx0SaoJA12SasJAl6SaMNAlaURGvUNRJ9dykaQRGMcORZ3soUvSCIxjh6JOBrokjcA4dijqZKBL0gisthPRhReO7poGuiSNwN69cM45Z5b/9KejuzlqoEvSCCwuwjOecWb544+PbhzdQJekEXnkke7loxpH7yvQI2JnRNwXEYci4vou72+LiNsj4psRcXdEXFl+VSVpuqw2jr5a+bB6BnpEbARuBK4AdgC7ImJHx2F/CdyWmS8BrgH+ruyKStK02bsXZmZOL5uZKcpHoZ8e+uXAocw8nJmPA7cAV3cck0BrtOiZwA/Kq6IkTafFRVhagrk5iCgel5ZG98Wifr4pejFwf9vr48BvdRzz18CXIuJPgV8BXtftRBGxG9gNsG1U/+eQpApZXBxdgHcq66boLuCTmbkVuBL4dEScce7MXMrMhcxcmJ2dLenSkiToL9AfAC5pe721WdbuLcBtAJn5deBcYEsZFZQk9aefQL8T2B4Rl0bEZoqbnvs6jjkGvBYgIp5PEegrZVZUkrS2noGemU8C1wEHgHspZrPcExE3RMRVzcPeCbw1Ir4NfAZ4c2bmqCotSTpTX8vnZuZ+YH9H2bvbnh8EXlFu1SRJZ8NvikrSCIx7cwtwgwtJKt0kNrcAe+iSVLpJbG4BBroklarRKHrk3Yxycwsw0CWpNK2hltWM+gvyBroklaTbUEvLKBflajHQJakkaw2pjHJRrhYDXZJKstqQytzceBboMtAlqSRXXlksk9tuHEMtLQa6JJWg0YCbboL2RU8i4Nprp2/5XEla17rdEM2E/fu7Hz8KBroklWC1G6KjnnvezkCXpBKMe0Pobgx0SSrBuDeE7sZAl6QhNRqnxtA3bizKRr0hdDeutihJQ+hcWfGpp071zMcZ5mAPXZKGMqmVFbsx0CVpCFWY3dJioEvSEKowu6XFQJekIVRhdkuLgS5JQ1hcLGazzM0VX/WfxOyWFme5SNKQFhcnE+Cd7KFL0oAaDZifhw0bisdGY7L1sYcuSQPonH9+9Oip7ecm1Vu3hy5JA6jS/PMWA12SBlCl+ectBrokDaBK889bDHRJGkCV5p+3GOiSNIAqzT9vMdAlaQCtJXOPHSuGWSaxumKnvgI9InZGxH0RcSgirl/lmD+MiIMRcU9E/FO51ZSk6mhNWTx6tNg3tDVlcdLz0CPbt6judkDERuC7wO8Ax4E7gV2ZebDtmO3AbcBrMvPHEfFrmfnQWuddWFjI5eXlYesvSWM3P1+EeKe5OThyZLTXjoi7MnOh23v99NAvBw5l5uHMfBy4Bbi645i3Ajdm5o8BeoW5JE2zKk5ZhP4C/WLg/rbXx5tl7Z4HPC8i/jMi7oiInd1OFBG7I2I5IpZXVlYGq7EkTVgVpyxCeTdFNwHbgVcDu4B/iIgLOg/KzKXMXMjMhdnZ2ZIuLUnjVcUpi9BfoD8AXNL2emuzrN1xYF9mPpGZ/0Mx5r69nCpKUvU8/emnnl900eSnLEJ/gX4nsD0iLo2IzcA1wL6OYz5P0TsnIrZQDMEcLq+aklQNrRkuDz98quxnP5tcfdr1DPTMfBK4DjgA3Avclpn3RMQNEXFV87ADwMMRcRC4HfiLzHy4+xklaXpVcVGulp7TFkfFaYuSptGGDcXc804RcPLk6K8/7LRFSVJTVWe4gIEuSX1rNOCxx84sr8IMFzDQJakv3W6GQnVmuICBLkl96XYzFOC886oR5mCgS1Jfqvp1/3YGuiT1oco3Q1sMdEnqQ1W/7t/OQJekPlRxh6JOmyZdAUmaFouL1QrwTvbQJamHRqPY1GLDhuJx0jsTrcYeuiStoTX/vDVlsbXdHFSvt24PXZLWUOXFuDoZ6JK0hmmYf95ioEvSGqZh/nmLgS5Ja5iG+ectBrok9VDF7ea6cZaLJK2ic4YLVGe7uW7soUvSKt7xjumZ4QIGuiR11WicufZ5SxVnuICBLkldrdULr+IMFzDQJekMjUbxjdDVVHGGCxjoknSa1o3Q1Vx0UTVnuICBLkmnWW2rOSjmn3/oQ+Otz9kw0CWpzVo3PKs6/7zFQJekpkajWCK3m7m5aoc5GOiSBJwaO3/qqTPfq+pX/TsZ6JLE6mPnGzdWf6ilxUCXJFYfOz95cjrCHAx0SQLgwgu7l1f1S0TdGOiS1r1GA37ykzPLN2+ejrHzFgNd0rq3Zw888cSZ5eefPz3DLdBnoEfEzoi4LyIORcT1axz3BxGREbFQXhUlabRWGz9/5JHx1mNYPQM9IjYCNwJXADuAXRGxo8tx5wPvAL5RdiUlaVTWmns+TePn0F8P/XLgUGYezszHgVuAq7sc9x7gvcDPS6yfJI1MHeaet+sn0C8G7m97fbxZ9ksR8VLgksz8wloniojdEbEcEcsrKytnXVlJKlO3DSxguuaetxv6pmhEbAA+ALyz17GZuZSZC5m5MDs7O+ylJWlga21gMU1zz9v1E+gPAJe0vd7aLGs5H3gh8O8RcQR4GbDPG6OSqqrRgGuvXf39aRs7b+kn0O8EtkfEpRGxGbgG2Nd6MzMfzcwtmTmfmfPAHcBVmbk8khpL0hDWGjdvmbax85aegZ6ZTwLXAQeAe4HbMvOeiLghIq4adQUlqUxrrXcO1d7AopdN/RyUmfuB/R1l717l2FcPXy1JGo211juv+gYWvfhNUUnrymrj49M6s6WdgS5pXdm7t+iJt5uZgZtumu4wBwNd0jqzuFj0xOfmIKJ4nPaeeUtfY+iSVCeLi/UI8E720CWpJgx0SaoJA12SasJAl6SaMNAlqSYMdEmqCQNdkmrCQJekmjDQJakmDHRJqgkDXZJqwkCXpJow0CWpJgx0SaoJA12SasJAl6SaMNAlTaVGA+bnYcOG4rHRmHSNJs8diyRNnUYDdu+GEyeK10ePFq+hnjsR9cseuqSps2fPqTBvOXGiKF/PDHRJU+fYsbMrXy8MdElTZ9u2sytfLwx0SVNn716YmTm9bGamKF/PDHRJU2dxEZaWYG4OIorHpaX1fUMUnOUiaUotLhrgneyhS1JNGOiSVBN9BXpE7IyI+yLiUERc3+X9P4uIgxFxd0R8NSLmyq+qJGktPQM9IjYCNwJXADuAXRGxo+OwbwILmfki4HPA+8quqCRpbf300C8HDmXm4cx8HLgFuLr9gMy8PTNb39u6A9habjUlSb30E+gXA/e3vT7eLFvNW4AvdnsjInZHxHJELK+srPRfS0lST6XeFI2INwILwPu7vZ+ZS5m5kJkLs7OzZV5akta9fuahPwBc0vZ6a7PsNBHxOmAP8KrM/EU51ZMk9aufHvqdwPaIuDQiNgPXAPvaD4iIlwAfA67KzIfKr6akOnJN83L17KFn5pMRcR1wANgIfCIz74mIG4DlzNxHMcRyHvDZiAA4lplXjbDekqaca5qXLzJzIhdeWFjI5eXliVxb0uTNzxch3mluDo4cGXdtpkdE3JWZC93e85uikibCNc3LZ6BLmgjXNC+fgS5pIlzTvHwGuqSJcE3z8rkeuqSJcU3zctlDlzQw55FXiz10SQNxHnn12EOXNJA9e06FecuJE0W5JsNAlzQQ55FXj4EuaSDOI68eA13SQJxHXj0GuqSBOI+8epzlImlgziOvFnvo0jrmPPJ6sYcurVPOI68fe+jSOuU88vox0KV1ynnk9WOgSzUwyFi488jrx0CXplxrLPzoUcg8NRbeK9SdR14/BrpUAcPMNhl0LNx55PXjJtHShHXONoGip9xvuG7YUPTMO0XAyZPl1VPV4CbR0hgM2ssedraJY+FqMdClEgw6jg3DzzZxLFwtBrrUZhK97GF72I6Fq8VAl5om1csuo4e9uAhHjhRj5keOGObrlYGu2pm2XrY9bJXFQFelDLtY1LT2su1hqwwGuipjmDBusZet9cxAV1dl9JTP9vNlLBZlL1vrmYFecZMI1mF7yoN+vozFouxla13LzIn8XHbZZTkNbr45c24uM6J4vPnm8Z3j5pszZ2Yyi1gsfmZmRv/5ubnTP9P6mZvr77qDfn7Y62YO/2smVR2wnKvkal/hC+wE7gMOAdd3ef9pwK3N978BzPc65yCBPky4DvLZMsJhmHNMKlgjun8uor/rDvr5ssK4jH+EpaoaKtCBjcD3gecAm4FvAzs6jnkb8NHm82uAW3ud92wDfZi/7JPqqQ57jkkF66T+Ick0jKVehg30lwMH2l6/C3hXxzEHgJc3n28CfkRz4a/Vfs420IcJiUn1VIc9x6SCdVJDPZJ6WyvQ+7kpejFwf9vr482yrsdk5pPAo8BFnSeKiN0RsRwRyysrK31c+pRhbpgN+tkyFj0a5hzDzroY9PPD3hz05qI0IaslfesHeD3w8bbXfwx8pOOY7wBb215/H9iy1nmnoYc+6TH01ueHGYJwCEOqF+ow5DKJMfTWZyc1y0WSOg0b6JuAw8ClnLop+oKOY97O6TdFb+t13mmY5SJJVbNWoPe1Y1FEXAl8kGLGyycyc29E3NA88b6IOBf4NPAS4BHgmsw8vNY53bFIks7eWjsWbernBJm5H9jfUfbutuc/B94wTCUlScPxq/+SVBMGuiTVhIEuSTVhoEtSTfQ1y2UkF45YAY4O+PEtFHPd15P12GZYn+22zevDoG2ey8zZbm9MLNCHERHLq03bqav12GZYn+22zevDKNrskIsk1YSBLkk1Ma2BvjTpCkzAemwzrM922+b1ofQ2T+UYuiTpTNPaQ5ckdTDQJakmpiLQI+INEXFPRJyMiFWn+UTEzoi4LyIORcT146xj2SLiwoj4ckR8r/n4q6sc977mr829EfHhiIhx17VMZ9HubRHxpWa7D0bE/JirWpp+29w89hkRcTwiPjLOOpatnzZHxIsj4uvNP993R8QfTaKuw+qVSxHxtIi4tfn+N4b5szwVgU6xI9LvA19b7YCI2AjcCFwB7AB2RcSO8VRvJK4HvpqZ24GvNl+fJiJ+G3gF8CLghcBvAq8aZyVHoGe7mz4FvD8znw9cDjw0pvqNQr9tBngPa/w9mCL9tPkE8KbMfAGwE/hgRFwwvioOr89cegvw48x8LvC3wHsHvd5UBHpm3puZ9/U47HLgUGYezszHgVuAq0dfu5G5Grip+fwm4He7HJPAuRQbjzwNOAf44TgqN0I92938C7EpM78MkJmPZeaJsdWwfP38XhMRlwHPAr40nmqNVM82Z+Z3M/N7zec/oPhHu+s3JCusn1xq/7X4HPDaQf+nPRWB3qd+NrOeJs/KzAebz/+X4i/yaTLz68DtwIPNnwOZee/4qjgSPdsNPA/4v4j454j4ZkS8v9kTmlY92xwRG4C/Af58nBUboX5+n38pIi6n6Lh8f9QVK1k/ufTLYzLzSeBR4KJBLtbXBhfjEBFfAX69y1t7MvNfx12fcVirze0vMjMj4oz5pRHxXOD5wNZm0Zcj4pWZ+R+lV7ZEw7ab4s/tKyl2yDoG3Aq8GfjHcmtanhLa/DZgf2Yen5bbJCW0uXWeZ1PsiHZtZp4st5b1UplAz8zXDXmKB4BL2l5vbZZV1lptjogfRsSzM/PB5h/obmPEvwfckZmPNT/zRYpNvSsd6CW0+zjwrdY2hxHxeeBlVDjQS2jzy4FXRsTbgPOAzRHxWGZW9uZ/CW0mIp4BfIGiY3fHiKo6Sv3kUuuY4xGxCXgm8PAgF6vTkMudwPaIuDQiNlNsVr1vwnUaxj7g2ubza4Fu/0s5BrwqIjZFxDkUN0Snfciln3bfCVwQEa3x1NcAB8dQt1Hp2ebMXMzMbZk5TzHs8qkqh3kfera5+ff4Xyja+rkx1q1M/eRS+6/F64F/y0G/8bna7tFV+qHoiR4HfkFx0+9As/w3KP4b2jruSuC7FONseyZd7yHbfBHF3f/vAV8BLmyWLwAfbz7fCHyMIsQPAh+YdL3H0e7m698B7gb+G/gksHnSdR91m9uOfzPwkUnXe9RtBt4IPAF8q+3nxZOu+wBtPSOXgBuAq5rPzwU+CxwC/gt4zqDX8qv/klQTdRpykaR1zUCXpJow0CWpJgx0SaoJA12SasJAl6SaMNAlqSb+H5paDPyP0s7dAAAAAElFTkSuQmCC\n",
      "text/plain": [
       "<Figure size 432x288 with 1 Axes>"
      ]
     },
     "metadata": {
      "needs_background": "light"
     },
     "output_type": "display_data"
    }
   ],
   "source": [
    "rvir=563.213\n",
    "gal1 = gchop.read_hdf5(\"galaxies_Du/gal250391.h5\")\n",
    "gal1 = gchop.center(gal1)\n",
    "gal1 = gchop.star_align(gal1, r_cut=0.1*rvir)\n",
    "#gal1.to_dataframe()\n",
    "circ = gchop.utils.jcirc(gal1)\n",
    "plt.plot(circ.x,circ.y, 'bo')"
   ]
  },
  {
   "cell_type": "code",
   "execution_count": 5,
   "metadata": {},
   "outputs": [
    {
     "name": "stdout",
     "output_type": "stream",
     "text": [
      "          Particles           Deterministic mass           Probabilistic mass  \\\n",
      "               Size  Fraction               Size  Fraction               Size   \n",
      "Halo           7509  0.223589       7.285079e+09  0.214363       7.668048e+09   \n",
      "Bulge          5747  0.171123       5.520956e+09  0.162454       5.439066e+09   \n",
      "Cold disk     10007  0.297969       1.086766e+10  0.319780       1.051905e+10   \n",
      "Warm disk     10321  0.307319       1.031107e+10  0.303403       1.035860e+10   \n",
      "\n",
      "                     \n",
      "           Fraction  \n",
      "Halo       0.225632  \n",
      "Bulge      0.160044  \n",
      "Cold disk  0.309523  \n",
      "Warm disk  0.304801  \n"
     ]
    }
   ],
   "source": [
    "decomposer = gchop.models.AutoGaussianMixture() #njobs paralell #cbin\n",
    "cmp_labels = decomposer.decompose(gal1)\n",
    "describe_gal1 = cmp_labels.describe()\n",
    "describe_gal1.to_pickle('describe_agmm_gal250391_rvir.pkl')\n",
    "print(describe_gal1)"
   ]
  },
  {
   "cell_type": "markdown",
   "metadata": {},
   "source": [
    "## gal2 = ID526667"
   ]
  },
  {
   "cell_type": "code",
   "execution_count": 6,
   "metadata": {},
   "outputs": [
    {
     "data": {
      "text/html": [
       "<div>\n",
       "<style scoped>\n",
       "    .dataframe tbody tr th:only-of-type {\n",
       "        vertical-align: middle;\n",
       "    }\n",
       "\n",
       "    .dataframe tbody tr th {\n",
       "        vertical-align: top;\n",
       "    }\n",
       "\n",
       "    .dataframe thead th {\n",
       "        text-align: right;\n",
       "    }\n",
       "</style>\n",
       "<table border=\"1\" class=\"dataframe\">\n",
       "  <thead>\n",
       "    <tr style=\"text-align: right;\">\n",
       "      <th></th>\n",
       "      <th>ptype</th>\n",
       "      <th>ptypev</th>\n",
       "      <th>m</th>\n",
       "      <th>x</th>\n",
       "      <th>y</th>\n",
       "      <th>z</th>\n",
       "      <th>vx</th>\n",
       "      <th>vy</th>\n",
       "      <th>vz</th>\n",
       "      <th>softening</th>\n",
       "      <th>potential</th>\n",
       "      <th>kinetic_energy</th>\n",
       "      <th>total_energy</th>\n",
       "      <th>Jx</th>\n",
       "      <th>Jy</th>\n",
       "      <th>Jz</th>\n",
       "    </tr>\n",
       "  </thead>\n",
       "  <tbody>\n",
       "    <tr>\n",
       "      <th>0</th>\n",
       "      <td>stars</td>\n",
       "      <td>0</td>\n",
       "      <td>9.802035e+05</td>\n",
       "      <td>-0.103927</td>\n",
       "      <td>-0.164611</td>\n",
       "      <td>-0.317669</td>\n",
       "      <td>-1.104925</td>\n",
       "      <td>4.694377</td>\n",
       "      <td>-3.497403</td>\n",
       "      <td>0.0</td>\n",
       "      <td>-200495.947870</td>\n",
       "      <td>17.744933</td>\n",
       "      <td>-200478.202937</td>\n",
       "      <td>2.066969</td>\n",
       "      <td>-0.012475</td>\n",
       "      <td>-0.669756</td>\n",
       "    </tr>\n",
       "    <tr>\n",
       "      <th>1</th>\n",
       "      <td>stars</td>\n",
       "      <td>0</td>\n",
       "      <td>9.902100e+05</td>\n",
       "      <td>-0.110190</td>\n",
       "      <td>0.153591</td>\n",
       "      <td>-0.191273</td>\n",
       "      <td>8.728737</td>\n",
       "      <td>-36.704846</td>\n",
       "      <td>28.216494</td>\n",
       "      <td>0.0</td>\n",
       "      <td>-203090.239977</td>\n",
       "      <td>1109.803520</td>\n",
       "      <td>-201980.436457</td>\n",
       "      <td>-2.686853</td>\n",
       "      <td>1.439600</td>\n",
       "      <td>2.703848</td>\n",
       "    </tr>\n",
       "    <tr>\n",
       "      <th>2</th>\n",
       "      <td>stars</td>\n",
       "      <td>0</td>\n",
       "      <td>5.469749e+05</td>\n",
       "      <td>-0.132566</td>\n",
       "      <td>-0.141869</td>\n",
       "      <td>-0.187296</td>\n",
       "      <td>21.329272</td>\n",
       "      <td>19.525675</td>\n",
       "      <td>38.087643</td>\n",
       "      <td>0.0</td>\n",
       "      <td>-202801.416138</td>\n",
       "      <td>1143.429197</td>\n",
       "      <td>-201657.986941</td>\n",
       "      <td>-1.746367</td>\n",
       "      <td>1.054239</td>\n",
       "      <td>0.437517</td>\n",
       "    </tr>\n",
       "    <tr>\n",
       "      <th>3</th>\n",
       "      <td>stars</td>\n",
       "      <td>0</td>\n",
       "      <td>5.762469e+05</td>\n",
       "      <td>0.117683</td>\n",
       "      <td>0.170565</td>\n",
       "      <td>0.123313</td>\n",
       "      <td>-8.274310</td>\n",
       "      <td>24.285799</td>\n",
       "      <td>5.154378</td>\n",
       "      <td>0.0</td>\n",
       "      <td>-201347.417800</td>\n",
       "      <td>342.415929</td>\n",
       "      <td>-201005.001871</td>\n",
       "      <td>-2.115605</td>\n",
       "      <td>-1.626914</td>\n",
       "      <td>4.269329</td>\n",
       "    </tr>\n",
       "    <tr>\n",
       "      <th>4</th>\n",
       "      <td>stars</td>\n",
       "      <td>0</td>\n",
       "      <td>5.748919e+05</td>\n",
       "      <td>-0.108451</td>\n",
       "      <td>-0.060408</td>\n",
       "      <td>-0.061513</td>\n",
       "      <td>42.318355</td>\n",
       "      <td>-44.752126</td>\n",
       "      <td>6.253292</td>\n",
       "      <td>0.0</td>\n",
       "      <td>-203587.576977</td>\n",
       "      <td>1916.349829</td>\n",
       "      <td>-201671.227148</td>\n",
       "      <td>-3.130576</td>\n",
       "      <td>-1.924944</td>\n",
       "      <td>7.409774</td>\n",
       "    </tr>\n",
       "    <tr>\n",
       "      <th>...</th>\n",
       "      <td>...</td>\n",
       "      <td>...</td>\n",
       "      <td>...</td>\n",
       "      <td>...</td>\n",
       "      <td>...</td>\n",
       "      <td>...</td>\n",
       "      <td>...</td>\n",
       "      <td>...</td>\n",
       "      <td>...</td>\n",
       "      <td>...</td>\n",
       "      <td>...</td>\n",
       "      <td>...</td>\n",
       "      <td>...</td>\n",
       "      <td>...</td>\n",
       "      <td>...</td>\n",
       "      <td>...</td>\n",
       "    </tr>\n",
       "    <tr>\n",
       "      <th>168953</th>\n",
       "      <td>gas</td>\n",
       "      <td>2</td>\n",
       "      <td>1.638979e+06</td>\n",
       "      <td>192.634190</td>\n",
       "      <td>53.743818</td>\n",
       "      <td>-188.485761</td>\n",
       "      <td>-7.628131</td>\n",
       "      <td>95.754382</td>\n",
       "      <td>-16.763834</td>\n",
       "      <td>0.0</td>\n",
       "      <td>-14739.547830</td>\n",
       "      <td>4754.058126</td>\n",
       "      <td>-9985.489703</td>\n",
       "      <td>17147.385220</td>\n",
       "      <td>4667.081544</td>\n",
       "      <td>18855.532728</td>\n",
       "    </tr>\n",
       "    <tr>\n",
       "      <th>168954</th>\n",
       "      <td>gas</td>\n",
       "      <td>2</td>\n",
       "      <td>1.196053e+06</td>\n",
       "      <td>-129.137853</td>\n",
       "      <td>-210.918949</td>\n",
       "      <td>76.125571</td>\n",
       "      <td>-87.433372</td>\n",
       "      <td>1.975726</td>\n",
       "      <td>16.838536</td>\n",
       "      <td>0.0</td>\n",
       "      <td>-16295.293962</td>\n",
       "      <td>3966.017159</td>\n",
       "      <td>-12329.276804</td>\n",
       "      <td>-3701.969686</td>\n",
       "      <td>-4481.422902</td>\n",
       "      <td>-18696.495937</td>\n",
       "    </tr>\n",
       "    <tr>\n",
       "      <th>168955</th>\n",
       "      <td>gas</td>\n",
       "      <td>2</td>\n",
       "      <td>1.252471e+06</td>\n",
       "      <td>-182.203484</td>\n",
       "      <td>-74.846111</td>\n",
       "      <td>29.751360</td>\n",
       "      <td>-30.267761</td>\n",
       "      <td>77.456137</td>\n",
       "      <td>-17.459622</td>\n",
       "      <td>0.0</td>\n",
       "      <td>-21050.438664</td>\n",
       "      <td>3610.214469</td>\n",
       "      <td>-17440.224195</td>\n",
       "      <td>-997.640617</td>\n",
       "      <td>-4081.710982</td>\n",
       "      <td>-16378.202222</td>\n",
       "    </tr>\n",
       "    <tr>\n",
       "      <th>168956</th>\n",
       "      <td>gas</td>\n",
       "      <td>2</td>\n",
       "      <td>1.629811e+06</td>\n",
       "      <td>151.031589</td>\n",
       "      <td>153.613995</td>\n",
       "      <td>86.931460</td>\n",
       "      <td>14.910131</td>\n",
       "      <td>-30.174182</td>\n",
       "      <td>15.485399</td>\n",
       "      <td>0.0</td>\n",
       "      <td>-17080.253672</td>\n",
       "      <td>686.295417</td>\n",
       "      <td>-16393.958255</td>\n",
       "      <td>5001.859719</td>\n",
       "      <td>-1042.625063</td>\n",
       "      <td>-6847.659353</td>\n",
       "    </tr>\n",
       "    <tr>\n",
       "      <th>168957</th>\n",
       "      <td>gas</td>\n",
       "      <td>2</td>\n",
       "      <td>1.220183e+06</td>\n",
       "      <td>-124.268571</td>\n",
       "      <td>236.053986</td>\n",
       "      <td>38.603509</td>\n",
       "      <td>-66.285867</td>\n",
       "      <td>-80.595911</td>\n",
       "      <td>25.057304</td>\n",
       "      <td>0.0</td>\n",
       "      <td>-15052.006371</td>\n",
       "      <td>5758.692769</td>\n",
       "      <td>-9293.313602</td>\n",
       "      <td>9026.161484</td>\n",
       "      <td>554.968315</td>\n",
       "      <td>25662.581809</td>\n",
       "    </tr>\n",
       "  </tbody>\n",
       "</table>\n",
       "<p>168958 rows × 16 columns</p>\n",
       "</div>"
      ],
      "text/plain": [
       "        ptype  ptypev             m           x           y           z  \\\n",
       "0       stars       0  9.802035e+05   -0.103927   -0.164611   -0.317669   \n",
       "1       stars       0  9.902100e+05   -0.110190    0.153591   -0.191273   \n",
       "2       stars       0  5.469749e+05   -0.132566   -0.141869   -0.187296   \n",
       "3       stars       0  5.762469e+05    0.117683    0.170565    0.123313   \n",
       "4       stars       0  5.748919e+05   -0.108451   -0.060408   -0.061513   \n",
       "...       ...     ...           ...         ...         ...         ...   \n",
       "168953    gas       2  1.638979e+06  192.634190   53.743818 -188.485761   \n",
       "168954    gas       2  1.196053e+06 -129.137853 -210.918949   76.125571   \n",
       "168955    gas       2  1.252471e+06 -182.203484  -74.846111   29.751360   \n",
       "168956    gas       2  1.629811e+06  151.031589  153.613995   86.931460   \n",
       "168957    gas       2  1.220183e+06 -124.268571  236.053986   38.603509   \n",
       "\n",
       "               vx         vy         vz  softening      potential  \\\n",
       "0       -1.104925   4.694377  -3.497403        0.0 -200495.947870   \n",
       "1        8.728737 -36.704846  28.216494        0.0 -203090.239977   \n",
       "2       21.329272  19.525675  38.087643        0.0 -202801.416138   \n",
       "3       -8.274310  24.285799   5.154378        0.0 -201347.417800   \n",
       "4       42.318355 -44.752126   6.253292        0.0 -203587.576977   \n",
       "...           ...        ...        ...        ...            ...   \n",
       "168953  -7.628131  95.754382 -16.763834        0.0  -14739.547830   \n",
       "168954 -87.433372   1.975726  16.838536        0.0  -16295.293962   \n",
       "168955 -30.267761  77.456137 -17.459622        0.0  -21050.438664   \n",
       "168956  14.910131 -30.174182  15.485399        0.0  -17080.253672   \n",
       "168957 -66.285867 -80.595911  25.057304        0.0  -15052.006371   \n",
       "\n",
       "        kinetic_energy   total_energy            Jx           Jy            Jz  \n",
       "0            17.744933 -200478.202937      2.066969    -0.012475     -0.669756  \n",
       "1          1109.803520 -201980.436457     -2.686853     1.439600      2.703848  \n",
       "2          1143.429197 -201657.986941     -1.746367     1.054239      0.437517  \n",
       "3           342.415929 -201005.001871     -2.115605    -1.626914      4.269329  \n",
       "4          1916.349829 -201671.227148     -3.130576    -1.924944      7.409774  \n",
       "...                ...            ...           ...          ...           ...  \n",
       "168953     4754.058126   -9985.489703  17147.385220  4667.081544  18855.532728  \n",
       "168954     3966.017159  -12329.276804  -3701.969686 -4481.422902 -18696.495937  \n",
       "168955     3610.214469  -17440.224195   -997.640617 -4081.710982 -16378.202222  \n",
       "168956      686.295417  -16393.958255   5001.859719 -1042.625063  -6847.659353  \n",
       "168957     5758.692769   -9293.313602   9026.161484   554.968315  25662.581809  \n",
       "\n",
       "[168958 rows x 16 columns]"
      ]
     },
     "execution_count": 6,
     "metadata": {},
     "output_type": "execute_result"
    },
    {
     "data": {
      "image/png": "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\n",
      "text/plain": [
       "<Figure size 432x288 with 1 Axes>"
      ]
     },
     "metadata": {
      "needs_background": "light"
     },
     "output_type": "display_data"
    }
   ],
   "source": [
    "rvir=202.313\n",
    "gal2 = gchop.read_hdf5(\"galaxies_Du/gal526667.h5\")\n",
    "gal2 = gchop.center(gal2)\n",
    "gal2 = gchop.star_align(gal2, r_cut=0.1*rvir)\n",
    "circ = gchop.utils.jcirc(gal2)\n",
    "plt.plot(circ.x,circ.y, 'bo')\n",
    "gal2.to_dataframe()"
   ]
  },
  {
   "cell_type": "code",
<<<<<<< HEAD
   "execution_count": 7,
=======
   "execution_count": 3,
>>>>>>> acf51fbaa126fdddc7c458ba3142b5cdf3179a0a
   "metadata": {},
   "outputs": [
    {
     "name": "stdout",
     "output_type": "stream",
     "text": [
      "          Particles           Deterministic mass           Probabilistic mass  \\\n",
      "               Size  Fraction               Size  Fraction               Size   \n",
      "Halo          15416  0.445858       1.466054e+10  0.439517       1.461881e+10   \n",
      "Bulge          6552  0.189496       6.053907e+09  0.181494       6.169735e+09   \n",
      "Cold disk      8699  0.251591       8.905038e+09  0.266970       8.648271e+09   \n",
      "Warm disk      3909  0.113055       3.736504e+09  0.112019       3.919171e+09   \n",
      "\n",
      "                     \n",
      "           Fraction  \n",
      "Halo       0.438266  \n",
      "Bulge      0.184966  \n",
      "Cold disk  0.259272  \n",
      "Warm disk  0.117495  \n"
     ]
    }
   ],
   "source": [
    "decomposer = gchop.models.AutoGaussianMixture() #njobs paralell #cbin\n",
    "cmp_labels = decomposer.decompose(gal2)\n",
    "describe_gal2 = cmp_labels.describe()\n",
    "describe_gal2.to_pickle('describe_agmm_gal526667_rvir.pkl')\n",
    "print(describe_gal2)"
   ]
  },
  {
<<<<<<< HEAD
   "cell_type": "markdown",
   "metadata": {},
=======
   "cell_type": "code",
   "execution_count": 8,
   "metadata": {},
   "outputs": [
    {
     "data": {
      "text/plain": [
       "JCirc(normalized_star_energy=array([-0.98902468, -1.        , -0.98692422, ..., -0.01272865,\n",
       "       -0.01116092, -0.0107752 ]), normalized_star_Jz=array([-4.92122199e-05,  7.10046242e-05,  1.61090432e-05, ...,\n",
       "        3.96780539e-01,  3.02078805e-01,  3.32890455e-01]), eps=array([-0.1223885 ,  1.        ,  0.03460863, ...,  0.53147406,\n",
       "        0.39527218,  0.43312636]), eps_r=array([0.01956743, 1.04461104, 0.08351039, ..., 0.88697547, 0.9662409 ,\n",
       "       0.79606671]), x=array([-1.        , -0.95259803, -0.90023036, -0.85093385, -0.80297491,\n",
       "       -0.7529533 , -0.71462111, -0.65188892, -0.60326165, -0.56092737,\n",
       "       -0.50043976, -0.45684363, -0.40038195, -0.35301988, -0.30123064,\n",
       "       -0.25286953, -0.2002182 , -0.1503982 , -0.1017184 , -0.09789046,\n",
       "       -0.0918957 , -0.08957738, -0.08072858, -0.07676069, -0.07162645,\n",
       "       -0.06563959, -0.06021206, -0.05635146, -0.05041137, -0.04540767,\n",
       "       -0.04060684, -0.0360475 , -0.03149169, -0.02600143, -0.02154885,\n",
       "       -0.01514015, -0.01335312, -0.00711872, -0.00178557]), y=array([7.10046242e-05, 1.50098605e-03, 3.00247691e-03, 4.44865867e-03,\n",
       "       5.84392705e-03, 7.21713710e-03, 8.59493370e-03, 1.05631817e-02,\n",
       "       1.23070454e-02, 1.48363995e-02, 1.83908027e-02, 2.30981182e-02,\n",
       "       2.94422594e-02, 4.05709293e-02, 5.62718878e-02, 7.54636422e-02,\n",
       "       1.13173674e-01, 1.76784606e-01, 2.66831961e-01, 2.80693470e-01,\n",
       "       2.94573558e-01, 3.16482567e-01, 3.42640317e-01, 3.56851909e-01,\n",
       "       3.71612857e-01, 3.91057144e-01, 4.26487000e-01, 4.52045832e-01,\n",
       "       4.72281380e-01, 5.00218434e-01, 5.24365475e-01, 5.55430991e-01,\n",
       "       6.07370425e-01, 6.55357371e-01, 6.74836861e-01, 6.67321028e-01,\n",
       "       7.39530180e-01, 8.09773875e-01, 1.00000000e+00]))"
      ]
     },
     "execution_count": 8,
     "metadata": {},
     "output_type": "execute_result"
    }
   ],
>>>>>>> acf51fbaa126fdddc7c458ba3142b5cdf3179a0a
   "source": [
    "## gal3 = ID128397"
   ]
  },
  {
   "cell_type": "code",
<<<<<<< HEAD
   "execution_count": 8,
=======
   "execution_count": 9,
>>>>>>> acf51fbaa126fdddc7c458ba3142b5cdf3179a0a
   "metadata": {},
   "outputs": [
    {
     "data": {
      "text/plain": [
<<<<<<< HEAD
       "[<matplotlib.lines.Line2D at 0x14b966fff050>]"
      ]
     },
     "execution_count": 8,
=======
       "[<matplotlib.lines.Line2D at 0x7f5385f8b820>]"
      ]
     },
     "execution_count": 9,
>>>>>>> acf51fbaa126fdddc7c458ba3142b5cdf3179a0a
     "metadata": {},
     "output_type": "execute_result"
    },
    {
     "data": {
<<<<<<< HEAD
      "image/png": "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\n",
=======
      "image/png": "iVBORw0KGgoAAAANSUhEUgAAAXQAAAD4CAYAAAD8Zh1EAAAAOXRFWHRTb2Z0d2FyZQBNYXRwbG90bGliIHZlcnNpb24zLjMuMywgaHR0cHM6Ly9tYXRwbG90bGliLm9yZy/Il7ecAAAACXBIWXMAAAsTAAALEwEAmpwYAAAUBUlEQVR4nO3dbYxcV33H8e/fNiFYAVLiLaVxvBuEkTAIAdlGUIRAPEiOXyR9gDbuBkKF8AtIVam0UpArWgXlBUSlCJEWXIow8ZQkoJZawsg8NBVVRWg2AlLiKGBcr+OQkiVQpMhASPLviztDxuuZndmZOzN37nw/0mrnPsydc+zdn4/PPefcyEwkSdNv06QLIEkqh4EuSTVhoEtSTRjoklQTBrok1cSWSX3wtm3bcmFhYVIfL0lT6e677/5RZs51OjaxQF9YWGB5eXlSHy9JUykiVrods8tFkmrCQJekmjDQJakmDHRJqgkDXZJqomegR8QnI+LhiPhOl+MRER+JiOMRcU9EvKL8YkrS9Gs0YGEBNm0qvjca5V6/nxb6p4Dd6xy/AtjZ/NoH/P3wxZKkemk0YN8+WFmBzOL7vn3lhnrPQM/MrwE/XueUq4BPZ+FO4MKIeF5ZBZSkOti/H86cOXvfmTPF/rKU0Yd+MfBA2/bp5r5zRMS+iFiOiOXV1dUSPlqSpsOpUxvbP4ix3hTNzAOZuZiZi3NzHWeuSlIt7dixsf2DKCPQHwQuadve3twnSWq68UbYuvXsfVu3FvvLUkagHwbe1hzt8krgp5n5UAnXlaTaWFqCAwdgfh4iiu8HDhT7y9Jzca6I+AzwOmBbRJwG/gp4GkBmfgw4AuwBjgNngD8ur3iSVB9LS+UG+Fo9Az0z9/Y4nsC7SyuRJGkgzhSVpJow0CWpJgx0SaoJA12SasJAl6SaMNAlqSYMdEmqCQNdkmrCQJekmjDQJakmDHRJqgkDXZJqwkCXpJow0CWpJgx0SaoJA12SasJAl6SaMNAlqSYMdEmqCQNdkmrCQJekmjDQJakmDHRJqgkDXZJqwkCXpJow0CWpJgx0SaoJA12SasJAl6SaMNAlacQaDVhYgE2biu+Nxmg+Z8toLitJgiK89+2DM2eK7ZWVYhtgaancz+qrhR4RuyPi/og4HhHXdzi+IyLuiIhvRsQ9EbGn3GJK0nTav/+pMG85c6bYX7aegR4Rm4GbgSuAXcDeiNi15rS/BG7PzJcDVwN/V3ZBJWkanTq1sf3D6KeFfjlwPDNPZOZjwK3AVWvOSeBZzdfPBn5QXhElaXrt2LGx/cPoJ9AvBh5o2z7d3Nfur4FrIuI0cAT4k04Xioh9EbEcEcurq6sDFFeSpsuNN8LWrWfv27q12F+2ska57AU+lZnbgT3ALRFxzrUz80BmLmbm4tzcXEkfLUnVtbQEBw7A/DxEFN8PHCj/hij0N8rlQeCStu3tzX3t3gHsBsjMr0fE+cA24OEyCilJ02xpaTQBvlY/LfS7gJ0RcWlEnEdx0/PwmnNOAW8AiIgXAecD9qlI0hj1DPTMfBy4DjgK3EcxmuXeiLghIq5snvYe4J0R8W3gM8DbMzNHVWhJ0rn6mliUmUcobna273tf2+tjwKvLLZokaSOc+i9JNWGgS1JNGOiSVBMGuiSNyLhWWWxxtUVJGoFxrrLYYgtdkkZgnKssthjokjQC41xlscVAl6QRGOcqiy0GuiSNwDhXWWwx0CVpBMa5ymKLo1wkaUTGtcpiiy10SaoJA12SasJAl6SaMNAlqSYMdEmqCQNdkko27kW5Wgx0SSpRa1GulRXILL5fcw1s2zb6YDfQJalEnRblAnjkkSLoRxnqBroklaTRKFrk3bjaoiRNgVZXSy+utihJFdetq2UtV1uUpIrrp+XtaouSNAW6tbw3bx7faosGuiSVoNv65wcPwpNPwsmTo1950UCXpBJMYv3ztVwPXZJKMu71z9eyhS5JNWGgS1JNGOiSVIJJLcjVrq9Aj4jdEXF/RByPiOu7nPMHEXEsIu6NiH8qt5iSVF2dFuQa9botnURmrn9CxGbgu8CbgNPAXcDezDzWds5O4Hbg9Zn5k4j49cx8eL3rLi4u5vLy8rDll6SJW1jovIbL/HwxXLFMEXF3Zi52OtZPC/1y4HhmnsjMx4BbgavWnPNO4ObM/AlArzCXpDrpNkt0lOu2dNJPoF8MPNC2fbq5r90LgRdGxH9GxJ0RsbvThSJiX0QsR8Ty6urqYCWWpIrpNkt0lOu2dFLWTdEtwE7gdcBe4B8i4sK1J2XmgcxczMzFubm5kj5akiar2yzRUa7b0kk/gf4gcEnb9vbmvnangcOZ+cvM/B+KPved5RRRkqqtCrNEob9AvwvYGRGXRsR5wNXA4TXnfJ6idU5EbKPogjlRXjElqdqWlooboONat6WTnoGemY8D1wFHgfuA2zPz3oi4ISKubJ52FHgkIo4BdwB/kZmPjKrQkqRz9Ry2OCoOW5SkjRt22KIkqYsqzBBtcbVFSRpQa4Zo69FzrRmiUNE+dElSZ52eI3rmTLF/Egx0SRpQVWaIthjokjSgqswQbTHQJWlAVZkh2mKgS9IQnvGMp15fdNFkZoi2OMpFkgawdoQLwM9+NrnygC10SRpI1Ua4gIEuSQOp2ggXMNAlaSBVG+ECBrokbVijAY8+eu7+SY5wAQNdkjakdTP0kTXryU56hAsY6JK0IZ1uhgJccMFkwxwMdEnakCreDG0x0CVpA6p4M7TFQJekDajadP92BrokbVCVpvu3c+q/JPWpitP929lCl6Q+VXG6fzsDXZL6VOURLmCgS1JfGo3iQdCdVGGECxjoktRTq+/8iSfOPVaVES5goEtST91mh27eXJ0RLmCgS1JP3frIn3yyOmEOBrok9VTl2aHtDHRJ6mHPHog4e1+V+s5bDHRJWkejAQcPQuZT+yLg2mur1d0CBrokravTDdFMOHJkMuVZj4EuSeuo+mSidga6JK1jWm6IQp+BHhG7I+L+iDgeEdevc97vR0RGxGJ5RZSkyanycrlr9Qz0iNgM3AxcAewC9kbErg7nPRP4U+AbZRdSkiZlaamYPDQ/X9wMnZ+v1mSidv200C8Hjmfmicx8DLgVuKrDee8HPgD8vMTySdLENBqwsABvfWuxfcstcPJkNcMc+gv0i4EH2rZPN/f9SkS8ArgkM7+w3oUiYl9ELEfE8urq6oYLK0nj0lq/ZWWlGNWyslJsNxqTLll3Q98UjYhNwIeA9/Q6NzMPZOZiZi7Ozc0N+9GSNDJVX/u8k34C/UHgkrbt7c19Lc8EXgL8e0ScBF4JHPbGqKRp1WgULfJOqjhcsaWfQL8L2BkRl0bEecDVwOHWwcz8aWZuy8yFzFwA7gSuzMzlkZRYkkao1dXSTRWHK7b0DPTMfBy4DjgK3Afcnpn3RsQNEXHlqAsoSePUbalcqO5wxZbI9gUKxmhxcTGXl23ES6qWtYtwtTt0aPIjXCLi7szs2KXtTFFJamo0ugf6/Pzkw7wXA12SmvbvP3tVxZaIane1tBjoktTUbWRLZvVb52CgSxLQu7tlGhjoksT0d7eAgS5JQPcJQ9PS3QIGuiQB3ScMTUt3CxjokmZca0XFlZXpeBD0egx0STOrfUVFKLpXWqFe5XXPu9ky6QJI0qR0ewD0/Hyx7vm0sYUuaWZN0wOg+2GgS5pZ0/QA6H4Y6JJm1p49038jtJ2BLmkmNRpw8ODZk4ki4Nprp+tGaDtvikqaOY1GEdxPPHH2/kw4cmQyZSqDLXRJM6U1VHFtmLdM6w1RMNAlzZj1nkgE03tDFAx0STOm2xK5MN03RMFAlzRD1lsid/Pm6ZsZupaBLmlmrLdE7sGD0x3mYKBLmiF1WCJ3PQa6pJlRhyVy12OgS5oZN95Y3PhsN+03QtsZ6JJmxtJSceNzfr7oN5/GJXLX40xRSTNlaak+Ab6WLXRJqgkDXZJqwkCXpJow0CWpJgx0SaqJvgI9InZHxP0RcTwiru9w/M8i4lhE3BMRX42ImgzTl6Tp0TPQI2IzcDNwBbAL2BsRu9ac9k1gMTNfCnwO+GDZBZUkra+fFvrlwPHMPJGZjwG3Ale1n5CZd2Rma4XhO4Ht5RZTktRLP4F+MfBA2/bp5r5u3gF8sdOBiNgXEcsRsby6utp/KSVJPZV6UzQirgEWgZs6Hc/MA5m5mJmLc3NzZX60JM28fgL9QeCStu3tzX1niYg3AvuBKzPzF+UUT5LO1WjAwgJs2lR8bzQmXaJq6Gctl7uAnRFxKUWQXw38UfsJEfFy4OPA7sx8uPRSSlJT6yHPreeCrqwU21DfNVr61bOFnpmPA9cBR4H7gNsz896IuCEirmyedhNwAfDZiPhWRBweWYklzbROD3k+c6bYP+siOz2PaQwWFxdzeXl5Ip8taXpt2tT9MXJPPjn+8oxbRNydmYudjjlTVNJU6fbUoW77Z4mBLmmq1P2pQ8Mw0CVNlbo/dWgYPrFI0tSp81OHhmELXZJqwkCXpJow0CWpJgx0SaoJA12SasJAlzQRLrBVPoctSho7F9gaDVvoksbOBbZGw0CXNHanTm1sv/pjoEsaOxfYGg0DXdLYucDWaBjoksbOBbZGw0CXNJBhhx0uLcHJk8VDKU6eNMzL4LBFSRvmsMNqsoUuacMcdlhNBrqkDXPYYTUZ6NIMG7Qf3GGH1WSgSzOq1Q++sgKZT/WD9xPqDjusJgNdmlHD9IM77LCaDHRpyg3abTJsP7jDDqvHQJem2DDdJvaD14+BLlXAoK3sYbpN7AevHwNdGtKwMyaHaWUP021iP3j9GOhSm42G8zBh3DJMK3vYbhP7wevFQFelDNLaLetRZoOEcxkzJodpZdttorNk5kS+LrvsslR1HDqUOT+fGVF8P3Ro/Nc6dChz69bMIk6Lr61b13//IO/pZn7+7Ou0vubnu78novN7Ikb7ue3K/LtT9QHL2SVXDfQ+DfNLM0zADfOL2u/7ywzFYa41SLANG4btBgnnMj6/zD9/1d/QgQ7sBu4HjgPXdzj+dOC25vFvAAu9rjlIoE8iVFvvHfQXbtD3DvtLvpH3lxmKw1xrkEAto4U8TNnLCmNb2erXUIEObAa+DzwfOA/4NrBrzTnvAj7WfH01cFuv62400CcRqi3DhNSg7x02ZDfy/jJDcZhrTbqFPsw/voaxxmXYQH8VcLRt+73Ae9eccxR4VfP1FuBHQKx33Y0G+iRCtWWYkBr0vcOG7EbeX5UW+qT70FvXM5xVZcMG+puBT7RtvxX46JpzvgNsb9v+PrCtw7X2AcvA8o4dOzZUiUmEakvdW+hV6UNvvX+jgWoIa5ZUJtDbv6aphV73PvTW+ZMe5SKpt1p0uUyyD711jbqOcpE0PYYN9C3ACeDStpuiL15zzrvX3BS9vdd1p2mUiyRVxXqBHsXx9UXEHuDDzREvn8zMGyPihuaFD0fE+cAtwMuBHwNXZ+aJ9a65uLiYy8vLPT9bkvSUiLg7Mxc7HdvSzwUy8whwZM2+97W9/jnwlmEKKUkajmu5SFJNGOiSVBMGuiTVhIEuSTXR1yiXkXxwxCqwMuDbt1GMdZ8l1nk2WOfZMEyd5zNzrtOBiQX6MCJiuduwnbqyzrPBOs+GUdXZLhdJqgkDXZJqYloD/cCkCzAB1nk2WOfZMJI6T2UfuiTpXNPaQpckrWGgS1JNTEWgR8RbIuLeiHgyIroO9YmI3RFxf0Qcj4jrx1nGskXEcyLiyxHxveb3X+ty3gebfzb3RcRHIiLGXdaybKDOOyLiS806H4uIhTEXtTT91rl57rMi4nREfHScZSxbP3WOiJdFxNebP9v3RMQfTqKsw+qVSRHx9Ii4rXn8G8P+LE9FoFM8Een3gK91OyEiNgM3A1cAu4C9EbFrPMUbieuBr2bmTuCrze2zRMRvA68GXgq8BPgt4LXjLGTJeta56dPATZn5IuBy4OExlW8U+q0zwPtZ53dgivRT5zPA2zLzxcBu4MMRceH4iji8PjPpHcBPMvMFwN8CHxjmM6ci0DPzvsy8v8dplwPHM/NEZj4G3ApcNfrSjcxVwMHm64PA73Q4J4HzKR488nTgacAPx1G4EelZ5+YvxJbM/DJAZj6amWfGVsLy9fP3TERcBjwX+NJ4ijVSPeucmd/NzO81X/+A4h/tjrMjK6yfTGr/s/gc8IZh/pc9FYHep4uBB9q2Tzf3TavnZuZDzdf/S/HLfJbM/DpwB/BQ8+toZt43viKWrmedgRcC/xcR/xwR34yIm5otoWnVs84RsQn4G+DPx1mwEern7/lXIuJyikbL90ddsJL1k0m/OiczHwd+Clw06Af29YCLcYiIrwC/0eHQ/sz813GXZxzWq3P7RmZmRJwzvjQiXgC8CNje3PXliHhNZv5H6YUtybB1pviZfQ3F07FOAbcBbwf+sdySlqeEOr8LOJKZp6flFkkJdW5d53kUT0O7NjOfLLeU9VOZQM/MNw55iQeBS9q2tzf3VdZ6dY6IH0bE8zLzoeYPdad+4t8F7szMR5vv+SLFQ70rG+gl1Pk08K3WIw4j4vPAK6lwoJdQ51cBr4mIdwEXAOdFxKOZWdkb/yXUmYh4FvAFikbdnSMq6ij1k0mtc05HxBbg2cAjg35gnbpc7gJ2RsSlEXEexcOqD0+4TMM4DFzbfH0t0Ol/KaeA10bEloh4GsUN0WnucumnzncBF0ZEqz/19cCxMZRtVHrWOTOXMnNHZi5QdLt8usph3oeedW7+Dv8LRV0/N8aylamfTGr/s3gz8G85zGzPbk+PrtIXRUv0NPALipt+R5v7f5Piv6Kt8/YA36Xoa9s/6XIPWeeLKEYAfA/4CvCc5v5F4BPN15uBj1OE+DHgQ5Mu96jr3Nx+E3AP8N/Ap4DzJl32Ude57fy3Ax+ddLlHXWfgGuCXwLfavl426bIPUNdzMgm4Abiy+fp84LPAceC/gOcP83lO/ZekmqhTl4skzTQDXZJqwkCXpJow0CWpJgx0SaoJA12SasJAl6Sa+H+a6TFhFfiNJgAAAABJRU5ErkJggg==\n",
>>>>>>> acf51fbaa126fdddc7c458ba3142b5cdf3179a0a
      "text/plain": [
       "<Figure size 432x288 with 1 Axes>"
      ]
     },
     "metadata": {
      "needs_background": "light"
     },
     "output_type": "display_data"
    }
   ],
   "source": [
    "rvir=996.755\n",
    "gal3 = gchop.read_hdf5(\"galaxies_Du/gal128397.h5\")\n",
    "gal3 = gchop.center(gal3)\n",
    "gal3 = gchop.star_align(gal3, r_cut=0.1*rvir)\n",
    "circ = gchop.utils.jcirc(gal3)\n",
    "plt.plot(circ.x,circ.y, 'bo')\n",
    "#gal3.to_dataframe()"
   ]
  },
  {
   "cell_type": "code",
   "execution_count": 9,
   "metadata": {},
   "outputs": [
    {
     "name": "stdout",
     "output_type": "stream",
     "text": [
      "          Particles           Deterministic mass           Probabilistic mass  \\\n",
      "               Size  Fraction               Size  Fraction               Size   \n",
      "Halo           9122  0.258085       8.853534e+09  0.270053       9.941989e+09   \n",
      "Bulge         18359  0.519423       1.670520e+10  0.509547       1.555617e+10   \n",
      "Warm disk      7864  0.222493       7.225671e+09  0.220400       7.286250e+09   \n",
      "\n",
      "                     \n",
      "           Fraction  \n",
      "Halo       0.303254  \n",
      "Bulge      0.474499  \n",
      "Warm disk  0.222247  \n"
     ]
    }
   ],
   "source": [
<<<<<<< HEAD
    "decomposer = gchop.models.AutoGaussianMixture() #njobs paralell #cbin\n",
    "cmp_labels = decomposer.decompose(gal3)\n",
    "describe_gal3 = cmp_labels.describe()\n",
    "describe_gal3.to_pickle('describe_agmm_gal128397_rvir.pkl')\n",
    "print(describe_gal3)"
   ]
  },
  {
   "cell_type": "markdown",
   "metadata": {},
=======
    "decomposer = gchop.models.AutoGaussianMixture(n_jobs=4) #n_jobs paralell #cbin\n",
    "cmp_labels = decomposer.decompose(gal)\n",
    "labels_agmm = cmp_labels.labels[cmp_labels.ptypes == 'stars']\n",
    "cmp_labels\n",
    "\n",
    "#Probabilities\n",
    "probs_agmm = cmp_labels.probabilities[cmp_labels.ptypes == 'stars']"
   ]
  },
  {
   "cell_type": "code",
   "execution_count": 11,
   "metadata": {},
   "outputs": [
    {
     "data": {
      "text/html": [
       "<div>\n",
       "<style scoped>\n",
       "    .dataframe tbody tr th:only-of-type {\n",
       "        vertical-align: middle;\n",
       "    }\n",
       "\n",
       "    .dataframe tbody tr th {\n",
       "        vertical-align: top;\n",
       "    }\n",
       "\n",
       "    .dataframe thead th {\n",
       "        text-align: right;\n",
       "    }\n",
       "</style>\n",
       "<table border=\"1\" class=\"dataframe\">\n",
       "  <thead>\n",
       "    <tr style=\"text-align: right;\">\n",
       "      <th></th>\n",
       "      <th>labels</th>\n",
       "      <th>ptypes</th>\n",
       "      <th>probs_0</th>\n",
       "      <th>probs_1</th>\n",
       "      <th>probs_2</th>\n",
       "      <th>probs_3</th>\n",
       "    </tr>\n",
       "  </thead>\n",
       "  <tbody>\n",
       "    <tr>\n",
       "      <th>0</th>\n",
       "      <td>1.0</td>\n",
       "      <td>stars</td>\n",
       "      <td>0.000456</td>\n",
       "      <td>9.995440e-01</td>\n",
       "      <td>0.0</td>\n",
       "      <td>3.569140e-08</td>\n",
       "    </tr>\n",
       "    <tr>\n",
       "      <th>1</th>\n",
       "      <td>1.0</td>\n",
       "      <td>stars</td>\n",
       "      <td>0.000855</td>\n",
       "      <td>9.991454e-01</td>\n",
       "      <td>0.0</td>\n",
       "      <td>2.289086e-14</td>\n",
       "    </tr>\n",
       "    <tr>\n",
       "      <th>2</th>\n",
       "      <td>1.0</td>\n",
       "      <td>stars</td>\n",
       "      <td>0.000310</td>\n",
       "      <td>9.996624e-01</td>\n",
       "      <td>0.0</td>\n",
       "      <td>2.774708e-05</td>\n",
       "    </tr>\n",
       "    <tr>\n",
       "      <th>3</th>\n",
       "      <td>1.0</td>\n",
       "      <td>stars</td>\n",
       "      <td>0.006143</td>\n",
       "      <td>9.938571e-01</td>\n",
       "      <td>0.0</td>\n",
       "      <td>4.453194e-25</td>\n",
       "    </tr>\n",
       "    <tr>\n",
       "      <th>4</th>\n",
       "      <td>1.0</td>\n",
       "      <td>stars</td>\n",
       "      <td>0.000876</td>\n",
       "      <td>9.991238e-01</td>\n",
       "      <td>0.0</td>\n",
       "      <td>2.328921e-10</td>\n",
       "    </tr>\n",
       "    <tr>\n",
       "      <th>...</th>\n",
       "      <td>...</td>\n",
       "      <td>...</td>\n",
       "      <td>...</td>\n",
       "      <td>...</td>\n",
       "      <td>...</td>\n",
       "      <td>...</td>\n",
       "    </tr>\n",
       "    <tr>\n",
       "      <th>35397</th>\n",
       "      <td>0.0</td>\n",
       "      <td>stars</td>\n",
       "      <td>1.000000</td>\n",
       "      <td>3.270068e-14</td>\n",
       "      <td>0.0</td>\n",
       "      <td>1.081079e-08</td>\n",
       "    </tr>\n",
       "    <tr>\n",
       "      <th>35398</th>\n",
       "      <td>0.0</td>\n",
       "      <td>stars</td>\n",
       "      <td>1.000000</td>\n",
       "      <td>4.352987e-13</td>\n",
       "      <td>0.0</td>\n",
       "      <td>1.890759e-07</td>\n",
       "    </tr>\n",
       "    <tr>\n",
       "      <th>35399</th>\n",
       "      <td>0.0</td>\n",
       "      <td>stars</td>\n",
       "      <td>0.999999</td>\n",
       "      <td>4.249859e-15</td>\n",
       "      <td>0.0</td>\n",
       "      <td>5.856756e-07</td>\n",
       "    </tr>\n",
       "    <tr>\n",
       "      <th>35400</th>\n",
       "      <td>0.0</td>\n",
       "      <td>stars</td>\n",
       "      <td>1.000000</td>\n",
       "      <td>4.228011e-16</td>\n",
       "      <td>0.0</td>\n",
       "      <td>4.417624e-09</td>\n",
       "    </tr>\n",
       "    <tr>\n",
       "      <th>35401</th>\n",
       "      <td>0.0</td>\n",
       "      <td>stars</td>\n",
       "      <td>0.999999</td>\n",
       "      <td>6.386834e-14</td>\n",
       "      <td>0.0</td>\n",
       "      <td>5.906527e-07</td>\n",
       "    </tr>\n",
       "  </tbody>\n",
       "</table>\n",
       "<p>35402 rows × 6 columns</p>\n",
       "</div>"
      ],
      "text/plain": [
       "       labels ptypes   probs_0       probs_1  probs_2       probs_3\n",
       "0         1.0  stars  0.000456  9.995440e-01      0.0  3.569140e-08\n",
       "1         1.0  stars  0.000855  9.991454e-01      0.0  2.289086e-14\n",
       "2         1.0  stars  0.000310  9.996624e-01      0.0  2.774708e-05\n",
       "3         1.0  stars  0.006143  9.938571e-01      0.0  4.453194e-25\n",
       "4         1.0  stars  0.000876  9.991238e-01      0.0  2.328921e-10\n",
       "...       ...    ...       ...           ...      ...           ...\n",
       "35397     0.0  stars  1.000000  3.270068e-14      0.0  1.081079e-08\n",
       "35398     0.0  stars  1.000000  4.352987e-13      0.0  1.890759e-07\n",
       "35399     0.0  stars  0.999999  4.249859e-15      0.0  5.856756e-07\n",
       "35400     0.0  stars  1.000000  4.228011e-16      0.0  4.417624e-09\n",
       "35401     0.0  stars  0.999999  6.386834e-14      0.0  5.906527e-07\n",
       "\n",
       "[35402 rows x 6 columns]"
      ]
     },
     "execution_count": 11,
     "metadata": {},
     "output_type": "execute_result"
    }
   ],
>>>>>>> acf51fbaa126fdddc7c458ba3142b5cdf3179a0a
   "source": [
    "## gal4 = ID476624"
   ]
  },
  {
   "cell_type": "code",
<<<<<<< HEAD
   "execution_count": 10,
=======
   "execution_count": 12,
>>>>>>> acf51fbaa126fdddc7c458ba3142b5cdf3179a0a
   "metadata": {},
   "outputs": [
    {
     "data": {
      "text/plain": [
       "[<matplotlib.lines.Line2D at 0x14b9677f3dd0>]"
      ]
     },
<<<<<<< HEAD
     "execution_count": 10,
=======
     "execution_count": 12,
>>>>>>> acf51fbaa126fdddc7c458ba3142b5cdf3179a0a
     "metadata": {},
     "output_type": "execute_result"
    },
    {
     "data": {
<<<<<<< HEAD
      "image/png": "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\n",
=======
      "image/png": "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\n",
>>>>>>> acf51fbaa126fdddc7c458ba3142b5cdf3179a0a
      "text/plain": [
       "<Figure size 432x288 with 1 Axes>"
      ]
     },
     "metadata": {
      "needs_background": "light"
     },
     "output_type": "display_data"
    }
   ],
   "source": [
<<<<<<< HEAD
    "rvir=239.534\n",
    "gal4 = gchop.read_hdf5(\"galaxies_Du/gal476624.h5\")\n",
    "gal4 = gchop.center(gal4)\n",
    "gal4 = gchop.star_align(gal4, r_cut=0.1*rvir)\n",
    "#gal4.to_dataframe()\n",
    "circ = gchop.utils.jcirc(gal4)\n",
    "plt.plot(circ.x,circ.y, 'bo')"
=======
    "gal.plot.circ_kde(\"eps\",labels=labels_agmm)"
   ]
  },
  {
   "cell_type": "markdown",
   "metadata": {},
   "source": [
    "# DataFrame stars particles"
   ]
  },
  {
   "cell_type": "code",
   "execution_count": 13,
   "metadata": {},
   "outputs": [],
   "source": [
    "dfs = gal.stars.to_dataframe()"
>>>>>>> acf51fbaa126fdddc7c458ba3142b5cdf3179a0a
   ]
  },
  {
   "cell_type": "code",
<<<<<<< HEAD
   "execution_count": 11,
=======
   "execution_count": 14,
>>>>>>> acf51fbaa126fdddc7c458ba3142b5cdf3179a0a
   "metadata": {},
   "outputs": [
    {
     "name": "stdout",
     "output_type": "stream",
     "text": [
<<<<<<< HEAD
      "          Particles           Deterministic mass           Probabilistic mass  \\\n",
      "               Size  Fraction               Size  Fraction               Size   \n",
      "Halo          18982  0.516826       1.851258e+10  0.525172       1.864407e+10   \n",
      "Bulge         13963  0.380173       1.299867e+10  0.368751       1.303432e+10   \n",
      "Warm disk      3783  0.103000       3.739279e+09  0.106077       3.572141e+09   \n",
      "\n",
      "                     \n",
      "           Fraction  \n",
      "Halo       0.528902  \n",
      "Bulge      0.369762  \n",
      "Warm disk  0.101336  \n"
=======
      "35402\n",
      "35402\n"
>>>>>>> acf51fbaa126fdddc7c458ba3142b5cdf3179a0a
     ]
    }
   ],
   "source": [
<<<<<<< HEAD
    "decomposer = gchop.models.AutoGaussianMixture() #njobs paralell #cbin\n",
    "cmp_labels = decomposer.decompose(gal4)\n",
    "describe_gal4 = cmp_labels.describe()\n",
    "describe_gal4.to_pickle('describe_agmm_gal476624_rvir.pkl')\n",
    "print(describe_gal4)"
=======
    "print(len(gal.stars.x))\n",
    "print(len(labels_agmm))"
   ]
  },
  {
   "cell_type": "code",
   "execution_count": 15,
   "metadata": {},
   "outputs": [
    {
     "data": {
      "text/plain": [
       "ptype             0\n",
       "ptypev            0\n",
       "m                 0\n",
       "x                 0\n",
       "y                 0\n",
       "z                 0\n",
       "vx                0\n",
       "vy                0\n",
       "vz                0\n",
       "softening         0\n",
       "potential         0\n",
       "kinetic_energy    0\n",
       "total_energy      0\n",
       "Jx                0\n",
       "Jy                0\n",
       "Jz                0\n",
       "dtype: int64"
      ]
     },
     "execution_count": 15,
     "metadata": {},
     "output_type": "execute_result"
    }
   ],
   "source": [
    "dfs.isnull().sum()"
>>>>>>> acf51fbaa126fdddc7c458ba3142b5cdf3179a0a
   ]
  },
  {
   "cell_type": "markdown",
   "metadata": {},
   "source": [
    "## gal5 = ID472362"
   ]
  },
  {
   "cell_type": "code",
<<<<<<< HEAD
   "execution_count": 12,
=======
   "execution_count": 16,
   "metadata": {},
   "outputs": [],
   "source": [
    "df_agmm = gal.stars.to_dataframe()\n",
    "df_agmm.drop(columns=['x', 'y', 'z','vx', 'vy', 'vz','total_energy','softening', 'potential', 'kinetic_energy','Jx', 'Jy', 'Jz'], axis=1, inplace=True)\n",
    "df_agmm[\"lab_agmm\"]=labels_agmm\n",
    "\n",
    "df_agmm[\"pro_agmm_0\"]=probs_agmm[:,0]\n",
    "df_agmm[\"pro_agmm_1\"]=probs_agmm[:,1]\n",
    "df_agmm[\"pro_agmm_2\"]=probs_agmm[:,2]\n",
    "df_agmm[\"pro_agmm_3\"]=probs_agmm[:,3]\n",
    "\n",
    "\n",
    "df_agmm[\"mass_agmm_0\"]=probs_agmm[:,0]*df_agmm.m\n",
    "df_agmm[\"mass_agmm_1\"]=probs_agmm[:,1]*df_agmm.m\n",
    "df_agmm[\"mass_agmm_2\"]=probs_agmm[:,2]*df_agmm.m\n",
    "df_agmm[\"mass_agmm_3\"]=probs_agmm[:,3]*df_agmm.m"
   ]
  },
  {
   "cell_type": "code",
   "execution_count": 17,
>>>>>>> acf51fbaa126fdddc7c458ba3142b5cdf3179a0a
   "metadata": {},
   "outputs": [
    {
     "data": {
<<<<<<< HEAD
      "text/plain": [
       "[<matplotlib.lines.Line2D at 0x14b967704650>]"
      ]
     },
     "execution_count": 12,
=======
      "text/html": [
       "<div>\n",
       "<style scoped>\n",
       "    .dataframe tbody tr th:only-of-type {\n",
       "        vertical-align: middle;\n",
       "    }\n",
       "\n",
       "    .dataframe tbody tr th {\n",
       "        vertical-align: top;\n",
       "    }\n",
       "\n",
       "    .dataframe thead th {\n",
       "        text-align: right;\n",
       "    }\n",
       "</style>\n",
       "<table border=\"1\" class=\"dataframe\">\n",
       "  <thead>\n",
       "    <tr style=\"text-align: right;\">\n",
       "      <th></th>\n",
       "      <th>ptype</th>\n",
       "      <th>ptypev</th>\n",
       "      <th>m</th>\n",
       "      <th>lab_agmm</th>\n",
       "      <th>pro_agmm_0</th>\n",
       "      <th>pro_agmm_1</th>\n",
       "      <th>pro_agmm_2</th>\n",
       "      <th>pro_agmm_3</th>\n",
       "      <th>mass_agmm_0</th>\n",
       "      <th>mass_agmm_1</th>\n",
       "      <th>mass_agmm_2</th>\n",
       "      <th>mass_agmm_3</th>\n",
       "    </tr>\n",
       "  </thead>\n",
       "  <tbody>\n",
       "    <tr>\n",
       "      <th>0</th>\n",
       "      <td>stars</td>\n",
       "      <td>0</td>\n",
       "      <td>8.032803e+05</td>\n",
       "      <td>1.0</td>\n",
       "      <td>0.000456</td>\n",
       "      <td>9.995440e-01</td>\n",
       "      <td>0.0</td>\n",
       "      <td>3.569140e-08</td>\n",
       "      <td>3.663011e+02</td>\n",
       "      <td>8.029140e+05</td>\n",
       "      <td>0.0</td>\n",
       "      <td>2.867020e-02</td>\n",
       "    </tr>\n",
       "    <tr>\n",
       "      <th>1</th>\n",
       "      <td>stars</td>\n",
       "      <td>0</td>\n",
       "      <td>8.072168e+05</td>\n",
       "      <td>1.0</td>\n",
       "      <td>0.000855</td>\n",
       "      <td>9.991454e-01</td>\n",
       "      <td>0.0</td>\n",
       "      <td>2.289086e-14</td>\n",
       "      <td>6.898184e+02</td>\n",
       "      <td>8.065270e+05</td>\n",
       "      <td>0.0</td>\n",
       "      <td>1.847789e-08</td>\n",
       "    </tr>\n",
       "    <tr>\n",
       "      <th>2</th>\n",
       "      <td>stars</td>\n",
       "      <td>0</td>\n",
       "      <td>8.772046e+05</td>\n",
       "      <td>1.0</td>\n",
       "      <td>0.000310</td>\n",
       "      <td>9.996624e-01</td>\n",
       "      <td>0.0</td>\n",
       "      <td>2.774708e-05</td>\n",
       "      <td>2.718022e+02</td>\n",
       "      <td>8.769084e+05</td>\n",
       "      <td>0.0</td>\n",
       "      <td>2.433987e+01</td>\n",
       "    </tr>\n",
       "    <tr>\n",
       "      <th>3</th>\n",
       "      <td>stars</td>\n",
       "      <td>0</td>\n",
       "      <td>9.103504e+05</td>\n",
       "      <td>1.0</td>\n",
       "      <td>0.006143</td>\n",
       "      <td>9.938571e-01</td>\n",
       "      <td>0.0</td>\n",
       "      <td>4.453194e-25</td>\n",
       "      <td>5.592207e+03</td>\n",
       "      <td>9.047581e+05</td>\n",
       "      <td>0.0</td>\n",
       "      <td>4.053967e-19</td>\n",
       "    </tr>\n",
       "    <tr>\n",
       "      <th>4</th>\n",
       "      <td>stars</td>\n",
       "      <td>0</td>\n",
       "      <td>7.313074e+05</td>\n",
       "      <td>1.0</td>\n",
       "      <td>0.000876</td>\n",
       "      <td>9.991238e-01</td>\n",
       "      <td>0.0</td>\n",
       "      <td>2.328921e-10</td>\n",
       "      <td>6.407813e+02</td>\n",
       "      <td>7.306667e+05</td>\n",
       "      <td>0.0</td>\n",
       "      <td>1.703157e-04</td>\n",
       "    </tr>\n",
       "    <tr>\n",
       "      <th>...</th>\n",
       "      <td>...</td>\n",
       "      <td>...</td>\n",
       "      <td>...</td>\n",
       "      <td>...</td>\n",
       "      <td>...</td>\n",
       "      <td>...</td>\n",
       "      <td>...</td>\n",
       "      <td>...</td>\n",
       "      <td>...</td>\n",
       "      <td>...</td>\n",
       "      <td>...</td>\n",
       "      <td>...</td>\n",
       "    </tr>\n",
       "    <tr>\n",
       "      <th>35397</th>\n",
       "      <td>stars</td>\n",
       "      <td>0</td>\n",
       "      <td>9.021490e+05</td>\n",
       "      <td>0.0</td>\n",
       "      <td>1.000000</td>\n",
       "      <td>3.270068e-14</td>\n",
       "      <td>0.0</td>\n",
       "      <td>1.081079e-08</td>\n",
       "      <td>9.021490e+05</td>\n",
       "      <td>2.950088e-08</td>\n",
       "      <td>0.0</td>\n",
       "      <td>9.752944e-03</td>\n",
       "    </tr>\n",
       "    <tr>\n",
       "      <th>35398</th>\n",
       "      <td>stars</td>\n",
       "      <td>0</td>\n",
       "      <td>1.109970e+06</td>\n",
       "      <td>0.0</td>\n",
       "      <td>1.000000</td>\n",
       "      <td>4.352987e-13</td>\n",
       "      <td>0.0</td>\n",
       "      <td>1.890759e-07</td>\n",
       "      <td>1.109969e+06</td>\n",
       "      <td>4.831683e-07</td>\n",
       "      <td>0.0</td>\n",
       "      <td>2.098685e-01</td>\n",
       "    </tr>\n",
       "    <tr>\n",
       "      <th>35399</th>\n",
       "      <td>stars</td>\n",
       "      <td>0</td>\n",
       "      <td>1.040806e+06</td>\n",
       "      <td>0.0</td>\n",
       "      <td>0.999999</td>\n",
       "      <td>4.249859e-15</td>\n",
       "      <td>0.0</td>\n",
       "      <td>5.856756e-07</td>\n",
       "      <td>1.040805e+06</td>\n",
       "      <td>4.423278e-09</td>\n",
       "      <td>0.0</td>\n",
       "      <td>6.095744e-01</td>\n",
       "    </tr>\n",
       "    <tr>\n",
       "      <th>35400</th>\n",
       "      <td>stars</td>\n",
       "      <td>0</td>\n",
       "      <td>7.603239e+05</td>\n",
       "      <td>0.0</td>\n",
       "      <td>1.000000</td>\n",
       "      <td>4.228011e-16</td>\n",
       "      <td>0.0</td>\n",
       "      <td>4.417624e-09</td>\n",
       "      <td>7.603239e+05</td>\n",
       "      <td>3.214658e-10</td>\n",
       "      <td>0.0</td>\n",
       "      <td>3.358825e-03</td>\n",
       "    </tr>\n",
       "    <tr>\n",
       "      <th>35401</th>\n",
       "      <td>stars</td>\n",
       "      <td>0</td>\n",
       "      <td>1.069837e+06</td>\n",
       "      <td>0.0</td>\n",
       "      <td>0.999999</td>\n",
       "      <td>6.386834e-14</td>\n",
       "      <td>0.0</td>\n",
       "      <td>5.906527e-07</td>\n",
       "      <td>1.069836e+06</td>\n",
       "      <td>6.832871e-08</td>\n",
       "      <td>0.0</td>\n",
       "      <td>6.319021e-01</td>\n",
       "    </tr>\n",
       "  </tbody>\n",
       "</table>\n",
       "<p>35402 rows × 12 columns</p>\n",
       "</div>"
      ],
      "text/plain": [
       "       ptype  ptypev             m  lab_agmm  pro_agmm_0    pro_agmm_1  \\\n",
       "0      stars       0  8.032803e+05       1.0    0.000456  9.995440e-01   \n",
       "1      stars       0  8.072168e+05       1.0    0.000855  9.991454e-01   \n",
       "2      stars       0  8.772046e+05       1.0    0.000310  9.996624e-01   \n",
       "3      stars       0  9.103504e+05       1.0    0.006143  9.938571e-01   \n",
       "4      stars       0  7.313074e+05       1.0    0.000876  9.991238e-01   \n",
       "...      ...     ...           ...       ...         ...           ...   \n",
       "35397  stars       0  9.021490e+05       0.0    1.000000  3.270068e-14   \n",
       "35398  stars       0  1.109970e+06       0.0    1.000000  4.352987e-13   \n",
       "35399  stars       0  1.040806e+06       0.0    0.999999  4.249859e-15   \n",
       "35400  stars       0  7.603239e+05       0.0    1.000000  4.228011e-16   \n",
       "35401  stars       0  1.069837e+06       0.0    0.999999  6.386834e-14   \n",
       "\n",
       "       pro_agmm_2    pro_agmm_3   mass_agmm_0   mass_agmm_1  mass_agmm_2  \\\n",
       "0             0.0  3.569140e-08  3.663011e+02  8.029140e+05          0.0   \n",
       "1             0.0  2.289086e-14  6.898184e+02  8.065270e+05          0.0   \n",
       "2             0.0  2.774708e-05  2.718022e+02  8.769084e+05          0.0   \n",
       "3             0.0  4.453194e-25  5.592207e+03  9.047581e+05          0.0   \n",
       "4             0.0  2.328921e-10  6.407813e+02  7.306667e+05          0.0   \n",
       "...           ...           ...           ...           ...          ...   \n",
       "35397         0.0  1.081079e-08  9.021490e+05  2.950088e-08          0.0   \n",
       "35398         0.0  1.890759e-07  1.109969e+06  4.831683e-07          0.0   \n",
       "35399         0.0  5.856756e-07  1.040805e+06  4.423278e-09          0.0   \n",
       "35400         0.0  4.417624e-09  7.603239e+05  3.214658e-10          0.0   \n",
       "35401         0.0  5.906527e-07  1.069836e+06  6.832871e-08          0.0   \n",
       "\n",
       "        mass_agmm_3  \n",
       "0      2.867020e-02  \n",
       "1      1.847789e-08  \n",
       "2      2.433987e+01  \n",
       "3      4.053967e-19  \n",
       "4      1.703157e-04  \n",
       "...             ...  \n",
       "35397  9.752944e-03  \n",
       "35398  2.098685e-01  \n",
       "35399  6.095744e-01  \n",
       "35400  3.358825e-03  \n",
       "35401  6.319021e-01  \n",
       "\n",
       "[35402 rows x 12 columns]"
      ]
     },
     "execution_count": 17,
>>>>>>> acf51fbaa126fdddc7c458ba3142b5cdf3179a0a
     "metadata": {},
     "output_type": "execute_result"
    },
    {
     "data": {
      "image/png": "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\n",
      "text/plain": [
       "<Figure size 432x288 with 1 Axes>"
      ]
     },
     "metadata": {
      "needs_background": "light"
     },
     "output_type": "display_data"
    }
   ],
   "source": [
    "rvir=251.095\n",
    "gal5 = gchop.read_hdf5(\"galaxies_Du/gal472362.h5\")\n",
    "gal5 = gchop.center(gal5)\n",
    "gal5 = gchop.star_align(gal5, r_cut=0.1*rvir)\n",
    "#gal5.to_dataframe()\n",
    "circ = gchop.utils.jcirc(gal5)\n",
    "plt.plot(circ.x,circ.y, 'bo')"
   ]
  },
  {
   "cell_type": "code",
<<<<<<< HEAD
   "execution_count": 13,
=======
   "execution_count": 18,
>>>>>>> acf51fbaa126fdddc7c458ba3142b5cdf3179a0a
   "metadata": {},
   "outputs": [
    {
     "name": "stdout",
     "output_type": "stream",
     "text": [
<<<<<<< HEAD
      "          Particles           Deterministic mass           Probabilistic mass  \\\n",
      "               Size  Fraction               Size  Fraction               Size   \n",
      "Halo           7995  0.112450       7.628297e+09  0.115802       8.698801e+09   \n",
      "Bulge         34141  0.480196       3.045881e+10  0.462383       2.961147e+10   \n",
      "Cold disk     15779  0.221933       1.542381e+10  0.234143       1.463486e+10   \n",
      "Warm disk     13183  0.185420       1.236259e+10  0.187672       1.292838e+10   \n",
      "\n",
      "                     \n",
      "           Fraction  \n",
      "Halo       0.132053  \n",
      "Bulge      0.449520  \n",
      "Cold disk  0.222166  \n",
      "Warm disk  0.196261  \n"
     ]
=======
      "Total Mass =  32836200988.7951\n",
      "% masa comp 0 = 30.106986545882673\n",
      "% masa comp 1 = 47.995121855236135\n",
      "% masa comp 2 = 0.0\n",
      "% masa comp 3 = 21.60032860121323\n"
     ]
    },
    {
     "data": {
      "text/plain": [
       "99.70243700233205"
      ]
     },
     "execution_count": 18,
     "metadata": {},
     "output_type": "execute_result"
>>>>>>> acf51fbaa126fdddc7c458ba3142b5cdf3179a0a
    }
   ],
   "source": [
    "decomposer = gchop.models.AutoGaussianMixture() #njobs paralell #cbin\n",
    "cmp_labels = decomposer.decompose(gal5)\n",
    "describe_gal5 = cmp_labels.describe()\n",
    "describe_gal5.to_pickle('describe_agmm_gal472362_rvir.pkl')\n",
    "print(describe_gal5)"
   ]
  },
  {
   "cell_type": "code",
   "execution_count": null,
   "metadata": {},
   "outputs": [],
   "source": []
  },
  {
   "cell_type": "code",
   "execution_count": null,
   "metadata": {},
   "outputs": [],
   "source": []
  },
  {
   "cell_type": "code",
   "execution_count": null,
   "metadata": {},
   "outputs": [],
   "source": []
  },
  {
   "cell_type": "code",
   "execution_count": null,
   "metadata": {},
   "outputs": [],
   "source": []
<<<<<<< HEAD
  },
  {
   "cell_type": "code",
   "execution_count": null,
   "metadata": {},
   "outputs": [],
   "source": []
=======
>>>>>>> acf51fbaa126fdddc7c458ba3142b5cdf3179a0a
  }
 ],
 "metadata": {
  "kernelspec": {
   "display_name": "Python 3",
   "language": "python",
   "name": "python3"
  },
  "language_info": {
   "codemirror_mode": {
    "name": "ipython",
    "version": 3
   },
   "file_extension": ".py",
   "mimetype": "text/x-python",
   "name": "python",
   "nbconvert_exporter": "python",
   "pygments_lexer": "ipython3",
   "version": "3.7.9"
  },
  "toc": {
   "base_numbering": 1,
   "nav_menu": {},
   "number_sections": true,
   "sideBar": true,
   "skip_h1_title": false,
   "title_cell": "Table of Contents",
   "title_sidebar": "Contents",
   "toc_cell": false,
   "toc_position": {
    "height": "calc(100% - 180px)",
    "left": "10px",
    "top": "150px",
    "width": "178px"
   },
   "toc_section_display": true,
   "toc_window_display": true
  },
  "varInspector": {
   "cols": {
    "lenName": 16,
    "lenType": 16,
    "lenVar": 40
   },
   "kernels_config": {
    "python": {
     "delete_cmd_postfix": "",
     "delete_cmd_prefix": "del ",
     "library": "var_list.py",
     "varRefreshCmd": "print(var_dic_list())"
    },
    "r": {
     "delete_cmd_postfix": ") ",
     "delete_cmd_prefix": "rm(",
     "library": "var_list.r",
     "varRefreshCmd": "cat(var_dic_list()) "
    }
   },
   "oldHeight": 122,
   "position": {
    "height": "144px",
    "left": "1333px",
    "right": "20px",
    "top": "120px",
    "width": "247px"
   },
   "types_to_exclude": [
    "module",
    "function",
    "builtin_function_or_method",
    "instance",
    "_Feature"
   ],
   "varInspector_section_display": "block",
   "window_display": false
  }
 },
 "nbformat": 4,
 "nbformat_minor": 4
}
