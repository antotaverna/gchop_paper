{
 "cells": [
  {
   "cell_type": "code",
   "execution_count": 1,
   "metadata": {},
   "outputs": [],
   "source": [
    "import h5py\n",
    "import galaxychop as gchop\n",
    "import uttr\n",
    "import attr\n",
    "import seaborn as sns\n",
    "import pandas as pd\n",
    "import matplotlib.pylab as plt\n",
    "import numpy as np"
   ]
  },
  {
   "cell_type": "markdown",
   "metadata": {},
   "source": [
    "# Leo las galaxias\n",
    "## gal0= ID394242"
   ]
  },
  {
   "cell_type": "code",
   "execution_count": 28,
   "metadata": {},
   "outputs": [],
   "source": [
    "gal0 = gchop.read_hdf5(\"../galaxy-chop/tests/datasets/gal394242.h5\")\n",
    "gal0 = gchop.center(gal0)\n",
    "gal0 = gchop.star_align(gal0, r_cut=30.)\n",
    "#gal0.to_dataframe()"
   ]
  },
  {
   "cell_type": "markdown",
   "metadata": {},
   "source": [
    "## gal1 = ID128397"
   ]
  },
  {
   "cell_type": "code",
   "execution_count": 3,
   "metadata": {},
   "outputs": [],
   "source": [
    "gal1 = gchop.read_hdf5(\"galaxies_Du/gal128397.h5\")\n",
    "gal1 = gchop.center(gal1)\n",
    "gal1 = gchop.star_align(gal1)\n",
    "#gal1.to_dataframe()"
   ]
  },
  {
   "cell_type": "markdown",
   "metadata": {},
   "source": [
    "## gal2 = ID250391"
   ]
  },
  {
   "cell_type": "code",
   "execution_count": 4,
   "metadata": {},
   "outputs": [],
   "source": [
    "gal2 = gchop.read_hdf5(\"galaxies_Du/gal250391.h5\")\n",
    "gal2 = gchop.center(gal2)\n",
    "gal2 = gchop.star_align(gal2)\n",
    "#gal2.to_dataframe()"
   ]
  },
  {
   "cell_type": "markdown",
   "metadata": {},
   "source": [
    "## gal3 = ID472362"
   ]
  },
  {
   "cell_type": "code",
   "execution_count": 5,
   "metadata": {},
   "outputs": [],
   "source": [
    "gal3 = gchop.read_hdf5(\"galaxies_Du/gal472362.h5\")\n",
    "gal3 = gchop.center(gal3)\n",
    "gal3 = gchop.star_align(gal3)\n",
    "#gal3.to_dataframe()"
   ]
  },
  {
   "cell_type": "markdown",
   "metadata": {},
   "source": [
    "## gal4 = ID476624"
   ]
  },
  {
   "cell_type": "code",
   "execution_count": 6,
   "metadata": {},
   "outputs": [],
   "source": [
    "gal4 = gchop.read_hdf5(\"galaxies_Du/gal476624.h5\")\n",
    "gal4 = gchop.center(gal4)\n",
    "gal4 = gchop.star_align(gal4)\n",
    "#gal4.to_dataframe()"
   ]
  },
  {
   "cell_type": "markdown",
   "metadata": {},
   "source": [
    "## gal5 = ID526667"
   ]
  },
  {
   "cell_type": "code",
   "execution_count": 7,
   "metadata": {},
   "outputs": [
    {
     "data": {
      "text/html": [
       "<div>\n",
       "<style scoped>\n",
       "    .dataframe tbody tr th:only-of-type {\n",
       "        vertical-align: middle;\n",
       "    }\n",
       "\n",
       "    .dataframe tbody tr th {\n",
       "        vertical-align: top;\n",
       "    }\n",
       "\n",
       "    .dataframe thead th {\n",
       "        text-align: right;\n",
       "    }\n",
       "</style>\n",
       "<table border=\"1\" class=\"dataframe\">\n",
       "  <thead>\n",
       "    <tr style=\"text-align: right;\">\n",
       "      <th></th>\n",
       "      <th>ptype</th>\n",
       "      <th>ptypev</th>\n",
       "      <th>m</th>\n",
       "      <th>x</th>\n",
       "      <th>y</th>\n",
       "      <th>z</th>\n",
       "      <th>vx</th>\n",
       "      <th>vy</th>\n",
       "      <th>vz</th>\n",
       "      <th>softening</th>\n",
       "      <th>potential</th>\n",
       "      <th>kinetic_energy</th>\n",
       "      <th>total_energy</th>\n",
       "      <th>Jx</th>\n",
       "      <th>Jy</th>\n",
       "      <th>Jz</th>\n",
       "    </tr>\n",
       "  </thead>\n",
       "  <tbody>\n",
       "    <tr>\n",
       "      <th>0</th>\n",
       "      <td>stars</td>\n",
       "      <td>0</td>\n",
       "      <td>0.000098</td>\n",
       "      <td>-0.107917</td>\n",
       "      <td>-0.159836</td>\n",
       "      <td>-0.318775</td>\n",
       "      <td>-1.107831</td>\n",
       "      <td>4.746039</td>\n",
       "      <td>-3.426031</td>\n",
       "      <td>0.0</td>\n",
       "      <td>-200495.947870</td>\n",
       "      <td>17.744933</td>\n",
       "      <td>-200478.202937</td>\n",
       "      <td>2.060522</td>\n",
       "      <td>-0.016578</td>\n",
       "      <td>-0.689249</td>\n",
       "    </tr>\n",
       "    <tr>\n",
       "      <th>1</th>\n",
       "      <td>stars</td>\n",
       "      <td>0</td>\n",
       "      <td>0.000099</td>\n",
       "      <td>-0.110996</td>\n",
       "      <td>0.156735</td>\n",
       "      <td>-0.188233</td>\n",
       "      <td>8.759558</td>\n",
       "      <td>-37.120618</td>\n",
       "      <td>27.657493</td>\n",
       "      <td>0.0</td>\n",
       "      <td>-203090.239977</td>\n",
       "      <td>1109.803520</td>\n",
       "      <td>-201980.436457</td>\n",
       "      <td>-2.652425</td>\n",
       "      <td>1.421035</td>\n",
       "      <td>2.747312</td>\n",
       "    </tr>\n",
       "    <tr>\n",
       "      <th>2</th>\n",
       "      <td>stars</td>\n",
       "      <td>0</td>\n",
       "      <td>0.000055</td>\n",
       "      <td>-0.135197</td>\n",
       "      <td>-0.138608</td>\n",
       "      <td>-0.187857</td>\n",
       "      <td>21.805741</td>\n",
       "      <td>18.898297</td>\n",
       "      <td>38.134268</td>\n",
       "      <td>0.0</td>\n",
       "      <td>-202801.416138</td>\n",
       "      <td>1143.429197</td>\n",
       "      <td>-201657.986941</td>\n",
       "      <td>-1.735535</td>\n",
       "      <td>1.059261</td>\n",
       "      <td>0.467464</td>\n",
       "    </tr>\n",
       "    <tr>\n",
       "      <th>3</th>\n",
       "      <td>stars</td>\n",
       "      <td>0</td>\n",
       "      <td>0.000058</td>\n",
       "      <td>0.119899</td>\n",
       "      <td>0.168222</td>\n",
       "      <td>0.124392</td>\n",
       "      <td>-8.072670</td>\n",
       "      <td>24.267681</td>\n",
       "      <td>5.544683</td>\n",
       "      <td>0.0</td>\n",
       "      <td>-201347.417800</td>\n",
       "      <td>342.415929</td>\n",
       "      <td>-201005.001871</td>\n",
       "      <td>-2.085968</td>\n",
       "      <td>-1.668979</td>\n",
       "      <td>4.267676</td>\n",
       "    </tr>\n",
       "    <tr>\n",
       "      <th>4</th>\n",
       "      <td>stars</td>\n",
       "      <td>0</td>\n",
       "      <td>0.000057</td>\n",
       "      <td>-0.109398</td>\n",
       "      <td>-0.058934</td>\n",
       "      <td>-0.061265</td>\n",
       "      <td>42.091771</td>\n",
       "      <td>-45.090218</td>\n",
       "      <td>5.277759</td>\n",
       "      <td>0.0</td>\n",
       "      <td>-203587.576977</td>\n",
       "      <td>1916.349829</td>\n",
       "      <td>-201671.227148</td>\n",
       "      <td>-3.073506</td>\n",
       "      <td>-2.001390</td>\n",
       "      <td>7.413411</td>\n",
       "    </tr>\n",
       "    <tr>\n",
       "      <th>...</th>\n",
       "      <td>...</td>\n",
       "      <td>...</td>\n",
       "      <td>...</td>\n",
       "      <td>...</td>\n",
       "      <td>...</td>\n",
       "      <td>...</td>\n",
       "      <td>...</td>\n",
       "      <td>...</td>\n",
       "      <td>...</td>\n",
       "      <td>...</td>\n",
       "      <td>...</td>\n",
       "      <td>...</td>\n",
       "      <td>...</td>\n",
       "      <td>...</td>\n",
       "      <td>...</td>\n",
       "      <td>...</td>\n",
       "    </tr>\n",
       "    <tr>\n",
       "      <th>168953</th>\n",
       "      <td>gas</td>\n",
       "      <td>2</td>\n",
       "      <td>0.000164</td>\n",
       "      <td>191.205447</td>\n",
       "      <td>54.989147</td>\n",
       "      <td>-189.578169</td>\n",
       "      <td>-7.180076</td>\n",
       "      <td>96.008880</td>\n",
       "      <td>-15.455020</td>\n",
       "      <td>0.0</td>\n",
       "      <td>-14739.547830</td>\n",
       "      <td>4754.058126</td>\n",
       "      <td>-9985.489703</td>\n",
       "      <td>17351.329335</td>\n",
       "      <td>4316.269687</td>\n",
       "      <td>18752.247086</td>\n",
       "    </tr>\n",
       "    <tr>\n",
       "      <th>168954</th>\n",
       "      <td>gas</td>\n",
       "      <td>2</td>\n",
       "      <td>0.000120</td>\n",
       "      <td>-129.750484</td>\n",
       "      <td>-211.084961</td>\n",
       "      <td>74.608592</td>\n",
       "      <td>-87.258566</td>\n",
       "      <td>2.298022</td>\n",
       "      <td>17.683213</td>\n",
       "      <td>0.0</td>\n",
       "      <td>-16295.293962</td>\n",
       "      <td>3966.017159</td>\n",
       "      <td>-12329.276804</td>\n",
       "      <td>-3904.112494</td>\n",
       "      <td>-4215.833291</td>\n",
       "      <td>-18717.140444</td>\n",
       "    </tr>\n",
       "    <tr>\n",
       "      <th>168955</th>\n",
       "      <td>gas</td>\n",
       "      <td>2</td>\n",
       "      <td>0.000125</td>\n",
       "      <td>-182.386759</td>\n",
       "      <td>-74.097168</td>\n",
       "      <td>30.493818</td>\n",
       "      <td>-29.940118</td>\n",
       "      <td>77.861532</td>\n",
       "      <td>-16.174053</td>\n",
       "      <td>0.0</td>\n",
       "      <td>-21050.438664</td>\n",
       "      <td>3610.214469</td>\n",
       "      <td>-17440.224195</td>\n",
       "      <td>-1175.843811</td>\n",
       "      <td>-3862.921676</td>\n",
       "      <td>-16419.390574</td>\n",
       "    </tr>\n",
       "    <tr>\n",
       "      <th>168956</th>\n",
       "      <td>gas</td>\n",
       "      <td>2</td>\n",
       "      <td>0.000163</td>\n",
       "      <td>152.800123</td>\n",
       "      <td>151.537925</td>\n",
       "      <td>87.482905</td>\n",
       "      <td>14.863168</td>\n",
       "      <td>-30.463904</td>\n",
       "      <td>14.954183</td>\n",
       "      <td>0.0</td>\n",
       "      <td>-17080.253672</td>\n",
       "      <td>686.295417</td>\n",
       "      <td>-16393.958255</td>\n",
       "      <td>4931.196761</td>\n",
       "      <td>-984.727923</td>\n",
       "      <td>-6907.221996</td>\n",
       "    </tr>\n",
       "    <tr>\n",
       "      <th>168957</th>\n",
       "      <td>gas</td>\n",
       "      <td>2</td>\n",
       "      <td>0.000122</td>\n",
       "      <td>-122.412958</td>\n",
       "      <td>236.297945</td>\n",
       "      <td>42.810536</td>\n",
       "      <td>-66.556440</td>\n",
       "      <td>-80.502360</td>\n",
       "      <td>24.637284</td>\n",
       "      <td>0.0</td>\n",
       "      <td>-15052.006371</td>\n",
       "      <td>5758.692769</td>\n",
       "      <td>-9293.313602</td>\n",
       "      <td>9268.088882</td>\n",
       "      <td>166.605955</td>\n",
       "      <td>25581.682060</td>\n",
       "    </tr>\n",
       "  </tbody>\n",
       "</table>\n",
       "<p>168958 rows × 16 columns</p>\n",
       "</div>"
      ],
      "text/plain": [
       "        ptype  ptypev         m           x           y           z  \\\n",
       "0       stars       0  0.000098   -0.107917   -0.159836   -0.318775   \n",
       "1       stars       0  0.000099   -0.110996    0.156735   -0.188233   \n",
       "2       stars       0  0.000055   -0.135197   -0.138608   -0.187857   \n",
       "3       stars       0  0.000058    0.119899    0.168222    0.124392   \n",
       "4       stars       0  0.000057   -0.109398   -0.058934   -0.061265   \n",
       "...       ...     ...       ...         ...         ...         ...   \n",
       "168953    gas       2  0.000164  191.205447   54.989147 -189.578169   \n",
       "168954    gas       2  0.000120 -129.750484 -211.084961   74.608592   \n",
       "168955    gas       2  0.000125 -182.386759  -74.097168   30.493818   \n",
       "168956    gas       2  0.000163  152.800123  151.537925   87.482905   \n",
       "168957    gas       2  0.000122 -122.412958  236.297945   42.810536   \n",
       "\n",
       "               vx         vy         vz  softening      potential  \\\n",
       "0       -1.107831   4.746039  -3.426031        0.0 -200495.947870   \n",
       "1        8.759558 -37.120618  27.657493        0.0 -203090.239977   \n",
       "2       21.805741  18.898297  38.134268        0.0 -202801.416138   \n",
       "3       -8.072670  24.267681   5.544683        0.0 -201347.417800   \n",
       "4       42.091771 -45.090218   5.277759        0.0 -203587.576977   \n",
       "...           ...        ...        ...        ...            ...   \n",
       "168953  -7.180076  96.008880 -15.455020        0.0  -14739.547830   \n",
       "168954 -87.258566   2.298022  17.683213        0.0  -16295.293962   \n",
       "168955 -29.940118  77.861532 -16.174053        0.0  -21050.438664   \n",
       "168956  14.863168 -30.463904  14.954183        0.0  -17080.253672   \n",
       "168957 -66.556440 -80.502360  24.637284        0.0  -15052.006371   \n",
       "\n",
       "        kinetic_energy   total_energy            Jx           Jy            Jz  \n",
       "0            17.744933 -200478.202937      2.060522    -0.016578     -0.689249  \n",
       "1          1109.803520 -201980.436457     -2.652425     1.421035      2.747312  \n",
       "2          1143.429197 -201657.986941     -1.735535     1.059261      0.467464  \n",
       "3           342.415929 -201005.001871     -2.085968    -1.668979      4.267676  \n",
       "4          1916.349829 -201671.227148     -3.073506    -2.001390      7.413411  \n",
       "...                ...            ...           ...          ...           ...  \n",
       "168953     4754.058126   -9985.489703  17351.329335  4316.269687  18752.247086  \n",
       "168954     3966.017159  -12329.276804  -3904.112494 -4215.833291 -18717.140444  \n",
       "168955     3610.214469  -17440.224195  -1175.843811 -3862.921676 -16419.390574  \n",
       "168956      686.295417  -16393.958255   4931.196761  -984.727923  -6907.221996  \n",
       "168957     5758.692769   -9293.313602   9268.088882   166.605955  25581.682060  \n",
       "\n",
       "[168958 rows x 16 columns]"
      ]
     },
     "execution_count": 7,
     "metadata": {},
     "output_type": "execute_result"
    }
   ],
   "source": [
    "gal5 = gchop.read_hdf5(\"galaxies_Du/gal526667.h5\")\n",
    "gal5 = gchop.center(gal5)\n",
    "gal5 = gchop.star_align(gal5)\n",
    "gal5.to_dataframe()"
   ]
  },
  {
   "cell_type": "markdown",
   "metadata": {},
   "source": [
    "# Elijo Galaxia "
   ]
  },
  {
   "cell_type": "code",
   "execution_count": 8,
   "metadata": {},
   "outputs": [],
   "source": [
    "gal = gal0"
   ]
  },
  {
   "cell_type": "code",
   "execution_count": 12,
   "metadata": {},
   "outputs": [
    {
     "data": {
      "text/plain": [
       "JCirc(normalized_star_energy=array([-0.99509357, -0.99760334, -0.99279739, ..., -0.13989039,\n",
       "       -0.08796932, -0.06652457]), normalized_star_Jz=array([-9.24079355e-05,  1.56582528e-04, -3.68821838e-04, ...,\n",
       "       -1.37554847e-01,  4.23475904e-01,  7.12919724e-01]), eps=array([-0.10974301,  0.38068977, -0.29837353, ..., -0.17532475,\n",
       "        0.54943866,  0.86226812]), eps_r=array([0.8643671 , 1.15379305, 0.53883725, ..., 0.53970452, 1.12444831,\n",
       "       0.3601765 ]), x=array([-1.        , -0.95927071, -0.9004535 , -0.85024711, -0.80186797,\n",
       "       -0.75018146, -0.70010322, -0.65051785, -0.60334024, -0.55155718,\n",
       "       -0.50014295, -0.45108036, -0.40063531, -0.36278941, -0.30919036,\n",
       "       -0.25092359, -0.24736776, -0.18470211, -0.1248638 , -0.09920325,\n",
       "       -0.09229182, -0.0859902 , -0.08130821, -0.07514371, -0.07208031,\n",
       "       -0.0660381 , -0.06311026, -0.05856595, -0.04632291, -0.04388853,\n",
       "       -0.03508332, -0.03128673, -0.02683017, -0.00282447]), y=array([0.        , 0.00698994, 0.0176217 , 0.03441188, 0.05776222,\n",
       "       0.07956704, 0.10961335, 0.14458189, 0.18891294, 0.24514534,\n",
       "       0.31770647, 0.40462534, 0.51367825, 0.5826562 , 0.67568716,\n",
       "       0.71191953, 0.77640212, 0.82564489, 0.7707988 , 0.35209628,\n",
       "       0.76966847, 0.77123472, 0.70928484, 0.79449215, 0.82474149,\n",
       "       0.82697576, 0.21804097, 0.16023965, 0.32234547, 0.10155561,\n",
       "       0.1419517 , 0.8457555 , 0.49303418, 0.55089426]))"
      ]
     },
     "execution_count": 12,
     "metadata": {},
     "output_type": "execute_result"
    }
   ],
   "source": [
    "circ = gchop.utils.jcirc(gal)\n",
    "circ"
   ]
  },
  {
   "cell_type": "code",
   "execution_count": 18,
   "metadata": {},
   "outputs": [
    {
     "data": {
      "text/plain": [
       "[<matplotlib.lines.Line2D at 0x7f56d4726370>]"
      ]
     },
     "execution_count": 18,
     "metadata": {},
     "output_type": "execute_result"
    },
    {
     "data": {
      "image/png": "[encoded data removed]",
      "text/plain": [
       "<Figure size 432x288 with 1 Axes>"
      ]
     },
     "metadata": {
      "needs_background": "light"
     },
     "output_type": "display_data"
    }
   ],
   "source": [
    "plt.plot(circ.x,circ.y, 'bo')"
   ]
  },
  {
   "cell_type": "markdown",
   "metadata": {},
   "source": [
    "## Auto-GMM"
   ]
  },
  {
   "cell_type": "code",
   "execution_count": 10,
   "metadata": {},
   "outputs": [],
   "source": [
    "decomposer = gchop.models.AutoGaussianMixture() #njobs paralell #cbin\n",
    "cmp_labels = decomposer.decompose(gal)\n",
    "labels_agmm = cmp_labels.labels[cmp_labels.ptypes == 'stars']\n",
    "cmp_labels\n",
    "\n",
    "#Probabilities\n",
    "probs_agmm = cmp_labels.probabilities[cmp_labels.ptypes == 'stars']"
   ]
  },
  {
   "cell_type": "code",
   "execution_count": 21,
   "metadata": {},
   "outputs": [
    {
     "data": {
      "text/html": [
       "<div>\n",
       "<style scoped>\n",
       "    .dataframe tbody tr th:only-of-type {\n",
       "        vertical-align: middle;\n",
       "    }\n",
       "\n",
       "    .dataframe tbody tr th {\n",
       "        vertical-align: top;\n",
       "    }\n",
       "\n",
       "    .dataframe thead th {\n",
       "        text-align: right;\n",
       "    }\n",
       "</style>\n",
       "<table border=\"1\" class=\"dataframe\">\n",
       "  <thead>\n",
       "    <tr style=\"text-align: right;\">\n",
       "      <th></th>\n",
       "      <th>labels</th>\n",
       "      <th>ptypes</th>\n",
       "      <th>probs_0</th>\n",
       "      <th>probs_1</th>\n",
       "      <th>probs_2</th>\n",
       "      <th>probs_3</th>\n",
       "    </tr>\n",
       "  </thead>\n",
       "  <tbody>\n",
       "    <tr>\n",
       "      <th>0</th>\n",
       "      <td>1.0</td>\n",
       "      <td>stars</td>\n",
       "      <td>1.117271e-09</td>\n",
       "      <td>9.999932e-01</td>\n",
       "      <td>1.895604e-103</td>\n",
       "      <td>6.772322e-06</td>\n",
       "    </tr>\n",
       "    <tr>\n",
       "      <th>1</th>\n",
       "      <td>1.0</td>\n",
       "      <td>stars</td>\n",
       "      <td>2.543508e-16</td>\n",
       "      <td>9.996334e-01</td>\n",
       "      <td>1.289838e-68</td>\n",
       "      <td>3.666150e-04</td>\n",
       "    </tr>\n",
       "    <tr>\n",
       "      <th>2</th>\n",
       "      <td>1.0</td>\n",
       "      <td>stars</td>\n",
       "      <td>3.911607e-04</td>\n",
       "      <td>9.996088e-01</td>\n",
       "      <td>5.992526e-133</td>\n",
       "      <td>9.115849e-09</td>\n",
       "    </tr>\n",
       "    <tr>\n",
       "      <th>3</th>\n",
       "      <td>1.0</td>\n",
       "      <td>stars</td>\n",
       "      <td>4.304416e-01</td>\n",
       "      <td>5.695578e-01</td>\n",
       "      <td>4.066138e-91</td>\n",
       "      <td>6.378269e-07</td>\n",
       "    </tr>\n",
       "    <tr>\n",
       "      <th>4</th>\n",
       "      <td>1.0</td>\n",
       "      <td>stars</td>\n",
       "      <td>7.022479e-14</td>\n",
       "      <td>9.985413e-01</td>\n",
       "      <td>2.067395e-63</td>\n",
       "      <td>1.458718e-03</td>\n",
       "    </tr>\n",
       "    <tr>\n",
       "      <th>...</th>\n",
       "      <td>...</td>\n",
       "      <td>...</td>\n",
       "      <td>...</td>\n",
       "      <td>...</td>\n",
       "      <td>...</td>\n",
       "      <td>...</td>\n",
       "    </tr>\n",
       "    <tr>\n",
       "      <th>32062</th>\n",
       "      <td>2.0</td>\n",
       "      <td>stars</td>\n",
       "      <td>1.873870e-01</td>\n",
       "      <td>5.917109e-07</td>\n",
       "      <td>7.183774e-01</td>\n",
       "      <td>9.423499e-02</td>\n",
       "    </tr>\n",
       "    <tr>\n",
       "      <th>32063</th>\n",
       "      <td>0.0</td>\n",
       "      <td>stars</td>\n",
       "      <td>9.997644e-01</td>\n",
       "      <td>8.873465e-05</td>\n",
       "      <td>3.081573e-47</td>\n",
       "      <td>1.468430e-04</td>\n",
       "    </tr>\n",
       "    <tr>\n",
       "      <th>32064</th>\n",
       "      <td>1.0</td>\n",
       "      <td>stars</td>\n",
       "      <td>1.287626e-01</td>\n",
       "      <td>8.707907e-01</td>\n",
       "      <td>2.621297e-128</td>\n",
       "      <td>4.466953e-04</td>\n",
       "    </tr>\n",
       "    <tr>\n",
       "      <th>32065</th>\n",
       "      <td>1.0</td>\n",
       "      <td>stars</td>\n",
       "      <td>1.320884e-09</td>\n",
       "      <td>9.999921e-01</td>\n",
       "      <td>7.529937e-65</td>\n",
       "      <td>7.890869e-06</td>\n",
       "    </tr>\n",
       "    <tr>\n",
       "      <th>32066</th>\n",
       "      <td>0.0</td>\n",
       "      <td>stars</td>\n",
       "      <td>9.635174e-01</td>\n",
       "      <td>4.018808e-06</td>\n",
       "      <td>4.143081e-08</td>\n",
       "      <td>3.647849e-02</td>\n",
       "    </tr>\n",
       "  </tbody>\n",
       "</table>\n",
       "<p>32067 rows × 6 columns</p>\n",
       "</div>"
      ],
      "text/plain": [
       "       labels ptypes       probs_0       probs_1        probs_2       probs_3\n",
       "0         1.0  stars  1.117271e-09  9.999932e-01  1.895604e-103  6.772322e-06\n",
       "1         1.0  stars  2.543508e-16  9.996334e-01   1.289838e-68  3.666150e-04\n",
       "2         1.0  stars  3.911607e-04  9.996088e-01  5.992526e-133  9.115849e-09\n",
       "3         1.0  stars  4.304416e-01  5.695578e-01   4.066138e-91  6.378269e-07\n",
       "4         1.0  stars  7.022479e-14  9.985413e-01   2.067395e-63  1.458718e-03\n",
       "...       ...    ...           ...           ...            ...           ...\n",
       "32062     2.0  stars  1.873870e-01  5.917109e-07   7.183774e-01  9.423499e-02\n",
       "32063     0.0  stars  9.997644e-01  8.873465e-05   3.081573e-47  1.468430e-04\n",
       "32064     1.0  stars  1.287626e-01  8.707907e-01  2.621297e-128  4.466953e-04\n",
       "32065     1.0  stars  1.320884e-09  9.999921e-01   7.529937e-65  7.890869e-06\n",
       "32066     0.0  stars  9.635174e-01  4.018808e-06   4.143081e-08  3.647849e-02\n",
       "\n",
       "[32067 rows x 6 columns]"
      ]
     },
     "execution_count": 21,
     "metadata": {},
     "output_type": "execute_result"
    }
   ],
   "source": [
    "cmp_labels.to_dataframe()[cmp_labels.ptypes == 'stars']"
   ]
  },
  {
   "cell_type": "code",
   "execution_count": 11,
   "metadata": {},
   "outputs": [
    {
     "data": {
      "text/plain": [
       "<AxesSubplot:xlabel='eps', ylabel='Density'>"
      ]
     },
     "execution_count": 11,
     "metadata": {},
     "output_type": "execute_result"
    },
    {
     "data": {
      "image/png": "[encoded data removed]",
      "text/plain": [
       "<Figure size 432x288 with 1 Axes>"
      ]
     },
     "metadata": {
      "needs_background": "light"
     },
     "output_type": "display_data"
    }
   ],
   "source": [
    "gal.plot.circ_kde(\"eps\",labels=labels_agmm)"
   ]
  },
  {
   "cell_type": "markdown",
   "metadata": {},
   "source": [
    "# DataFrame stars particles"
   ]
  },
  {
   "cell_type": "code",
   "execution_count": 22,
   "metadata": {},
   "outputs": [],
   "source": [
    "dfs = gal.stars.to_dataframe()"
   ]
  },
  {
   "cell_type": "code",
   "execution_count": 23,
   "metadata": {},
   "outputs": [
    {
     "name": "stdout",
     "output_type": "stream",
     "text": [
      "32067\n",
      "32067\n"
     ]
    }
   ],
   "source": [
    "print(len(gal.stars.x))\n",
    "print(len(labels_agmm))"
   ]
  },
  {
   "cell_type": "code",
   "execution_count": 24,
   "metadata": {},
   "outputs": [
    {
     "data": {
      "text/plain": [
       "ptype             0\n",
       "ptypev            0\n",
       "m                 0\n",
       "x                 0\n",
       "y                 0\n",
       "z                 0\n",
       "vx                0\n",
       "vy                0\n",
       "vz                0\n",
       "softening         0\n",
       "potential         0\n",
       "kinetic_energy    0\n",
       "total_energy      0\n",
       "Jx                0\n",
       "Jy                0\n",
       "Jz                0\n",
       "dtype: int64"
      ]
     },
     "execution_count": 24,
     "metadata": {},
     "output_type": "execute_result"
    }
   ],
   "source": [
    "dfs.isnull().sum()"
   ]
  },
  {
   "cell_type": "markdown",
   "metadata": {},
   "source": [
    "## df AGMM"
   ]
  },
  {
   "cell_type": "code",
   "execution_count": 25,
   "metadata": {},
   "outputs": [],
   "source": [
    "df_agmm = gal.stars.to_dataframe()\n",
    "df_agmm.drop(columns=['x', 'y', 'z','vx', 'vy', 'vz','total_energy','softening', 'potential', 'kinetic_energy','Jx', 'Jy', 'Jz'], axis=1, inplace=True)\n",
    "df_agmm[\"lab_agmm\"]=labels_agmm\n",
    "\n",
    "df_agmm[\"pro_agmm_0\"]=probs_agmm[:,0]\n",
    "df_agmm[\"pro_agmm_1\"]=probs_agmm[:,1]\n",
    "df_agmm[\"pro_agmm_2\"]=probs_agmm[:,2]\n",
    "df_agmm[\"pro_agmm_3\"]=probs_agmm[:,3]\n",
    "\n",
    "\n",
    "df_agmm[\"mass_agmm_0\"]=probs_agmm[:,0]*df_agmm.m\n",
    "df_agmm[\"mass_agmm_1\"]=probs_agmm[:,1]*df_agmm.m\n",
    "df_agmm[\"mass_agmm_2\"]=probs_agmm[:,2]*df_agmm.m\n",
    "df_agmm[\"mass_agmm_3\"]=probs_agmm[:,3]*df_agmm.m"
   ]
  },
  {
   "cell_type": "code",
   "execution_count": 26,
   "metadata": {},
   "outputs": [
    {
     "data": {
      "text/html": [
       "<div>\n",
       "<style scoped>\n",
       "    .dataframe tbody tr th:only-of-type {\n",
       "        vertical-align: middle;\n",
       "    }\n",
       "\n",
       "    .dataframe tbody tr th {\n",
       "        vertical-align: top;\n",
       "    }\n",
       "\n",
       "    .dataframe thead th {\n",
       "        text-align: right;\n",
       "    }\n",
       "</style>\n",
       "<table border=\"1\" class=\"dataframe\">\n",
       "  <thead>\n",
       "    <tr style=\"text-align: right;\">\n",
       "      <th></th>\n",
       "      <th>ptype</th>\n",
       "      <th>ptypev</th>\n",
       "      <th>m</th>\n",
       "      <th>lab_agmm</th>\n",
       "      <th>pro_agmm_0</th>\n",
       "      <th>pro_agmm_1</th>\n",
       "      <th>pro_agmm_2</th>\n",
       "      <th>pro_agmm_3</th>\n",
       "      <th>mass_agmm_0</th>\n",
       "      <th>mass_agmm_1</th>\n",
       "      <th>mass_agmm_2</th>\n",
       "      <th>mass_agmm_3</th>\n",
       "    </tr>\n",
       "  </thead>\n",
       "  <tbody>\n",
       "    <tr>\n",
       "      <th>0</th>\n",
       "      <td>stars</td>\n",
       "      <td>0</td>\n",
       "      <td>5.224283e+05</td>\n",
       "      <td>1.0</td>\n",
       "      <td>1.117271e-09</td>\n",
       "      <td>9.999932e-01</td>\n",
       "      <td>1.895604e-103</td>\n",
       "      <td>6.772322e-06</td>\n",
       "      <td>5.836938e-04</td>\n",
       "      <td>522424.733597</td>\n",
       "      <td>9.903171e-98</td>\n",
       "      <td>3.538053</td>\n",
       "    </tr>\n",
       "    <tr>\n",
       "      <th>1</th>\n",
       "      <td>stars</td>\n",
       "      <td>0</td>\n",
       "      <td>9.745897e+05</td>\n",
       "      <td>1.0</td>\n",
       "      <td>2.543508e-16</td>\n",
       "      <td>9.996334e-01</td>\n",
       "      <td>1.289838e-68</td>\n",
       "      <td>3.666150e-04</td>\n",
       "      <td>2.478876e-10</td>\n",
       "      <td>974232.412164</td>\n",
       "      <td>1.257063e-62</td>\n",
       "      <td>357.299240</td>\n",
       "    </tr>\n",
       "    <tr>\n",
       "      <th>2</th>\n",
       "      <td>stars</td>\n",
       "      <td>0</td>\n",
       "      <td>6.935776e+05</td>\n",
       "      <td>1.0</td>\n",
       "      <td>3.911607e-04</td>\n",
       "      <td>9.996088e-01</td>\n",
       "      <td>5.992526e-133</td>\n",
       "      <td>9.115849e-09</td>\n",
       "      <td>2.713003e+02</td>\n",
       "      <td>693306.297054</td>\n",
       "      <td>4.156282e-127</td>\n",
       "      <td>0.006323</td>\n",
       "    </tr>\n",
       "    <tr>\n",
       "      <th>3</th>\n",
       "      <td>stars</td>\n",
       "      <td>0</td>\n",
       "      <td>1.070959e+06</td>\n",
       "      <td>1.0</td>\n",
       "      <td>4.304416e-01</td>\n",
       "      <td>5.695578e-01</td>\n",
       "      <td>4.066138e-91</td>\n",
       "      <td>6.378269e-07</td>\n",
       "      <td>4.609851e+05</td>\n",
       "      <td>609972.796541</td>\n",
       "      <td>4.354665e-85</td>\n",
       "      <td>0.683086</td>\n",
       "    </tr>\n",
       "    <tr>\n",
       "      <th>4</th>\n",
       "      <td>stars</td>\n",
       "      <td>0</td>\n",
       "      <td>6.013803e+05</td>\n",
       "      <td>1.0</td>\n",
       "      <td>7.022479e-14</td>\n",
       "      <td>9.985413e-01</td>\n",
       "      <td>2.067395e-63</td>\n",
       "      <td>1.458718e-03</td>\n",
       "      <td>4.223181e-08</td>\n",
       "      <td>600503.062435</td>\n",
       "      <td>1.243291e-57</td>\n",
       "      <td>877.244326</td>\n",
       "    </tr>\n",
       "    <tr>\n",
       "      <th>...</th>\n",
       "      <td>...</td>\n",
       "      <td>...</td>\n",
       "      <td>...</td>\n",
       "      <td>...</td>\n",
       "      <td>...</td>\n",
       "      <td>...</td>\n",
       "      <td>...</td>\n",
       "      <td>...</td>\n",
       "      <td>...</td>\n",
       "      <td>...</td>\n",
       "      <td>...</td>\n",
       "      <td>...</td>\n",
       "    </tr>\n",
       "    <tr>\n",
       "      <th>32062</th>\n",
       "      <td>stars</td>\n",
       "      <td>0</td>\n",
       "      <td>1.343808e+06</td>\n",
       "      <td>2.0</td>\n",
       "      <td>1.873870e-01</td>\n",
       "      <td>5.917109e-07</td>\n",
       "      <td>7.183774e-01</td>\n",
       "      <td>9.423499e-02</td>\n",
       "      <td>2.518121e+05</td>\n",
       "      <td>0.795146</td>\n",
       "      <td>9.653611e+05</td>\n",
       "      <td>126633.706982</td>\n",
       "    </tr>\n",
       "    <tr>\n",
       "      <th>32063</th>\n",
       "      <td>stars</td>\n",
       "      <td>0</td>\n",
       "      <td>7.382408e+05</td>\n",
       "      <td>0.0</td>\n",
       "      <td>9.997644e-01</td>\n",
       "      <td>8.873465e-05</td>\n",
       "      <td>3.081573e-47</td>\n",
       "      <td>1.468430e-04</td>\n",
       "      <td>7.380669e+05</td>\n",
       "      <td>65.507534</td>\n",
       "      <td>2.274942e-41</td>\n",
       "      <td>108.405465</td>\n",
       "    </tr>\n",
       "    <tr>\n",
       "      <th>32064</th>\n",
       "      <td>stars</td>\n",
       "      <td>0</td>\n",
       "      <td>6.786477e+05</td>\n",
       "      <td>1.0</td>\n",
       "      <td>1.287626e-01</td>\n",
       "      <td>8.707907e-01</td>\n",
       "      <td>2.621297e-128</td>\n",
       "      <td>4.466953e-04</td>\n",
       "      <td>8.738443e+04</td>\n",
       "      <td>590960.121373</td>\n",
       "      <td>1.778937e-122</td>\n",
       "      <td>303.148745</td>\n",
       "    </tr>\n",
       "    <tr>\n",
       "      <th>32065</th>\n",
       "      <td>stars</td>\n",
       "      <td>0</td>\n",
       "      <td>8.290853e+05</td>\n",
       "      <td>1.0</td>\n",
       "      <td>1.320884e-09</td>\n",
       "      <td>9.999921e-01</td>\n",
       "      <td>7.529937e-65</td>\n",
       "      <td>7.890869e-06</td>\n",
       "      <td>1.095126e-03</td>\n",
       "      <td>829078.713257</td>\n",
       "      <td>6.242960e-59</td>\n",
       "      <td>6.542203</td>\n",
       "    </tr>\n",
       "    <tr>\n",
       "      <th>32066</th>\n",
       "      <td>stars</td>\n",
       "      <td>0</td>\n",
       "      <td>1.356703e+06</td>\n",
       "      <td>0.0</td>\n",
       "      <td>9.635174e-01</td>\n",
       "      <td>4.018808e-06</td>\n",
       "      <td>4.143081e-08</td>\n",
       "      <td>3.647849e-02</td>\n",
       "      <td>1.307207e+06</td>\n",
       "      <td>5.452327</td>\n",
       "      <td>5.620928e-02</td>\n",
       "      <td>49490.464581</td>\n",
       "    </tr>\n",
       "  </tbody>\n",
       "</table>\n",
       "<p>32067 rows × 12 columns</p>\n",
       "</div>"
      ],
      "text/plain": [
       "       ptype  ptypev             m  lab_agmm    pro_agmm_0    pro_agmm_1  \\\n",
       "0      stars       0  5.224283e+05       1.0  1.117271e-09  9.999932e-01   \n",
       "1      stars       0  9.745897e+05       1.0  2.543508e-16  9.996334e-01   \n",
       "2      stars       0  6.935776e+05       1.0  3.911607e-04  9.996088e-01   \n",
       "3      stars       0  1.070959e+06       1.0  4.304416e-01  5.695578e-01   \n",
       "4      stars       0  6.013803e+05       1.0  7.022479e-14  9.985413e-01   \n",
       "...      ...     ...           ...       ...           ...           ...   \n",
       "32062  stars       0  1.343808e+06       2.0  1.873870e-01  5.917109e-07   \n",
       "32063  stars       0  7.382408e+05       0.0  9.997644e-01  8.873465e-05   \n",
       "32064  stars       0  6.786477e+05       1.0  1.287626e-01  8.707907e-01   \n",
       "32065  stars       0  8.290853e+05       1.0  1.320884e-09  9.999921e-01   \n",
       "32066  stars       0  1.356703e+06       0.0  9.635174e-01  4.018808e-06   \n",
       "\n",
       "          pro_agmm_2    pro_agmm_3   mass_agmm_0    mass_agmm_1  \\\n",
       "0      1.895604e-103  6.772322e-06  5.836938e-04  522424.733597   \n",
       "1       1.289838e-68  3.666150e-04  2.478876e-10  974232.412164   \n",
       "2      5.992526e-133  9.115849e-09  2.713003e+02  693306.297054   \n",
       "3       4.066138e-91  6.378269e-07  4.609851e+05  609972.796541   \n",
       "4       2.067395e-63  1.458718e-03  4.223181e-08  600503.062435   \n",
       "...              ...           ...           ...            ...   \n",
       "32062   7.183774e-01  9.423499e-02  2.518121e+05       0.795146   \n",
       "32063   3.081573e-47  1.468430e-04  7.380669e+05      65.507534   \n",
       "32064  2.621297e-128  4.466953e-04  8.738443e+04  590960.121373   \n",
       "32065   7.529937e-65  7.890869e-06  1.095126e-03  829078.713257   \n",
       "32066   4.143081e-08  3.647849e-02  1.307207e+06       5.452327   \n",
       "\n",
       "         mass_agmm_2    mass_agmm_3  \n",
       "0       9.903171e-98       3.538053  \n",
       "1       1.257063e-62     357.299240  \n",
       "2      4.156282e-127       0.006323  \n",
       "3       4.354665e-85       0.683086  \n",
       "4       1.243291e-57     877.244326  \n",
       "...              ...            ...  \n",
       "32062   9.653611e+05  126633.706982  \n",
       "32063   2.274942e-41     108.405465  \n",
       "32064  1.778937e-122     303.148745  \n",
       "32065   6.242960e-59       6.542203  \n",
       "32066   5.620928e-02   49490.464581  \n",
       "\n",
       "[32067 rows x 12 columns]"
      ]
     },
     "execution_count": 26,
     "metadata": {},
     "output_type": "execute_result"
    }
   ],
   "source": [
    "df_agmm"
   ]
  },
  {
   "cell_type": "code",
   "execution_count": 27,
   "metadata": {},
   "outputs": [
    {
     "name": "stdout",
     "output_type": "stream",
     "text": [
      "Total Mass =  31820027776.34807\n",
      "% masa comp 0 = 12.435523131721919\n",
      "% masa comp 1 = 16.345835708113523\n",
      "% masa comp 2 = 27.328921675423608\n",
      "% masa comp 3 = 43.344402999332615\n"
     ]
    },
    {
     "data": {
      "text/plain": [
       "99.45468351459166"
      ]
     },
     "execution_count": 27,
     "metadata": {},
     "output_type": "execute_result"
    }
   ],
   "source": [
    "mass_tot=df_agmm.m.sum(axis =0)\n",
    "print('Total Mass = ',mass_tot)\n",
    "\n",
    "mass_tot_0=df_agmm.mass_agmm_0.sum(axis =0)/mass_tot*100.\n",
    "print('% masa comp 0 =',mass_tot_0)\n",
    "\n",
    "mass_tot_1=df_agmm.mass_agmm_1.sum(axis =0)/mass_tot*100.\n",
    "print('% masa comp 1 =',mass_tot_1)\n",
    "\n",
    "mass_tot_2=df_agmm.mass_agmm_2.sum(axis =0)/mass_tot*100.\n",
    "print('% masa comp 2 =',mass_tot_2)\n",
    "\n",
    "mass_tot_3=df_agmm.mass_agmm_3.sum(axis =0)/mass_tot*100.\n",
    "print('% masa comp 3 =',mass_tot_3)\n",
    "\n",
    "mass_tot_0+mass_tot_1+mass_tot_2+mass_tot_3"
   ]
  },
  {
   "cell_type": "code",
   "execution_count": null,
   "metadata": {},
   "outputs": [],
   "source": []
  },
  {
   "cell_type": "code",
   "execution_count": null,
   "metadata": {},
   "outputs": [],
   "source": []
  },
  {
   "cell_type": "code",
   "execution_count": null,
   "metadata": {},
   "outputs": [],
   "source": []
  }
 ],
 "metadata": {
  "kernelspec": {
   "display_name": "Python 3",
   "language": "python",
   "name": "python3"
  },
  "language_info": {
   "codemirror_mode": {
    "name": "ipython",
    "version": 3
   },
   "file_extension": ".py",
   "mimetype": "text/x-python",
   "name": "python",
   "nbconvert_exporter": "python",
   "pygments_lexer": "ipython3",
   "version": "3.8.0"
  },
  "toc": {
   "base_numbering": 1,
   "nav_menu": {},
   "number_sections": true,
   "sideBar": true,
   "skip_h1_title": false,
   "title_cell": "Table of Contents",
   "title_sidebar": "Contents",
   "toc_cell": false,
   "toc_position": {
    "height": "calc(100% - 180px)",
    "left": "10px",
    "top": "150px",
    "width": "178px"
   },
   "toc_section_display": true,
   "toc_window_display": true
  },
  "varInspector": {
   "cols": {
    "lenName": 16,
    "lenType": 16,
    "lenVar": 40
   },
   "kernels_config": {
    "python": {
     "delete_cmd_postfix": "",
     "delete_cmd_prefix": "del ",
     "library": "var_list.py",
     "varRefreshCmd": "print(var_dic_list())"
    },
    "r": {
     "delete_cmd_postfix": ") ",
     "delete_cmd_prefix": "rm(",
     "library": "var_list.r",
     "varRefreshCmd": "cat(var_dic_list()) "
    }
   },
   "oldHeight": 122,
   "position": {
    "height": "144px",
    "left": "1333px",
    "right": "20px",
    "top": "120px",
    "width": "247px"
   },
   "types_to_exclude": [
    "module",
    "function",
    "builtin_function_or_method",
    "instance",
    "_Feature"
   ],
   "varInspector_section_display": "block",
   "window_display": false
  }
 },
 "nbformat": 4,
 "nbformat_minor": 4
}
